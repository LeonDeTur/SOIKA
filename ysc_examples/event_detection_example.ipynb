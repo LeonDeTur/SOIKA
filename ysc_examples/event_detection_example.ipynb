{
 "cells": [
  {
   "cell_type": "code",
   "execution_count": 1,
   "metadata": {},
   "outputs": [
    {
     "name": "stderr",
     "output_type": "stream",
     "text": [
      "f:\\Coding\\.venv\\lib\\site-packages\\umap\\distances.py:1063: NumbaDeprecationWarning: \u001b[1mThe 'nopython' keyword argument was not supplied to the 'numba.jit' decorator. The implicit default value for this argument is currently False, but it will be changed to True in Numba 0.59.0. See https://numba.readthedocs.io/en/stable/reference/deprecation.html#deprecation-of-object-mode-fall-back-behaviour-when-using-jit for details.\u001b[0m\n",
      "  @numba.jit()\n",
      "f:\\Coding\\.venv\\lib\\site-packages\\umap\\distances.py:1071: NumbaDeprecationWarning: \u001b[1mThe 'nopython' keyword argument was not supplied to the 'numba.jit' decorator. The implicit default value for this argument is currently False, but it will be changed to True in Numba 0.59.0. See https://numba.readthedocs.io/en/stable/reference/deprecation.html#deprecation-of-object-mode-fall-back-behaviour-when-using-jit for details.\u001b[0m\n",
      "  @numba.jit()\n",
      "f:\\Coding\\.venv\\lib\\site-packages\\umap\\distances.py:1086: NumbaDeprecationWarning: \u001b[1mThe 'nopython' keyword argument was not supplied to the 'numba.jit' decorator. The implicit default value for this argument is currently False, but it will be changed to True in Numba 0.59.0. See https://numba.readthedocs.io/en/stable/reference/deprecation.html#deprecation-of-object-mode-fall-back-behaviour-when-using-jit for details.\u001b[0m\n",
      "  @numba.jit()\n",
      "f:\\Coding\\.venv\\lib\\site-packages\\umap\\umap_.py:660: NumbaDeprecationWarning: \u001b[1mThe 'nopython' keyword argument was not supplied to the 'numba.jit' decorator. The implicit default value for this argument is currently False, but it will be changed to True in Numba 0.59.0. See https://numba.readthedocs.io/en/stable/reference/deprecation.html#deprecation-of-object-mode-fall-back-behaviour-when-using-jit for details.\u001b[0m\n",
      "  @numba.jit()\n"
     ]
    }
   ],
   "source": [
    "import sys\n",
    "sys.path.append('F:\\Coding\\SOIKA')\n",
    "import torch\n",
    "import pandas as pd\n",
    "from factfinder import EventDetection\n",
    "import geopandas as gpd\n",
    "\n",
    "target_texts = gpd.read_file('F:\\Coding\\SOIKA\\ysc_examples\\messages.geojson')\n"
   ]
  },
  {
   "cell_type": "code",
   "execution_count": 2,
   "metadata": {},
   "outputs": [
    {
     "name": "stdout",
     "output_type": "stream",
     "text": [
      "messages loaded\n",
      "road links loaded\n",
      "buildings loaded\n",
      "messages preprocessed\n"
     ]
    },
    {
     "name": "stderr",
     "output_type": "stream",
     "text": [
      "Some weights of the model checkpoint at cointegrated/rubert-tiny2 were not used when initializing BertModel: ['cls.seq_relationship.weight', 'cls.predictions.decoder.bias', 'cls.predictions.transform.dense.bias', 'cls.seq_relationship.bias', 'cls.predictions.bias', 'cls.predictions.decoder.weight', 'cls.predictions.transform.LayerNorm.weight', 'cls.predictions.transform.dense.weight', 'cls.predictions.transform.LayerNorm.bias']\n",
      "- This IS expected if you are initializing BertModel from the checkpoint of a model trained on another task or with another architecture (e.g. initializing a BertForSequenceClassification model from a BertForPreTraining model).\n",
      "- This IS NOT expected if you are initializing BertModel from the checkpoint of a model that you expect to be exactly identical (initializing a BertForSequenceClassification model from a BertForSequenceClassification model).\n",
      "100%|██████████| 2303/2303 [00:21<00:00, 107.22it/s]\n",
      "2023-08-01 16:52:16,866 - BERTopic - Transformed documents to Embeddings\n",
      "2023-08-01 16:52:31,600 - BERTopic - Reduced dimensionality\n",
      "2023-08-01 16:52:48,104 - BERTopic - Clustered reduced embeddings\n",
      "100%|██████████| 1/1 [00:00<00:00,  6.29it/s]\n",
      "100%|██████████| 12/12 [00:00<00:00, 102.58it/s]\n",
      "2023-08-01 16:53:06,760 - BERTopic - Transformed documents to Embeddings\n",
      "2023-08-01 16:53:07,484 - BERTopic - Reduced dimensionality\n",
      "2023-08-01 16:53:07,488 - BERTopic - Clustered reduced embeddings\n",
      "0it [00:00, ?it/s]\n"
     ]
    },
    {
     "name": "stdout",
     "output_type": "stream",
     "text": [
      "Can't distribute all messages in topics\n"
     ]
    },
    {
     "name": "stderr",
     "output_type": "stream",
     "text": [
      "100%|██████████| 95/95 [00:00<00:00, 99.27it/s] \n",
      "2023-08-01 16:53:08,501 - BERTopic - Transformed documents to Embeddings\n",
      "2023-08-01 16:53:09,377 - BERTopic - Reduced dimensionality\n",
      "2023-08-01 16:53:09,387 - BERTopic - Clustered reduced embeddings\n",
      "100%|██████████| 1/1 [00:00<00:00, 200.04it/s]\n",
      "100%|██████████| 27/27 [00:00<00:00, 98.18it/s] \n",
      "2023-08-01 16:53:10,089 - BERTopic - Transformed documents to Embeddings\n",
      "2023-08-01 16:53:10,848 - BERTopic - Reduced dimensionality\n",
      "2023-08-01 16:53:10,853 - BERTopic - Clustered reduced embeddings\n",
      "100%|██████████| 1/1 [00:00<00:00, 500.63it/s]\n",
      "100%|██████████| 83/83 [00:01<00:00, 52.93it/s] \n",
      "2023-08-01 16:53:12,706 - BERTopic - Transformed documents to Embeddings\n",
      "2023-08-01 16:53:13,559 - BERTopic - Reduced dimensionality\n",
      "2023-08-01 16:53:13,568 - BERTopic - Clustered reduced embeddings\n",
      "100%|██████████| 1/1 [00:00<00:00, 248.15it/s]\n",
      "100%|██████████| 30/30 [00:00<00:00, 114.94it/s]\n",
      "2023-08-01 16:53:14,376 - BERTopic - Transformed documents to Embeddings\n",
      "2023-08-01 16:53:15,341 - BERTopic - Reduced dimensionality\n",
      "2023-08-01 16:53:15,346 - BERTopic - Clustered reduced embeddings\n",
      "0it [00:00, ?it/s]\n"
     ]
    },
    {
     "name": "stdout",
     "output_type": "stream",
     "text": [
      "Can't distribute all messages in topics\n"
     ]
    },
    {
     "name": "stderr",
     "output_type": "stream",
     "text": [
      "100%|██████████| 40/40 [00:00<00:00, 124.61it/s]\n",
      "2023-08-01 16:53:15,767 - BERTopic - Transformed documents to Embeddings\n",
      "2023-08-01 16:53:16,564 - BERTopic - Reduced dimensionality\n",
      "2023-08-01 16:53:16,570 - BERTopic - Clustered reduced embeddings\n",
      "0it [00:00, ?it/s]\n"
     ]
    },
    {
     "name": "stdout",
     "output_type": "stream",
     "text": [
      "Can't distribute all messages in topics\n"
     ]
    },
    {
     "name": "stderr",
     "output_type": "stream",
     "text": [
      "100%|██████████| 48/48 [00:00<00:00, 122.45it/s]\n",
      "2023-08-01 16:53:17,021 - BERTopic - Transformed documents to Embeddings\n",
      "2023-08-01 16:53:17,821 - BERTopic - Reduced dimensionality\n",
      "2023-08-01 16:53:17,828 - BERTopic - Clustered reduced embeddings\n",
      "0it [00:00, ?it/s]\n"
     ]
    },
    {
     "name": "stdout",
     "output_type": "stream",
     "text": [
      "Can't distribute all messages in topics\n"
     ]
    },
    {
     "name": "stderr",
     "output_type": "stream",
     "text": [
      "100%|██████████| 9/9 [00:00<00:00, 86.57it/s]\n",
      "2023-08-01 16:53:18,035 - BERTopic - Transformed documents to Embeddings\n",
      "2023-08-01 16:53:18,786 - BERTopic - Reduced dimensionality\n",
      "2023-08-01 16:53:18,789 - BERTopic - Clustered reduced embeddings\n",
      "0it [00:00, ?it/s]\n"
     ]
    },
    {
     "name": "stdout",
     "output_type": "stream",
     "text": [
      "Can't distribute all messages in topics\n"
     ]
    },
    {
     "name": "stderr",
     "output_type": "stream",
     "text": [
      "100%|██████████| 18/18 [00:00<00:00, 171.50it/s]\n",
      "2023-08-01 16:53:18,941 - BERTopic - Transformed documents to Embeddings\n",
      "2023-08-01 16:53:19,697 - BERTopic - Reduced dimensionality\n",
      "2023-08-01 16:53:19,702 - BERTopic - Clustered reduced embeddings\n",
      "0it [00:00, ?it/s]\n"
     ]
    },
    {
     "name": "stdout",
     "output_type": "stream",
     "text": [
      "Can't distribute all messages in topics\n"
     ]
    },
    {
     "name": "stderr",
     "output_type": "stream",
     "text": [
      "100%|██████████| 60/60 [00:00<00:00, 85.84it/s] \n",
      "2023-08-01 16:53:20,469 - BERTopic - Transformed documents to Embeddings\n",
      "2023-08-01 16:53:21,546 - BERTopic - Reduced dimensionality\n",
      "2023-08-01 16:53:21,555 - BERTopic - Clustered reduced embeddings\n",
      "0it [00:00, ?it/s]\n"
     ]
    },
    {
     "name": "stdout",
     "output_type": "stream",
     "text": [
      "Can't distribute all messages in topics\n"
     ]
    },
    {
     "name": "stderr",
     "output_type": "stream",
     "text": [
      "100%|██████████| 13/13 [00:00<00:00, 141.31it/s]\n",
      "2023-08-01 16:53:21,720 - BERTopic - Transformed documents to Embeddings\n",
      "2023-08-01 16:53:22,456 - BERTopic - Reduced dimensionality\n",
      "2023-08-01 16:53:22,460 - BERTopic - Clustered reduced embeddings\n",
      "0it [00:00, ?it/s]\n"
     ]
    },
    {
     "name": "stdout",
     "output_type": "stream",
     "text": [
      "Can't distribute all messages in topics\n"
     ]
    },
    {
     "name": "stderr",
     "output_type": "stream",
     "text": [
      "100%|██████████| 78/78 [00:00<00:00, 114.54it/s]\n",
      "2023-08-01 16:53:23,196 - BERTopic - Transformed documents to Embeddings\n",
      "2023-08-01 16:53:24,047 - BERTopic - Reduced dimensionality\n",
      "2023-08-01 16:53:24,057 - BERTopic - Clustered reduced embeddings\n",
      "100%|██████████| 1/1 [00:00<00:00, 249.42it/s]\n",
      "100%|██████████| 8/8 [00:00<00:00, 150.95it/s]\n",
      "2023-08-01 16:53:24,677 - BERTopic - Transformed documents to Embeddings\n",
      "2023-08-01 16:53:25,439 - BERTopic - Reduced dimensionality\n",
      "2023-08-01 16:53:25,443 - BERTopic - Clustered reduced embeddings\n",
      "0it [00:00, ?it/s]\n"
     ]
    },
    {
     "name": "stdout",
     "output_type": "stream",
     "text": [
      "Can't distribute all messages in topics\n"
     ]
    },
    {
     "name": "stderr",
     "output_type": "stream",
     "text": [
      "100%|██████████| 40/40 [00:00<00:00, 137.46it/s]\n",
      "2023-08-01 16:53:25,778 - BERTopic - Transformed documents to Embeddings\n",
      "2023-08-01 16:53:26,561 - BERTopic - Reduced dimensionality\n",
      "2023-08-01 16:53:26,567 - BERTopic - Clustered reduced embeddings\n",
      "0it [00:00, ?it/s]\n"
     ]
    },
    {
     "name": "stdout",
     "output_type": "stream",
     "text": [
      "Can't distribute all messages in topics\n"
     ]
    },
    {
     "name": "stderr",
     "output_type": "stream",
     "text": [
      "100%|██████████| 14/14 [00:00<00:00, 168.74it/s]\n",
      "2023-08-01 16:53:26,744 - BERTopic - Transformed documents to Embeddings\n",
      "2023-08-01 16:53:27,543 - BERTopic - Reduced dimensionality\n",
      "2023-08-01 16:53:27,548 - BERTopic - Clustered reduced embeddings\n",
      "0it [00:00, ?it/s]\n"
     ]
    },
    {
     "name": "stdout",
     "output_type": "stream",
     "text": [
      "Can't distribute all messages in topics\n"
     ]
    },
    {
     "name": "stderr",
     "output_type": "stream",
     "text": [
      "100%|██████████| 18/18 [00:00<00:00, 125.00it/s]\n",
      "2023-08-01 16:53:27,758 - BERTopic - Transformed documents to Embeddings\n",
      "2023-08-01 16:53:28,728 - BERTopic - Reduced dimensionality\n",
      "2023-08-01 16:53:28,733 - BERTopic - Clustered reduced embeddings\n",
      "0it [00:00, ?it/s]\n"
     ]
    },
    {
     "name": "stdout",
     "output_type": "stream",
     "text": [
      "Can't distribute all messages in topics\n"
     ]
    },
    {
     "name": "stderr",
     "output_type": "stream",
     "text": [
      "100%|██████████| 28/28 [00:00<00:00, 74.67it/s]\n",
      "2023-08-01 16:53:29,165 - BERTopic - Transformed documents to Embeddings\n",
      "2023-08-01 16:53:29,954 - BERTopic - Reduced dimensionality\n",
      "2023-08-01 16:53:29,959 - BERTopic - Clustered reduced embeddings\n",
      "100%|██████████| 1/1 [00:00<00:00, 336.24it/s]\n",
      "100%|██████████| 18/18 [00:00<00:00, 136.36it/s]\n",
      "2023-08-01 16:53:30,382 - BERTopic - Transformed documents to Embeddings\n",
      "2023-08-01 16:53:31,131 - BERTopic - Reduced dimensionality\n",
      "2023-08-01 16:53:31,136 - BERTopic - Clustered reduced embeddings\n",
      "0it [00:00, ?it/s]\n"
     ]
    },
    {
     "name": "stdout",
     "output_type": "stream",
     "text": [
      "Can't distribute all messages in topics\n"
     ]
    },
    {
     "name": "stderr",
     "output_type": "stream",
     "text": [
      "100%|██████████| 27/27 [00:00<00:00, 88.24it/s] \n",
      "2023-08-01 16:53:31,490 - BERTopic - Transformed documents to Embeddings\n",
      "2023-08-01 16:53:32,253 - BERTopic - Reduced dimensionality\n",
      "2023-08-01 16:53:32,259 - BERTopic - Clustered reduced embeddings\n",
      "100%|██████████| 1/1 [00:00<00:00, 1032.83it/s]\n",
      "100%|██████████| 11/11 [00:00<00:00, 142.86it/s]\n",
      "2023-08-01 16:53:32,515 - BERTopic - Transformed documents to Embeddings\n",
      "2023-08-01 16:53:33,450 - BERTopic - Reduced dimensionality\n",
      "2023-08-01 16:53:33,454 - BERTopic - Clustered reduced embeddings\n",
      "0it [00:00, ?it/s]\n"
     ]
    },
    {
     "name": "stdout",
     "output_type": "stream",
     "text": [
      "Can't distribute all messages in topics\n"
     ]
    },
    {
     "name": "stderr",
     "output_type": "stream",
     "text": [
      "100%|██████████| 31/31 [00:00<00:00, 74.52it/s]\n",
      "2023-08-01 16:53:33,923 - BERTopic - Transformed documents to Embeddings\n",
      "2023-08-01 16:53:34,699 - BERTopic - Reduced dimensionality\n",
      "2023-08-01 16:53:34,705 - BERTopic - Clustered reduced embeddings\n",
      "0it [00:00, ?it/s]\n"
     ]
    },
    {
     "name": "stdout",
     "output_type": "stream",
     "text": [
      "Can't distribute all messages in topics\n"
     ]
    },
    {
     "name": "stderr",
     "output_type": "stream",
     "text": [
      "100%|██████████| 24/24 [00:00<00:00, 114.84it/s]\n",
      "2023-08-01 16:53:34,995 - BERTopic - Transformed documents to Embeddings\n",
      "2023-08-01 16:53:35,771 - BERTopic - Reduced dimensionality\n",
      "2023-08-01 16:53:35,777 - BERTopic - Clustered reduced embeddings\n",
      "0it [00:00, ?it/s]\n"
     ]
    },
    {
     "name": "stdout",
     "output_type": "stream",
     "text": [
      "Can't distribute all messages in topics\n"
     ]
    },
    {
     "name": "stderr",
     "output_type": "stream",
     "text": [
      "100%|██████████| 21/21 [00:00<00:00, 162.79it/s]\n",
      "2023-08-01 16:53:35,959 - BERTopic - Transformed documents to Embeddings\n",
      "2023-08-01 16:53:36,707 - BERTopic - Reduced dimensionality\n",
      "2023-08-01 16:53:36,712 - BERTopic - Clustered reduced embeddings\n",
      "0it [00:00, ?it/s]\n"
     ]
    },
    {
     "name": "stdout",
     "output_type": "stream",
     "text": [
      "Can't distribute all messages in topics\n"
     ]
    },
    {
     "name": "stderr",
     "output_type": "stream",
     "text": [
      "100%|██████████| 5/5 [00:00<00:00, 121.96it/s]\n",
      "2023-08-01 16:53:36,828 - BERTopic - Transformed documents to Embeddings\n",
      "f:\\Coding\\.venv\\lib\\site-packages\\scipy\\sparse\\linalg\\_eigen\\arpack\\arpack.py:1592: RuntimeWarning: k >= N for N * N square matrix. Attempting to use scipy.linalg.eigh instead.\n",
      "  warnings.warn(\"k >= N for N * N square matrix. \"\n",
      "2023-08-01 16:53:36,834 - BERTopic - The dimensionality reduction algorithm did not contain the `y` parameter and therefore the `y` parameter was not used\n",
      "f:\\Coding\\.venv\\lib\\site-packages\\scipy\\sparse\\linalg\\_eigen\\arpack\\arpack.py:1592: RuntimeWarning: k >= N for N * N square matrix. Attempting to use scipy.linalg.eigh instead.\n",
      "  warnings.warn(\"k >= N for N * N square matrix. \"\n"
     ]
    },
    {
     "name": "stdout",
     "output_type": "stream",
     "text": [
      "Can't reduce dimensionality or some other problem\n"
     ]
    },
    {
     "name": "stderr",
     "output_type": "stream",
     "text": [
      "100%|██████████| 6/6 [00:00<00:00, 93.75it/s]\n",
      "2023-08-01 16:53:36,909 - BERTopic - Transformed documents to Embeddings\n",
      "f:\\Coding\\.venv\\lib\\site-packages\\scipy\\sparse\\linalg\\_eigen\\arpack\\arpack.py:1592: RuntimeWarning: k >= N for N * N square matrix. Attempting to use scipy.linalg.eigh instead.\n",
      "  warnings.warn(\"k >= N for N * N square matrix. \"\n",
      "2023-08-01 16:53:36,914 - BERTopic - The dimensionality reduction algorithm did not contain the `y` parameter and therefore the `y` parameter was not used\n",
      "f:\\Coding\\.venv\\lib\\site-packages\\scipy\\sparse\\linalg\\_eigen\\arpack\\arpack.py:1592: RuntimeWarning: k >= N for N * N square matrix. Attempting to use scipy.linalg.eigh instead.\n",
      "  warnings.warn(\"k >= N for N * N square matrix. \"\n"
     ]
    },
    {
     "name": "stdout",
     "output_type": "stream",
     "text": [
      "Can't reduce dimensionality or some other problem\n"
     ]
    },
    {
     "name": "stderr",
     "output_type": "stream",
     "text": [
      "100%|██████████| 20/20 [00:00<00:00, 120.48it/s]\n",
      "2023-08-01 16:53:37,093 - BERTopic - Transformed documents to Embeddings\n",
      "2023-08-01 16:53:37,846 - BERTopic - Reduced dimensionality\n",
      "2023-08-01 16:53:37,852 - BERTopic - Clustered reduced embeddings\n",
      "0it [00:00, ?it/s]\n"
     ]
    },
    {
     "name": "stdout",
     "output_type": "stream",
     "text": [
      "Can't distribute all messages in topics\n"
     ]
    },
    {
     "name": "stderr",
     "output_type": "stream",
     "text": [
      "100%|██████████| 25/25 [00:00<00:00, 112.61it/s]\n",
      "2023-08-01 16:53:38,177 - BERTopic - Transformed documents to Embeddings\n",
      "2023-08-01 16:53:39,146 - BERTopic - Reduced dimensionality\n",
      "2023-08-01 16:53:39,152 - BERTopic - Clustered reduced embeddings\n",
      "0it [00:00, ?it/s]\n"
     ]
    },
    {
     "name": "stdout",
     "output_type": "stream",
     "text": [
      "Can't distribute all messages in topics\n"
     ]
    },
    {
     "name": "stderr",
     "output_type": "stream",
     "text": [
      "100%|██████████| 8/8 [00:00<00:00, 140.36it/s]\n",
      "2023-08-01 16:53:39,275 - BERTopic - Transformed documents to Embeddings\n",
      "2023-08-01 16:53:40,004 - BERTopic - Reduced dimensionality\n",
      "2023-08-01 16:53:40,008 - BERTopic - Clustered reduced embeddings\n",
      "0it [00:00, ?it/s]\n"
     ]
    },
    {
     "name": "stdout",
     "output_type": "stream",
     "text": [
      "Can't distribute all messages in topics\n"
     ]
    },
    {
     "name": "stderr",
     "output_type": "stream",
     "text": [
      "100%|██████████| 11/11 [00:00<00:00, 87.31it/s]\n",
      "2023-08-01 16:53:40,191 - BERTopic - Transformed documents to Embeddings\n",
      "2023-08-01 16:53:40,922 - BERTopic - Reduced dimensionality\n",
      "2023-08-01 16:53:40,926 - BERTopic - Clustered reduced embeddings\n",
      "0it [00:00, ?it/s]\n"
     ]
    },
    {
     "name": "stdout",
     "output_type": "stream",
     "text": [
      "Can't distribute all messages in topics\n"
     ]
    },
    {
     "name": "stderr",
     "output_type": "stream",
     "text": [
      "100%|██████████| 11/11 [00:00<00:00, 134.21it/s]\n",
      "2023-08-01 16:53:41,054 - BERTopic - Transformed documents to Embeddings\n",
      "2023-08-01 16:53:41,788 - BERTopic - Reduced dimensionality\n",
      "2023-08-01 16:53:41,791 - BERTopic - Clustered reduced embeddings\n",
      "  0%|          | 0/1 [00:00<?, ?it/s]\n"
     ]
    },
    {
     "name": "stdout",
     "output_type": "stream",
     "text": [
      "Can't distribute all messages in topics\n"
     ]
    },
    {
     "name": "stderr",
     "output_type": "stream",
     "text": [
      "100%|██████████| 8/8 [00:00<00:00, 89.92it/s]\n",
      "2023-08-01 16:53:41,919 - BERTopic - Transformed documents to Embeddings\n",
      "2023-08-01 16:53:42,681 - BERTopic - Reduced dimensionality\n",
      "2023-08-01 16:53:42,685 - BERTopic - Clustered reduced embeddings\n",
      "0it [00:00, ?it/s]\n"
     ]
    },
    {
     "name": "stdout",
     "output_type": "stream",
     "text": [
      "Can't distribute all messages in topics\n"
     ]
    },
    {
     "name": "stderr",
     "output_type": "stream",
     "text": [
      "100%|██████████| 8/8 [00:00<00:00, 91.96it/s]\n",
      "2023-08-01 16:53:42,821 - BERTopic - Transformed documents to Embeddings\n",
      "2023-08-01 16:53:43,546 - BERTopic - Reduced dimensionality\n",
      "2023-08-01 16:53:43,550 - BERTopic - Clustered reduced embeddings\n",
      "  0%|          | 0/1 [00:00<?, ?it/s]\n"
     ]
    },
    {
     "name": "stdout",
     "output_type": "stream",
     "text": [
      "Can't distribute all messages in topics\n"
     ]
    },
    {
     "name": "stderr",
     "output_type": "stream",
     "text": [
      "100%|██████████| 12/12 [00:00<00:00, 103.45it/s]\n",
      "2023-08-01 16:53:43,739 - BERTopic - Transformed documents to Embeddings\n",
      "2023-08-01 16:53:44,710 - BERTopic - Reduced dimensionality\n",
      "2023-08-01 16:53:44,714 - BERTopic - Clustered reduced embeddings\n",
      "0it [00:00, ?it/s]\n"
     ]
    },
    {
     "name": "stdout",
     "output_type": "stream",
     "text": [
      "Can't distribute all messages in topics\n"
     ]
    },
    {
     "name": "stderr",
     "output_type": "stream",
     "text": [
      "100%|██████████| 22/22 [00:00<00:00, 181.82it/s]\n",
      "2023-08-01 16:53:44,893 - BERTopic - Transformed documents to Embeddings\n",
      "2023-08-01 16:53:45,642 - BERTopic - Reduced dimensionality\n",
      "2023-08-01 16:53:45,646 - BERTopic - Clustered reduced embeddings\n",
      "0it [00:00, ?it/s]\n"
     ]
    },
    {
     "name": "stdout",
     "output_type": "stream",
     "text": [
      "Can't distribute all messages in topics\n"
     ]
    },
    {
     "name": "stderr",
     "output_type": "stream",
     "text": [
      "100%|██████████| 10/10 [00:00<00:00, 108.70it/s]\n",
      "2023-08-01 16:53:45,803 - BERTopic - Transformed documents to Embeddings\n",
      "2023-08-01 16:53:46,552 - BERTopic - Reduced dimensionality\n",
      "2023-08-01 16:53:46,556 - BERTopic - Clustered reduced embeddings\n",
      "0it [00:00, ?it/s]\n"
     ]
    },
    {
     "name": "stdout",
     "output_type": "stream",
     "text": [
      "Can't distribute all messages in topics\n"
     ]
    },
    {
     "name": "stderr",
     "output_type": "stream",
     "text": [
      "100%|██████████| 12/12 [00:00<00:00, 125.00it/s]\n",
      "2023-08-01 16:53:46,699 - BERTopic - Transformed documents to Embeddings\n",
      "2023-08-01 16:53:47,435 - BERTopic - Reduced dimensionality\n",
      "2023-08-01 16:53:47,439 - BERTopic - Clustered reduced embeddings\n",
      "0it [00:00, ?it/s]\n"
     ]
    },
    {
     "name": "stdout",
     "output_type": "stream",
     "text": [
      "Can't distribute all messages in topics\n"
     ]
    },
    {
     "name": "stderr",
     "output_type": "stream",
     "text": [
      "100%|██████████| 6/6 [00:00<00:00, 146.35it/s]\n",
      "2023-08-01 16:53:47,527 - BERTopic - Transformed documents to Embeddings\n",
      "f:\\Coding\\.venv\\lib\\site-packages\\scipy\\sparse\\linalg\\_eigen\\arpack\\arpack.py:1592: RuntimeWarning: k >= N for N * N square matrix. Attempting to use scipy.linalg.eigh instead.\n",
      "  warnings.warn(\"k >= N for N * N square matrix. \"\n",
      "2023-08-01 16:53:47,532 - BERTopic - The dimensionality reduction algorithm did not contain the `y` parameter and therefore the `y` parameter was not used\n",
      "f:\\Coding\\.venv\\lib\\site-packages\\scipy\\sparse\\linalg\\_eigen\\arpack\\arpack.py:1592: RuntimeWarning: k >= N for N * N square matrix. Attempting to use scipy.linalg.eigh instead.\n",
      "  warnings.warn(\"k >= N for N * N square matrix. \"\n"
     ]
    },
    {
     "name": "stdout",
     "output_type": "stream",
     "text": [
      "Can't reduce dimensionality or some other problem\n"
     ]
    },
    {
     "name": "stderr",
     "output_type": "stream",
     "text": [
      "100%|██████████| 17/17 [00:00<00:00, 153.15it/s]\n",
      "2023-08-01 16:53:47,654 - BERTopic - Transformed documents to Embeddings\n",
      "2023-08-01 16:53:48,402 - BERTopic - Reduced dimensionality\n",
      "2023-08-01 16:53:48,406 - BERTopic - Clustered reduced embeddings\n",
      "0it [00:00, ?it/s]\n"
     ]
    },
    {
     "name": "stdout",
     "output_type": "stream",
     "text": [
      "Can't distribute all messages in topics\n"
     ]
    },
    {
     "name": "stderr",
     "output_type": "stream",
     "text": [
      "100%|██████████| 35/35 [00:00<00:00, 109.72it/s]\n",
      "2023-08-01 16:53:48,796 - BERTopic - Transformed documents to Embeddings\n",
      "2023-08-01 16:53:49,782 - BERTopic - Reduced dimensionality\n",
      "2023-08-01 16:53:49,788 - BERTopic - Clustered reduced embeddings\n",
      "100%|██████████| 1/1 [00:00<00:00, 499.86it/s]\n",
      "100%|██████████| 10/10 [00:00<00:00, 98.04it/s]\n",
      "2023-08-01 16:53:50,207 - BERTopic - Transformed documents to Embeddings\n",
      "2023-08-01 16:53:50,967 - BERTopic - Reduced dimensionality\n",
      "2023-08-01 16:53:50,971 - BERTopic - Clustered reduced embeddings\n",
      "0it [00:00, ?it/s]\n"
     ]
    },
    {
     "name": "stdout",
     "output_type": "stream",
     "text": [
      "Can't distribute all messages in topics\n"
     ]
    },
    {
     "name": "stderr",
     "output_type": "stream",
     "text": [
      "100%|██████████| 10/10 [00:00<00:00, 62.50it/s]\n",
      "2023-08-01 16:53:51,178 - BERTopic - Transformed documents to Embeddings\n",
      "2023-08-01 16:53:51,909 - BERTopic - Reduced dimensionality\n",
      "2023-08-01 16:53:51,913 - BERTopic - Clustered reduced embeddings\n",
      "0it [00:00, ?it/s]\n"
     ]
    },
    {
     "name": "stdout",
     "output_type": "stream",
     "text": [
      "Can't distribute all messages in topics\n"
     ]
    },
    {
     "name": "stderr",
     "output_type": "stream",
     "text": [
      "100%|██████████| 27/27 [00:00<00:00, 129.20it/s]\n",
      "2023-08-01 16:53:52,168 - BERTopic - Transformed documents to Embeddings\n",
      "2023-08-01 16:53:52,953 - BERTopic - Reduced dimensionality\n",
      "2023-08-01 16:53:52,958 - BERTopic - Clustered reduced embeddings\n",
      "0it [00:00, ?it/s]\n"
     ]
    },
    {
     "name": "stdout",
     "output_type": "stream",
     "text": [
      "Can't distribute all messages in topics\n"
     ]
    },
    {
     "name": "stderr",
     "output_type": "stream",
     "text": [
      "100%|██████████| 5/5 [00:00<00:00, 178.57it/s]\n",
      "2023-08-01 16:53:53,066 - BERTopic - Transformed documents to Embeddings\n",
      "f:\\Coding\\.venv\\lib\\site-packages\\scipy\\sparse\\linalg\\_eigen\\arpack\\arpack.py:1592: RuntimeWarning: k >= N for N * N square matrix. Attempting to use scipy.linalg.eigh instead.\n",
      "  warnings.warn(\"k >= N for N * N square matrix. \"\n",
      "2023-08-01 16:53:53,071 - BERTopic - The dimensionality reduction algorithm did not contain the `y` parameter and therefore the `y` parameter was not used\n",
      "f:\\Coding\\.venv\\lib\\site-packages\\scipy\\sparse\\linalg\\_eigen\\arpack\\arpack.py:1592: RuntimeWarning: k >= N for N * N square matrix. Attempting to use scipy.linalg.eigh instead.\n",
      "  warnings.warn(\"k >= N for N * N square matrix. \"\n"
     ]
    },
    {
     "name": "stdout",
     "output_type": "stream",
     "text": [
      "Can't reduce dimensionality or some other problem\n"
     ]
    },
    {
     "name": "stderr",
     "output_type": "stream",
     "text": [
      "100%|██████████| 10/10 [00:00<00:00, 158.74it/s]\n",
      "2023-08-01 16:53:53,145 - BERTopic - Transformed documents to Embeddings\n",
      "2023-08-01 16:53:53,877 - BERTopic - Reduced dimensionality\n",
      "2023-08-01 16:53:53,880 - BERTopic - Clustered reduced embeddings\n",
      "100%|██████████| 1/1 [00:00<00:00, 506.93it/s]\n",
      "100%|██████████| 19/19 [00:00<00:00, 139.71it/s]\n",
      "2023-08-01 16:53:54,189 - BERTopic - Transformed documents to Embeddings\n",
      "2023-08-01 16:53:55,171 - BERTopic - Reduced dimensionality\n",
      "2023-08-01 16:53:55,175 - BERTopic - Clustered reduced embeddings\n",
      "0it [00:00, ?it/s]\n"
     ]
    },
    {
     "name": "stdout",
     "output_type": "stream",
     "text": [
      "Can't distribute all messages in topics\n"
     ]
    },
    {
     "name": "stderr",
     "output_type": "stream",
     "text": [
      "100%|██████████| 18/18 [00:00<00:00, 72.59it/s] \n",
      "2023-08-01 16:53:55,469 - BERTopic - Transformed documents to Embeddings\n",
      "2023-08-01 16:53:56,209 - BERTopic - Reduced dimensionality\n",
      "2023-08-01 16:53:56,214 - BERTopic - Clustered reduced embeddings\n",
      "0it [00:00, ?it/s]\n"
     ]
    },
    {
     "name": "stdout",
     "output_type": "stream",
     "text": [
      "Can't distribute all messages in topics\n"
     ]
    },
    {
     "name": "stderr",
     "output_type": "stream",
     "text": [
      "100%|██████████| 40/40 [00:00<00:00, 130.31it/s]\n",
      "2023-08-01 16:53:56,572 - BERTopic - Transformed documents to Embeddings\n",
      "2023-08-01 16:53:57,377 - BERTopic - Reduced dimensionality\n",
      "2023-08-01 16:53:57,385 - BERTopic - Clustered reduced embeddings\n",
      "100%|██████████| 1/1 [00:00<00:00, 491.60it/s]\n",
      "100%|██████████| 14/14 [00:00<00:00, 130.84it/s]\n",
      "2023-08-01 16:53:57,766 - BERTopic - Transformed documents to Embeddings\n",
      "2023-08-01 16:53:58,508 - BERTopic - Reduced dimensionality\n",
      "2023-08-01 16:53:58,512 - BERTopic - Clustered reduced embeddings\n",
      "0it [00:00, ?it/s]\n"
     ]
    },
    {
     "name": "stdout",
     "output_type": "stream",
     "text": [
      "Can't distribute all messages in topics\n"
     ]
    },
    {
     "name": "stderr",
     "output_type": "stream",
     "text": [
      "100%|██████████| 32/32 [00:00<00:00, 173.92it/s]\n",
      "2023-08-01 16:53:58,753 - BERTopic - Transformed documents to Embeddings\n",
      "2023-08-01 16:53:59,569 - BERTopic - Reduced dimensionality\n",
      "2023-08-01 16:53:59,575 - BERTopic - Clustered reduced embeddings\n",
      "0it [00:00, ?it/s]\n"
     ]
    },
    {
     "name": "stdout",
     "output_type": "stream",
     "text": [
      "Can't distribute all messages in topics\n"
     ]
    },
    {
     "name": "stderr",
     "output_type": "stream",
     "text": [
      "100%|██████████| 74/74 [00:01<00:00, 62.82it/s]\n",
      "2023-08-01 16:54:00,811 - BERTopic - Transformed documents to Embeddings\n",
      "2023-08-01 16:54:01,947 - BERTopic - Reduced dimensionality\n",
      "2023-08-01 16:54:01,957 - BERTopic - Clustered reduced embeddings\n",
      "0it [00:00, ?it/s]\n"
     ]
    },
    {
     "name": "stdout",
     "output_type": "stream",
     "text": [
      "Can't distribute all messages in topics\n"
     ]
    },
    {
     "name": "stderr",
     "output_type": "stream",
     "text": [
      "100%|██████████| 30/30 [00:00<00:00, 109.10it/s]\n",
      "2023-08-01 16:54:02,382 - BERTopic - Transformed documents to Embeddings\n",
      "2023-08-01 16:54:03,145 - BERTopic - Reduced dimensionality\n",
      "2023-08-01 16:54:03,151 - BERTopic - Clustered reduced embeddings\n",
      "0it [00:00, ?it/s]\n"
     ]
    },
    {
     "name": "stdout",
     "output_type": "stream",
     "text": [
      "Can't distribute all messages in topics\n"
     ]
    },
    {
     "name": "stderr",
     "output_type": "stream",
     "text": [
      "100%|██████████| 102/102 [00:00<00:00, 153.85it/s]\n",
      "2023-08-01 16:54:03,907 - BERTopic - Transformed documents to Embeddings\n",
      "2023-08-01 16:54:04,778 - BERTopic - Reduced dimensionality\n",
      "2023-08-01 16:54:04,791 - BERTopic - Clustered reduced embeddings\n",
      "0it [00:00, ?it/s]\n"
     ]
    },
    {
     "name": "stdout",
     "output_type": "stream",
     "text": [
      "Can't distribute all messages in topics\n"
     ]
    },
    {
     "name": "stderr",
     "output_type": "stream",
     "text": [
      "100%|██████████| 19/19 [00:00<00:00, 86.77it/s]\n",
      "2023-08-01 16:54:05,227 - BERTopic - Transformed documents to Embeddings\n",
      "2023-08-01 16:54:06,004 - BERTopic - Reduced dimensionality\n",
      "2023-08-01 16:54:06,008 - BERTopic - Clustered reduced embeddings\n",
      "0it [00:00, ?it/s]\n"
     ]
    },
    {
     "name": "stdout",
     "output_type": "stream",
     "text": [
      "Can't distribute all messages in topics\n"
     ]
    },
    {
     "name": "stderr",
     "output_type": "stream",
     "text": [
      "100%|██████████| 6/6 [00:00<00:00, 95.24it/s]\n",
      "2023-08-01 16:54:06,131 - BERTopic - Transformed documents to Embeddings\n",
      "f:\\Coding\\.venv\\lib\\site-packages\\scipy\\sparse\\linalg\\_eigen\\arpack\\arpack.py:1592: RuntimeWarning: k >= N for N * N square matrix. Attempting to use scipy.linalg.eigh instead.\n",
      "  warnings.warn(\"k >= N for N * N square matrix. \"\n",
      "2023-08-01 16:54:06,136 - BERTopic - The dimensionality reduction algorithm did not contain the `y` parameter and therefore the `y` parameter was not used\n",
      "f:\\Coding\\.venv\\lib\\site-packages\\scipy\\sparse\\linalg\\_eigen\\arpack\\arpack.py:1592: RuntimeWarning: k >= N for N * N square matrix. Attempting to use scipy.linalg.eigh instead.\n",
      "  warnings.warn(\"k >= N for N * N square matrix. \"\n"
     ]
    },
    {
     "name": "stdout",
     "output_type": "stream",
     "text": [
      "Can't reduce dimensionality or some other problem\n"
     ]
    },
    {
     "name": "stderr",
     "output_type": "stream",
     "text": [
      "100%|██████████| 12/12 [00:00<00:00, 137.93it/s]\n",
      "2023-08-01 16:54:06,234 - BERTopic - Transformed documents to Embeddings\n",
      "2023-08-01 16:54:06,971 - BERTopic - Reduced dimensionality\n",
      "2023-08-01 16:54:06,974 - BERTopic - Clustered reduced embeddings\n",
      "0it [00:00, ?it/s]\n"
     ]
    },
    {
     "name": "stdout",
     "output_type": "stream",
     "text": [
      "Can't distribute all messages in topics\n"
     ]
    },
    {
     "name": "stderr",
     "output_type": "stream",
     "text": [
      "100%|██████████| 19/19 [00:00<00:00, 174.31it/s]\n",
      "2023-08-01 16:54:07,132 - BERTopic - Transformed documents to Embeddings\n",
      "2023-08-01 16:54:08,116 - BERTopic - Reduced dimensionality\n",
      "2023-08-01 16:54:08,120 - BERTopic - Clustered reduced embeddings\n",
      "0it [00:00, ?it/s]\n"
     ]
    },
    {
     "name": "stdout",
     "output_type": "stream",
     "text": [
      "Can't distribute all messages in topics\n"
     ]
    },
    {
     "name": "stderr",
     "output_type": "stream",
     "text": [
      "100%|██████████| 9/9 [00:00<00:00, 152.56it/s]\n",
      "2023-08-01 16:54:08,244 - BERTopic - Transformed documents to Embeddings\n",
      "2023-08-01 16:54:08,977 - BERTopic - Reduced dimensionality\n",
      "2023-08-01 16:54:08,981 - BERTopic - Clustered reduced embeddings\n",
      "100%|██████████| 1/1 [00:00<00:00, 500.51it/s]\n",
      "100%|██████████| 43/43 [00:00<00:00, 136.51it/s]\n",
      "2023-08-01 16:54:09,424 - BERTopic - Transformed documents to Embeddings\n",
      "2023-08-01 16:54:10,235 - BERTopic - Reduced dimensionality\n",
      "2023-08-01 16:54:10,242 - BERTopic - Clustered reduced embeddings\n",
      "0it [00:00, ?it/s]\n"
     ]
    },
    {
     "name": "stdout",
     "output_type": "stream",
     "text": [
      "Can't distribute all messages in topics\n"
     ]
    },
    {
     "name": "stderr",
     "output_type": "stream",
     "text": [
      "100%|██████████| 46/46 [00:00<00:00, 133.33it/s]\n",
      "2023-08-01 16:54:10,680 - BERTopic - Transformed documents to Embeddings\n",
      "2023-08-01 16:54:11,473 - BERTopic - Reduced dimensionality\n",
      "2023-08-01 16:54:11,480 - BERTopic - Clustered reduced embeddings\n",
      "100%|██████████| 1/1 [00:00<00:00, 491.94it/s]\n",
      "100%|██████████| 30/30 [00:00<00:00, 135.75it/s]\n",
      "2023-08-01 16:54:12,117 - BERTopic - Transformed documents to Embeddings\n",
      "2023-08-01 16:54:13,095 - BERTopic - Reduced dimensionality\n",
      "2023-08-01 16:54:13,100 - BERTopic - Clustered reduced embeddings\n",
      "0it [00:00, ?it/s]\n"
     ]
    },
    {
     "name": "stdout",
     "output_type": "stream",
     "text": [
      "Can't distribute all messages in topics\n"
     ]
    },
    {
     "name": "stderr",
     "output_type": "stream",
     "text": [
      "100%|██████████| 43/43 [00:00<00:00, 125.00it/s]\n",
      "2023-08-01 16:54:13,520 - BERTopic - Transformed documents to Embeddings\n",
      "2023-08-01 16:54:14,327 - BERTopic - Reduced dimensionality\n",
      "2023-08-01 16:54:14,333 - BERTopic - Clustered reduced embeddings\n",
      "100%|██████████| 1/1 [00:00<00:00, 506.25it/s]\n",
      "100%|██████████| 6/6 [00:00<00:00, 157.89it/s]\n",
      "2023-08-01 16:54:14,741 - BERTopic - Transformed documents to Embeddings\n",
      "f:\\Coding\\.venv\\lib\\site-packages\\scipy\\sparse\\linalg\\_eigen\\arpack\\arpack.py:1592: RuntimeWarning: k >= N for N * N square matrix. Attempting to use scipy.linalg.eigh instead.\n",
      "  warnings.warn(\"k >= N for N * N square matrix. \"\n",
      "2023-08-01 16:54:14,745 - BERTopic - The dimensionality reduction algorithm did not contain the `y` parameter and therefore the `y` parameter was not used\n",
      "f:\\Coding\\.venv\\lib\\site-packages\\scipy\\sparse\\linalg\\_eigen\\arpack\\arpack.py:1592: RuntimeWarning: k >= N for N * N square matrix. Attempting to use scipy.linalg.eigh instead.\n",
      "  warnings.warn(\"k >= N for N * N square matrix. \"\n"
     ]
    },
    {
     "name": "stdout",
     "output_type": "stream",
     "text": [
      "Can't reduce dimensionality or some other problem\n"
     ]
    },
    {
     "name": "stderr",
     "output_type": "stream",
     "text": [
      "100%|██████████| 9/9 [00:00<00:00, 120.00it/s]\n",
      "2023-08-01 16:54:14,833 - BERTopic - Transformed documents to Embeddings\n",
      "2023-08-01 16:54:15,559 - BERTopic - Reduced dimensionality\n",
      "2023-08-01 16:54:15,563 - BERTopic - Clustered reduced embeddings\n",
      "0it [00:00, ?it/s]\n"
     ]
    },
    {
     "name": "stdout",
     "output_type": "stream",
     "text": [
      "Can't distribute all messages in topics\n"
     ]
    },
    {
     "name": "stderr",
     "output_type": "stream",
     "text": [
      "100%|██████████| 22/22 [00:00<00:00, 138.37it/s]\n",
      "2023-08-01 16:54:15,770 - BERTopic - Transformed documents to Embeddings\n",
      "2023-08-01 16:54:16,549 - BERTopic - Reduced dimensionality\n",
      "2023-08-01 16:54:16,554 - BERTopic - Clustered reduced embeddings\n",
      "0it [00:00, ?it/s]\n"
     ]
    },
    {
     "name": "stdout",
     "output_type": "stream",
     "text": [
      "Can't distribute all messages in topics\n"
     ]
    },
    {
     "name": "stderr",
     "output_type": "stream",
     "text": [
      "100%|██████████| 12/12 [00:00<00:00, 78.43it/s]\n",
      "2023-08-01 16:54:16,786 - BERTopic - Transformed documents to Embeddings\n",
      "2023-08-01 16:54:17,531 - BERTopic - Reduced dimensionality\n",
      "2023-08-01 16:54:17,535 - BERTopic - Clustered reduced embeddings\n",
      "100%|██████████| 1/1 [00:00<00:00, 492.52it/s]\n",
      "100%|██████████| 8/8 [00:00<00:00, 41.24it/s]\n",
      "2023-08-01 16:54:17,861 - BERTopic - Transformed documents to Embeddings\n",
      "2023-08-01 16:54:18,611 - BERTopic - Reduced dimensionality\n",
      "2023-08-01 16:54:18,615 - BERTopic - Clustered reduced embeddings\n",
      "100%|██████████| 1/1 [00:00<00:00, 250.05it/s]\n",
      "100%|██████████| 52/52 [00:00<00:00, 141.69it/s]\n",
      "2023-08-01 16:54:19,125 - BERTopic - Transformed documents to Embeddings\n",
      "2023-08-01 16:54:20,140 - BERTopic - Reduced dimensionality\n",
      "2023-08-01 16:54:20,149 - BERTopic - Clustered reduced embeddings\n",
      "100%|██████████| 1/1 [00:00<00:00, 1030.79it/s]\n",
      "100%|██████████| 23/23 [00:00<00:00, 96.64it/s]\n",
      "2023-08-01 16:54:20,805 - BERTopic - Transformed documents to Embeddings\n",
      "2023-08-01 16:54:21,557 - BERTopic - Reduced dimensionality\n",
      "2023-08-01 16:54:21,561 - BERTopic - Clustered reduced embeddings\n",
      "100%|██████████| 1/1 [00:00<00:00, 1031.05it/s]\n",
      "100%|██████████| 19/19 [00:00<00:00, 158.34it/s]\n",
      "2023-08-01 16:54:21,953 - BERTopic - Transformed documents to Embeddings\n",
      "2023-08-01 16:54:22,701 - BERTopic - Reduced dimensionality\n",
      "2023-08-01 16:54:22,706 - BERTopic - Clustered reduced embeddings\n",
      "0it [00:00, ?it/s]\n"
     ]
    },
    {
     "name": "stdout",
     "output_type": "stream",
     "text": [
      "Can't distribute all messages in topics\n"
     ]
    },
    {
     "name": "stderr",
     "output_type": "stream",
     "text": [
      "100%|██████████| 17/17 [00:00<00:00, 85.43it/s]\n",
      "2023-08-01 16:54:22,990 - BERTopic - Transformed documents to Embeddings\n",
      "2023-08-01 16:54:23,750 - BERTopic - Reduced dimensionality\n",
      "2023-08-01 16:54:23,754 - BERTopic - Clustered reduced embeddings\n",
      "0it [00:00, ?it/s]\n"
     ]
    },
    {
     "name": "stdout",
     "output_type": "stream",
     "text": [
      "Can't distribute all messages in topics\n"
     ]
    },
    {
     "name": "stderr",
     "output_type": "stream",
     "text": [
      "100%|██████████| 8/8 [00:00<00:00, 57.97it/s]\n",
      "2023-08-01 16:54:23,954 - BERTopic - Transformed documents to Embeddings\n",
      "2023-08-01 16:54:24,687 - BERTopic - Reduced dimensionality\n",
      "2023-08-01 16:54:24,690 - BERTopic - Clustered reduced embeddings\n",
      "  0%|          | 0/1 [00:00<?, ?it/s]\n"
     ]
    },
    {
     "name": "stdout",
     "output_type": "stream",
     "text": [
      "Can't distribute all messages in topics\n"
     ]
    },
    {
     "name": "stderr",
     "output_type": "stream",
     "text": [
      "100%|██████████| 22/22 [00:00<00:00, 115.81it/s]\n",
      "2023-08-01 16:54:24,918 - BERTopic - Transformed documents to Embeddings\n",
      "2023-08-01 16:54:25,914 - BERTopic - Reduced dimensionality\n",
      "2023-08-01 16:54:25,919 - BERTopic - Clustered reduced embeddings\n",
      "0it [00:00, ?it/s]\n"
     ]
    },
    {
     "name": "stdout",
     "output_type": "stream",
     "text": [
      "Can't distribute all messages in topics\n"
     ]
    },
    {
     "name": "stderr",
     "output_type": "stream",
     "text": [
      "100%|██████████| 14/14 [00:00<00:00, 102.22it/s]\n",
      "2023-08-01 16:54:26,116 - BERTopic - Transformed documents to Embeddings\n",
      "2023-08-01 16:54:26,855 - BERTopic - Reduced dimensionality\n",
      "2023-08-01 16:54:26,859 - BERTopic - Clustered reduced embeddings\n",
      "0it [00:00, ?it/s]\n"
     ]
    },
    {
     "name": "stdout",
     "output_type": "stream",
     "text": [
      "Can't distribute all messages in topics\n"
     ]
    },
    {
     "name": "stderr",
     "output_type": "stream",
     "text": [
      "100%|██████████| 12/12 [00:00<00:00, 116.50it/s]\n",
      "2023-08-01 16:54:27,022 - BERTopic - Transformed documents to Embeddings\n",
      "2023-08-01 16:54:27,788 - BERTopic - Reduced dimensionality\n",
      "2023-08-01 16:54:27,792 - BERTopic - Clustered reduced embeddings\n",
      "0it [00:00, ?it/s]\n"
     ]
    },
    {
     "name": "stdout",
     "output_type": "stream",
     "text": [
      "Can't distribute all messages in topics\n"
     ]
    },
    {
     "name": "stderr",
     "output_type": "stream",
     "text": [
      "100%|██████████| 22/22 [00:00<00:00, 86.62it/s] \n",
      "2023-08-01 16:54:28,092 - BERTopic - Transformed documents to Embeddings\n",
      "2023-08-01 16:54:28,847 - BERTopic - Reduced dimensionality\n",
      "2023-08-01 16:54:28,853 - BERTopic - Clustered reduced embeddings\n",
      "0it [00:00, ?it/s]\n"
     ]
    },
    {
     "name": "stdout",
     "output_type": "stream",
     "text": [
      "Can't distribute all messages in topics\n"
     ]
    },
    {
     "name": "stderr",
     "output_type": "stream",
     "text": [
      "100%|██████████| 10/10 [00:00<00:00, 22.62it/s]\n",
      "2023-08-01 16:54:29,357 - BERTopic - Transformed documents to Embeddings\n",
      "2023-08-01 16:54:30,311 - BERTopic - Reduced dimensionality\n",
      "2023-08-01 16:54:30,315 - BERTopic - Clustered reduced embeddings\n",
      "0it [00:00, ?it/s]\n"
     ]
    },
    {
     "name": "stdout",
     "output_type": "stream",
     "text": [
      "Can't distribute all messages in topics\n"
     ]
    },
    {
     "name": "stderr",
     "output_type": "stream",
     "text": [
      "100%|██████████| 11/11 [00:00<00:00, 177.47it/s]\n",
      "2023-08-01 16:54:30,432 - BERTopic - Transformed documents to Embeddings\n",
      "2023-08-01 16:54:31,168 - BERTopic - Reduced dimensionality\n",
      "2023-08-01 16:54:31,172 - BERTopic - Clustered reduced embeddings\n",
      "0it [00:00, ?it/s]\n"
     ]
    },
    {
     "name": "stdout",
     "output_type": "stream",
     "text": [
      "Can't distribute all messages in topics\n"
     ]
    },
    {
     "name": "stderr",
     "output_type": "stream",
     "text": [
      "100%|██████████| 8/8 [00:00<00:00, 153.85it/s]\n",
      "2023-08-01 16:54:31,284 - BERTopic - Transformed documents to Embeddings\n",
      "2023-08-01 16:54:32,040 - BERTopic - Reduced dimensionality\n",
      "2023-08-01 16:54:32,043 - BERTopic - Clustered reduced embeddings\n",
      "0it [00:00, ?it/s]\n"
     ]
    },
    {
     "name": "stdout",
     "output_type": "stream",
     "text": [
      "Can't distribute all messages in topics\n"
     ]
    },
    {
     "name": "stderr",
     "output_type": "stream",
     "text": [
      "100%|██████████| 9/9 [00:00<00:00, 86.54it/s]\n",
      "2023-08-01 16:54:32,195 - BERTopic - Transformed documents to Embeddings\n",
      "2023-08-01 16:54:32,933 - BERTopic - Reduced dimensionality\n",
      "2023-08-01 16:54:32,937 - BERTopic - Clustered reduced embeddings\n",
      "0it [00:00, ?it/s]\n"
     ]
    },
    {
     "name": "stdout",
     "output_type": "stream",
     "text": [
      "Can't distribute all messages in topics\n"
     ]
    },
    {
     "name": "stderr",
     "output_type": "stream",
     "text": [
      "100%|██████████| 6/6 [00:00<00:00, 150.01it/s]\n",
      "2023-08-01 16:54:33,026 - BERTopic - Transformed documents to Embeddings\n",
      "f:\\Coding\\.venv\\lib\\site-packages\\scipy\\sparse\\linalg\\_eigen\\arpack\\arpack.py:1592: RuntimeWarning: k >= N for N * N square matrix. Attempting to use scipy.linalg.eigh instead.\n",
      "  warnings.warn(\"k >= N for N * N square matrix. \"\n",
      "2023-08-01 16:54:33,031 - BERTopic - The dimensionality reduction algorithm did not contain the `y` parameter and therefore the `y` parameter was not used\n",
      "f:\\Coding\\.venv\\lib\\site-packages\\scipy\\sparse\\linalg\\_eigen\\arpack\\arpack.py:1592: RuntimeWarning: k >= N for N * N square matrix. Attempting to use scipy.linalg.eigh instead.\n",
      "  warnings.warn(\"k >= N for N * N square matrix. \"\n"
     ]
    },
    {
     "name": "stdout",
     "output_type": "stream",
     "text": [
      "Can't reduce dimensionality or some other problem\n"
     ]
    },
    {
     "name": "stderr",
     "output_type": "stream",
     "text": [
      "100%|██████████| 8/8 [00:00<00:00, 148.15it/s]\n",
      "2023-08-01 16:54:33,100 - BERTopic - Transformed documents to Embeddings\n",
      "2023-08-01 16:54:33,861 - BERTopic - Reduced dimensionality\n",
      "2023-08-01 16:54:33,864 - BERTopic - Clustered reduced embeddings\n",
      "0it [00:00, ?it/s]\n"
     ]
    },
    {
     "name": "stdout",
     "output_type": "stream",
     "text": [
      "Can't distribute all messages in topics\n"
     ]
    },
    {
     "name": "stderr",
     "output_type": "stream",
     "text": [
      "100%|██████████| 6/6 [00:00<00:00, 49.18it/s]\n",
      "2023-08-01 16:54:34,029 - BERTopic - Transformed documents to Embeddings\n",
      "f:\\Coding\\.venv\\lib\\site-packages\\scipy\\sparse\\linalg\\_eigen\\arpack\\arpack.py:1592: RuntimeWarning: k >= N for N * N square matrix. Attempting to use scipy.linalg.eigh instead.\n",
      "  warnings.warn(\"k >= N for N * N square matrix. \"\n",
      "2023-08-01 16:54:34,034 - BERTopic - The dimensionality reduction algorithm did not contain the `y` parameter and therefore the `y` parameter was not used\n",
      "f:\\Coding\\.venv\\lib\\site-packages\\scipy\\sparse\\linalg\\_eigen\\arpack\\arpack.py:1592: RuntimeWarning: k >= N for N * N square matrix. Attempting to use scipy.linalg.eigh instead.\n",
      "  warnings.warn(\"k >= N for N * N square matrix. \"\n"
     ]
    },
    {
     "name": "stdout",
     "output_type": "stream",
     "text": [
      "Can't reduce dimensionality or some other problem\n"
     ]
    },
    {
     "name": "stderr",
     "output_type": "stream",
     "text": [
      "100%|██████████| 17/17 [00:00<00:00, 165.06it/s]\n",
      "2023-08-01 16:54:34,149 - BERTopic - Transformed documents to Embeddings\n",
      "2023-08-01 16:54:34,905 - BERTopic - Reduced dimensionality\n",
      "2023-08-01 16:54:34,910 - BERTopic - Clustered reduced embeddings\n",
      "0it [00:00, ?it/s]\n"
     ]
    },
    {
     "name": "stdout",
     "output_type": "stream",
     "text": [
      "Can't distribute all messages in topics\n"
     ]
    },
    {
     "name": "stderr",
     "output_type": "stream",
     "text": [
      "100%|██████████| 12/12 [00:00<00:00, 151.90it/s]\n",
      "2023-08-01 16:54:35,044 - BERTopic - Transformed documents to Embeddings\n",
      "2023-08-01 16:54:36,095 - BERTopic - Reduced dimensionality\n",
      "2023-08-01 16:54:36,100 - BERTopic - Clustered reduced embeddings\n",
      "0it [00:00, ?it/s]\n"
     ]
    },
    {
     "name": "stdout",
     "output_type": "stream",
     "text": [
      "Can't distribute all messages in topics\n"
     ]
    },
    {
     "name": "stderr",
     "output_type": "stream",
     "text": [
      "100%|██████████| 10/10 [00:00<00:00, 87.72it/s]\n",
      "2023-08-01 16:54:36,269 - BERTopic - Transformed documents to Embeddings\n",
      "2023-08-01 16:54:37,088 - BERTopic - Reduced dimensionality\n",
      "2023-08-01 16:54:37,093 - BERTopic - Clustered reduced embeddings\n",
      "0it [00:00, ?it/s]\n"
     ]
    },
    {
     "name": "stdout",
     "output_type": "stream",
     "text": [
      "Can't distribute all messages in topics\n"
     ]
    },
    {
     "name": "stderr",
     "output_type": "stream",
     "text": [
      "100%|██████████| 10/10 [00:00<00:00, 113.64it/s]\n",
      "2023-08-01 16:54:37,240 - BERTopic - Transformed documents to Embeddings\n",
      "2023-08-01 16:54:38,047 - BERTopic - Reduced dimensionality\n",
      "2023-08-01 16:54:38,052 - BERTopic - Clustered reduced embeddings\n",
      "0it [00:00, ?it/s]\n"
     ]
    },
    {
     "name": "stdout",
     "output_type": "stream",
     "text": [
      "Can't distribute all messages in topics\n"
     ]
    },
    {
     "name": "stderr",
     "output_type": "stream",
     "text": [
      "100%|██████████| 16/16 [00:00<00:00, 117.65it/s]\n",
      "2023-08-01 16:54:38,242 - BERTopic - Transformed documents to Embeddings\n",
      "2023-08-01 16:54:39,008 - BERTopic - Reduced dimensionality\n",
      "2023-08-01 16:54:39,013 - BERTopic - Clustered reduced embeddings\n",
      "0it [00:00, ?it/s]\n"
     ]
    },
    {
     "name": "stdout",
     "output_type": "stream",
     "text": [
      "Can't distribute all messages in topics\n"
     ]
    },
    {
     "name": "stderr",
     "output_type": "stream",
     "text": [
      "100%|██████████| 28/28 [00:00<00:00, 105.66it/s]\n",
      "2023-08-01 16:54:39,343 - BERTopic - Transformed documents to Embeddings\n",
      "2023-08-01 16:54:40,269 - BERTopic - Reduced dimensionality\n",
      "2023-08-01 16:54:40,274 - BERTopic - Clustered reduced embeddings\n",
      "100%|██████████| 1/1 [00:00<00:00, 333.20it/s]\n",
      "100%|██████████| 8/8 [00:00<00:00, 26.40it/s]\n",
      "2023-08-01 16:54:40,868 - BERTopic - Transformed documents to Embeddings\n",
      "2023-08-01 16:54:41,841 - BERTopic - Reduced dimensionality\n",
      "2023-08-01 16:54:41,845 - BERTopic - Clustered reduced embeddings\n",
      "0it [00:00, ?it/s]\n"
     ]
    },
    {
     "name": "stdout",
     "output_type": "stream",
     "text": [
      "Can't distribute all messages in topics\n"
     ]
    },
    {
     "name": "stderr",
     "output_type": "stream",
     "text": [
      "100%|██████████| 5/5 [00:00<00:00, 142.86it/s]\n",
      "2023-08-01 16:54:41,946 - BERTopic - Transformed documents to Embeddings\n",
      "f:\\Coding\\.venv\\lib\\site-packages\\scipy\\sparse\\linalg\\_eigen\\arpack\\arpack.py:1592: RuntimeWarning: k >= N for N * N square matrix. Attempting to use scipy.linalg.eigh instead.\n",
      "  warnings.warn(\"k >= N for N * N square matrix. \"\n",
      "2023-08-01 16:54:41,952 - BERTopic - The dimensionality reduction algorithm did not contain the `y` parameter and therefore the `y` parameter was not used\n",
      "f:\\Coding\\.venv\\lib\\site-packages\\scipy\\sparse\\linalg\\_eigen\\arpack\\arpack.py:1592: RuntimeWarning: k >= N for N * N square matrix. Attempting to use scipy.linalg.eigh instead.\n",
      "  warnings.warn(\"k >= N for N * N square matrix. \"\n"
     ]
    },
    {
     "name": "stdout",
     "output_type": "stream",
     "text": [
      "Can't reduce dimensionality or some other problem\n"
     ]
    },
    {
     "name": "stderr",
     "output_type": "stream",
     "text": [
      "100%|██████████| 6/6 [00:00<00:00, 33.15it/s]\n",
      "2023-08-01 16:54:42,160 - BERTopic - Transformed documents to Embeddings\n",
      "f:\\Coding\\.venv\\lib\\site-packages\\scipy\\sparse\\linalg\\_eigen\\arpack\\arpack.py:1592: RuntimeWarning: k >= N for N * N square matrix. Attempting to use scipy.linalg.eigh instead.\n",
      "  warnings.warn(\"k >= N for N * N square matrix. \"\n",
      "2023-08-01 16:54:42,165 - BERTopic - The dimensionality reduction algorithm did not contain the `y` parameter and therefore the `y` parameter was not used\n",
      "f:\\Coding\\.venv\\lib\\site-packages\\scipy\\sparse\\linalg\\_eigen\\arpack\\arpack.py:1592: RuntimeWarning: k >= N for N * N square matrix. Attempting to use scipy.linalg.eigh instead.\n",
      "  warnings.warn(\"k >= N for N * N square matrix. \"\n"
     ]
    },
    {
     "name": "stdout",
     "output_type": "stream",
     "text": [
      "Can't reduce dimensionality or some other problem\n"
     ]
    },
    {
     "name": "stderr",
     "output_type": "stream",
     "text": [
      "100%|██████████| 6/6 [00:00<00:00, 65.93it/s]\n",
      "2023-08-01 16:54:42,268 - BERTopic - Transformed documents to Embeddings\n",
      "f:\\Coding\\.venv\\lib\\site-packages\\scipy\\sparse\\linalg\\_eigen\\arpack\\arpack.py:1592: RuntimeWarning: k >= N for N * N square matrix. Attempting to use scipy.linalg.eigh instead.\n",
      "  warnings.warn(\"k >= N for N * N square matrix. \"\n",
      "2023-08-01 16:54:42,273 - BERTopic - The dimensionality reduction algorithm did not contain the `y` parameter and therefore the `y` parameter was not used\n",
      "f:\\Coding\\.venv\\lib\\site-packages\\scipy\\sparse\\linalg\\_eigen\\arpack\\arpack.py:1592: RuntimeWarning: k >= N for N * N square matrix. Attempting to use scipy.linalg.eigh instead.\n",
      "  warnings.warn(\"k >= N for N * N square matrix. \"\n"
     ]
    },
    {
     "name": "stdout",
     "output_type": "stream",
     "text": [
      "Can't reduce dimensionality or some other problem\n"
     ]
    },
    {
     "name": "stderr",
     "output_type": "stream",
     "text": [
      "100%|██████████| 13/13 [00:00<00:00, 78.79it/s]\n",
      "2023-08-01 16:54:42,449 - BERTopic - Transformed documents to Embeddings\n",
      "2023-08-01 16:54:43,204 - BERTopic - Reduced dimensionality\n",
      "2023-08-01 16:54:43,208 - BERTopic - Clustered reduced embeddings\n",
      "0it [00:00, ?it/s]\n"
     ]
    },
    {
     "name": "stdout",
     "output_type": "stream",
     "text": [
      "Can't distribute all messages in topics\n"
     ]
    },
    {
     "name": "stderr",
     "output_type": "stream",
     "text": [
      "100%|██████████| 24/24 [00:00<00:00, 90.91it/s] \n",
      "2023-08-01 16:54:43,531 - BERTopic - Transformed documents to Embeddings\n",
      "2023-08-01 16:54:44,360 - BERTopic - Reduced dimensionality\n",
      "2023-08-01 16:54:44,365 - BERTopic - Clustered reduced embeddings\n",
      "0it [00:00, ?it/s]\n"
     ]
    },
    {
     "name": "stdout",
     "output_type": "stream",
     "text": [
      "Can't distribute all messages in topics\n"
     ]
    },
    {
     "name": "stderr",
     "output_type": "stream",
     "text": [
      "100%|██████████| 52/52 [00:01<00:00, 35.18it/s] \n",
      "2023-08-01 16:54:45,931 - BERTopic - Transformed documents to Embeddings\n",
      "2023-08-01 16:54:46,826 - BERTopic - Reduced dimensionality\n",
      "2023-08-01 16:54:46,833 - BERTopic - Clustered reduced embeddings\n",
      "0it [00:00, ?it/s]\n"
     ]
    },
    {
     "name": "stdout",
     "output_type": "stream",
     "text": [
      "Can't distribute all messages in topics\n"
     ]
    },
    {
     "name": "stderr",
     "output_type": "stream",
     "text": [
      "100%|██████████| 14/14 [00:00<00:00, 98.59it/s]\n",
      "2023-08-01 16:54:47,095 - BERTopic - Transformed documents to Embeddings\n",
      "2023-08-01 16:54:47,853 - BERTopic - Reduced dimensionality\n",
      "2023-08-01 16:54:47,857 - BERTopic - Clustered reduced embeddings\n",
      "0it [00:00, ?it/s]\n"
     ]
    },
    {
     "name": "stdout",
     "output_type": "stream",
     "text": [
      "Can't distribute all messages in topics\n"
     ]
    },
    {
     "name": "stderr",
     "output_type": "stream",
     "text": [
      "100%|██████████| 14/14 [00:00<00:00, 79.10it/s]\n",
      "2023-08-01 16:54:48,093 - BERTopic - Transformed documents to Embeddings\n",
      "2023-08-01 16:54:49,085 - BERTopic - Reduced dimensionality\n",
      "2023-08-01 16:54:49,090 - BERTopic - Clustered reduced embeddings\n",
      "0it [00:00, ?it/s]\n"
     ]
    },
    {
     "name": "stdout",
     "output_type": "stream",
     "text": [
      "Can't distribute all messages in topics\n"
     ]
    },
    {
     "name": "stderr",
     "output_type": "stream",
     "text": [
      "100%|██████████| 35/35 [00:00<00:00, 110.76it/s]\n",
      "2023-08-01 16:54:49,467 - BERTopic - Transformed documents to Embeddings\n",
      "2023-08-01 16:54:50,254 - BERTopic - Reduced dimensionality\n",
      "2023-08-01 16:54:50,260 - BERTopic - Clustered reduced embeddings\n",
      "0it [00:00, ?it/s]\n"
     ]
    },
    {
     "name": "stdout",
     "output_type": "stream",
     "text": [
      "Can't distribute all messages in topics\n"
     ]
    },
    {
     "name": "stderr",
     "output_type": "stream",
     "text": [
      "100%|██████████| 16/16 [00:00<00:00, 98.77it/s]\n",
      "2023-08-01 16:54:50,488 - BERTopic - Transformed documents to Embeddings\n",
      "2023-08-01 16:54:51,262 - BERTopic - Reduced dimensionality\n",
      "2023-08-01 16:54:51,267 - BERTopic - Clustered reduced embeddings\n",
      "100%|██████████| 1/1 [00:00<00:00, 499.50it/s]\n",
      "100%|██████████| 56/56 [00:00<00:00, 72.54it/s] \n",
      "2023-08-01 16:54:52,271 - BERTopic - Transformed documents to Embeddings\n",
      "2023-08-01 16:54:53,113 - BERTopic - Reduced dimensionality\n",
      "2023-08-01 16:54:53,121 - BERTopic - Clustered reduced embeddings\n",
      "100%|██████████| 1/1 [00:00<00:00, 333.04it/s]\n",
      "100%|██████████| 67/67 [00:00<00:00, 126.89it/s]\n",
      "2023-08-01 16:54:54,098 - BERTopic - Transformed documents to Embeddings\n",
      "2023-08-01 16:54:54,939 - BERTopic - Reduced dimensionality\n",
      "2023-08-01 16:54:54,949 - BERTopic - Clustered reduced embeddings\n",
      "0it [00:00, ?it/s]\n"
     ]
    },
    {
     "name": "stdout",
     "output_type": "stream",
     "text": [
      "Can't distribute all messages in topics\n"
     ]
    },
    {
     "name": "stderr",
     "output_type": "stream",
     "text": [
      "100%|██████████| 14/14 [00:00<00:00, 133.34it/s]\n",
      "2023-08-01 16:54:55,142 - BERTopic - Transformed documents to Embeddings\n",
      "2023-08-01 16:54:56,101 - BERTopic - Reduced dimensionality\n",
      "2023-08-01 16:54:56,105 - BERTopic - Clustered reduced embeddings\n",
      "100%|██████████| 1/1 [00:00<00:00, 499.62it/s]\n",
      "100%|██████████| 11/11 [00:00<00:00, 169.23it/s]\n",
      "2023-08-01 16:54:56,307 - BERTopic - Transformed documents to Embeddings\n",
      "2023-08-01 16:54:57,044 - BERTopic - Reduced dimensionality\n",
      "2023-08-01 16:54:57,049 - BERTopic - Clustered reduced embeddings\n",
      "0it [00:00, ?it/s]\n"
     ]
    },
    {
     "name": "stdout",
     "output_type": "stream",
     "text": [
      "Can't distribute all messages in topics\n"
     ]
    },
    {
     "name": "stderr",
     "output_type": "stream",
     "text": [
      "100%|██████████| 18/18 [00:00<00:00, 122.45it/s]\n",
      "2023-08-01 16:54:57,263 - BERTopic - Transformed documents to Embeddings\n",
      "2023-08-01 16:54:58,011 - BERTopic - Reduced dimensionality\n",
      "2023-08-01 16:54:58,015 - BERTopic - Clustered reduced embeddings\n",
      "0it [00:00, ?it/s]\n"
     ]
    },
    {
     "name": "stdout",
     "output_type": "stream",
     "text": [
      "Can't distribute all messages in topics\n"
     ]
    },
    {
     "name": "stderr",
     "output_type": "stream",
     "text": [
      "100%|██████████| 8/8 [00:00<00:00, 114.30it/s]\n",
      "2023-08-01 16:54:58,146 - BERTopic - Transformed documents to Embeddings\n",
      "2023-08-01 16:54:58,891 - BERTopic - Reduced dimensionality\n",
      "2023-08-01 16:54:58,895 - BERTopic - Clustered reduced embeddings\n",
      "0it [00:00, ?it/s]\n"
     ]
    },
    {
     "name": "stdout",
     "output_type": "stream",
     "text": [
      "Can't distribute all messages in topics\n"
     ]
    },
    {
     "name": "stderr",
     "output_type": "stream",
     "text": [
      "100%|██████████| 22/22 [00:00<00:00, 50.93it/s]\n",
      "2023-08-01 16:54:59,374 - BERTopic - Transformed documents to Embeddings\n",
      "2023-08-01 16:55:00,152 - BERTopic - Reduced dimensionality\n",
      "2023-08-01 16:55:00,156 - BERTopic - Clustered reduced embeddings\n",
      "100%|██████████| 1/1 [00:00<00:00, 500.04it/s]\n",
      "100%|██████████| 15/15 [00:00<00:00, 132.74it/s]\n",
      "2023-08-01 16:55:00,516 - BERTopic - Transformed documents to Embeddings\n",
      "2023-08-01 16:55:01,499 - BERTopic - Reduced dimensionality\n",
      "2023-08-01 16:55:01,503 - BERTopic - Clustered reduced embeddings\n",
      "100%|██████████| 1/1 [00:00<00:00, 500.93it/s]\n",
      "100%|██████████| 11/11 [00:00<00:00, 101.85it/s]\n",
      "2023-08-01 16:55:01,837 - BERTopic - Transformed documents to Embeddings\n",
      "2023-08-01 16:55:02,578 - BERTopic - Reduced dimensionality\n",
      "2023-08-01 16:55:02,582 - BERTopic - Clustered reduced embeddings\n",
      "100%|██████████| 1/1 [00:00<00:00, 500.22it/s]\n",
      "100%|██████████| 5/5 [00:00<00:00, 119.05it/s]\n",
      "2023-08-01 16:55:02,769 - BERTopic - Transformed documents to Embeddings\n",
      "f:\\Coding\\.venv\\lib\\site-packages\\scipy\\sparse\\linalg\\_eigen\\arpack\\arpack.py:1592: RuntimeWarning: k >= N for N * N square matrix. Attempting to use scipy.linalg.eigh instead.\n",
      "  warnings.warn(\"k >= N for N * N square matrix. \"\n",
      "2023-08-01 16:55:02,774 - BERTopic - The dimensionality reduction algorithm did not contain the `y` parameter and therefore the `y` parameter was not used\n",
      "f:\\Coding\\.venv\\lib\\site-packages\\scipy\\sparse\\linalg\\_eigen\\arpack\\arpack.py:1592: RuntimeWarning: k >= N for N * N square matrix. Attempting to use scipy.linalg.eigh instead.\n",
      "  warnings.warn(\"k >= N for N * N square matrix. \"\n"
     ]
    },
    {
     "name": "stdout",
     "output_type": "stream",
     "text": [
      "Can't reduce dimensionality or some other problem\n"
     ]
    },
    {
     "name": "stderr",
     "output_type": "stream",
     "text": [
      "100%|██████████| 66/66 [00:00<00:00, 99.40it/s] \n",
      "2023-08-01 16:55:03,453 - BERTopic - Transformed documents to Embeddings\n",
      "2023-08-01 16:55:04,306 - BERTopic - Reduced dimensionality\n",
      "2023-08-01 16:55:04,315 - BERTopic - Clustered reduced embeddings\n",
      "0it [00:00, ?it/s]\n"
     ]
    },
    {
     "name": "stdout",
     "output_type": "stream",
     "text": [
      "Can't distribute all messages in topics\n"
     ]
    },
    {
     "name": "stderr",
     "output_type": "stream",
     "text": [
      "100%|██████████| 13/13 [00:00<00:00, 65.00it/s]\n",
      "2023-08-01 16:55:04,600 - BERTopic - Transformed documents to Embeddings\n",
      "2023-08-01 16:55:05,335 - BERTopic - Reduced dimensionality\n",
      "2023-08-01 16:55:05,339 - BERTopic - Clustered reduced embeddings\n",
      "0it [00:00, ?it/s]\n"
     ]
    },
    {
     "name": "stdout",
     "output_type": "stream",
     "text": [
      "Can't distribute all messages in topics\n"
     ]
    },
    {
     "name": "stderr",
     "output_type": "stream",
     "text": [
      "100%|██████████| 15/15 [00:00<00:00, 124.00it/s]\n",
      "2023-08-01 16:55:05,520 - BERTopic - Transformed documents to Embeddings\n",
      "2023-08-01 16:55:06,294 - BERTopic - Reduced dimensionality\n",
      "2023-08-01 16:55:06,298 - BERTopic - Clustered reduced embeddings\n",
      "0it [00:00, ?it/s]\n"
     ]
    },
    {
     "name": "stdout",
     "output_type": "stream",
     "text": [
      "Can't distribute all messages in topics\n"
     ]
    },
    {
     "name": "stderr",
     "output_type": "stream",
     "text": [
      "100%|██████████| 9/9 [00:00<00:00, 112.50it/s]\n",
      "2023-08-01 16:55:06,439 - BERTopic - Transformed documents to Embeddings\n",
      "2023-08-01 16:55:07,400 - BERTopic - Reduced dimensionality\n",
      "2023-08-01 16:55:07,404 - BERTopic - Clustered reduced embeddings\n",
      "0it [00:00, ?it/s]\n"
     ]
    },
    {
     "name": "stdout",
     "output_type": "stream",
     "text": [
      "Can't distribute all messages in topics\n"
     ]
    },
    {
     "name": "stderr",
     "output_type": "stream",
     "text": [
      "100%|██████████| 11/11 [00:00<00:00, 123.60it/s]\n",
      "2023-08-01 16:55:07,538 - BERTopic - Transformed documents to Embeddings\n",
      "2023-08-01 16:55:08,313 - BERTopic - Reduced dimensionality\n",
      "2023-08-01 16:55:08,316 - BERTopic - Clustered reduced embeddings\n",
      "  0%|          | 0/1 [00:00<?, ?it/s]\n"
     ]
    },
    {
     "name": "stdout",
     "output_type": "stream",
     "text": [
      "Can't distribute all messages in topics\n"
     ]
    },
    {
     "name": "stderr",
     "output_type": "stream",
     "text": [
      "100%|██████████| 6/6 [00:00<00:00, 61.86it/s]\n",
      "2023-08-01 16:55:08,455 - BERTopic - Transformed documents to Embeddings\n",
      "f:\\Coding\\.venv\\lib\\site-packages\\scipy\\sparse\\linalg\\_eigen\\arpack\\arpack.py:1592: RuntimeWarning: k >= N for N * N square matrix. Attempting to use scipy.linalg.eigh instead.\n",
      "  warnings.warn(\"k >= N for N * N square matrix. \"\n",
      "2023-08-01 16:55:08,460 - BERTopic - The dimensionality reduction algorithm did not contain the `y` parameter and therefore the `y` parameter was not used\n",
      "f:\\Coding\\.venv\\lib\\site-packages\\scipy\\sparse\\linalg\\_eigen\\arpack\\arpack.py:1592: RuntimeWarning: k >= N for N * N square matrix. Attempting to use scipy.linalg.eigh instead.\n",
      "  warnings.warn(\"k >= N for N * N square matrix. \"\n"
     ]
    },
    {
     "name": "stdout",
     "output_type": "stream",
     "text": [
      "Can't reduce dimensionality or some other problem\n"
     ]
    },
    {
     "name": "stderr",
     "output_type": "stream",
     "text": [
      "100%|██████████| 7/7 [00:00<00:00, 85.37it/s]\n",
      "2023-08-01 16:55:08,556 - BERTopic - Transformed documents to Embeddings\n",
      "2023-08-01 16:55:09,293 - BERTopic - Reduced dimensionality\n",
      "2023-08-01 16:55:09,295 - BERTopic - Clustered reduced embeddings\n",
      "  0%|          | 0/1 [00:00<?, ?it/s]\n"
     ]
    },
    {
     "name": "stdout",
     "output_type": "stream",
     "text": [
      "Can't distribute all messages in topics\n"
     ]
    },
    {
     "name": "stderr",
     "output_type": "stream",
     "text": [
      "100%|██████████| 9/9 [00:00<00:00, 50.56it/s]\n",
      "2023-08-01 16:55:09,513 - BERTopic - Transformed documents to Embeddings\n",
      "2023-08-01 16:55:10,273 - BERTopic - Reduced dimensionality\n",
      "2023-08-01 16:55:10,277 - BERTopic - Clustered reduced embeddings\n",
      "0it [00:00, ?it/s]\n"
     ]
    },
    {
     "name": "stdout",
     "output_type": "stream",
     "text": [
      "Can't distribute all messages in topics\n"
     ]
    },
    {
     "name": "stderr",
     "output_type": "stream",
     "text": [
      "100%|██████████| 8/8 [00:00<00:00, 82.48it/s]\n",
      "2023-08-01 16:55:10,422 - BERTopic - Transformed documents to Embeddings\n",
      "2023-08-01 16:55:11,164 - BERTopic - Reduced dimensionality\n",
      "2023-08-01 16:55:11,167 - BERTopic - Clustered reduced embeddings\n",
      "  0%|          | 0/1 [00:00<?, ?it/s]\n"
     ]
    },
    {
     "name": "stdout",
     "output_type": "stream",
     "text": [
      "Can't distribute all messages in topics\n"
     ]
    },
    {
     "name": "stderr",
     "output_type": "stream",
     "text": [
      "100%|██████████| 8/8 [00:00<00:00, 80.00it/s]\n",
      "2023-08-01 16:55:11,308 - BERTopic - Transformed documents to Embeddings\n",
      "2023-08-01 16:55:12,276 - BERTopic - Reduced dimensionality\n",
      "2023-08-01 16:55:12,279 - BERTopic - Clustered reduced embeddings\n",
      "  0%|          | 0/1 [00:00<?, ?it/s]\n"
     ]
    },
    {
     "name": "stdout",
     "output_type": "stream",
     "text": [
      "Can't distribute all messages in topics\n"
     ]
    },
    {
     "name": "stderr",
     "output_type": "stream",
     "text": [
      "100%|██████████| 5/5 [00:00<00:00, 131.60it/s]\n",
      "2023-08-01 16:55:12,361 - BERTopic - Transformed documents to Embeddings\n",
      "f:\\Coding\\.venv\\lib\\site-packages\\scipy\\sparse\\linalg\\_eigen\\arpack\\arpack.py:1592: RuntimeWarning: k >= N for N * N square matrix. Attempting to use scipy.linalg.eigh instead.\n",
      "  warnings.warn(\"k >= N for N * N square matrix. \"\n",
      "2023-08-01 16:55:12,366 - BERTopic - The dimensionality reduction algorithm did not contain the `y` parameter and therefore the `y` parameter was not used\n",
      "f:\\Coding\\.venv\\lib\\site-packages\\scipy\\sparse\\linalg\\_eigen\\arpack\\arpack.py:1592: RuntimeWarning: k >= N for N * N square matrix. Attempting to use scipy.linalg.eigh instead.\n",
      "  warnings.warn(\"k >= N for N * N square matrix. \"\n"
     ]
    },
    {
     "name": "stdout",
     "output_type": "stream",
     "text": [
      "Can't reduce dimensionality or some other problem\n"
     ]
    },
    {
     "name": "stderr",
     "output_type": "stream",
     "text": [
      "100%|██████████| 10/10 [00:00<00:00, 131.58it/s]\n",
      "2023-08-01 16:55:12,453 - BERTopic - Transformed documents to Embeddings\n",
      "2023-08-01 16:55:13,222 - BERTopic - Reduced dimensionality\n",
      "2023-08-01 16:55:13,226 - BERTopic - Clustered reduced embeddings\n",
      "0it [00:00, ?it/s]\n"
     ]
    },
    {
     "name": "stdout",
     "output_type": "stream",
     "text": [
      "Can't distribute all messages in topics\n"
     ]
    },
    {
     "name": "stderr",
     "output_type": "stream",
     "text": [
      "100%|██████████| 9/9 [00:00<00:00, 87.38it/s]\n",
      "2023-08-01 16:55:13,375 - BERTopic - Transformed documents to Embeddings\n",
      "2023-08-01 16:55:14,112 - BERTopic - Reduced dimensionality\n",
      "2023-08-01 16:55:14,117 - BERTopic - Clustered reduced embeddings\n",
      "0it [00:00, ?it/s]\n"
     ]
    },
    {
     "name": "stdout",
     "output_type": "stream",
     "text": [
      "Can't distribute all messages in topics\n"
     ]
    },
    {
     "name": "stderr",
     "output_type": "stream",
     "text": [
      "100%|██████████| 17/17 [00:00<00:00, 58.82it/s]\n",
      "2023-08-01 16:55:14,465 - BERTopic - Transformed documents to Embeddings\n",
      "2023-08-01 16:55:15,218 - BERTopic - Reduced dimensionality\n",
      "2023-08-01 16:55:15,222 - BERTopic - Clustered reduced embeddings\n",
      "0it [00:00, ?it/s]\n"
     ]
    },
    {
     "name": "stdout",
     "output_type": "stream",
     "text": [
      "Can't distribute all messages in topics\n"
     ]
    },
    {
     "name": "stderr",
     "output_type": "stream",
     "text": [
      "100%|██████████| 6/6 [00:00<00:00, 130.43it/s]\n",
      "2023-08-01 16:55:15,339 - BERTopic - Transformed documents to Embeddings\n",
      "f:\\Coding\\.venv\\lib\\site-packages\\scipy\\sparse\\linalg\\_eigen\\arpack\\arpack.py:1592: RuntimeWarning: k >= N for N * N square matrix. Attempting to use scipy.linalg.eigh instead.\n",
      "  warnings.warn(\"k >= N for N * N square matrix. \"\n",
      "2023-08-01 16:55:15,345 - BERTopic - The dimensionality reduction algorithm did not contain the `y` parameter and therefore the `y` parameter was not used\n",
      "f:\\Coding\\.venv\\lib\\site-packages\\scipy\\sparse\\linalg\\_eigen\\arpack\\arpack.py:1592: RuntimeWarning: k >= N for N * N square matrix. Attempting to use scipy.linalg.eigh instead.\n",
      "  warnings.warn(\"k >= N for N * N square matrix. \"\n"
     ]
    },
    {
     "name": "stdout",
     "output_type": "stream",
     "text": [
      "Can't reduce dimensionality or some other problem\n"
     ]
    },
    {
     "name": "stderr",
     "output_type": "stream",
     "text": [
      "100%|██████████| 6/6 [00:00<00:00, 113.21it/s]\n",
      "2023-08-01 16:55:15,411 - BERTopic - Transformed documents to Embeddings\n",
      "f:\\Coding\\.venv\\lib\\site-packages\\scipy\\sparse\\linalg\\_eigen\\arpack\\arpack.py:1592: RuntimeWarning: k >= N for N * N square matrix. Attempting to use scipy.linalg.eigh instead.\n",
      "  warnings.warn(\"k >= N for N * N square matrix. \"\n",
      "2023-08-01 16:55:15,416 - BERTopic - The dimensionality reduction algorithm did not contain the `y` parameter and therefore the `y` parameter was not used\n",
      "f:\\Coding\\.venv\\lib\\site-packages\\scipy\\sparse\\linalg\\_eigen\\arpack\\arpack.py:1592: RuntimeWarning: k >= N for N * N square matrix. Attempting to use scipy.linalg.eigh instead.\n",
      "  warnings.warn(\"k >= N for N * N square matrix. \"\n"
     ]
    },
    {
     "name": "stdout",
     "output_type": "stream",
     "text": [
      "Can't reduce dimensionality or some other problem\n"
     ]
    },
    {
     "name": "stderr",
     "output_type": "stream",
     "text": [
      "100%|██████████| 7/7 [00:00<00:00, 122.81it/s]\n",
      "2023-08-01 16:55:15,483 - BERTopic - Transformed documents to Embeddings\n",
      "2023-08-01 16:55:16,221 - BERTopic - Reduced dimensionality\n",
      "2023-08-01 16:55:16,225 - BERTopic - Clustered reduced embeddings\n",
      "0it [00:00, ?it/s]\n"
     ]
    },
    {
     "name": "stdout",
     "output_type": "stream",
     "text": [
      "Can't distribute all messages in topics\n"
     ]
    },
    {
     "name": "stderr",
     "output_type": "stream",
     "text": [
      "100%|██████████| 16/16 [00:00<00:00, 95.24it/s] \n",
      "2023-08-01 16:55:16,452 - BERTopic - Transformed documents to Embeddings\n",
      "2023-08-01 16:55:17,429 - BERTopic - Reduced dimensionality\n",
      "2023-08-01 16:55:17,433 - BERTopic - Clustered reduced embeddings\n",
      "100%|██████████| 1/1 [00:00<00:00, 1026.76it/s]\n",
      "100%|██████████| 19/19 [00:00<00:00, 179.24it/s]\n",
      "2023-08-01 16:55:17,720 - BERTopic - Transformed documents to Embeddings\n",
      "2023-08-01 16:55:18,481 - BERTopic - Reduced dimensionality\n",
      "2023-08-01 16:55:18,486 - BERTopic - Clustered reduced embeddings\n",
      "100%|██████████| 1/1 [00:00<00:00, 981.81it/s]\n",
      "100%|██████████| 8/8 [00:00<00:00, 148.15it/s]\n",
      "2023-08-01 16:55:18,797 - BERTopic - Transformed documents to Embeddings\n",
      "2023-08-01 16:55:19,567 - BERTopic - Reduced dimensionality\n",
      "2023-08-01 16:55:19,571 - BERTopic - Clustered reduced embeddings\n",
      "0it [00:00, ?it/s]\n"
     ]
    },
    {
     "name": "stdout",
     "output_type": "stream",
     "text": [
      "Can't distribute all messages in topics\n"
     ]
    },
    {
     "name": "stderr",
     "output_type": "stream",
     "text": [
      "100%|██████████| 6/6 [00:00<00:00, 130.44it/s]\n",
      "2023-08-01 16:55:19,665 - BERTopic - Transformed documents to Embeddings\n",
      "f:\\Coding\\.venv\\lib\\site-packages\\scipy\\sparse\\linalg\\_eigen\\arpack\\arpack.py:1592: RuntimeWarning: k >= N for N * N square matrix. Attempting to use scipy.linalg.eigh instead.\n",
      "  warnings.warn(\"k >= N for N * N square matrix. \"\n",
      "2023-08-01 16:55:19,670 - BERTopic - The dimensionality reduction algorithm did not contain the `y` parameter and therefore the `y` parameter was not used\n",
      "f:\\Coding\\.venv\\lib\\site-packages\\scipy\\sparse\\linalg\\_eigen\\arpack\\arpack.py:1592: RuntimeWarning: k >= N for N * N square matrix. Attempting to use scipy.linalg.eigh instead.\n",
      "  warnings.warn(\"k >= N for N * N square matrix. \"\n"
     ]
    },
    {
     "name": "stdout",
     "output_type": "stream",
     "text": [
      "Can't reduce dimensionality or some other problem\n"
     ]
    },
    {
     "name": "stderr",
     "output_type": "stream",
     "text": [
      "100%|██████████| 5/5 [00:00<00:00, 54.35it/s]\n",
      "2023-08-01 16:55:19,773 - BERTopic - Transformed documents to Embeddings\n",
      "f:\\Coding\\.venv\\lib\\site-packages\\scipy\\sparse\\linalg\\_eigen\\arpack\\arpack.py:1592: RuntimeWarning: k >= N for N * N square matrix. Attempting to use scipy.linalg.eigh instead.\n",
      "  warnings.warn(\"k >= N for N * N square matrix. \"\n",
      "2023-08-01 16:55:19,777 - BERTopic - The dimensionality reduction algorithm did not contain the `y` parameter and therefore the `y` parameter was not used\n",
      "f:\\Coding\\.venv\\lib\\site-packages\\scipy\\sparse\\linalg\\_eigen\\arpack\\arpack.py:1592: RuntimeWarning: k >= N for N * N square matrix. Attempting to use scipy.linalg.eigh instead.\n",
      "  warnings.warn(\"k >= N for N * N square matrix. \"\n"
     ]
    },
    {
     "name": "stdout",
     "output_type": "stream",
     "text": [
      "Can't reduce dimensionality or some other problem\n"
     ]
    },
    {
     "name": "stderr",
     "output_type": "stream",
     "text": [
      "100%|██████████| 5/5 [00:00<00:00, 43.48it/s]\n",
      "2023-08-01 16:55:19,902 - BERTopic - Transformed documents to Embeddings\n",
      "f:\\Coding\\.venv\\lib\\site-packages\\scipy\\sparse\\linalg\\_eigen\\arpack\\arpack.py:1592: RuntimeWarning: k >= N for N * N square matrix. Attempting to use scipy.linalg.eigh instead.\n",
      "  warnings.warn(\"k >= N for N * N square matrix. \"\n",
      "2023-08-01 16:55:19,907 - BERTopic - The dimensionality reduction algorithm did not contain the `y` parameter and therefore the `y` parameter was not used\n",
      "f:\\Coding\\.venv\\lib\\site-packages\\scipy\\sparse\\linalg\\_eigen\\arpack\\arpack.py:1592: RuntimeWarning: k >= N for N * N square matrix. Attempting to use scipy.linalg.eigh instead.\n",
      "  warnings.warn(\"k >= N for N * N square matrix. \"\n"
     ]
    },
    {
     "name": "stdout",
     "output_type": "stream",
     "text": [
      "Can't reduce dimensionality or some other problem\n"
     ]
    },
    {
     "name": "stderr",
     "output_type": "stream",
     "text": [
      "100%|██████████| 5/5 [00:00<00:00, 81.97it/s]\n",
      "2023-08-01 16:55:19,983 - BERTopic - Transformed documents to Embeddings\n",
      "f:\\Coding\\.venv\\lib\\site-packages\\scipy\\sparse\\linalg\\_eigen\\arpack\\arpack.py:1592: RuntimeWarning: k >= N for N * N square matrix. Attempting to use scipy.linalg.eigh instead.\n",
      "  warnings.warn(\"k >= N for N * N square matrix. \"\n",
      "2023-08-01 16:55:19,989 - BERTopic - The dimensionality reduction algorithm did not contain the `y` parameter and therefore the `y` parameter was not used\n",
      "f:\\Coding\\.venv\\lib\\site-packages\\scipy\\sparse\\linalg\\_eigen\\arpack\\arpack.py:1592: RuntimeWarning: k >= N for N * N square matrix. Attempting to use scipy.linalg.eigh instead.\n",
      "  warnings.warn(\"k >= N for N * N square matrix. \"\n"
     ]
    },
    {
     "name": "stdout",
     "output_type": "stream",
     "text": [
      "Can't reduce dimensionality or some other problem\n"
     ]
    },
    {
     "name": "stderr",
     "output_type": "stream",
     "text": [
      "100%|██████████| 8/8 [00:00<00:00, 126.99it/s]\n",
      "2023-08-01 16:55:20,071 - BERTopic - Transformed documents to Embeddings\n",
      "2023-08-01 16:55:20,829 - BERTopic - Reduced dimensionality\n",
      "2023-08-01 16:55:20,833 - BERTopic - Clustered reduced embeddings\n",
      "0it [00:00, ?it/s]\n"
     ]
    },
    {
     "name": "stdout",
     "output_type": "stream",
     "text": [
      "Can't distribute all messages in topics\n"
     ]
    },
    {
     "name": "stderr",
     "output_type": "stream",
     "text": [
      "100%|██████████| 8/8 [00:00<00:00, 57.14it/s]\n",
      "2023-08-01 16:55:21,037 - BERTopic - Transformed documents to Embeddings\n",
      "2023-08-01 16:55:21,776 - BERTopic - Reduced dimensionality\n",
      "2023-08-01 16:55:21,779 - BERTopic - Clustered reduced embeddings\n",
      "0it [00:00, ?it/s]\n"
     ]
    },
    {
     "name": "stdout",
     "output_type": "stream",
     "text": [
      "Can't distribute all messages in topics\n"
     ]
    },
    {
     "name": "stderr",
     "output_type": "stream",
     "text": [
      "100%|██████████| 8/8 [00:00<00:00, 38.28it/s]\n",
      "2023-08-01 16:55:22,040 - BERTopic - Transformed documents to Embeddings\n",
      "2023-08-01 16:55:23,020 - BERTopic - Reduced dimensionality\n",
      "2023-08-01 16:55:23,024 - BERTopic - Clustered reduced embeddings\n",
      "0it [00:00, ?it/s]\n"
     ]
    },
    {
     "name": "stdout",
     "output_type": "stream",
     "text": [
      "Can't distribute all messages in topics\n"
     ]
    },
    {
     "name": "stderr",
     "output_type": "stream",
     "text": [
      "100%|██████████| 12/12 [00:00<00:00, 95.97it/s]\n",
      "2023-08-01 16:55:23,200 - BERTopic - Transformed documents to Embeddings\n",
      "2023-08-01 16:55:23,939 - BERTopic - Reduced dimensionality\n",
      "2023-08-01 16:55:23,943 - BERTopic - Clustered reduced embeddings\n",
      "0it [00:00, ?it/s]\n"
     ]
    },
    {
     "name": "stdout",
     "output_type": "stream",
     "text": [
      "Can't distribute all messages in topics\n"
     ]
    },
    {
     "name": "stderr",
     "output_type": "stream",
     "text": [
      "100%|██████████| 12/12 [00:00<00:00, 99.17it/s]\n",
      "2023-08-01 16:55:24,114 - BERTopic - Transformed documents to Embeddings\n",
      "2023-08-01 16:55:24,862 - BERTopic - Reduced dimensionality\n",
      "2023-08-01 16:55:24,866 - BERTopic - Clustered reduced embeddings\n",
      "0it [00:00, ?it/s]\n"
     ]
    },
    {
     "name": "stdout",
     "output_type": "stream",
     "text": [
      "Can't distribute all messages in topics\n"
     ]
    },
    {
     "name": "stderr",
     "output_type": "stream",
     "text": [
      "100%|██████████| 8/8 [00:00<00:00, 50.32it/s]\n",
      "2023-08-01 16:55:25,077 - BERTopic - Transformed documents to Embeddings\n",
      "2023-08-01 16:55:25,822 - BERTopic - Reduced dimensionality\n",
      "2023-08-01 16:55:25,825 - BERTopic - Clustered reduced embeddings\n",
      "100%|██████████| 1/1 [00:00<00:00, 1011.16it/s]\n",
      "100%|██████████| 6/6 [00:00<00:00, 113.21it/s]\n",
      "2023-08-01 16:55:26,012 - BERTopic - Transformed documents to Embeddings\n",
      "f:\\Coding\\.venv\\lib\\site-packages\\scipy\\sparse\\linalg\\_eigen\\arpack\\arpack.py:1592: RuntimeWarning: k >= N for N * N square matrix. Attempting to use scipy.linalg.eigh instead.\n",
      "  warnings.warn(\"k >= N for N * N square matrix. \"\n",
      "2023-08-01 16:55:26,018 - BERTopic - The dimensionality reduction algorithm did not contain the `y` parameter and therefore the `y` parameter was not used\n",
      "f:\\Coding\\.venv\\lib\\site-packages\\scipy\\sparse\\linalg\\_eigen\\arpack\\arpack.py:1592: RuntimeWarning: k >= N for N * N square matrix. Attempting to use scipy.linalg.eigh instead.\n",
      "  warnings.warn(\"k >= N for N * N square matrix. \"\n"
     ]
    },
    {
     "name": "stdout",
     "output_type": "stream",
     "text": [
      "Can't reduce dimensionality or some other problem\n"
     ]
    },
    {
     "name": "stderr",
     "output_type": "stream",
     "text": [
      "100%|██████████| 11/11 [00:00<00:00, 146.67it/s]\n",
      "2023-08-01 16:55:26,102 - BERTopic - Transformed documents to Embeddings\n",
      "2023-08-01 16:55:26,843 - BERTopic - Reduced dimensionality\n",
      "2023-08-01 16:55:26,847 - BERTopic - Clustered reduced embeddings\n",
      "0it [00:00, ?it/s]\n"
     ]
    },
    {
     "name": "stdout",
     "output_type": "stream",
     "text": [
      "Can't distribute all messages in topics\n"
     ]
    },
    {
     "name": "stderr",
     "output_type": "stream",
     "text": [
      "100%|██████████| 18/18 [00:00<00:00, 39.65it/s]\n",
      "2023-08-01 16:55:27,366 - BERTopic - Transformed documents to Embeddings\n",
      "2023-08-01 16:55:28,345 - BERTopic - Reduced dimensionality\n",
      "2023-08-01 16:55:28,349 - BERTopic - Clustered reduced embeddings\n",
      "0it [00:00, ?it/s]\n"
     ]
    },
    {
     "name": "stdout",
     "output_type": "stream",
     "text": [
      "Can't distribute all messages in topics\n"
     ]
    },
    {
     "name": "stderr",
     "output_type": "stream",
     "text": [
      "100%|██████████| 18/18 [00:00<00:00, 60.00it/s]\n",
      "2023-08-01 16:55:28,719 - BERTopic - Transformed documents to Embeddings\n",
      "2023-08-01 16:55:29,502 - BERTopic - Reduced dimensionality\n",
      "2023-08-01 16:55:29,506 - BERTopic - Clustered reduced embeddings\n",
      "0it [00:00, ?it/s]\n"
     ]
    },
    {
     "name": "stdout",
     "output_type": "stream",
     "text": [
      "Can't distribute all messages in topics\n"
     ]
    },
    {
     "name": "stderr",
     "output_type": "stream",
     "text": [
      "100%|██████████| 18/18 [00:00<00:00, 61.23it/s]\n",
      "2023-08-01 16:55:29,870 - BERTopic - Transformed documents to Embeddings\n",
      "2023-08-01 16:55:30,627 - BERTopic - Reduced dimensionality\n",
      "2023-08-01 16:55:30,631 - BERTopic - Clustered reduced embeddings\n",
      "0it [00:00, ?it/s]\n"
     ]
    },
    {
     "name": "stdout",
     "output_type": "stream",
     "text": [
      "Can't distribute all messages in topics\n"
     ]
    },
    {
     "name": "stderr",
     "output_type": "stream",
     "text": [
      "100%|██████████| 18/18 [00:00<00:00, 60.40it/s]\n",
      "2023-08-01 16:55:31,000 - BERTopic - Transformed documents to Embeddings\n",
      "2023-08-01 16:55:31,788 - BERTopic - Reduced dimensionality\n",
      "2023-08-01 16:55:31,793 - BERTopic - Clustered reduced embeddings\n",
      "0it [00:00, ?it/s]\n"
     ]
    },
    {
     "name": "stdout",
     "output_type": "stream",
     "text": [
      "Can't distribute all messages in topics\n"
     ]
    },
    {
     "name": "stderr",
     "output_type": "stream",
     "text": [
      "100%|██████████| 18/18 [00:00<00:00, 49.05it/s]\n",
      "2023-08-01 16:55:32,228 - BERTopic - Transformed documents to Embeddings\n",
      "2023-08-01 16:55:32,990 - BERTopic - Reduced dimensionality\n",
      "2023-08-01 16:55:32,995 - BERTopic - Clustered reduced embeddings\n",
      "0it [00:00, ?it/s]\n"
     ]
    },
    {
     "name": "stdout",
     "output_type": "stream",
     "text": [
      "Can't distribute all messages in topics\n"
     ]
    },
    {
     "name": "stderr",
     "output_type": "stream",
     "text": [
      "100%|██████████| 14/14 [00:00<00:00, 91.50it/s]\n",
      "2023-08-01 16:55:33,222 - BERTopic - Transformed documents to Embeddings\n",
      "2023-08-01 16:55:34,234 - BERTopic - Reduced dimensionality\n",
      "2023-08-01 16:55:34,239 - BERTopic - Clustered reduced embeddings\n",
      "100%|██████████| 1/1 [00:00<00:00, 500.10it/s]\n",
      "100%|██████████| 52/52 [00:00<00:00, 161.49it/s]\n",
      "2023-08-01 16:55:34,766 - BERTopic - Transformed documents to Embeddings\n",
      "2023-08-01 16:55:35,580 - BERTopic - Reduced dimensionality\n",
      "2023-08-01 16:55:35,588 - BERTopic - Clustered reduced embeddings\n",
      "100%|██████████| 1/1 [00:00<00:00, 499.26it/s]\n",
      "100%|██████████| 48/48 [00:00<00:00, 163.82it/s]\n",
      "2023-08-01 16:55:36,369 - BERTopic - Transformed documents to Embeddings\n",
      "2023-08-01 16:55:37,174 - BERTopic - Reduced dimensionality\n",
      "2023-08-01 16:55:37,181 - BERTopic - Clustered reduced embeddings\n",
      "100%|██████████| 1/1 [00:00<00:00, 501.89it/s]\n",
      "100%|██████████| 5/5 [00:00<00:00, 166.67it/s]\n",
      "2023-08-01 16:55:37,644 - BERTopic - Transformed documents to Embeddings\n",
      "f:\\Coding\\.venv\\lib\\site-packages\\scipy\\sparse\\linalg\\_eigen\\arpack\\arpack.py:1592: RuntimeWarning: k >= N for N * N square matrix. Attempting to use scipy.linalg.eigh instead.\n",
      "  warnings.warn(\"k >= N for N * N square matrix. \"\n",
      "2023-08-01 16:55:37,649 - BERTopic - The dimensionality reduction algorithm did not contain the `y` parameter and therefore the `y` parameter was not used\n",
      "f:\\Coding\\.venv\\lib\\site-packages\\scipy\\sparse\\linalg\\_eigen\\arpack\\arpack.py:1592: RuntimeWarning: k >= N for N * N square matrix. Attempting to use scipy.linalg.eigh instead.\n",
      "  warnings.warn(\"k >= N for N * N square matrix. \"\n"
     ]
    },
    {
     "name": "stdout",
     "output_type": "stream",
     "text": [
      "Can't reduce dimensionality or some other problem\n"
     ]
    },
    {
     "name": "stderr",
     "output_type": "stream",
     "text": [
      "100%|██████████| 5/5 [00:00<00:00, 74.63it/s]\n",
      "2023-08-01 16:55:37,732 - BERTopic - Transformed documents to Embeddings\n",
      "f:\\Coding\\.venv\\lib\\site-packages\\scipy\\sparse\\linalg\\_eigen\\arpack\\arpack.py:1592: RuntimeWarning: k >= N for N * N square matrix. Attempting to use scipy.linalg.eigh instead.\n",
      "  warnings.warn(\"k >= N for N * N square matrix. \"\n",
      "2023-08-01 16:55:37,738 - BERTopic - The dimensionality reduction algorithm did not contain the `y` parameter and therefore the `y` parameter was not used\n",
      "f:\\Coding\\.venv\\lib\\site-packages\\scipy\\sparse\\linalg\\_eigen\\arpack\\arpack.py:1592: RuntimeWarning: k >= N for N * N square matrix. Attempting to use scipy.linalg.eigh instead.\n",
      "  warnings.warn(\"k >= N for N * N square matrix. \"\n"
     ]
    },
    {
     "name": "stdout",
     "output_type": "stream",
     "text": [
      "Can't reduce dimensionality or some other problem\n"
     ]
    },
    {
     "name": "stderr",
     "output_type": "stream",
     "text": [
      "100%|██████████| 6/6 [00:00<00:00, 39.22it/s]\n",
      "2023-08-01 16:55:37,902 - BERTopic - Transformed documents to Embeddings\n",
      "f:\\Coding\\.venv\\lib\\site-packages\\scipy\\sparse\\linalg\\_eigen\\arpack\\arpack.py:1592: RuntimeWarning: k >= N for N * N square matrix. Attempting to use scipy.linalg.eigh instead.\n",
      "  warnings.warn(\"k >= N for N * N square matrix. \"\n",
      "2023-08-01 16:55:37,974 - BERTopic - The dimensionality reduction algorithm did not contain the `y` parameter and therefore the `y` parameter was not used\n",
      "f:\\Coding\\.venv\\lib\\site-packages\\scipy\\sparse\\linalg\\_eigen\\arpack\\arpack.py:1592: RuntimeWarning: k >= N for N * N square matrix. Attempting to use scipy.linalg.eigh instead.\n",
      "  warnings.warn(\"k >= N for N * N square matrix. \"\n"
     ]
    },
    {
     "name": "stdout",
     "output_type": "stream",
     "text": [
      "Can't reduce dimensionality or some other problem\n"
     ]
    },
    {
     "name": "stderr",
     "output_type": "stream",
     "text": [
      "100%|██████████| 6/6 [00:00<00:00, 81.08it/s]\n",
      "2023-08-01 16:55:38,062 - BERTopic - Transformed documents to Embeddings\n",
      "f:\\Coding\\.venv\\lib\\site-packages\\scipy\\sparse\\linalg\\_eigen\\arpack\\arpack.py:1592: RuntimeWarning: k >= N for N * N square matrix. Attempting to use scipy.linalg.eigh instead.\n",
      "  warnings.warn(\"k >= N for N * N square matrix. \"\n",
      "2023-08-01 16:55:38,067 - BERTopic - The dimensionality reduction algorithm did not contain the `y` parameter and therefore the `y` parameter was not used\n",
      "f:\\Coding\\.venv\\lib\\site-packages\\scipy\\sparse\\linalg\\_eigen\\arpack\\arpack.py:1592: RuntimeWarning: k >= N for N * N square matrix. Attempting to use scipy.linalg.eigh instead.\n",
      "  warnings.warn(\"k >= N for N * N square matrix. \"\n"
     ]
    },
    {
     "name": "stdout",
     "output_type": "stream",
     "text": [
      "Can't reduce dimensionality or some other problem\n"
     ]
    },
    {
     "name": "stderr",
     "output_type": "stream",
     "text": [
      "100%|██████████| 12/12 [00:00<00:00, 113.21it/s]\n",
      "2023-08-01 16:55:38,184 - BERTopic - Transformed documents to Embeddings\n",
      "2023-08-01 16:55:38,926 - BERTopic - Reduced dimensionality\n",
      "2023-08-01 16:55:38,930 - BERTopic - Clustered reduced embeddings\n",
      "0it [00:00, ?it/s]\n"
     ]
    },
    {
     "name": "stdout",
     "output_type": "stream",
     "text": [
      "Can't distribute all messages in topics\n"
     ]
    },
    {
     "name": "stderr",
     "output_type": "stream",
     "text": [
      "100%|██████████| 10/10 [00:00<00:00, 133.34it/s]\n",
      "2023-08-01 16:55:39,054 - BERTopic - Transformed documents to Embeddings\n",
      "2023-08-01 16:55:39,802 - BERTopic - Reduced dimensionality\n",
      "2023-08-01 16:55:39,806 - BERTopic - Clustered reduced embeddings\n",
      "0it [00:00, ?it/s]\n"
     ]
    },
    {
     "name": "stdout",
     "output_type": "stream",
     "text": [
      "Can't distribute all messages in topics\n"
     ]
    },
    {
     "name": "stderr",
     "output_type": "stream",
     "text": [
      "100%|██████████| 9/9 [00:00<00:00, 138.47it/s]\n",
      "2023-08-01 16:55:39,916 - BERTopic - Transformed documents to Embeddings\n",
      "2023-08-01 16:55:40,914 - BERTopic - Reduced dimensionality\n",
      "2023-08-01 16:55:40,918 - BERTopic - Clustered reduced embeddings\n",
      "100%|██████████| 1/1 [00:00<00:00, 495.02it/s]\n",
      "100%|██████████| 16/16 [00:00<00:00, 128.00it/s]\n",
      "2023-08-01 16:55:41,187 - BERTopic - Transformed documents to Embeddings\n",
      "2023-08-01 16:55:41,943 - BERTopic - Reduced dimensionality\n",
      "2023-08-01 16:55:41,947 - BERTopic - Clustered reduced embeddings\n",
      "0it [00:00, ?it/s]\n"
     ]
    },
    {
     "name": "stdout",
     "output_type": "stream",
     "text": [
      "Can't distribute all messages in topics\n"
     ]
    },
    {
     "name": "stderr",
     "output_type": "stream",
     "text": [
      "100%|██████████| 7/7 [00:00<00:00, 145.83it/s]\n",
      "2023-08-01 16:55:42,054 - BERTopic - Transformed documents to Embeddings\n",
      "2023-08-01 16:55:42,821 - BERTopic - Reduced dimensionality\n",
      "2023-08-01 16:55:42,824 - BERTopic - Clustered reduced embeddings\n",
      "  0%|          | 0/1 [00:00<?, ?it/s]\n"
     ]
    },
    {
     "name": "stdout",
     "output_type": "stream",
     "text": [
      "Can't distribute all messages in topics\n"
     ]
    },
    {
     "name": "stderr",
     "output_type": "stream",
     "text": [
      "100%|██████████| 22/22 [00:00<00:00, 90.16it/s]\n",
      "2023-08-01 16:55:43,105 - BERTopic - Transformed documents to Embeddings\n",
      "2023-08-01 16:55:43,947 - BERTopic - Reduced dimensionality\n",
      "2023-08-01 16:55:43,954 - BERTopic - Clustered reduced embeddings\n",
      "0it [00:00, ?it/s]\n"
     ]
    },
    {
     "name": "stdout",
     "output_type": "stream",
     "text": [
      "Can't distribute all messages in topics\n"
     ]
    },
    {
     "name": "stderr",
     "output_type": "stream",
     "text": [
      "100%|██████████| 7/7 [00:00<00:00, 77.78it/s]\n",
      "2023-08-01 16:55:44,107 - BERTopic - Transformed documents to Embeddings\n",
      "2023-08-01 16:55:44,930 - BERTopic - Reduced dimensionality\n",
      "2023-08-01 16:55:44,935 - BERTopic - Clustered reduced embeddings\n",
      "100%|██████████| 1/1 [00:00<00:00, 1002.94it/s]\n",
      "100%|██████████| 13/13 [00:00<00:00, 79.27it/s]\n",
      "2023-08-01 16:55:45,278 - BERTopic - Transformed documents to Embeddings\n",
      "2023-08-01 16:55:46,078 - BERTopic - Reduced dimensionality\n",
      "2023-08-01 16:55:46,083 - BERTopic - Clustered reduced embeddings\n",
      "0it [00:00, ?it/s]\n"
     ]
    },
    {
     "name": "stdout",
     "output_type": "stream",
     "text": [
      "Can't distribute all messages in topics\n"
     ]
    },
    {
     "name": "stderr",
     "output_type": "stream",
     "text": [
      "100%|██████████| 14/14 [00:00<00:00, 97.90it/s]\n",
      "2023-08-01 16:55:46,288 - BERTopic - Transformed documents to Embeddings\n",
      "2023-08-01 16:55:47,402 - BERTopic - Reduced dimensionality\n",
      "2023-08-01 16:55:47,406 - BERTopic - Clustered reduced embeddings\n",
      "100%|██████████| 1/1 [00:00<00:00, 1028.52it/s]\n",
      "100%|██████████| 14/14 [00:00<00:00, 123.90it/s]\n",
      "2023-08-01 16:55:47,764 - BERTopic - Transformed documents to Embeddings\n",
      "2023-08-01 16:55:48,583 - BERTopic - Reduced dimensionality\n",
      "2023-08-01 16:55:48,587 - BERTopic - Clustered reduced embeddings\n",
      "100%|██████████| 1/1 [00:00<00:00, 500.04it/s]\n",
      "100%|██████████| 34/34 [00:00<00:00, 108.63it/s]\n",
      "2023-08-01 16:55:49,189 - BERTopic - Transformed documents to Embeddings\n",
      "2023-08-01 16:55:50,097 - BERTopic - Reduced dimensionality\n",
      "2023-08-01 16:55:50,104 - BERTopic - Clustered reduced embeddings\n",
      "100%|██████████| 1/1 [00:00<00:00, 499.56it/s]\n",
      "100%|██████████| 6/6 [00:00<00:00, 83.33it/s]\n",
      "2023-08-01 16:55:50,609 - BERTopic - Transformed documents to Embeddings\n",
      "f:\\Coding\\.venv\\lib\\site-packages\\scipy\\sparse\\linalg\\_eigen\\arpack\\arpack.py:1592: RuntimeWarning: k >= N for N * N square matrix. Attempting to use scipy.linalg.eigh instead.\n",
      "  warnings.warn(\"k >= N for N * N square matrix. \"\n",
      "2023-08-01 16:55:50,614 - BERTopic - The dimensionality reduction algorithm did not contain the `y` parameter and therefore the `y` parameter was not used\n",
      "f:\\Coding\\.venv\\lib\\site-packages\\scipy\\sparse\\linalg\\_eigen\\arpack\\arpack.py:1592: RuntimeWarning: k >= N for N * N square matrix. Attempting to use scipy.linalg.eigh instead.\n",
      "  warnings.warn(\"k >= N for N * N square matrix. \"\n"
     ]
    },
    {
     "name": "stdout",
     "output_type": "stream",
     "text": [
      "Can't reduce dimensionality or some other problem\n"
     ]
    },
    {
     "name": "stderr",
     "output_type": "stream",
     "text": [
      "100%|██████████| 24/24 [00:00<00:00, 95.62it/s] \n",
      "2023-08-01 16:55:50,876 - BERTopic - Transformed documents to Embeddings\n",
      "2023-08-01 16:55:51,724 - BERTopic - Reduced dimensionality\n",
      "2023-08-01 16:55:51,730 - BERTopic - Clustered reduced embeddings\n",
      "0it [00:00, ?it/s]\n"
     ]
    },
    {
     "name": "stdout",
     "output_type": "stream",
     "text": [
      "Can't distribute all messages in topics\n"
     ]
    },
    {
     "name": "stderr",
     "output_type": "stream",
     "text": [
      "100%|██████████| 13/13 [00:00<00:00, 119.27it/s]\n",
      "2023-08-01 16:55:51,912 - BERTopic - Transformed documents to Embeddings\n",
      "2023-08-01 16:55:52,747 - BERTopic - Reduced dimensionality\n",
      "2023-08-01 16:55:52,753 - BERTopic - Clustered reduced embeddings\n",
      "0it [00:00, ?it/s]\n"
     ]
    },
    {
     "name": "stdout",
     "output_type": "stream",
     "text": [
      "Can't distribute all messages in topics\n"
     ]
    },
    {
     "name": "stderr",
     "output_type": "stream",
     "text": [
      "100%|██████████| 9/9 [00:00<00:00, 102.27it/s]\n",
      "2023-08-01 16:55:52,893 - BERTopic - Transformed documents to Embeddings\n",
      "2023-08-01 16:55:53,965 - BERTopic - Reduced dimensionality\n",
      "2023-08-01 16:55:53,970 - BERTopic - Clustered reduced embeddings\n",
      "0it [00:00, ?it/s]\n"
     ]
    },
    {
     "name": "stdout",
     "output_type": "stream",
     "text": [
      "Can't distribute all messages in topics\n"
     ]
    },
    {
     "name": "stderr",
     "output_type": "stream",
     "text": [
      "100%|██████████| 13/13 [00:00<00:00, 125.00it/s]\n",
      "2023-08-01 16:55:54,127 - BERTopic - Transformed documents to Embeddings\n",
      "2023-08-01 16:55:54,984 - BERTopic - Reduced dimensionality\n",
      "2023-08-01 16:55:54,989 - BERTopic - Clustered reduced embeddings\n",
      "0it [00:00, ?it/s]\n"
     ]
    },
    {
     "name": "stdout",
     "output_type": "stream",
     "text": [
      "Can't distribute all messages in topics\n"
     ]
    },
    {
     "name": "stderr",
     "output_type": "stream",
     "text": [
      "100%|██████████| 11/11 [00:00<00:00, 49.77it/s]\n",
      "2023-08-01 16:55:55,264 - BERTopic - Transformed documents to Embeddings\n",
      "2023-08-01 16:55:56,013 - BERTopic - Reduced dimensionality\n",
      "2023-08-01 16:55:56,017 - BERTopic - Clustered reduced embeddings\n",
      "0it [00:00, ?it/s]\n"
     ]
    },
    {
     "name": "stdout",
     "output_type": "stream",
     "text": [
      "Can't distribute all messages in topics\n"
     ]
    },
    {
     "name": "stderr",
     "output_type": "stream",
     "text": [
      "100%|██████████| 15/15 [00:00<00:00, 112.75it/s]\n",
      "2023-08-01 16:55:56,199 - BERTopic - Transformed documents to Embeddings\n",
      "2023-08-01 16:55:56,953 - BERTopic - Reduced dimensionality\n",
      "2023-08-01 16:55:56,957 - BERTopic - Clustered reduced embeddings\n",
      "0it [00:00, ?it/s]\n"
     ]
    },
    {
     "name": "stdout",
     "output_type": "stream",
     "text": [
      "Can't distribute all messages in topics\n"
     ]
    },
    {
     "name": "stderr",
     "output_type": "stream",
     "text": [
      "100%|██████████| 5/5 [00:00<00:00, 131.59it/s]\n",
      "2023-08-01 16:55:57,083 - BERTopic - Transformed documents to Embeddings\n",
      "f:\\Coding\\.venv\\lib\\site-packages\\scipy\\sparse\\linalg\\_eigen\\arpack\\arpack.py:1592: RuntimeWarning: k >= N for N * N square matrix. Attempting to use scipy.linalg.eigh instead.\n",
      "  warnings.warn(\"k >= N for N * N square matrix. \"\n",
      "2023-08-01 16:55:57,088 - BERTopic - The dimensionality reduction algorithm did not contain the `y` parameter and therefore the `y` parameter was not used\n",
      "f:\\Coding\\.venv\\lib\\site-packages\\scipy\\sparse\\linalg\\_eigen\\arpack\\arpack.py:1592: RuntimeWarning: k >= N for N * N square matrix. Attempting to use scipy.linalg.eigh instead.\n",
      "  warnings.warn(\"k >= N for N * N square matrix. \"\n"
     ]
    },
    {
     "name": "stdout",
     "output_type": "stream",
     "text": [
      "Can't reduce dimensionality or some other problem\n"
     ]
    },
    {
     "name": "stderr",
     "output_type": "stream",
     "text": [
      "100%|██████████| 22/22 [00:00<00:00, 64.14it/s]\n",
      "2023-08-01 16:55:57,444 - BERTopic - Transformed documents to Embeddings\n",
      "2023-08-01 16:55:58,217 - BERTopic - Reduced dimensionality\n",
      "2023-08-01 16:55:58,221 - BERTopic - Clustered reduced embeddings\n",
      "0it [00:00, ?it/s]\n"
     ]
    },
    {
     "name": "stdout",
     "output_type": "stream",
     "text": [
      "Can't distribute all messages in topics\n"
     ]
    },
    {
     "name": "stderr",
     "output_type": "stream",
     "text": [
      "100%|██████████| 10/10 [00:00<00:00, 135.19it/s]\n",
      "2023-08-01 16:55:58,363 - BERTopic - Transformed documents to Embeddings\n",
      "2023-08-01 16:55:59,328 - BERTopic - Reduced dimensionality\n",
      "2023-08-01 16:55:59,332 - BERTopic - Clustered reduced embeddings\n",
      "0it [00:00, ?it/s]\n"
     ]
    },
    {
     "name": "stdout",
     "output_type": "stream",
     "text": [
      "Can't distribute all messages in topics\n"
     ]
    },
    {
     "name": "stderr",
     "output_type": "stream",
     "text": [
      "100%|██████████| 10/10 [00:00<00:00, 55.56it/s]\n",
      "2023-08-01 16:55:59,560 - BERTopic - Transformed documents to Embeddings\n",
      "2023-08-01 16:56:00,329 - BERTopic - Reduced dimensionality\n",
      "2023-08-01 16:56:00,333 - BERTopic - Clustered reduced embeddings\n",
      "0it [00:00, ?it/s]\n"
     ]
    },
    {
     "name": "stdout",
     "output_type": "stream",
     "text": [
      "Can't distribute all messages in topics\n"
     ]
    },
    {
     "name": "stderr",
     "output_type": "stream",
     "text": [
      "100%|██████████| 10/10 [00:00<00:00, 106.39it/s]\n",
      "2023-08-01 16:56:00,482 - BERTopic - Transformed documents to Embeddings\n",
      "2023-08-01 16:56:01,241 - BERTopic - Reduced dimensionality\n",
      "2023-08-01 16:56:01,245 - BERTopic - Clustered reduced embeddings\n",
      "0it [00:00, ?it/s]\n"
     ]
    },
    {
     "name": "stdout",
     "output_type": "stream",
     "text": [
      "Can't distribute all messages in topics\n"
     ]
    },
    {
     "name": "stderr",
     "output_type": "stream",
     "text": [
      "100%|██████████| 10/10 [00:00<00:00, 86.21it/s]\n",
      "2023-08-01 16:56:01,411 - BERTopic - Transformed documents to Embeddings\n",
      "2023-08-01 16:56:02,189 - BERTopic - Reduced dimensionality\n",
      "2023-08-01 16:56:02,192 - BERTopic - Clustered reduced embeddings\n",
      "  0%|          | 0/1 [00:00<?, ?it/s]\n"
     ]
    },
    {
     "name": "stdout",
     "output_type": "stream",
     "text": [
      "Can't distribute all messages in topics\n"
     ]
    },
    {
     "name": "stderr",
     "output_type": "stream",
     "text": [
      "100%|██████████| 6/6 [00:00<00:00, 89.55it/s]\n",
      "2023-08-01 16:56:02,300 - BERTopic - Transformed documents to Embeddings\n",
      "f:\\Coding\\.venv\\lib\\site-packages\\scipy\\sparse\\linalg\\_eigen\\arpack\\arpack.py:1592: RuntimeWarning: k >= N for N * N square matrix. Attempting to use scipy.linalg.eigh instead.\n",
      "  warnings.warn(\"k >= N for N * N square matrix. \"\n",
      "2023-08-01 16:56:02,306 - BERTopic - The dimensionality reduction algorithm did not contain the `y` parameter and therefore the `y` parameter was not used\n",
      "f:\\Coding\\.venv\\lib\\site-packages\\scipy\\sparse\\linalg\\_eigen\\arpack\\arpack.py:1592: RuntimeWarning: k >= N for N * N square matrix. Attempting to use scipy.linalg.eigh instead.\n",
      "  warnings.warn(\"k >= N for N * N square matrix. \"\n"
     ]
    },
    {
     "name": "stdout",
     "output_type": "stream",
     "text": [
      "Can't reduce dimensionality or some other problem\n"
     ]
    },
    {
     "name": "stderr",
     "output_type": "stream",
     "text": [
      "100%|██████████| 15/15 [00:00<00:00, 77.72it/s]\n",
      "2023-08-01 16:56:02,566 - BERTopic - Transformed documents to Embeddings\n",
      "2023-08-01 16:56:03,323 - BERTopic - Reduced dimensionality\n",
      "2023-08-01 16:56:03,328 - BERTopic - Clustered reduced embeddings\n",
      "0it [00:00, ?it/s]\n"
     ]
    },
    {
     "name": "stdout",
     "output_type": "stream",
     "text": [
      "Can't distribute all messages in topics\n"
     ]
    },
    {
     "name": "stderr",
     "output_type": "stream",
     "text": [
      "100%|██████████| 21/21 [00:00<00:00, 97.68it/s] \n",
      "2023-08-01 16:56:03,602 - BERTopic - Transformed documents to Embeddings\n",
      "2023-08-01 16:56:04,631 - BERTopic - Reduced dimensionality\n",
      "2023-08-01 16:56:04,637 - BERTopic - Clustered reduced embeddings\n",
      "0it [00:00, ?it/s]\n"
     ]
    },
    {
     "name": "stdout",
     "output_type": "stream",
     "text": [
      "Can't distribute all messages in topics\n"
     ]
    },
    {
     "name": "stderr",
     "output_type": "stream",
     "text": [
      "100%|██████████| 11/11 [00:00<00:00, 104.76it/s]\n",
      "2023-08-01 16:56:04,828 - BERTopic - Transformed documents to Embeddings\n",
      "2023-08-01 16:56:05,577 - BERTopic - Reduced dimensionality\n",
      "2023-08-01 16:56:05,581 - BERTopic - Clustered reduced embeddings\n",
      "0it [00:00, ?it/s]\n"
     ]
    },
    {
     "name": "stdout",
     "output_type": "stream",
     "text": [
      "Can't distribute all messages in topics\n"
     ]
    },
    {
     "name": "stderr",
     "output_type": "stream",
     "text": [
      "100%|██████████| 11/11 [00:00<00:00, 78.01it/s]\n",
      "2023-08-01 16:56:05,773 - BERTopic - Transformed documents to Embeddings\n",
      "2023-08-01 16:56:06,533 - BERTopic - Reduced dimensionality\n",
      "2023-08-01 16:56:06,537 - BERTopic - Clustered reduced embeddings\n",
      "0it [00:00, ?it/s]\n"
     ]
    },
    {
     "name": "stdout",
     "output_type": "stream",
     "text": [
      "Can't distribute all messages in topics\n"
     ]
    },
    {
     "name": "stderr",
     "output_type": "stream",
     "text": [
      "100%|██████████| 11/11 [00:00<00:00, 80.89it/s]\n",
      "2023-08-01 16:56:06,728 - BERTopic - Transformed documents to Embeddings\n",
      "2023-08-01 16:56:07,479 - BERTopic - Reduced dimensionality\n",
      "2023-08-01 16:56:07,483 - BERTopic - Clustered reduced embeddings\n",
      "0it [00:00, ?it/s]\n"
     ]
    },
    {
     "name": "stdout",
     "output_type": "stream",
     "text": [
      "Can't distribute all messages in topics\n"
     ]
    },
    {
     "name": "stderr",
     "output_type": "stream",
     "text": [
      "100%|██████████| 10/10 [00:00<00:00, 45.25it/s]\n",
      "2023-08-01 16:56:07,766 - BERTopic - Transformed documents to Embeddings\n",
      "2023-08-01 16:56:08,543 - BERTopic - Reduced dimensionality\n",
      "2023-08-01 16:56:08,547 - BERTopic - Clustered reduced embeddings\n",
      "100%|██████████| 1/1 [00:00<00:00, 1000.79it/s]\n",
      "100%|██████████| 10/10 [00:00<00:00, 88.50it/s]\n",
      "2023-08-01 16:56:08,797 - BERTopic - Transformed documents to Embeddings\n",
      "2023-08-01 16:56:09,541 - BERTopic - Reduced dimensionality\n",
      "2023-08-01 16:56:09,545 - BERTopic - Clustered reduced embeddings\n",
      "100%|██████████| 1/1 [00:00<00:00, 500.39it/s]\n",
      "100%|██████████| 10/10 [00:00<00:00, 87.72it/s]\n",
      "2023-08-01 16:56:09,796 - BERTopic - Transformed documents to Embeddings\n",
      "2023-08-01 16:56:10,794 - BERTopic - Reduced dimensionality\n",
      "2023-08-01 16:56:10,797 - BERTopic - Clustered reduced embeddings\n",
      "100%|██████████| 1/1 [00:00<00:00, 493.74it/s]\n",
      "100%|██████████| 25/25 [00:00<00:00, 132.28it/s]\n",
      "2023-08-01 16:56:11,128 - BERTopic - Transformed documents to Embeddings\n",
      "2023-08-01 16:56:11,900 - BERTopic - Reduced dimensionality\n",
      "2023-08-01 16:56:11,905 - BERTopic - Clustered reduced embeddings\n",
      "100%|██████████| 1/1 [00:00<00:00, 333.52it/s]\n",
      "100%|██████████| 25/25 [00:00<00:00, 96.52it/s] \n",
      "2023-08-01 16:56:12,403 - BERTopic - Transformed documents to Embeddings\n",
      "2023-08-01 16:56:13,171 - BERTopic - Reduced dimensionality\n",
      "2023-08-01 16:56:13,175 - BERTopic - Clustered reduced embeddings\n",
      "100%|██████████| 1/1 [00:00<00:00, 499.62it/s]\n",
      "100%|██████████| 9/9 [00:00<00:00, 155.18it/s]\n",
      "2023-08-01 16:56:13,474 - BERTopic - Transformed documents to Embeddings\n",
      "2023-08-01 16:56:14,211 - BERTopic - Reduced dimensionality\n",
      "2023-08-01 16:56:14,216 - BERTopic - Clustered reduced embeddings\n",
      "0it [00:00, ?it/s]\n"
     ]
    },
    {
     "name": "stdout",
     "output_type": "stream",
     "text": [
      "Can't distribute all messages in topics\n"
     ]
    },
    {
     "name": "stderr",
     "output_type": "stream",
     "text": [
      "100%|██████████| 9/9 [00:00<00:00, 93.75it/s]\n",
      "2023-08-01 16:56:14,363 - BERTopic - Transformed documents to Embeddings\n",
      "2023-08-01 16:56:15,134 - BERTopic - Reduced dimensionality\n",
      "2023-08-01 16:56:15,138 - BERTopic - Clustered reduced embeddings\n",
      "0it [00:00, ?it/s]\n"
     ]
    },
    {
     "name": "stdout",
     "output_type": "stream",
     "text": [
      "Can't distribute all messages in topics\n"
     ]
    },
    {
     "name": "stderr",
     "output_type": "stream",
     "text": [
      "100%|██████████| 11/11 [00:00<00:00, 51.16it/s]\n",
      "2023-08-01 16:56:15,406 - BERTopic - Transformed documents to Embeddings\n",
      "2023-08-01 16:56:16,379 - BERTopic - Reduced dimensionality\n",
      "2023-08-01 16:56:16,384 - BERTopic - Clustered reduced embeddings\n",
      "0it [00:00, ?it/s]\n"
     ]
    },
    {
     "name": "stdout",
     "output_type": "stream",
     "text": [
      "Can't distribute all messages in topics\n"
     ]
    },
    {
     "name": "stderr",
     "output_type": "stream",
     "text": [
      "100%|██████████| 11/11 [00:00<00:00, 62.51it/s]\n",
      "2023-08-01 16:56:16,617 - BERTopic - Transformed documents to Embeddings\n",
      "2023-08-01 16:56:17,386 - BERTopic - Reduced dimensionality\n",
      "2023-08-01 16:56:17,390 - BERTopic - Clustered reduced embeddings\n",
      "0it [00:00, ?it/s]\n"
     ]
    },
    {
     "name": "stdout",
     "output_type": "stream",
     "text": [
      "Can't distribute all messages in topics\n"
     ]
    },
    {
     "name": "stderr",
     "output_type": "stream",
     "text": [
      "100%|██████████| 5/5 [00:00<00:00, 30.68it/s]\n",
      "2023-08-01 16:56:17,614 - BERTopic - Transformed documents to Embeddings\n",
      "f:\\Coding\\.venv\\lib\\site-packages\\scipy\\sparse\\linalg\\_eigen\\arpack\\arpack.py:1592: RuntimeWarning: k >= N for N * N square matrix. Attempting to use scipy.linalg.eigh instead.\n",
      "  warnings.warn(\"k >= N for N * N square matrix. \"\n",
      "2023-08-01 16:56:17,619 - BERTopic - The dimensionality reduction algorithm did not contain the `y` parameter and therefore the `y` parameter was not used\n",
      "f:\\Coding\\.venv\\lib\\site-packages\\scipy\\sparse\\linalg\\_eigen\\arpack\\arpack.py:1592: RuntimeWarning: k >= N for N * N square matrix. Attempting to use scipy.linalg.eigh instead.\n",
      "  warnings.warn(\"k >= N for N * N square matrix. \"\n"
     ]
    },
    {
     "name": "stdout",
     "output_type": "stream",
     "text": [
      "Can't reduce dimensionality or some other problem\n"
     ]
    },
    {
     "name": "stderr",
     "output_type": "stream",
     "text": [
      "100%|██████████| 5/5 [00:00<00:00, 30.12it/s]\n",
      "2023-08-01 16:56:17,796 - BERTopic - Transformed documents to Embeddings\n",
      "f:\\Coding\\.venv\\lib\\site-packages\\scipy\\sparse\\linalg\\_eigen\\arpack\\arpack.py:1592: RuntimeWarning: k >= N for N * N square matrix. Attempting to use scipy.linalg.eigh instead.\n",
      "  warnings.warn(\"k >= N for N * N square matrix. \"\n",
      "2023-08-01 16:56:17,801 - BERTopic - The dimensionality reduction algorithm did not contain the `y` parameter and therefore the `y` parameter was not used\n",
      "f:\\Coding\\.venv\\lib\\site-packages\\scipy\\sparse\\linalg\\_eigen\\arpack\\arpack.py:1592: RuntimeWarning: k >= N for N * N square matrix. Attempting to use scipy.linalg.eigh instead.\n",
      "  warnings.warn(\"k >= N for N * N square matrix. \"\n"
     ]
    },
    {
     "name": "stdout",
     "output_type": "stream",
     "text": [
      "Can't reduce dimensionality or some other problem\n"
     ]
    },
    {
     "name": "stderr",
     "output_type": "stream",
     "text": [
      "100%|██████████| 11/11 [00:00<00:00, 157.14it/s]\n",
      "2023-08-01 16:56:17,884 - BERTopic - Transformed documents to Embeddings\n",
      "2023-08-01 16:56:18,635 - BERTopic - Reduced dimensionality\n",
      "2023-08-01 16:56:18,639 - BERTopic - Clustered reduced embeddings\n",
      "0it [00:00, ?it/s]\n"
     ]
    },
    {
     "name": "stdout",
     "output_type": "stream",
     "text": [
      "Can't distribute all messages in topics\n"
     ]
    },
    {
     "name": "stderr",
     "output_type": "stream",
     "text": [
      "100%|██████████| 5/5 [00:00<00:00, 34.48it/s]\n",
      "2023-08-01 16:56:18,841 - BERTopic - Transformed documents to Embeddings\n",
      "f:\\Coding\\.venv\\lib\\site-packages\\scipy\\sparse\\linalg\\_eigen\\arpack\\arpack.py:1592: RuntimeWarning: k >= N for N * N square matrix. Attempting to use scipy.linalg.eigh instead.\n",
      "  warnings.warn(\"k >= N for N * N square matrix. \"\n",
      "2023-08-01 16:56:18,847 - BERTopic - The dimensionality reduction algorithm did not contain the `y` parameter and therefore the `y` parameter was not used\n",
      "f:\\Coding\\.venv\\lib\\site-packages\\scipy\\sparse\\linalg\\_eigen\\arpack\\arpack.py:1592: RuntimeWarning: k >= N for N * N square matrix. Attempting to use scipy.linalg.eigh instead.\n",
      "  warnings.warn(\"k >= N for N * N square matrix. \"\n"
     ]
    },
    {
     "name": "stdout",
     "output_type": "stream",
     "text": [
      "Can't reduce dimensionality or some other problem\n"
     ]
    },
    {
     "name": "stderr",
     "output_type": "stream",
     "text": [
      "100%|██████████| 9/9 [00:00<00:00, 46.39it/s]\n",
      "2023-08-01 16:56:19,067 - BERTopic - Transformed documents to Embeddings\n",
      "2023-08-01 16:56:19,813 - BERTopic - Reduced dimensionality\n",
      "2023-08-01 16:56:19,817 - BERTopic - Clustered reduced embeddings\n",
      "0it [00:00, ?it/s]\n"
     ]
    },
    {
     "name": "stdout",
     "output_type": "stream",
     "text": [
      "Can't distribute all messages in topics\n"
     ]
    },
    {
     "name": "stderr",
     "output_type": "stream",
     "text": [
      "100%|██████████| 8/8 [00:00<00:00, 129.04it/s]\n",
      "2023-08-01 16:56:19,959 - BERTopic - Transformed documents to Embeddings\n",
      "2023-08-01 16:56:20,719 - BERTopic - Reduced dimensionality\n",
      "2023-08-01 16:56:20,723 - BERTopic - Clustered reduced embeddings\n",
      "100%|██████████| 1/1 [00:00<00:00, 506.25it/s]\n",
      "100%|██████████| 8/8 [00:00<00:00, 64.00it/s]\n",
      "2023-08-01 16:56:20,997 - BERTopic - Transformed documents to Embeddings\n",
      "2023-08-01 16:56:21,969 - BERTopic - Reduced dimensionality\n",
      "2023-08-01 16:56:21,973 - BERTopic - Clustered reduced embeddings\n",
      "0it [00:00, ?it/s]\n"
     ]
    },
    {
     "name": "stdout",
     "output_type": "stream",
     "text": [
      "Can't distribute all messages in topics\n"
     ]
    },
    {
     "name": "stderr",
     "output_type": "stream",
     "text": [
      "100%|██████████| 7/7 [00:00<00:00, 137.25it/s]\n",
      "2023-08-01 16:56:22,070 - BERTopic - Transformed documents to Embeddings\n",
      "2023-08-01 16:56:22,814 - BERTopic - Reduced dimensionality\n",
      "2023-08-01 16:56:22,819 - BERTopic - Clustered reduced embeddings\n",
      "0it [00:00, ?it/s]\n"
     ]
    },
    {
     "name": "stdout",
     "output_type": "stream",
     "text": [
      "Can't distribute all messages in topics\n"
     ]
    },
    {
     "name": "stderr",
     "output_type": "stream",
     "text": [
      "100%|██████████| 6/6 [00:00<00:00, 117.66it/s]\n",
      "2023-08-01 16:56:22,913 - BERTopic - Transformed documents to Embeddings\n",
      "f:\\Coding\\.venv\\lib\\site-packages\\scipy\\sparse\\linalg\\_eigen\\arpack\\arpack.py:1592: RuntimeWarning: k >= N for N * N square matrix. Attempting to use scipy.linalg.eigh instead.\n",
      "  warnings.warn(\"k >= N for N * N square matrix. \"\n",
      "2023-08-01 16:56:22,919 - BERTopic - The dimensionality reduction algorithm did not contain the `y` parameter and therefore the `y` parameter was not used\n",
      "f:\\Coding\\.venv\\lib\\site-packages\\scipy\\sparse\\linalg\\_eigen\\arpack\\arpack.py:1592: RuntimeWarning: k >= N for N * N square matrix. Attempting to use scipy.linalg.eigh instead.\n",
      "  warnings.warn(\"k >= N for N * N square matrix. \"\n"
     ]
    },
    {
     "name": "stdout",
     "output_type": "stream",
     "text": [
      "Can't reduce dimensionality or some other problem\n"
     ]
    },
    {
     "name": "stderr",
     "output_type": "stream",
     "text": [
      "100%|██████████| 6/6 [00:00<00:00, 115.39it/s]\n",
      "2023-08-01 16:56:22,982 - BERTopic - Transformed documents to Embeddings\n",
      "f:\\Coding\\.venv\\lib\\site-packages\\scipy\\sparse\\linalg\\_eigen\\arpack\\arpack.py:1592: RuntimeWarning: k >= N for N * N square matrix. Attempting to use scipy.linalg.eigh instead.\n",
      "  warnings.warn(\"k >= N for N * N square matrix. \"\n",
      "2023-08-01 16:56:22,988 - BERTopic - The dimensionality reduction algorithm did not contain the `y` parameter and therefore the `y` parameter was not used\n",
      "f:\\Coding\\.venv\\lib\\site-packages\\scipy\\sparse\\linalg\\_eigen\\arpack\\arpack.py:1592: RuntimeWarning: k >= N for N * N square matrix. Attempting to use scipy.linalg.eigh instead.\n",
      "  warnings.warn(\"k >= N for N * N square matrix. \"\n"
     ]
    },
    {
     "name": "stdout",
     "output_type": "stream",
     "text": [
      "Can't reduce dimensionality or some other problem\n"
     ]
    },
    {
     "name": "stderr",
     "output_type": "stream",
     "text": [
      "100%|██████████| 5/5 [00:00<00:00, 42.37it/s]\n",
      "2023-08-01 16:56:23,123 - BERTopic - Transformed documents to Embeddings\n",
      "f:\\Coding\\.venv\\lib\\site-packages\\scipy\\sparse\\linalg\\_eigen\\arpack\\arpack.py:1592: RuntimeWarning: k >= N for N * N square matrix. Attempting to use scipy.linalg.eigh instead.\n",
      "  warnings.warn(\"k >= N for N * N square matrix. \"\n",
      "2023-08-01 16:56:23,130 - BERTopic - The dimensionality reduction algorithm did not contain the `y` parameter and therefore the `y` parameter was not used\n",
      "f:\\Coding\\.venv\\lib\\site-packages\\scipy\\sparse\\linalg\\_eigen\\arpack\\arpack.py:1592: RuntimeWarning: k >= N for N * N square matrix. Attempting to use scipy.linalg.eigh instead.\n",
      "  warnings.warn(\"k >= N for N * N square matrix. \"\n"
     ]
    },
    {
     "name": "stdout",
     "output_type": "stream",
     "text": [
      "Can't reduce dimensionality or some other problem\n"
     ]
    },
    {
     "name": "stderr",
     "output_type": "stream",
     "text": [
      "100%|██████████| 5/5 [00:00<00:00, 32.47it/s]\n",
      "2023-08-01 16:56:23,316 - BERTopic - Transformed documents to Embeddings\n",
      "f:\\Coding\\.venv\\lib\\site-packages\\scipy\\sparse\\linalg\\_eigen\\arpack\\arpack.py:1592: RuntimeWarning: k >= N for N * N square matrix. Attempting to use scipy.linalg.eigh instead.\n",
      "  warnings.warn(\"k >= N for N * N square matrix. \"\n",
      "2023-08-01 16:56:23,321 - BERTopic - The dimensionality reduction algorithm did not contain the `y` parameter and therefore the `y` parameter was not used\n",
      "f:\\Coding\\.venv\\lib\\site-packages\\scipy\\sparse\\linalg\\_eigen\\arpack\\arpack.py:1592: RuntimeWarning: k >= N for N * N square matrix. Attempting to use scipy.linalg.eigh instead.\n",
      "  warnings.warn(\"k >= N for N * N square matrix. \"\n"
     ]
    },
    {
     "name": "stdout",
     "output_type": "stream",
     "text": [
      "Can't reduce dimensionality or some other problem\n"
     ]
    },
    {
     "name": "stderr",
     "output_type": "stream",
     "text": [
      "100%|██████████| 5/5 [00:00<00:00, 92.60it/s]\n",
      "2023-08-01 16:56:23,385 - BERTopic - Transformed documents to Embeddings\n",
      "f:\\Coding\\.venv\\lib\\site-packages\\scipy\\sparse\\linalg\\_eigen\\arpack\\arpack.py:1592: RuntimeWarning: k >= N for N * N square matrix. Attempting to use scipy.linalg.eigh instead.\n",
      "  warnings.warn(\"k >= N for N * N square matrix. \"\n",
      "2023-08-01 16:56:23,390 - BERTopic - The dimensionality reduction algorithm did not contain the `y` parameter and therefore the `y` parameter was not used\n",
      "f:\\Coding\\.venv\\lib\\site-packages\\scipy\\sparse\\linalg\\_eigen\\arpack\\arpack.py:1592: RuntimeWarning: k >= N for N * N square matrix. Attempting to use scipy.linalg.eigh instead.\n",
      "  warnings.warn(\"k >= N for N * N square matrix. \"\n"
     ]
    },
    {
     "name": "stdout",
     "output_type": "stream",
     "text": [
      "Can't reduce dimensionality or some other problem\n"
     ]
    },
    {
     "name": "stderr",
     "output_type": "stream",
     "text": [
      "100%|██████████| 5/5 [00:00<00:00, 98.04it/s]\n",
      "2023-08-01 16:56:23,452 - BERTopic - Transformed documents to Embeddings\n",
      "f:\\Coding\\.venv\\lib\\site-packages\\scipy\\sparse\\linalg\\_eigen\\arpack\\arpack.py:1592: RuntimeWarning: k >= N for N * N square matrix. Attempting to use scipy.linalg.eigh instead.\n",
      "  warnings.warn(\"k >= N for N * N square matrix. \"\n",
      "2023-08-01 16:56:23,458 - BERTopic - The dimensionality reduction algorithm did not contain the `y` parameter and therefore the `y` parameter was not used\n",
      "f:\\Coding\\.venv\\lib\\site-packages\\scipy\\sparse\\linalg\\_eigen\\arpack\\arpack.py:1592: RuntimeWarning: k >= N for N * N square matrix. Attempting to use scipy.linalg.eigh instead.\n",
      "  warnings.warn(\"k >= N for N * N square matrix. \"\n"
     ]
    },
    {
     "name": "stdout",
     "output_type": "stream",
     "text": [
      "Can't reduce dimensionality or some other problem\n"
     ]
    },
    {
     "name": "stderr",
     "output_type": "stream",
     "text": [
      "100%|██████████| 8/8 [00:00<00:00, 80.81it/s]\n",
      "2023-08-01 16:56:23,568 - BERTopic - Transformed documents to Embeddings\n",
      "2023-08-01 16:56:24,313 - BERTopic - Reduced dimensionality\n",
      "2023-08-01 16:56:24,317 - BERTopic - Clustered reduced embeddings\n",
      "0it [00:00, ?it/s]\n"
     ]
    },
    {
     "name": "stdout",
     "output_type": "stream",
     "text": [
      "Can't distribute all messages in topics\n"
     ]
    },
    {
     "name": "stderr",
     "output_type": "stream",
     "text": [
      "100%|██████████| 8/8 [00:00<00:00, 80.00it/s]\n",
      "2023-08-01 16:56:24,463 - BERTopic - Transformed documents to Embeddings\n",
      "2023-08-01 16:56:25,210 - BERTopic - Reduced dimensionality\n",
      "2023-08-01 16:56:25,213 - BERTopic - Clustered reduced embeddings\n",
      "0it [00:00, ?it/s]\n"
     ]
    },
    {
     "name": "stdout",
     "output_type": "stream",
     "text": [
      "Can't distribute all messages in topics\n"
     ]
    },
    {
     "name": "stderr",
     "output_type": "stream",
     "text": [
      "100%|██████████| 5/5 [00:00<00:00, 65.79it/s]\n",
      "2023-08-01 16:56:25,353 - BERTopic - Transformed documents to Embeddings\n",
      "f:\\Coding\\.venv\\lib\\site-packages\\scipy\\sparse\\linalg\\_eigen\\arpack\\arpack.py:1592: RuntimeWarning: k >= N for N * N square matrix. Attempting to use scipy.linalg.eigh instead.\n",
      "  warnings.warn(\"k >= N for N * N square matrix. \"\n",
      "2023-08-01 16:56:25,360 - BERTopic - The dimensionality reduction algorithm did not contain the `y` parameter and therefore the `y` parameter was not used\n",
      "f:\\Coding\\.venv\\lib\\site-packages\\scipy\\sparse\\linalg\\_eigen\\arpack\\arpack.py:1592: RuntimeWarning: k >= N for N * N square matrix. Attempting to use scipy.linalg.eigh instead.\n",
      "  warnings.warn(\"k >= N for N * N square matrix. \"\n"
     ]
    },
    {
     "name": "stdout",
     "output_type": "stream",
     "text": [
      "Can't reduce dimensionality or some other problem\n"
     ]
    },
    {
     "name": "stderr",
     "output_type": "stream",
     "text": [
      "100%|██████████| 5/5 [00:00<00:00, 48.55it/s]\n",
      "2023-08-01 16:56:25,487 - BERTopic - Transformed documents to Embeddings\n",
      "f:\\Coding\\.venv\\lib\\site-packages\\scipy\\sparse\\linalg\\_eigen\\arpack\\arpack.py:1592: RuntimeWarning: k >= N for N * N square matrix. Attempting to use scipy.linalg.eigh instead.\n",
      "  warnings.warn(\"k >= N for N * N square matrix. \"\n",
      "2023-08-01 16:56:25,491 - BERTopic - The dimensionality reduction algorithm did not contain the `y` parameter and therefore the `y` parameter was not used\n",
      "f:\\Coding\\.venv\\lib\\site-packages\\scipy\\sparse\\linalg\\_eigen\\arpack\\arpack.py:1592: RuntimeWarning: k >= N for N * N square matrix. Attempting to use scipy.linalg.eigh instead.\n",
      "  warnings.warn(\"k >= N for N * N square matrix. \"\n"
     ]
    },
    {
     "name": "stdout",
     "output_type": "stream",
     "text": [
      "Can't reduce dimensionality or some other problem\n"
     ]
    },
    {
     "name": "stderr",
     "output_type": "stream",
     "text": [
      "100%|██████████| 5/5 [00:00<00:00, 28.74it/s]\n",
      "2023-08-01 16:56:25,683 - BERTopic - Transformed documents to Embeddings\n",
      "f:\\Coding\\.venv\\lib\\site-packages\\scipy\\sparse\\linalg\\_eigen\\arpack\\arpack.py:1592: RuntimeWarning: k >= N for N * N square matrix. Attempting to use scipy.linalg.eigh instead.\n",
      "  warnings.warn(\"k >= N for N * N square matrix. \"\n",
      "2023-08-01 16:56:25,688 - BERTopic - The dimensionality reduction algorithm did not contain the `y` parameter and therefore the `y` parameter was not used\n",
      "f:\\Coding\\.venv\\lib\\site-packages\\scipy\\sparse\\linalg\\_eigen\\arpack\\arpack.py:1592: RuntimeWarning: k >= N for N * N square matrix. Attempting to use scipy.linalg.eigh instead.\n",
      "  warnings.warn(\"k >= N for N * N square matrix. \"\n"
     ]
    },
    {
     "name": "stdout",
     "output_type": "stream",
     "text": [
      "Can't reduce dimensionality or some other problem\n"
     ]
    },
    {
     "name": "stderr",
     "output_type": "stream",
     "text": [
      "100%|██████████| 14/14 [00:00<00:00, 116.67it/s]\n",
      "2023-08-01 16:56:25,835 - BERTopic - Transformed documents to Embeddings\n",
      "2023-08-01 16:56:26,592 - BERTopic - Reduced dimensionality\n",
      "2023-08-01 16:56:26,597 - BERTopic - Clustered reduced embeddings\n",
      "0it [00:00, ?it/s]\n"
     ]
    },
    {
     "name": "stdout",
     "output_type": "stream",
     "text": [
      "Can't distribute all messages in topics\n"
     ]
    },
    {
     "name": "stderr",
     "output_type": "stream",
     "text": [
      "100%|██████████| 14/14 [00:00<00:00, 102.19it/s]\n",
      "2023-08-01 16:56:26,793 - BERTopic - Transformed documents to Embeddings\n",
      "2023-08-01 16:56:27,791 - BERTopic - Reduced dimensionality\n",
      "2023-08-01 16:56:27,796 - BERTopic - Clustered reduced embeddings\n",
      "0it [00:00, ?it/s]\n"
     ]
    },
    {
     "name": "stdout",
     "output_type": "stream",
     "text": [
      "Can't distribute all messages in topics\n"
     ]
    },
    {
     "name": "stderr",
     "output_type": "stream",
     "text": [
      "100%|██████████| 5/5 [00:00<00:00, 161.42it/s]\n",
      "2023-08-01 16:56:27,951 - BERTopic - Transformed documents to Embeddings\n",
      "f:\\Coding\\.venv\\lib\\site-packages\\scipy\\sparse\\linalg\\_eigen\\arpack\\arpack.py:1592: RuntimeWarning: k >= N for N * N square matrix. Attempting to use scipy.linalg.eigh instead.\n",
      "  warnings.warn(\"k >= N for N * N square matrix. \"\n",
      "2023-08-01 16:56:27,956 - BERTopic - The dimensionality reduction algorithm did not contain the `y` parameter and therefore the `y` parameter was not used\n",
      "f:\\Coding\\.venv\\lib\\site-packages\\scipy\\sparse\\linalg\\_eigen\\arpack\\arpack.py:1592: RuntimeWarning: k >= N for N * N square matrix. Attempting to use scipy.linalg.eigh instead.\n",
      "  warnings.warn(\"k >= N for N * N square matrix. \"\n"
     ]
    },
    {
     "name": "stdout",
     "output_type": "stream",
     "text": [
      "Can't reduce dimensionality or some other problem\n"
     ]
    },
    {
     "name": "stderr",
     "output_type": "stream",
     "text": [
      "100%|██████████| 8/8 [00:00<00:00, 74.77it/s]\n",
      "2023-08-01 16:56:28,144 - BERTopic - Transformed documents to Embeddings\n",
      "2023-08-01 16:56:28,880 - BERTopic - Reduced dimensionality\n",
      "2023-08-01 16:56:28,883 - BERTopic - Clustered reduced embeddings\n",
      "  0%|          | 0/1 [00:00<?, ?it/s]\n"
     ]
    },
    {
     "name": "stdout",
     "output_type": "stream",
     "text": [
      "Can't distribute all messages in topics\n"
     ]
    },
    {
     "name": "stderr",
     "output_type": "stream",
     "text": [
      "100%|██████████| 14/14 [00:00<00:00, 135.93it/s]\n",
      "2023-08-01 16:56:29,028 - BERTopic - Transformed documents to Embeddings\n",
      "2023-08-01 16:56:29,799 - BERTopic - Reduced dimensionality\n",
      "2023-08-01 16:56:29,803 - BERTopic - Clustered reduced embeddings\n",
      "100%|██████████| 1/1 [00:00<00:00, 500.33it/s]\n",
      "100%|██████████| 8/8 [00:00<00:00, 109.59it/s]\n",
      "2023-08-01 16:56:30,092 - BERTopic - Transformed documents to Embeddings\n",
      "2023-08-01 16:56:30,853 - BERTopic - Reduced dimensionality\n",
      "2023-08-01 16:56:30,856 - BERTopic - Clustered reduced embeddings\n",
      "0it [00:00, ?it/s]\n"
     ]
    },
    {
     "name": "stdout",
     "output_type": "stream",
     "text": [
      "Can't distribute all messages in topics\n"
     ]
    },
    {
     "name": "stderr",
     "output_type": "stream",
     "text": [
      "100%|██████████| 22/22 [00:00<00:00, 61.63it/s]\n",
      "2023-08-01 16:56:31,259 - BERTopic - Transformed documents to Embeddings\n",
      "2023-08-01 16:56:32,043 - BERTopic - Reduced dimensionality\n",
      "2023-08-01 16:56:32,047 - BERTopic - Clustered reduced embeddings\n",
      "100%|██████████| 1/1 [00:00<00:00, 499.86it/s]\n",
      "100%|██████████| 5/5 [00:00<00:00, 178.58it/s]\n",
      "2023-08-01 16:56:32,348 - BERTopic - Transformed documents to Embeddings\n",
      "f:\\Coding\\.venv\\lib\\site-packages\\scipy\\sparse\\linalg\\_eigen\\arpack\\arpack.py:1592: RuntimeWarning: k >= N for N * N square matrix. Attempting to use scipy.linalg.eigh instead.\n",
      "  warnings.warn(\"k >= N for N * N square matrix. \"\n",
      "2023-08-01 16:56:32,353 - BERTopic - The dimensionality reduction algorithm did not contain the `y` parameter and therefore the `y` parameter was not used\n",
      "f:\\Coding\\.venv\\lib\\site-packages\\scipy\\sparse\\linalg\\_eigen\\arpack\\arpack.py:1592: RuntimeWarning: k >= N for N * N square matrix. Attempting to use scipy.linalg.eigh instead.\n",
      "  warnings.warn(\"k >= N for N * N square matrix. \"\n"
     ]
    },
    {
     "name": "stdout",
     "output_type": "stream",
     "text": [
      "Can't reduce dimensionality or some other problem\n"
     ]
    },
    {
     "name": "stderr",
     "output_type": "stream",
     "text": [
      "100%|██████████| 18/18 [00:00<00:00, 144.00it/s]\n",
      "2023-08-01 16:56:32,495 - BERTopic - Transformed documents to Embeddings\n",
      "2023-08-01 16:56:33,479 - BERTopic - Reduced dimensionality\n",
      "2023-08-01 16:56:33,483 - BERTopic - Clustered reduced embeddings\n",
      "0it [00:00, ?it/s]\n"
     ]
    },
    {
     "name": "stdout",
     "output_type": "stream",
     "text": [
      "Can't distribute all messages in topics\n"
     ]
    },
    {
     "name": "stderr",
     "output_type": "stream",
     "text": [
      "100%|██████████| 6/6 [00:00<00:00, 125.01it/s]\n",
      "2023-08-01 16:56:33,580 - BERTopic - Transformed documents to Embeddings\n",
      "f:\\Coding\\.venv\\lib\\site-packages\\scipy\\sparse\\linalg\\_eigen\\arpack\\arpack.py:1592: RuntimeWarning: k >= N for N * N square matrix. Attempting to use scipy.linalg.eigh instead.\n",
      "  warnings.warn(\"k >= N for N * N square matrix. \"\n",
      "2023-08-01 16:56:33,585 - BERTopic - The dimensionality reduction algorithm did not contain the `y` parameter and therefore the `y` parameter was not used\n",
      "f:\\Coding\\.venv\\lib\\site-packages\\scipy\\sparse\\linalg\\_eigen\\arpack\\arpack.py:1592: RuntimeWarning: k >= N for N * N square matrix. Attempting to use scipy.linalg.eigh instead.\n",
      "  warnings.warn(\"k >= N for N * N square matrix. \"\n"
     ]
    },
    {
     "name": "stdout",
     "output_type": "stream",
     "text": [
      "Can't reduce dimensionality or some other problem\n"
     ]
    },
    {
     "name": "stderr",
     "output_type": "stream",
     "text": [
      "100%|██████████| 11/11 [00:00<00:00, 142.86it/s]\n",
      "2023-08-01 16:56:33,680 - BERTopic - Transformed documents to Embeddings\n",
      "2023-08-01 16:56:34,455 - BERTopic - Reduced dimensionality\n",
      "2023-08-01 16:56:34,459 - BERTopic - Clustered reduced embeddings\n",
      "0it [00:00, ?it/s]\n"
     ]
    },
    {
     "name": "stdout",
     "output_type": "stream",
     "text": [
      "Can't distribute all messages in topics\n"
     ]
    },
    {
     "name": "stderr",
     "output_type": "stream",
     "text": [
      "100%|██████████| 21/21 [00:00<00:00, 95.02it/s]\n",
      "2023-08-01 16:56:34,746 - BERTopic - Transformed documents to Embeddings\n",
      "2023-08-01 16:56:35,522 - BERTopic - Reduced dimensionality\n",
      "2023-08-01 16:56:35,527 - BERTopic - Clustered reduced embeddings\n",
      "0it [00:00, ?it/s]\n"
     ]
    },
    {
     "name": "stdout",
     "output_type": "stream",
     "text": [
      "Can't distribute all messages in topics\n"
     ]
    },
    {
     "name": "stderr",
     "output_type": "stream",
     "text": [
      "100%|██████████| 5/5 [00:00<00:00, 119.05it/s]\n",
      "2023-08-01 16:56:35,669 - BERTopic - Transformed documents to Embeddings\n",
      "f:\\Coding\\.venv\\lib\\site-packages\\scipy\\sparse\\linalg\\_eigen\\arpack\\arpack.py:1592: RuntimeWarning: k >= N for N * N square matrix. Attempting to use scipy.linalg.eigh instead.\n",
      "  warnings.warn(\"k >= N for N * N square matrix. \"\n",
      "2023-08-01 16:56:35,674 - BERTopic - The dimensionality reduction algorithm did not contain the `y` parameter and therefore the `y` parameter was not used\n",
      "f:\\Coding\\.venv\\lib\\site-packages\\scipy\\sparse\\linalg\\_eigen\\arpack\\arpack.py:1592: RuntimeWarning: k >= N for N * N square matrix. Attempting to use scipy.linalg.eigh instead.\n",
      "  warnings.warn(\"k >= N for N * N square matrix. \"\n"
     ]
    },
    {
     "name": "stdout",
     "output_type": "stream",
     "text": [
      "Can't reduce dimensionality or some other problem\n"
     ]
    },
    {
     "name": "stderr",
     "output_type": "stream",
     "text": [
      "100%|██████████| 5/5 [00:00<00:00, 52.08it/s]\n",
      "2023-08-01 16:56:35,783 - BERTopic - Transformed documents to Embeddings\n",
      "f:\\Coding\\.venv\\lib\\site-packages\\scipy\\sparse\\linalg\\_eigen\\arpack\\arpack.py:1592: RuntimeWarning: k >= N for N * N square matrix. Attempting to use scipy.linalg.eigh instead.\n",
      "  warnings.warn(\"k >= N for N * N square matrix. \"\n",
      "2023-08-01 16:56:35,788 - BERTopic - The dimensionality reduction algorithm did not contain the `y` parameter and therefore the `y` parameter was not used\n",
      "f:\\Coding\\.venv\\lib\\site-packages\\scipy\\sparse\\linalg\\_eigen\\arpack\\arpack.py:1592: RuntimeWarning: k >= N for N * N square matrix. Attempting to use scipy.linalg.eigh instead.\n",
      "  warnings.warn(\"k >= N for N * N square matrix. \"\n"
     ]
    },
    {
     "name": "stdout",
     "output_type": "stream",
     "text": [
      "Can't reduce dimensionality or some other problem\n"
     ]
    },
    {
     "name": "stderr",
     "output_type": "stream",
     "text": [
      "100%|██████████| 7/7 [00:00<00:00, 122.81it/s]\n",
      "2023-08-01 16:56:35,860 - BERTopic - Transformed documents to Embeddings\n",
      "2023-08-01 16:56:36,632 - BERTopic - Reduced dimensionality\n",
      "2023-08-01 16:56:36,635 - BERTopic - Clustered reduced embeddings\n",
      "  0%|          | 0/1 [00:00<?, ?it/s]\n"
     ]
    },
    {
     "name": "stdout",
     "output_type": "stream",
     "text": [
      "Can't distribute all messages in topics\n"
     ]
    },
    {
     "name": "stderr",
     "output_type": "stream",
     "text": [
      "100%|██████████| 10/10 [00:00<00:00, 86.96it/s]\n",
      "2023-08-01 16:56:36,794 - BERTopic - Transformed documents to Embeddings\n",
      "2023-08-01 16:56:37,541 - BERTopic - Reduced dimensionality\n",
      "2023-08-01 16:56:37,545 - BERTopic - Clustered reduced embeddings\n",
      "100%|██████████| 1/1 [00:00<00:00, 500.51it/s]\n",
      "100%|██████████| 5/5 [00:00<00:00, 138.88it/s]\n",
      "2023-08-01 16:56:37,724 - BERTopic - Transformed documents to Embeddings\n",
      "f:\\Coding\\.venv\\lib\\site-packages\\scipy\\sparse\\linalg\\_eigen\\arpack\\arpack.py:1592: RuntimeWarning: k >= N for N * N square matrix. Attempting to use scipy.linalg.eigh instead.\n",
      "  warnings.warn(\"k >= N for N * N square matrix. \"\n",
      "2023-08-01 16:56:37,729 - BERTopic - The dimensionality reduction algorithm did not contain the `y` parameter and therefore the `y` parameter was not used\n",
      "f:\\Coding\\.venv\\lib\\site-packages\\scipy\\sparse\\linalg\\_eigen\\arpack\\arpack.py:1592: RuntimeWarning: k >= N for N * N square matrix. Attempting to use scipy.linalg.eigh instead.\n",
      "  warnings.warn(\"k >= N for N * N square matrix. \"\n"
     ]
    },
    {
     "name": "stdout",
     "output_type": "stream",
     "text": [
      "Can't reduce dimensionality or some other problem\n"
     ]
    },
    {
     "name": "stderr",
     "output_type": "stream",
     "text": [
      "100%|██████████| 7/7 [00:00<00:00, 111.11it/s]\n",
      "2023-08-01 16:56:37,806 - BERTopic - Transformed documents to Embeddings\n",
      "2023-08-01 16:56:38,817 - BERTopic - Reduced dimensionality\n",
      "2023-08-01 16:56:38,821 - BERTopic - Clustered reduced embeddings\n",
      "0it [00:00, ?it/s]\n"
     ]
    },
    {
     "name": "stdout",
     "output_type": "stream",
     "text": [
      "Can't distribute all messages in topics\n"
     ]
    },
    {
     "name": "stderr",
     "output_type": "stream",
     "text": [
      "100%|██████████| 9/9 [00:00<00:00, 126.77it/s]\n",
      "2023-08-01 16:56:38,950 - BERTopic - Transformed documents to Embeddings\n",
      "2023-08-01 16:56:39,694 - BERTopic - Reduced dimensionality\n",
      "2023-08-01 16:56:39,698 - BERTopic - Clustered reduced embeddings\n",
      "0it [00:00, ?it/s]\n"
     ]
    },
    {
     "name": "stdout",
     "output_type": "stream",
     "text": [
      "Can't distribute all messages in topics\n"
     ]
    },
    {
     "name": "stderr",
     "output_type": "stream",
     "text": [
      "100%|██████████| 6/6 [00:00<00:00, 76.92it/s]\n",
      "2023-08-01 16:56:39,824 - BERTopic - Transformed documents to Embeddings\n",
      "f:\\Coding\\.venv\\lib\\site-packages\\scipy\\sparse\\linalg\\_eigen\\arpack\\arpack.py:1592: RuntimeWarning: k >= N for N * N square matrix. Attempting to use scipy.linalg.eigh instead.\n",
      "  warnings.warn(\"k >= N for N * N square matrix. \"\n",
      "2023-08-01 16:56:39,829 - BERTopic - The dimensionality reduction algorithm did not contain the `y` parameter and therefore the `y` parameter was not used\n",
      "f:\\Coding\\.venv\\lib\\site-packages\\scipy\\sparse\\linalg\\_eigen\\arpack\\arpack.py:1592: RuntimeWarning: k >= N for N * N square matrix. Attempting to use scipy.linalg.eigh instead.\n",
      "  warnings.warn(\"k >= N for N * N square matrix. \"\n"
     ]
    },
    {
     "name": "stdout",
     "output_type": "stream",
     "text": [
      "Can't reduce dimensionality or some other problem\n"
     ]
    },
    {
     "name": "stderr",
     "output_type": "stream",
     "text": [
      "100%|██████████| 10/10 [00:00<00:00, 151.52it/s]\n",
      "2023-08-01 16:56:39,909 - BERTopic - Transformed documents to Embeddings\n",
      "2023-08-01 16:56:40,674 - BERTopic - Reduced dimensionality\n",
      "2023-08-01 16:56:40,678 - BERTopic - Clustered reduced embeddings\n",
      "0it [00:00, ?it/s]\n"
     ]
    },
    {
     "name": "stdout",
     "output_type": "stream",
     "text": [
      "Can't distribute all messages in topics\n"
     ]
    },
    {
     "name": "stderr",
     "output_type": "stream",
     "text": [
      "100%|██████████| 7/7 [00:00<00:00, 100.01it/s]\n",
      "2023-08-01 16:56:40,827 - BERTopic - Transformed documents to Embeddings\n",
      "2023-08-01 16:56:41,570 - BERTopic - Reduced dimensionality\n",
      "2023-08-01 16:56:41,573 - BERTopic - Clustered reduced embeddings\n",
      "  0%|          | 0/1 [00:00<?, ?it/s]\n"
     ]
    },
    {
     "name": "stdout",
     "output_type": "stream",
     "text": [
      "Can't distribute all messages in topics\n"
     ]
    },
    {
     "name": "stderr",
     "output_type": "stream",
     "text": [
      "100%|██████████| 7/7 [00:00<00:00, 60.87it/s]\n",
      "2023-08-01 16:56:41,806 - BERTopic - Transformed documents to Embeddings\n",
      "2023-08-01 16:56:42,605 - BERTopic - Reduced dimensionality\n",
      "2023-08-01 16:56:42,608 - BERTopic - Clustered reduced embeddings\n",
      "0it [00:00, ?it/s]\n"
     ]
    },
    {
     "name": "stdout",
     "output_type": "stream",
     "text": [
      "Can't distribute all messages in topics\n"
     ]
    },
    {
     "name": "stderr",
     "output_type": "stream",
     "text": [
      "100%|██████████| 9/9 [00:00<00:00, 103.45it/s]\n",
      "2023-08-01 16:56:42,776 - BERTopic - Transformed documents to Embeddings\n",
      "2023-08-01 16:56:43,744 - BERTopic - Reduced dimensionality\n",
      "2023-08-01 16:56:43,747 - BERTopic - Clustered reduced embeddings\n",
      "  0%|          | 0/1 [00:00<?, ?it/s]\n"
     ]
    },
    {
     "name": "stdout",
     "output_type": "stream",
     "text": [
      "Can't distribute all messages in topics\n",
      "events detected\n",
      "connections generated\n",
      "population and risk rebalanced\n",
      "10 outlier clusters of 912 total clusters. Filtering...\n",
      "outliers filtered\n",
      "done!\n"
     ]
    }
   ],
   "source": [
    "model = EventDetection()\n",
    "messages, events, connections = model.run(target_texts, 'F:\\Coding\\SOIKA\\ysc_examples\\population.geojson', 'Санкт-Петербург', 32636, min_event_size=3)"
   ]
  },
  {
   "cell_type": "code",
   "execution_count": 3,
   "metadata": {},
   "outputs": [
    {
     "data": {
      "text/html": [
       "<div>\n",
       "<style scoped>\n",
       "    .dataframe tbody tr th:only-of-type {\n",
       "        vertical-align: middle;\n",
       "    }\n",
       "\n",
       "    .dataframe tbody tr th {\n",
       "        vertical-align: top;\n",
       "    }\n",
       "\n",
       "    .dataframe thead th {\n",
       "        text-align: right;\n",
       "    }\n",
       "</style>\n",
       "<table border=\"1\" class=\"dataframe\">\n",
       "  <thead>\n",
       "    <tr style=\"text-align: right;\">\n",
       "      <th></th>\n",
       "      <th>Topic</th>\n",
       "      <th>intensity</th>\n",
       "      <th>name</th>\n",
       "      <th>Representation</th>\n",
       "      <th>docs</th>\n",
       "      <th>level</th>\n",
       "      <th>object_id</th>\n",
       "      <th>id</th>\n",
       "      <th>population</th>\n",
       "      <th>message_ids</th>\n",
       "      <th>duration</th>\n",
       "      <th>category</th>\n",
       "      <th>importance</th>\n",
       "      <th>geometry</th>\n",
       "      <th>risk</th>\n",
       "    </tr>\n",
       "  </thead>\n",
       "  <tbody>\n",
       "    <tr>\n",
       "      <th>0</th>\n",
       "      <td>0</td>\n",
       "      <td>0.098039</td>\n",
       "      <td>0_на_по_не_рубинштейна</td>\n",
       "      <td>[на, по, не, рубинштейна, до, пор, несколько, ...</td>\n",
       "      <td>1, 1640, 1047</td>\n",
       "      <td>link</td>\n",
       "      <td>2085.0</td>\n",
       "      <td>0_link_2085.0</td>\n",
       "      <td>0.005384</td>\n",
       "      <td>1, 17, 18, 1047, 1259, 1640</td>\n",
       "      <td>0.764270</td>\n",
       "      <td>ЖКХ</td>\n",
       "      <td>0.175000</td>\n",
       "      <td>POINT (30.34540 59.93201)</td>\n",
       "      <td>0.000163</td>\n",
       "    </tr>\n",
       "    <tr>\n",
       "      <th>1</th>\n",
       "      <td>1</td>\n",
       "      <td>0.058824</td>\n",
       "      <td>1_ни_не_опять_рубинштейна</td>\n",
       "      <td>[ни, не, опять, рубинштейна, но, дворников, оп...</td>\n",
       "      <td>154, 252, 173</td>\n",
       "      <td>link</td>\n",
       "      <td>2085.0</td>\n",
       "      <td>1_link_2085.0</td>\n",
       "      <td>0.005384</td>\n",
       "      <td>154, 173, 252, 958</td>\n",
       "      <td>0.401038</td>\n",
       "      <td>ЖКХ</td>\n",
       "      <td>0.197500</td>\n",
       "      <td>POINT (30.34540 59.93201)</td>\n",
       "      <td>0.000088</td>\n",
       "    </tr>\n",
       "    <tr>\n",
       "      <th>2</th>\n",
       "      <td>2</td>\n",
       "      <td>0.039216</td>\n",
       "      <td>2_рубинштейна_ок рубинштейна_работает рубинште...</td>\n",
       "      <td>[рубинштейна, ок рубинштейна, работает рубиншт...</td>\n",
       "      <td>1239, 425, 1238</td>\n",
       "      <td>link</td>\n",
       "      <td>2085.0</td>\n",
       "      <td>2_link_2085.0</td>\n",
       "      <td>0.005384</td>\n",
       "      <td>425, 1238, 1239</td>\n",
       "      <td>0.567087</td>\n",
       "      <td>Другое</td>\n",
       "      <td>0.146667</td>\n",
       "      <td>POINT (30.34520 59.93158)</td>\n",
       "      <td>0.000049</td>\n",
       "    </tr>\n",
       "    <tr>\n",
       "      <th>0</th>\n",
       "      <td>0</td>\n",
       "      <td>0.117647</td>\n",
       "      <td>0_пр_фурштатской_улицы_от</td>\n",
       "      <td>[пр, фурштатской, улицы, от, ул, до, чернышевс...</td>\n",
       "      <td>342, 1052, 786</td>\n",
       "      <td>link</td>\n",
       "      <td>23487.0</td>\n",
       "      <td>0_link_23487.0</td>\n",
       "      <td>0.002858</td>\n",
       "      <td>342, 564, 694, 786, 1052, 1409, 1603</td>\n",
       "      <td>0.847294</td>\n",
       "      <td>Безопасность, Другое</td>\n",
       "      <td>0.161429</td>\n",
       "      <td>POINT (30.35808 59.94512)</td>\n",
       "      <td>0.000100</td>\n",
       "    </tr>\n",
       "    <tr>\n",
       "      <th>1</th>\n",
       "      <td>1</td>\n",
       "      <td>0.098039</td>\n",
       "      <td>1_не_ничего не_ничего_на</td>\n",
       "      <td>[не, ничего не, ничего, на, на фурштатской, фу...</td>\n",
       "      <td>1407, 1408, 350</td>\n",
       "      <td>link</td>\n",
       "      <td>23487.0</td>\n",
       "      <td>1_link_23487.0</td>\n",
       "      <td>0.002858</td>\n",
       "      <td>350, 687, 690, 1407, 1408, 1417</td>\n",
       "      <td>0.731653</td>\n",
       "      <td>Другое</td>\n",
       "      <td>0.175000</td>\n",
       "      <td>POINT (30.35808 59.94512)</td>\n",
       "      <td>0.000085</td>\n",
       "    </tr>\n",
       "    <tr>\n",
       "      <th>...</th>\n",
       "      <td>...</td>\n",
       "      <td>...</td>\n",
       "      <td>...</td>\n",
       "      <td>...</td>\n",
       "      <td>...</td>\n",
       "      <td>...</td>\n",
       "      <td>...</td>\n",
       "      <td>...</td>\n",
       "      <td>...</td>\n",
       "      <td>...</td>\n",
       "      <td>...</td>\n",
       "      <td>...</td>\n",
       "      <td>...</td>\n",
       "      <td>...</td>\n",
       "      <td>...</td>\n",
       "    </tr>\n",
       "    <tr>\n",
       "      <th>355</th>\n",
       "      <td>355</td>\n",
       "      <td>0.039216</td>\n",
       "      <td>355_дворовой территории_дворовой_ул правды вып...</td>\n",
       "      <td>[дворовой территории, дворовой, ул правды выпо...</td>\n",
       "      <td>632, 550, 1187</td>\n",
       "      <td>global</td>\n",
       "      <td>0</td>\n",
       "      <td>355_global_0</td>\n",
       "      <td>1.000000</td>\n",
       "      <td>550, 632, 1187</td>\n",
       "      <td>0.469236</td>\n",
       "      <td>ЖКХ</td>\n",
       "      <td>0.200000</td>\n",
       "      <td>POINT (30.34162 59.92289)</td>\n",
       "      <td>0.011523</td>\n",
       "    </tr>\n",
       "    <tr>\n",
       "      <th>356</th>\n",
       "      <td>356</td>\n",
       "      <td>0.039216</td>\n",
       "      <td>356_по боровой_боровой_фурштатской_штаб чтобы жкс</td>\n",
       "      <td>[по боровой, боровой, фурштатской, штаб чтобы ...</td>\n",
       "      <td>553, 1628, 786</td>\n",
       "      <td>global</td>\n",
       "      <td>0</td>\n",
       "      <td>356_global_0</td>\n",
       "      <td>1.000000</td>\n",
       "      <td>553, 786, 1628</td>\n",
       "      <td>0.161601</td>\n",
       "      <td>Другое</td>\n",
       "      <td>0.173333</td>\n",
       "      <td>POINT (30.36607 59.92923)</td>\n",
       "      <td>0.007896</td>\n",
       "    </tr>\n",
       "    <tr>\n",
       "      <th>357</th>\n",
       "      <td>357</td>\n",
       "      <td>0.058824</td>\n",
       "      <td>357_деревьев_сожалению речь идет_высадке_идет ...</td>\n",
       "      <td>[деревьев, сожалению речь идет, высадке, идет ...</td>\n",
       "      <td>199, 961, 961</td>\n",
       "      <td>global</td>\n",
       "      <td>0</td>\n",
       "      <td>357_global_0</td>\n",
       "      <td>1.000000</td>\n",
       "      <td>199, 961, 961, 1536</td>\n",
       "      <td>0.846553</td>\n",
       "      <td>Благоустройство</td>\n",
       "      <td>0.207500</td>\n",
       "      <td>POINT (30.34806 59.91154)</td>\n",
       "      <td>0.022539</td>\n",
       "    </tr>\n",
       "    <tr>\n",
       "      <th>358</th>\n",
       "      <td>358</td>\n",
       "      <td>0.058824</td>\n",
       "      <td>358_благоустроить_неухоженные_такой большой те...</td>\n",
       "      <td>[благоустроить, неухоженные, такой большой тер...</td>\n",
       "      <td>566, 1440, 1479</td>\n",
       "      <td>global</td>\n",
       "      <td>0</td>\n",
       "      <td>358_global_0</td>\n",
       "      <td>1.000000</td>\n",
       "      <td>566, 1440, 1442, 1479</td>\n",
       "      <td>0.630838</td>\n",
       "      <td>Благоустройство</td>\n",
       "      <td>0.192500</td>\n",
       "      <td>POINT (30.34236 59.94243)</td>\n",
       "      <td>0.018467</td>\n",
       "    </tr>\n",
       "    <tr>\n",
       "      <th>359</th>\n",
       "      <td>359</td>\n",
       "      <td>0.098039</td>\n",
       "      <td>359_рамки_через рамки_на невский проспект_на н...</td>\n",
       "      <td>[рамки, через рамки, на невский проспект, на н...</td>\n",
       "      <td>1613, 1614, 1615</td>\n",
       "      <td>global</td>\n",
       "      <td>0</td>\n",
       "      <td>359_global_0</td>\n",
       "      <td>1.000000</td>\n",
       "      <td>34, 1427, 1435, 1613, 1614, 1615</td>\n",
       "      <td>0.981468</td>\n",
       "      <td>Другое, ЖКХ</td>\n",
       "      <td>0.183333</td>\n",
       "      <td>POINT (30.35097 59.92368)</td>\n",
       "      <td>0.035615</td>\n",
       "    </tr>\n",
       "  </tbody>\n",
       "</table>\n",
       "<p>902 rows × 15 columns</p>\n",
       "</div>"
      ],
      "text/plain": [
       "     Topic  intensity                                               name   \n",
       "0        0   0.098039                             0_на_по_не_рубинштейна  \\\n",
       "1        1   0.058824                          1_ни_не_опять_рубинштейна   \n",
       "2        2   0.039216  2_рубинштейна_ок рубинштейна_работает рубинште...   \n",
       "0        0   0.117647                          0_пр_фурштатской_улицы_от   \n",
       "1        1   0.098039                           1_не_ничего не_ничего_на   \n",
       "..     ...        ...                                                ...   \n",
       "355    355   0.039216  355_дворовой территории_дворовой_ул правды вып...   \n",
       "356    356   0.039216  356_по боровой_боровой_фурштатской_штаб чтобы жкс   \n",
       "357    357   0.058824  357_деревьев_сожалению речь идет_высадке_идет ...   \n",
       "358    358   0.058824  358_благоустроить_неухоженные_такой большой те...   \n",
       "359    359   0.098039  359_рамки_через рамки_на невский проспект_на н...   \n",
       "\n",
       "                                        Representation              docs   \n",
       "0    [на, по, не, рубинштейна, до, пор, несколько, ...     1, 1640, 1047  \\\n",
       "1    [ни, не, опять, рубинштейна, но, дворников, оп...     154, 252, 173   \n",
       "2    [рубинштейна, ок рубинштейна, работает рубиншт...   1239, 425, 1238   \n",
       "0    [пр, фурштатской, улицы, от, ул, до, чернышевс...    342, 1052, 786   \n",
       "1    [не, ничего не, ничего, на, на фурштатской, фу...   1407, 1408, 350   \n",
       "..                                                 ...               ...   \n",
       "355  [дворовой территории, дворовой, ул правды выпо...    632, 550, 1187   \n",
       "356  [по боровой, боровой, фурштатской, штаб чтобы ...    553, 1628, 786   \n",
       "357  [деревьев, сожалению речь идет, высадке, идет ...     199, 961, 961   \n",
       "358  [благоустроить, неухоженные, такой большой тер...   566, 1440, 1479   \n",
       "359  [рамки, через рамки, на невский проспект, на н...  1613, 1614, 1615   \n",
       "\n",
       "      level object_id              id  population   \n",
       "0      link    2085.0   0_link_2085.0    0.005384  \\\n",
       "1      link    2085.0   1_link_2085.0    0.005384   \n",
       "2      link    2085.0   2_link_2085.0    0.005384   \n",
       "0      link   23487.0  0_link_23487.0    0.002858   \n",
       "1      link   23487.0  1_link_23487.0    0.002858   \n",
       "..      ...       ...             ...         ...   \n",
       "355  global         0    355_global_0    1.000000   \n",
       "356  global         0    356_global_0    1.000000   \n",
       "357  global         0    357_global_0    1.000000   \n",
       "358  global         0    358_global_0    1.000000   \n",
       "359  global         0    359_global_0    1.000000   \n",
       "\n",
       "                              message_ids  duration              category   \n",
       "0             1, 17, 18, 1047, 1259, 1640  0.764270                   ЖКХ  \\\n",
       "1                      154, 173, 252, 958  0.401038                   ЖКХ   \n",
       "2                         425, 1238, 1239  0.567087                Другое   \n",
       "0    342, 564, 694, 786, 1052, 1409, 1603  0.847294  Безопасность, Другое   \n",
       "1         350, 687, 690, 1407, 1408, 1417  0.731653                Другое   \n",
       "..                                    ...       ...                   ...   \n",
       "355                        550, 632, 1187  0.469236                   ЖКХ   \n",
       "356                        553, 786, 1628  0.161601                Другое   \n",
       "357                   199, 961, 961, 1536  0.846553       Благоустройство   \n",
       "358                 566, 1440, 1442, 1479  0.630838       Благоустройство   \n",
       "359      34, 1427, 1435, 1613, 1614, 1615  0.981468           Другое, ЖКХ   \n",
       "\n",
       "     importance                   geometry      risk  \n",
       "0      0.175000  POINT (30.34540 59.93201)  0.000163  \n",
       "1      0.197500  POINT (30.34540 59.93201)  0.000088  \n",
       "2      0.146667  POINT (30.34520 59.93158)  0.000049  \n",
       "0      0.161429  POINT (30.35808 59.94512)  0.000100  \n",
       "1      0.175000  POINT (30.35808 59.94512)  0.000085  \n",
       "..          ...                        ...       ...  \n",
       "355    0.200000  POINT (30.34162 59.92289)  0.011523  \n",
       "356    0.173333  POINT (30.36607 59.92923)  0.007896  \n",
       "357    0.207500  POINT (30.34806 59.91154)  0.022539  \n",
       "358    0.192500  POINT (30.34236 59.94243)  0.018467  \n",
       "359    0.183333  POINT (30.35097 59.92368)  0.035615  \n",
       "\n",
       "[902 rows x 15 columns]"
      ]
     },
     "execution_count": 3,
     "metadata": {},
     "output_type": "execute_result"
    }
   ],
   "source": [
    "events"
   ]
  }
 ],
 "metadata": {
  "kernelspec": {
   "display_name": ".venv",
   "language": "python",
   "name": "python3"
  },
  "language_info": {
   "codemirror_mode": {
    "name": "ipython",
    "version": 3
   },
   "file_extension": ".py",
   "mimetype": "text/x-python",
   "name": "python",
   "nbconvert_exporter": "python",
   "pygments_lexer": "ipython3",
   "version": "3.9.4"
  },
  "orig_nbformat": 4
 },
 "nbformat": 4,
 "nbformat_minor": 2
}
