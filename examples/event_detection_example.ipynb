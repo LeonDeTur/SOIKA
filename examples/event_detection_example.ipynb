{
 "cells": [
  {
   "cell_type": "code",
   "execution_count": 1,
   "metadata": {},
   "outputs": [
    {
     "name": "stderr",
     "output_type": "stream",
     "text": [
      "f:\\Coding\\.venv\\lib\\site-packages\\umap\\distances.py:1063: NumbaDeprecationWarning: \u001b[1mThe 'nopython' keyword argument was not supplied to the 'numba.jit' decorator. The implicit default value for this argument is currently False, but it will be changed to True in Numba 0.59.0. See https://numba.readthedocs.io/en/stable/reference/deprecation.html#deprecation-of-object-mode-fall-back-behaviour-when-using-jit for details.\u001b[0m\n",
      "  @numba.jit()\n",
      "f:\\Coding\\.venv\\lib\\site-packages\\umap\\distances.py:1071: NumbaDeprecationWarning: \u001b[1mThe 'nopython' keyword argument was not supplied to the 'numba.jit' decorator. The implicit default value for this argument is currently False, but it will be changed to True in Numba 0.59.0. See https://numba.readthedocs.io/en/stable/reference/deprecation.html#deprecation-of-object-mode-fall-back-behaviour-when-using-jit for details.\u001b[0m\n",
      "  @numba.jit()\n",
      "f:\\Coding\\.venv\\lib\\site-packages\\umap\\distances.py:1086: NumbaDeprecationWarning: \u001b[1mThe 'nopython' keyword argument was not supplied to the 'numba.jit' decorator. The implicit default value for this argument is currently False, but it will be changed to True in Numba 0.59.0. See https://numba.readthedocs.io/en/stable/reference/deprecation.html#deprecation-of-object-mode-fall-back-behaviour-when-using-jit for details.\u001b[0m\n",
      "  @numba.jit()\n",
      "f:\\Coding\\.venv\\lib\\site-packages\\umap\\umap_.py:660: NumbaDeprecationWarning: \u001b[1mThe 'nopython' keyword argument was not supplied to the 'numba.jit' decorator. The implicit default value for this argument is currently False, but it will be changed to True in Numba 0.59.0. See https://numba.readthedocs.io/en/stable/reference/deprecation.html#deprecation-of-object-mode-fall-back-behaviour-when-using-jit for details.\u001b[0m\n",
      "  @numba.jit()\n"
     ]
    },
    {
     "name": "stdout",
     "output_type": "stream",
     "text": [
      "messages loaded\n",
      "road links loaded\n",
      "buildings loaded\n",
      "messages preprocessed\n"
     ]
    },
    {
     "name": "stderr",
     "output_type": "stream",
     "text": [
      "Some weights of the model checkpoint at cointegrated/rubert-tiny2 were not used when initializing BertModel: ['cls.predictions.transform.LayerNorm.bias', 'cls.predictions.transform.dense.bias', 'cls.predictions.transform.dense.weight', 'cls.seq_relationship.weight', 'cls.predictions.transform.LayerNorm.weight', 'cls.predictions.bias', 'cls.predictions.decoder.bias', 'cls.seq_relationship.bias', 'cls.predictions.decoder.weight']\n",
      "- This IS expected if you are initializing BertModel from the checkpoint of a model trained on another task or with another architecture (e.g. initializing a BertForSequenceClassification model from a BertForPreTraining model).\n",
      "- This IS NOT expected if you are initializing BertModel from the checkpoint of a model that you expect to be exactly identical (initializing a BertForSequenceClassification model from a BertForSequenceClassification model).\n",
      "100%|██████████| 2303/2303 [00:19<00:00, 117.79it/s]\n",
      "2023-07-16 18:19:11,771 - BERTopic - Transformed documents to Embeddings\n",
      "2023-07-16 18:19:25,251 - BERTopic - Reduced dimensionality\n",
      "2023-07-16 18:19:41,713 - BERTopic - Clustered reduced embeddings\n",
      "100%|██████████| 1/1 [00:00<00:00,  6.69it/s]\n",
      "100%|██████████| 12/12 [00:00<00:00, 101.70it/s]\n",
      "2023-07-16 18:20:01,628 - BERTopic - Transformed documents to Embeddings\n",
      "2023-07-16 18:20:02,386 - BERTopic - Reduced dimensionality\n",
      "2023-07-16 18:20:02,389 - BERTopic - Clustered reduced embeddings\n",
      "0it [00:00, ?it/s]\n"
     ]
    },
    {
     "name": "stdout",
     "output_type": "stream",
     "text": [
      "Can't distribute all messages in topics\n"
     ]
    },
    {
     "name": "stderr",
     "output_type": "stream",
     "text": [
      "100%|██████████| 95/95 [00:00<00:00, 104.51it/s]\n",
      "2023-07-16 18:20:03,354 - BERTopic - Transformed documents to Embeddings\n",
      "2023-07-16 18:20:04,549 - BERTopic - Reduced dimensionality\n",
      "2023-07-16 18:20:04,559 - BERTopic - Clustered reduced embeddings\n",
      "100%|██████████| 1/1 [00:00<00:00, 200.10it/s]\n",
      "100%|██████████| 27/27 [00:00<00:00, 137.05it/s]\n",
      "2023-07-16 18:20:05,236 - BERTopic - Transformed documents to Embeddings\n",
      "2023-07-16 18:20:06,023 - BERTopic - Reduced dimensionality\n",
      "2023-07-16 18:20:06,028 - BERTopic - Clustered reduced embeddings\n",
      "100%|██████████| 1/1 [00:00<00:00, 970.90it/s]\n",
      "100%|██████████| 81/81 [00:01<00:00, 52.84it/s] \n",
      "2023-07-16 18:20:07,921 - BERTopic - Transformed documents to Embeddings\n",
      "2023-07-16 18:20:08,824 - BERTopic - Reduced dimensionality\n",
      "2023-07-16 18:20:08,833 - BERTopic - Clustered reduced embeddings\n",
      "100%|██████████| 1/1 [00:00<00:00, 247.83it/s]\n",
      "100%|██████████| 30/30 [00:00<00:00, 118.58it/s]\n",
      "2023-07-16 18:20:09,606 - BERTopic - Transformed documents to Embeddings\n",
      "2023-07-16 18:20:10,495 - BERTopic - Reduced dimensionality\n",
      "2023-07-16 18:20:10,501 - BERTopic - Clustered reduced embeddings\n",
      "0it [00:00, ?it/s]\n"
     ]
    },
    {
     "name": "stdout",
     "output_type": "stream",
     "text": [
      "Can't distribute all messages in topics\n"
     ]
    },
    {
     "name": "stderr",
     "output_type": "stream",
     "text": [
      "100%|██████████| 40/40 [00:00<00:00, 120.85it/s]\n",
      "2023-07-16 18:20:10,970 - BERTopic - Transformed documents to Embeddings\n",
      "2023-07-16 18:20:11,787 - BERTopic - Reduced dimensionality\n",
      "2023-07-16 18:20:11,793 - BERTopic - Clustered reduced embeddings\n",
      "0it [00:00, ?it/s]\n"
     ]
    },
    {
     "name": "stdout",
     "output_type": "stream",
     "text": [
      "Can't distribute all messages in topics\n"
     ]
    },
    {
     "name": "stderr",
     "output_type": "stream",
     "text": [
      "100%|██████████| 48/48 [00:00<00:00, 115.38it/s]\n",
      "2023-07-16 18:20:12,270 - BERTopic - Transformed documents to Embeddings\n",
      "2023-07-16 18:20:13,384 - BERTopic - Reduced dimensionality\n",
      "2023-07-16 18:20:13,391 - BERTopic - Clustered reduced embeddings\n",
      "0it [00:00, ?it/s]\n"
     ]
    },
    {
     "name": "stdout",
     "output_type": "stream",
     "text": [
      "Can't distribute all messages in topics\n"
     ]
    },
    {
     "name": "stderr",
     "output_type": "stream",
     "text": [
      "100%|██████████| 9/9 [00:00<00:00, 83.34it/s]\n",
      "2023-07-16 18:20:13,616 - BERTopic - Transformed documents to Embeddings\n",
      "2023-07-16 18:20:14,375 - BERTopic - Reduced dimensionality\n",
      "2023-07-16 18:20:14,379 - BERTopic - Clustered reduced embeddings\n",
      "0it [00:00, ?it/s]\n"
     ]
    },
    {
     "name": "stdout",
     "output_type": "stream",
     "text": [
      "Can't distribute all messages in topics\n"
     ]
    },
    {
     "name": "stderr",
     "output_type": "stream",
     "text": [
      "100%|██████████| 18/18 [00:00<00:00, 173.08it/s]\n",
      "2023-07-16 18:20:14,533 - BERTopic - Transformed documents to Embeddings\n",
      "2023-07-16 18:20:15,330 - BERTopic - Reduced dimensionality\n",
      "2023-07-16 18:20:15,336 - BERTopic - Clustered reduced embeddings\n",
      "0it [00:00, ?it/s]\n"
     ]
    },
    {
     "name": "stdout",
     "output_type": "stream",
     "text": [
      "Can't distribute all messages in topics\n"
     ]
    },
    {
     "name": "stderr",
     "output_type": "stream",
     "text": [
      "100%|██████████| 60/60 [00:00<00:00, 71.68it/s]\n",
      "2023-07-16 18:20:16,247 - BERTopic - Transformed documents to Embeddings\n",
      "2023-07-16 18:20:17,133 - BERTopic - Reduced dimensionality\n",
      "2023-07-16 18:20:17,141 - BERTopic - Clustered reduced embeddings\n",
      "0it [00:00, ?it/s]\n"
     ]
    },
    {
     "name": "stdout",
     "output_type": "stream",
     "text": [
      "Can't distribute all messages in topics\n"
     ]
    },
    {
     "name": "stderr",
     "output_type": "stream",
     "text": [
      "100%|██████████| 13/13 [00:00<00:00, 128.72it/s]\n",
      "2023-07-16 18:20:17,319 - BERTopic - Transformed documents to Embeddings\n",
      "2023-07-16 18:20:18,099 - BERTopic - Reduced dimensionality\n",
      "2023-07-16 18:20:18,103 - BERTopic - Clustered reduced embeddings\n",
      "0it [00:00, ?it/s]\n"
     ]
    },
    {
     "name": "stdout",
     "output_type": "stream",
     "text": [
      "Can't distribute all messages in topics\n"
     ]
    },
    {
     "name": "stderr",
     "output_type": "stream",
     "text": [
      "100%|██████████| 78/78 [00:00<00:00, 128.07it/s]\n",
      "2023-07-16 18:20:18,776 - BERTopic - Transformed documents to Embeddings\n",
      "2023-07-16 18:20:19,692 - BERTopic - Reduced dimensionality\n",
      "2023-07-16 18:20:19,703 - BERTopic - Clustered reduced embeddings\n",
      "100%|██████████| 1/1 [00:00<00:00, 199.83it/s]\n",
      "100%|██████████| 8/8 [00:00<00:00, 142.86it/s]\n",
      "2023-07-16 18:20:20,674 - BERTopic - Transformed documents to Embeddings\n",
      "2023-07-16 18:20:21,456 - BERTopic - Reduced dimensionality\n",
      "2023-07-16 18:20:21,460 - BERTopic - Clustered reduced embeddings\n",
      "0it [00:00, ?it/s]\n"
     ]
    },
    {
     "name": "stdout",
     "output_type": "stream",
     "text": [
      "Can't distribute all messages in topics\n"
     ]
    },
    {
     "name": "stderr",
     "output_type": "stream",
     "text": [
      "100%|██████████| 40/40 [00:00<00:00, 138.16it/s]\n",
      "2023-07-16 18:20:21,795 - BERTopic - Transformed documents to Embeddings\n",
      "2023-07-16 18:20:22,609 - BERTopic - Reduced dimensionality\n",
      "2023-07-16 18:20:22,615 - BERTopic - Clustered reduced embeddings\n",
      "0it [00:00, ?it/s]\n"
     ]
    },
    {
     "name": "stdout",
     "output_type": "stream",
     "text": [
      "Can't distribute all messages in topics\n"
     ]
    },
    {
     "name": "stderr",
     "output_type": "stream",
     "text": [
      "100%|██████████| 14/14 [00:00<00:00, 145.84it/s]\n",
      "2023-07-16 18:20:22,807 - BERTopic - Transformed documents to Embeddings\n",
      "2023-07-16 18:20:23,606 - BERTopic - Reduced dimensionality\n",
      "2023-07-16 18:20:23,611 - BERTopic - Clustered reduced embeddings\n",
      "0it [00:00, ?it/s]\n"
     ]
    },
    {
     "name": "stdout",
     "output_type": "stream",
     "text": [
      "Can't distribute all messages in topics\n"
     ]
    },
    {
     "name": "stderr",
     "output_type": "stream",
     "text": [
      "100%|██████████| 18/18 [00:00<00:00, 122.45it/s]\n",
      "2023-07-16 18:20:23,837 - BERTopic - Transformed documents to Embeddings\n",
      "2023-07-16 18:20:24,607 - BERTopic - Reduced dimensionality\n",
      "2023-07-16 18:20:24,611 - BERTopic - Clustered reduced embeddings\n",
      "0it [00:00, ?it/s]\n"
     ]
    },
    {
     "name": "stdout",
     "output_type": "stream",
     "text": [
      "Can't distribute all messages in topics\n"
     ]
    },
    {
     "name": "stderr",
     "output_type": "stream",
     "text": [
      "100%|██████████| 18/18 [00:00<00:00, 120.00it/s]\n",
      "2023-07-16 18:20:24,832 - BERTopic - Transformed documents to Embeddings\n",
      "2023-07-16 18:20:25,855 - BERTopic - Reduced dimensionality\n",
      "2023-07-16 18:20:25,860 - BERTopic - Clustered reduced embeddings\n",
      "0it [00:00, ?it/s]\n"
     ]
    },
    {
     "name": "stdout",
     "output_type": "stream",
     "text": [
      "Can't distribute all messages in topics\n"
     ]
    },
    {
     "name": "stderr",
     "output_type": "stream",
     "text": [
      "100%|██████████| 27/27 [00:00<00:00, 90.60it/s]\n",
      "2023-07-16 18:20:26,209 - BERTopic - Transformed documents to Embeddings\n",
      "2023-07-16 18:20:27,060 - BERTopic - Reduced dimensionality\n",
      "2023-07-16 18:20:27,067 - BERTopic - Clustered reduced embeddings\n",
      "100%|██████████| 1/1 [00:00<00:00, 499.50it/s]\n",
      "100%|██████████| 11/11 [00:00<00:00, 120.88it/s]\n",
      "2023-07-16 18:20:27,375 - BERTopic - Transformed documents to Embeddings\n",
      "2023-07-16 18:20:28,220 - BERTopic - Reduced dimensionality\n",
      "2023-07-16 18:20:28,226 - BERTopic - Clustered reduced embeddings\n",
      "0it [00:00, ?it/s]\n"
     ]
    },
    {
     "name": "stdout",
     "output_type": "stream",
     "text": [
      "Can't distribute all messages in topics\n"
     ]
    },
    {
     "name": "stderr",
     "output_type": "stream",
     "text": [
      "100%|██████████| 31/31 [00:00<00:00, 81.58it/s] \n",
      "2023-07-16 18:20:28,669 - BERTopic - Transformed documents to Embeddings\n",
      "2023-07-16 18:20:29,475 - BERTopic - Reduced dimensionality\n",
      "2023-07-16 18:20:29,481 - BERTopic - Clustered reduced embeddings\n",
      "0it [00:00, ?it/s]\n"
     ]
    },
    {
     "name": "stdout",
     "output_type": "stream",
     "text": [
      "Can't distribute all messages in topics\n"
     ]
    },
    {
     "name": "stderr",
     "output_type": "stream",
     "text": [
      "100%|██████████| 24/24 [00:00<00:00, 117.63it/s]\n",
      "2023-07-16 18:20:29,776 - BERTopic - Transformed documents to Embeddings\n",
      "2023-07-16 18:20:30,592 - BERTopic - Reduced dimensionality\n",
      "2023-07-16 18:20:30,597 - BERTopic - Clustered reduced embeddings\n",
      "0it [00:00, ?it/s]\n"
     ]
    },
    {
     "name": "stdout",
     "output_type": "stream",
     "text": [
      "Can't distribute all messages in topics\n"
     ]
    },
    {
     "name": "stderr",
     "output_type": "stream",
     "text": [
      "100%|██████████| 21/21 [00:00<00:00, 164.06it/s]\n",
      "2023-07-16 18:20:30,777 - BERTopic - Transformed documents to Embeddings\n",
      "2023-07-16 18:20:31,528 - BERTopic - Reduced dimensionality\n",
      "2023-07-16 18:20:31,533 - BERTopic - Clustered reduced embeddings\n",
      "0it [00:00, ?it/s]\n"
     ]
    },
    {
     "name": "stdout",
     "output_type": "stream",
     "text": [
      "Can't distribute all messages in topics\n"
     ]
    },
    {
     "name": "stderr",
     "output_type": "stream",
     "text": [
      "100%|██████████| 7/7 [00:00<00:00, 112.90it/s]\n",
      "2023-07-16 18:20:31,684 - BERTopic - Transformed documents to Embeddings\n",
      "2023-07-16 18:20:32,780 - BERTopic - Reduced dimensionality\n",
      "2023-07-16 18:20:32,785 - BERTopic - Clustered reduced embeddings\n",
      "0it [00:00, ?it/s]\n"
     ]
    },
    {
     "name": "stdout",
     "output_type": "stream",
     "text": [
      "Can't distribute all messages in topics\n"
     ]
    },
    {
     "name": "stderr",
     "output_type": "stream",
     "text": [
      "100%|██████████| 6/6 [00:00<00:00, 88.24it/s]\n",
      "2023-07-16 18:20:32,907 - BERTopic - Transformed documents to Embeddings\n",
      "f:\\Coding\\.venv\\lib\\site-packages\\scipy\\sparse\\linalg\\_eigen\\arpack\\arpack.py:1592: RuntimeWarning: k >= N for N * N square matrix. Attempting to use scipy.linalg.eigh instead.\n",
      "  warnings.warn(\"k >= N for N * N square matrix. \"\n",
      "2023-07-16 18:20:32,925 - BERTopic - The dimensionality reduction algorithm did not contain the `y` parameter and therefore the `y` parameter was not used\n",
      "f:\\Coding\\.venv\\lib\\site-packages\\scipy\\sparse\\linalg\\_eigen\\arpack\\arpack.py:1592: RuntimeWarning: k >= N for N * N square matrix. Attempting to use scipy.linalg.eigh instead.\n",
      "  warnings.warn(\"k >= N for N * N square matrix. \"\n"
     ]
    },
    {
     "name": "stdout",
     "output_type": "stream",
     "text": [
      "Can't reduce dimensionality or some other problem\n"
     ]
    },
    {
     "name": "stderr",
     "output_type": "stream",
     "text": [
      "100%|██████████| 20/20 [00:00<00:00, 111.73it/s]\n",
      "2023-07-16 18:20:33,118 - BERTopic - Transformed documents to Embeddings\n",
      "2023-07-16 18:20:33,905 - BERTopic - Reduced dimensionality\n",
      "2023-07-16 18:20:33,909 - BERTopic - Clustered reduced embeddings\n",
      "0it [00:00, ?it/s]\n"
     ]
    },
    {
     "name": "stdout",
     "output_type": "stream",
     "text": [
      "Can't distribute all messages in topics\n"
     ]
    },
    {
     "name": "stderr",
     "output_type": "stream",
     "text": [
      "100%|██████████| 25/25 [00:00<00:00, 92.59it/s]\n",
      "2023-07-16 18:20:34,257 - BERTopic - Transformed documents to Embeddings\n",
      "2023-07-16 18:20:35,053 - BERTopic - Reduced dimensionality\n",
      "2023-07-16 18:20:35,058 - BERTopic - Clustered reduced embeddings\n",
      "0it [00:00, ?it/s]\n"
     ]
    },
    {
     "name": "stdout",
     "output_type": "stream",
     "text": [
      "Can't distribute all messages in topics\n"
     ]
    },
    {
     "name": "stderr",
     "output_type": "stream",
     "text": [
      "100%|██████████| 8/8 [00:00<00:00, 121.22it/s]\n",
      "2023-07-16 18:20:35,196 - BERTopic - Transformed documents to Embeddings\n",
      "2023-07-16 18:20:35,965 - BERTopic - Reduced dimensionality\n",
      "2023-07-16 18:20:35,969 - BERTopic - Clustered reduced embeddings\n",
      "0it [00:00, ?it/s]\n"
     ]
    },
    {
     "name": "stdout",
     "output_type": "stream",
     "text": [
      "Can't distribute all messages in topics\n"
     ]
    },
    {
     "name": "stderr",
     "output_type": "stream",
     "text": [
      "100%|██████████| 11/11 [00:00<00:00, 88.71it/s]\n",
      "2023-07-16 18:20:36,141 - BERTopic - Transformed documents to Embeddings\n",
      "2023-07-16 18:20:36,951 - BERTopic - Reduced dimensionality\n",
      "2023-07-16 18:20:36,955 - BERTopic - Clustered reduced embeddings\n",
      "0it [00:00, ?it/s]\n"
     ]
    },
    {
     "name": "stdout",
     "output_type": "stream",
     "text": [
      "Can't distribute all messages in topics\n"
     ]
    },
    {
     "name": "stderr",
     "output_type": "stream",
     "text": [
      "100%|██████████| 11/11 [00:00<00:00, 132.53it/s]\n",
      "2023-07-16 18:20:37,089 - BERTopic - Transformed documents to Embeddings\n",
      "2023-07-16 18:20:38,076 - BERTopic - Reduced dimensionality\n",
      "2023-07-16 18:20:38,079 - BERTopic - Clustered reduced embeddings\n",
      "  0%|          | 0/1 [00:00<?, ?it/s]\n"
     ]
    },
    {
     "name": "stdout",
     "output_type": "stream",
     "text": [
      "Can't distribute all messages in topics\n"
     ]
    },
    {
     "name": "stderr",
     "output_type": "stream",
     "text": [
      "100%|██████████| 8/8 [00:00<00:00, 80.81it/s]\n",
      "2023-07-16 18:20:38,222 - BERTopic - Transformed documents to Embeddings\n",
      "2023-07-16 18:20:39,020 - BERTopic - Reduced dimensionality\n",
      "2023-07-16 18:20:39,023 - BERTopic - Clustered reduced embeddings\n",
      "0it [00:00, ?it/s]\n"
     ]
    },
    {
     "name": "stdout",
     "output_type": "stream",
     "text": [
      "Can't distribute all messages in topics\n"
     ]
    },
    {
     "name": "stderr",
     "output_type": "stream",
     "text": [
      "100%|██████████| 8/8 [00:00<00:00, 81.63it/s]\n",
      "2023-07-16 18:20:39,178 - BERTopic - Transformed documents to Embeddings\n",
      "2023-07-16 18:20:39,947 - BERTopic - Reduced dimensionality\n",
      "2023-07-16 18:20:39,951 - BERTopic - Clustered reduced embeddings\n",
      "  0%|          | 0/1 [00:00<?, ?it/s]\n"
     ]
    },
    {
     "name": "stdout",
     "output_type": "stream",
     "text": [
      "Can't distribute all messages in topics\n"
     ]
    },
    {
     "name": "stderr",
     "output_type": "stream",
     "text": [
      "100%|██████████| 12/12 [00:00<00:00, 105.27it/s]\n",
      "2023-07-16 18:20:40,109 - BERTopic - Transformed documents to Embeddings\n",
      "2023-07-16 18:20:40,905 - BERTopic - Reduced dimensionality\n",
      "2023-07-16 18:20:40,909 - BERTopic - Clustered reduced embeddings\n",
      "0it [00:00, ?it/s]\n"
     ]
    },
    {
     "name": "stdout",
     "output_type": "stream",
     "text": [
      "Can't distribute all messages in topics\n"
     ]
    },
    {
     "name": "stderr",
     "output_type": "stream",
     "text": [
      "100%|██████████| 22/22 [00:00<00:00, 169.23it/s]\n",
      "2023-07-16 18:20:41,100 - BERTopic - Transformed documents to Embeddings\n",
      "2023-07-16 18:20:42,105 - BERTopic - Reduced dimensionality\n",
      "2023-07-16 18:20:42,110 - BERTopic - Clustered reduced embeddings\n",
      "0it [00:00, ?it/s]\n"
     ]
    },
    {
     "name": "stdout",
     "output_type": "stream",
     "text": [
      "Can't distribute all messages in topics\n"
     ]
    },
    {
     "name": "stderr",
     "output_type": "stream",
     "text": [
      "100%|██████████| 10/10 [00:00<00:00, 103.09it/s]\n",
      "2023-07-16 18:20:42,276 - BERTopic - Transformed documents to Embeddings\n",
      "2023-07-16 18:20:43,070 - BERTopic - Reduced dimensionality\n",
      "2023-07-16 18:20:43,074 - BERTopic - Clustered reduced embeddings\n",
      "0it [00:00, ?it/s]\n"
     ]
    },
    {
     "name": "stdout",
     "output_type": "stream",
     "text": [
      "Can't distribute all messages in topics\n"
     ]
    },
    {
     "name": "stderr",
     "output_type": "stream",
     "text": [
      "100%|██████████| 12/12 [00:00<00:00, 137.93it/s]\n",
      "2023-07-16 18:20:43,211 - BERTopic - Transformed documents to Embeddings\n",
      "2023-07-16 18:20:44,004 - BERTopic - Reduced dimensionality\n",
      "2023-07-16 18:20:44,008 - BERTopic - Clustered reduced embeddings\n",
      "0it [00:00, ?it/s]\n"
     ]
    },
    {
     "name": "stdout",
     "output_type": "stream",
     "text": [
      "Can't distribute all messages in topics\n"
     ]
    },
    {
     "name": "stderr",
     "output_type": "stream",
     "text": [
      "100%|██████████| 6/6 [00:00<00:00, 122.48it/s]\n",
      "2023-07-16 18:20:44,110 - BERTopic - Transformed documents to Embeddings\n",
      "f:\\Coding\\.venv\\lib\\site-packages\\scipy\\sparse\\linalg\\_eigen\\arpack\\arpack.py:1592: RuntimeWarning: k >= N for N * N square matrix. Attempting to use scipy.linalg.eigh instead.\n",
      "  warnings.warn(\"k >= N for N * N square matrix. \"\n",
      "2023-07-16 18:20:44,116 - BERTopic - The dimensionality reduction algorithm did not contain the `y` parameter and therefore the `y` parameter was not used\n",
      "f:\\Coding\\.venv\\lib\\site-packages\\scipy\\sparse\\linalg\\_eigen\\arpack\\arpack.py:1592: RuntimeWarning: k >= N for N * N square matrix. Attempting to use scipy.linalg.eigh instead.\n",
      "  warnings.warn(\"k >= N for N * N square matrix. \"\n"
     ]
    },
    {
     "name": "stdout",
     "output_type": "stream",
     "text": [
      "Can't reduce dimensionality or some other problem\n"
     ]
    },
    {
     "name": "stderr",
     "output_type": "stream",
     "text": [
      "100%|██████████| 17/17 [00:00<00:00, 123.19it/s]\n",
      "2023-07-16 18:20:44,269 - BERTopic - Transformed documents to Embeddings\n",
      "2023-07-16 18:20:45,109 - BERTopic - Reduced dimensionality\n",
      "2023-07-16 18:20:45,113 - BERTopic - Clustered reduced embeddings\n",
      "0it [00:00, ?it/s]\n"
     ]
    },
    {
     "name": "stdout",
     "output_type": "stream",
     "text": [
      "Can't distribute all messages in topics\n"
     ]
    },
    {
     "name": "stderr",
     "output_type": "stream",
     "text": [
      "100%|██████████| 35/35 [00:00<00:00, 154.87it/s]\n",
      "2023-07-16 18:20:45,401 - BERTopic - Transformed documents to Embeddings\n",
      "2023-07-16 18:20:46,229 - BERTopic - Reduced dimensionality\n",
      "2023-07-16 18:20:46,237 - BERTopic - Clustered reduced embeddings\n",
      "100%|██████████| 1/1 [00:00<00:00, 499.98it/s]\n",
      "100%|██████████| 10/10 [00:00<00:00, 77.52it/s]\n",
      "2023-07-16 18:20:46,745 - BERTopic - Transformed documents to Embeddings\n",
      "2023-07-16 18:20:47,688 - BERTopic - Reduced dimensionality\n",
      "2023-07-16 18:20:47,692 - BERTopic - Clustered reduced embeddings\n",
      "0it [00:00, ?it/s]\n"
     ]
    },
    {
     "name": "stdout",
     "output_type": "stream",
     "text": [
      "Can't distribute all messages in topics\n"
     ]
    },
    {
     "name": "stderr",
     "output_type": "stream",
     "text": [
      "100%|██████████| 10/10 [00:00<00:00, 40.00it/s]\n",
      "2023-07-16 18:20:48,002 - BERTopic - Transformed documents to Embeddings\n",
      "2023-07-16 18:20:49,077 - BERTopic - Reduced dimensionality\n",
      "2023-07-16 18:20:49,082 - BERTopic - Clustered reduced embeddings\n",
      "0it [00:00, ?it/s]\n"
     ]
    },
    {
     "name": "stdout",
     "output_type": "stream",
     "text": [
      "Can't distribute all messages in topics\n"
     ]
    },
    {
     "name": "stderr",
     "output_type": "stream",
     "text": [
      "100%|██████████| 6/6 [00:00<00:00, 46.52it/s]\n",
      "2023-07-16 18:20:49,268 - BERTopic - Transformed documents to Embeddings\n",
      "f:\\Coding\\.venv\\lib\\site-packages\\scipy\\sparse\\linalg\\_eigen\\arpack\\arpack.py:1592: RuntimeWarning: k >= N for N * N square matrix. Attempting to use scipy.linalg.eigh instead.\n",
      "  warnings.warn(\"k >= N for N * N square matrix. \"\n",
      "2023-07-16 18:20:49,274 - BERTopic - The dimensionality reduction algorithm did not contain the `y` parameter and therefore the `y` parameter was not used\n",
      "f:\\Coding\\.venv\\lib\\site-packages\\scipy\\sparse\\linalg\\_eigen\\arpack\\arpack.py:1592: RuntimeWarning: k >= N for N * N square matrix. Attempting to use scipy.linalg.eigh instead.\n",
      "  warnings.warn(\"k >= N for N * N square matrix. \"\n"
     ]
    },
    {
     "name": "stdout",
     "output_type": "stream",
     "text": [
      "Can't reduce dimensionality or some other problem\n"
     ]
    },
    {
     "name": "stderr",
     "output_type": "stream",
     "text": [
      "100%|██████████| 5/5 [00:00<00:00, 166.68it/s]\n",
      "2023-07-16 18:20:49,315 - BERTopic - Transformed documents to Embeddings\n",
      "f:\\Coding\\.venv\\lib\\site-packages\\scipy\\sparse\\linalg\\_eigen\\arpack\\arpack.py:1592: RuntimeWarning: k >= N for N * N square matrix. Attempting to use scipy.linalg.eigh instead.\n",
      "  warnings.warn(\"k >= N for N * N square matrix. \"\n",
      "2023-07-16 18:20:49,321 - BERTopic - The dimensionality reduction algorithm did not contain the `y` parameter and therefore the `y` parameter was not used\n",
      "f:\\Coding\\.venv\\lib\\site-packages\\scipy\\sparse\\linalg\\_eigen\\arpack\\arpack.py:1592: RuntimeWarning: k >= N for N * N square matrix. Attempting to use scipy.linalg.eigh instead.\n",
      "  warnings.warn(\"k >= N for N * N square matrix. \"\n"
     ]
    },
    {
     "name": "stdout",
     "output_type": "stream",
     "text": [
      "Can't reduce dimensionality or some other problem\n"
     ]
    },
    {
     "name": "stderr",
     "output_type": "stream",
     "text": [
      "100%|██████████| 10/10 [00:00<00:00, 158.74it/s]\n",
      "2023-07-16 18:20:49,399 - BERTopic - Transformed documents to Embeddings\n",
      "2023-07-16 18:20:50,137 - BERTopic - Reduced dimensionality\n",
      "2023-07-16 18:20:50,140 - BERTopic - Clustered reduced embeddings\n",
      "100%|██████████| 1/1 [00:00<00:00, 499.62it/s]\n",
      "100%|██████████| 19/19 [00:00<00:00, 142.86it/s]\n",
      "2023-07-16 18:20:50,443 - BERTopic - Transformed documents to Embeddings\n",
      "2023-07-16 18:20:51,205 - BERTopic - Reduced dimensionality\n",
      "2023-07-16 18:20:51,209 - BERTopic - Clustered reduced embeddings\n",
      "0it [00:00, ?it/s]\n"
     ]
    },
    {
     "name": "stdout",
     "output_type": "stream",
     "text": [
      "Can't distribute all messages in topics\n"
     ]
    },
    {
     "name": "stderr",
     "output_type": "stream",
     "text": [
      "100%|██████████| 18/18 [00:00<00:00, 49.32it/s]\n",
      "2023-07-16 18:20:51,623 - BERTopic - Transformed documents to Embeddings\n",
      "2023-07-16 18:20:52,371 - BERTopic - Reduced dimensionality\n",
      "2023-07-16 18:20:52,376 - BERTopic - Clustered reduced embeddings\n",
      "0it [00:00, ?it/s]\n"
     ]
    },
    {
     "name": "stdout",
     "output_type": "stream",
     "text": [
      "Can't distribute all messages in topics\n"
     ]
    },
    {
     "name": "stderr",
     "output_type": "stream",
     "text": [
      "100%|██████████| 40/40 [00:00<00:00, 130.07it/s]\n",
      "2023-07-16 18:20:52,737 - BERTopic - Transformed documents to Embeddings\n",
      "2023-07-16 18:20:53,542 - BERTopic - Reduced dimensionality\n",
      "2023-07-16 18:20:53,550 - BERTopic - Clustered reduced embeddings\n",
      "100%|██████████| 1/1 [00:00<00:00, 499.68it/s]\n",
      "100%|██████████| 14/14 [00:00<00:00, 138.61it/s]\n",
      "2023-07-16 18:20:53,935 - BERTopic - Transformed documents to Embeddings\n",
      "2023-07-16 18:20:54,892 - BERTopic - Reduced dimensionality\n",
      "2023-07-16 18:20:54,896 - BERTopic - Clustered reduced embeddings\n",
      "0it [00:00, ?it/s]\n"
     ]
    },
    {
     "name": "stdout",
     "output_type": "stream",
     "text": [
      "Can't distribute all messages in topics\n"
     ]
    },
    {
     "name": "stderr",
     "output_type": "stream",
     "text": [
      "100%|██████████| 32/32 [00:00<00:00, 172.04it/s]\n",
      "2023-07-16 18:20:55,144 - BERTopic - Transformed documents to Embeddings\n",
      "2023-07-16 18:20:56,052 - BERTopic - Reduced dimensionality\n",
      "2023-07-16 18:20:56,059 - BERTopic - Clustered reduced embeddings\n",
      "0it [00:00, ?it/s]\n"
     ]
    },
    {
     "name": "stdout",
     "output_type": "stream",
     "text": [
      "Can't distribute all messages in topics\n"
     ]
    },
    {
     "name": "stderr",
     "output_type": "stream",
     "text": [
      "100%|██████████| 74/74 [00:01<00:00, 56.88it/s]\n",
      "2023-07-16 18:20:57,424 - BERTopic - Transformed documents to Embeddings\n",
      "2023-07-16 18:20:58,374 - BERTopic - Reduced dimensionality\n",
      "2023-07-16 18:20:58,384 - BERTopic - Clustered reduced embeddings\n",
      "0it [00:00, ?it/s]\n"
     ]
    },
    {
     "name": "stdout",
     "output_type": "stream",
     "text": [
      "Can't distribute all messages in topics\n"
     ]
    },
    {
     "name": "stderr",
     "output_type": "stream",
     "text": [
      "100%|██████████| 30/30 [00:00<00:00, 95.85it/s]\n",
      "2023-07-16 18:20:58,848 - BERTopic - Transformed documents to Embeddings\n",
      "2023-07-16 18:20:59,647 - BERTopic - Reduced dimensionality\n",
      "2023-07-16 18:20:59,653 - BERTopic - Clustered reduced embeddings\n",
      "0it [00:00, ?it/s]\n"
     ]
    },
    {
     "name": "stdout",
     "output_type": "stream",
     "text": [
      "Can't distribute all messages in topics\n"
     ]
    },
    {
     "name": "stderr",
     "output_type": "stream",
     "text": [
      "100%|██████████| 102/102 [00:00<00:00, 138.21it/s]\n",
      "2023-07-16 18:21:00,494 - BERTopic - Transformed documents to Embeddings\n",
      "2023-07-16 18:21:01,422 - BERTopic - Reduced dimensionality\n",
      "2023-07-16 18:21:01,437 - BERTopic - Clustered reduced embeddings\n",
      "0it [00:00, ?it/s]\n"
     ]
    },
    {
     "name": "stdout",
     "output_type": "stream",
     "text": [
      "Can't distribute all messages in topics\n"
     ]
    },
    {
     "name": "stderr",
     "output_type": "stream",
     "text": [
      "100%|██████████| 19/19 [00:00<00:00, 50.94it/s] \n",
      "2023-07-16 18:21:02,038 - BERTopic - Transformed documents to Embeddings\n",
      "2023-07-16 18:21:02,808 - BERTopic - Reduced dimensionality\n",
      "2023-07-16 18:21:02,813 - BERTopic - Clustered reduced embeddings\n",
      "0it [00:00, ?it/s]\n"
     ]
    },
    {
     "name": "stdout",
     "output_type": "stream",
     "text": [
      "Can't distribute all messages in topics\n"
     ]
    },
    {
     "name": "stderr",
     "output_type": "stream",
     "text": [
      "100%|██████████| 6/6 [00:00<00:00, 92.33it/s]\n",
      "2023-07-16 18:21:02,927 - BERTopic - Transformed documents to Embeddings\n",
      "f:\\Coding\\.venv\\lib\\site-packages\\scipy\\sparse\\linalg\\_eigen\\arpack\\arpack.py:1592: RuntimeWarning: k >= N for N * N square matrix. Attempting to use scipy.linalg.eigh instead.\n",
      "  warnings.warn(\"k >= N for N * N square matrix. \"\n",
      "2023-07-16 18:21:02,933 - BERTopic - The dimensionality reduction algorithm did not contain the `y` parameter and therefore the `y` parameter was not used\n",
      "f:\\Coding\\.venv\\lib\\site-packages\\scipy\\sparse\\linalg\\_eigen\\arpack\\arpack.py:1592: RuntimeWarning: k >= N for N * N square matrix. Attempting to use scipy.linalg.eigh instead.\n",
      "  warnings.warn(\"k >= N for N * N square matrix. \"\n"
     ]
    },
    {
     "name": "stdout",
     "output_type": "stream",
     "text": [
      "Can't reduce dimensionality or some other problem\n"
     ]
    },
    {
     "name": "stderr",
     "output_type": "stream",
     "text": [
      "100%|██████████| 12/12 [00:00<00:00, 95.24it/s]\n",
      "2023-07-16 18:21:03,070 - BERTopic - Transformed documents to Embeddings\n",
      "2023-07-16 18:21:03,826 - BERTopic - Reduced dimensionality\n",
      "2023-07-16 18:21:03,828 - BERTopic - Clustered reduced embeddings\n",
      "0it [00:00, ?it/s]\n"
     ]
    },
    {
     "name": "stdout",
     "output_type": "stream",
     "text": [
      "Can't distribute all messages in topics\n"
     ]
    },
    {
     "name": "stderr",
     "output_type": "stream",
     "text": [
      "100%|██████████| 19/19 [00:00<00:00, 171.17it/s]\n",
      "2023-07-16 18:21:03,986 - BERTopic - Transformed documents to Embeddings\n",
      "2023-07-16 18:21:04,774 - BERTopic - Reduced dimensionality\n",
      "2023-07-16 18:21:04,779 - BERTopic - Clustered reduced embeddings\n",
      "0it [00:00, ?it/s]\n"
     ]
    },
    {
     "name": "stdout",
     "output_type": "stream",
     "text": [
      "Can't distribute all messages in topics\n"
     ]
    },
    {
     "name": "stderr",
     "output_type": "stream",
     "text": [
      "100%|██████████| 43/43 [00:00<00:00, 130.30it/s]\n",
      "2023-07-16 18:21:05,181 - BERTopic - Transformed documents to Embeddings\n",
      "2023-07-16 18:21:05,972 - BERTopic - Reduced dimensionality\n",
      "2023-07-16 18:21:05,978 - BERTopic - Clustered reduced embeddings\n",
      "0it [00:00, ?it/s]\n"
     ]
    },
    {
     "name": "stdout",
     "output_type": "stream",
     "text": [
      "Can't distribute all messages in topics\n"
     ]
    },
    {
     "name": "stderr",
     "output_type": "stream",
     "text": [
      "100%|██████████| 46/46 [00:00<00:00, 150.82it/s]\n",
      "2023-07-16 18:21:06,380 - BERTopic - Transformed documents to Embeddings\n",
      "2023-07-16 18:21:07,205 - BERTopic - Reduced dimensionality\n",
      "2023-07-16 18:21:07,212 - BERTopic - Clustered reduced embeddings\n",
      "100%|██████████| 1/1 [00:00<00:00, 500.04it/s]\n",
      "100%|██████████| 30/30 [00:00<00:00, 171.40it/s]\n",
      "2023-07-16 18:21:07,845 - BERTopic - Transformed documents to Embeddings\n",
      "2023-07-16 18:21:08,852 - BERTopic - Reduced dimensionality\n",
      "2023-07-16 18:21:08,857 - BERTopic - Clustered reduced embeddings\n",
      "0it [00:00, ?it/s]\n"
     ]
    },
    {
     "name": "stdout",
     "output_type": "stream",
     "text": [
      "Can't distribute all messages in topics\n"
     ]
    },
    {
     "name": "stderr",
     "output_type": "stream",
     "text": [
      "100%|██████████| 43/43 [00:00<00:00, 118.79it/s]\n",
      "2023-07-16 18:21:09,300 - BERTopic - Transformed documents to Embeddings\n",
      "2023-07-16 18:21:10,098 - BERTopic - Reduced dimensionality\n",
      "2023-07-16 18:21:10,104 - BERTopic - Clustered reduced embeddings\n",
      "100%|██████████| 1/1 [00:00<00:00, 336.86it/s]\n",
      "100%|██████████| 6/6 [00:00<00:00, 153.84it/s]\n",
      "2023-07-16 18:21:10,515 - BERTopic - Transformed documents to Embeddings\n",
      "f:\\Coding\\.venv\\lib\\site-packages\\scipy\\sparse\\linalg\\_eigen\\arpack\\arpack.py:1592: RuntimeWarning: k >= N for N * N square matrix. Attempting to use scipy.linalg.eigh instead.\n",
      "  warnings.warn(\"k >= N for N * N square matrix. \"\n",
      "2023-07-16 18:21:10,520 - BERTopic - The dimensionality reduction algorithm did not contain the `y` parameter and therefore the `y` parameter was not used\n",
      "f:\\Coding\\.venv\\lib\\site-packages\\scipy\\sparse\\linalg\\_eigen\\arpack\\arpack.py:1592: RuntimeWarning: k >= N for N * N square matrix. Attempting to use scipy.linalg.eigh instead.\n",
      "  warnings.warn(\"k >= N for N * N square matrix. \"\n"
     ]
    },
    {
     "name": "stdout",
     "output_type": "stream",
     "text": [
      "Can't reduce dimensionality or some other problem\n"
     ]
    },
    {
     "name": "stderr",
     "output_type": "stream",
     "text": [
      "100%|██████████| 9/9 [00:00<00:00, 72.58it/s]\n",
      "2023-07-16 18:21:10,659 - BERTopic - Transformed documents to Embeddings\n",
      "2023-07-16 18:21:11,416 - BERTopic - Reduced dimensionality\n",
      "2023-07-16 18:21:11,419 - BERTopic - Clustered reduced embeddings\n",
      "0it [00:00, ?it/s]\n"
     ]
    },
    {
     "name": "stdout",
     "output_type": "stream",
     "text": [
      "Can't distribute all messages in topics\n"
     ]
    },
    {
     "name": "stderr",
     "output_type": "stream",
     "text": [
      "100%|██████████| 22/22 [00:00<00:00, 113.40it/s]\n",
      "2023-07-16 18:21:11,669 - BERTopic - Transformed documents to Embeddings\n",
      "2023-07-16 18:21:12,470 - BERTopic - Reduced dimensionality\n",
      "2023-07-16 18:21:12,475 - BERTopic - Clustered reduced embeddings\n",
      "0it [00:00, ?it/s]\n"
     ]
    },
    {
     "name": "stdout",
     "output_type": "stream",
     "text": [
      "Can't distribute all messages in topics\n"
     ]
    },
    {
     "name": "stderr",
     "output_type": "stream",
     "text": [
      "100%|██████████| 12/12 [00:00<00:00, 126.32it/s]\n",
      "2023-07-16 18:21:12,663 - BERTopic - Transformed documents to Embeddings\n",
      "2023-07-16 18:21:13,487 - BERTopic - Reduced dimensionality\n",
      "2023-07-16 18:21:13,490 - BERTopic - Clustered reduced embeddings\n",
      "100%|██████████| 1/1 [00:00<00:00, 1004.62it/s]\n",
      "100%|██████████| 8/8 [00:00<00:00, 39.22it/s]\n",
      "2023-07-16 18:21:13,830 - BERTopic - Transformed documents to Embeddings\n",
      "2023-07-16 18:21:14,809 - BERTopic - Reduced dimensionality\n",
      "2023-07-16 18:21:14,812 - BERTopic - Clustered reduced embeddings\n",
      "100%|██████████| 1/1 [00:00<00:00, 333.57it/s]\n",
      "100%|██████████| 52/52 [00:00<00:00, 123.22it/s]\n",
      "2023-07-16 18:21:15,403 - BERTopic - Transformed documents to Embeddings\n",
      "2023-07-16 18:21:16,244 - BERTopic - Reduced dimensionality\n",
      "2023-07-16 18:21:16,253 - BERTopic - Clustered reduced embeddings\n",
      "100%|██████████| 1/1 [00:00<00:00, 499.74it/s]\n",
      "100%|██████████| 23/23 [00:00<00:00, 125.69it/s]\n",
      "2023-07-16 18:21:16,874 - BERTopic - Transformed documents to Embeddings\n",
      "2023-07-16 18:21:17,685 - BERTopic - Reduced dimensionality\n",
      "2023-07-16 18:21:17,690 - BERTopic - Clustered reduced embeddings\n",
      "100%|██████████| 1/1 [00:00<00:00, 499.26it/s]\n",
      "100%|██████████| 19/19 [00:00<00:00, 94.53it/s] \n",
      "2023-07-16 18:21:18,219 - BERTopic - Transformed documents to Embeddings\n",
      "2023-07-16 18:21:18,981 - BERTopic - Reduced dimensionality\n",
      "2023-07-16 18:21:18,985 - BERTopic - Clustered reduced embeddings\n",
      "0it [00:00, ?it/s]\n"
     ]
    },
    {
     "name": "stdout",
     "output_type": "stream",
     "text": [
      "Can't distribute all messages in topics\n"
     ]
    },
    {
     "name": "stderr",
     "output_type": "stream",
     "text": [
      "100%|██████████| 7/7 [00:00<00:00, 170.73it/s]\n",
      "2023-07-16 18:21:19,095 - BERTopic - Transformed documents to Embeddings\n",
      "2023-07-16 18:21:19,850 - BERTopic - Reduced dimensionality\n",
      "2023-07-16 18:21:19,854 - BERTopic - Clustered reduced embeddings\n",
      "0it [00:00, ?it/s]\n"
     ]
    },
    {
     "name": "stdout",
     "output_type": "stream",
     "text": [
      "Can't distribute all messages in topics\n"
     ]
    },
    {
     "name": "stderr",
     "output_type": "stream",
     "text": [
      "100%|██████████| 17/17 [00:00<00:00, 114.86it/s]\n",
      "2023-07-16 18:21:20,046 - BERTopic - Transformed documents to Embeddings\n",
      "2023-07-16 18:21:21,030 - BERTopic - Reduced dimensionality\n",
      "2023-07-16 18:21:21,035 - BERTopic - Clustered reduced embeddings\n",
      "0it [00:00, ?it/s]\n"
     ]
    },
    {
     "name": "stdout",
     "output_type": "stream",
     "text": [
      "Can't distribute all messages in topics\n"
     ]
    },
    {
     "name": "stderr",
     "output_type": "stream",
     "text": [
      "100%|██████████| 23/23 [00:00<00:00, 132.18it/s]\n",
      "2023-07-16 18:21:21,272 - BERTopic - Transformed documents to Embeddings\n",
      "2023-07-16 18:21:22,061 - BERTopic - Reduced dimensionality\n",
      "2023-07-16 18:21:22,066 - BERTopic - Clustered reduced embeddings\n",
      "100%|██████████| 1/1 [00:00<00:00, 499.26it/s]\n",
      "100%|██████████| 8/8 [00:00<00:00, 142.86it/s]\n",
      "2023-07-16 18:21:22,386 - BERTopic - Transformed documents to Embeddings\n",
      "2023-07-16 18:21:23,127 - BERTopic - Reduced dimensionality\n",
      "2023-07-16 18:21:23,130 - BERTopic - Clustered reduced embeddings\n",
      "  0%|          | 0/1 [00:00<?, ?it/s]\n"
     ]
    },
    {
     "name": "stdout",
     "output_type": "stream",
     "text": [
      "Can't distribute all messages in topics\n"
     ]
    },
    {
     "name": "stderr",
     "output_type": "stream",
     "text": [
      "100%|██████████| 22/22 [00:00<00:00, 141.03it/s]\n",
      "2023-07-16 18:21:23,328 - BERTopic - Transformed documents to Embeddings\n",
      "2023-07-16 18:21:24,116 - BERTopic - Reduced dimensionality\n",
      "2023-07-16 18:21:24,121 - BERTopic - Clustered reduced embeddings\n",
      "0it [00:00, ?it/s]\n"
     ]
    },
    {
     "name": "stdout",
     "output_type": "stream",
     "text": [
      "Can't distribute all messages in topics\n"
     ]
    },
    {
     "name": "stderr",
     "output_type": "stream",
     "text": [
      "100%|██████████| 14/14 [00:00<00:00, 106.06it/s]\n",
      "2023-07-16 18:21:24,312 - BERTopic - Transformed documents to Embeddings\n",
      "2023-07-16 18:21:25,269 - BERTopic - Reduced dimensionality\n",
      "2023-07-16 18:21:25,273 - BERTopic - Clustered reduced embeddings\n",
      "0it [00:00, ?it/s]\n"
     ]
    },
    {
     "name": "stdout",
     "output_type": "stream",
     "text": [
      "Can't distribute all messages in topics\n"
     ]
    },
    {
     "name": "stderr",
     "output_type": "stream",
     "text": [
      "100%|██████████| 12/12 [00:00<00:00, 141.18it/s]\n",
      "2023-07-16 18:21:25,419 - BERTopic - Transformed documents to Embeddings\n",
      "2023-07-16 18:21:26,192 - BERTopic - Reduced dimensionality\n",
      "2023-07-16 18:21:26,196 - BERTopic - Clustered reduced embeddings\n",
      "0it [00:00, ?it/s]\n"
     ]
    },
    {
     "name": "stdout",
     "output_type": "stream",
     "text": [
      "Can't distribute all messages in topics\n"
     ]
    },
    {
     "name": "stderr",
     "output_type": "stream",
     "text": [
      "100%|██████████| 22/22 [00:00<00:00, 89.80it/s] \n",
      "2023-07-16 18:21:26,491 - BERTopic - Transformed documents to Embeddings\n",
      "2023-07-16 18:21:27,255 - BERTopic - Reduced dimensionality\n",
      "2023-07-16 18:21:27,260 - BERTopic - Clustered reduced embeddings\n",
      "0it [00:00, ?it/s]\n"
     ]
    },
    {
     "name": "stdout",
     "output_type": "stream",
     "text": [
      "Can't distribute all messages in topics\n"
     ]
    },
    {
     "name": "stderr",
     "output_type": "stream",
     "text": [
      "100%|██████████| 10/10 [00:00<00:00, 30.77it/s]\n",
      "2023-07-16 18:21:27,653 - BERTopic - Transformed documents to Embeddings\n",
      "2023-07-16 18:21:28,466 - BERTopic - Reduced dimensionality\n",
      "2023-07-16 18:21:28,470 - BERTopic - Clustered reduced embeddings\n",
      "0it [00:00, ?it/s]\n"
     ]
    },
    {
     "name": "stdout",
     "output_type": "stream",
     "text": [
      "Can't distribute all messages in topics\n"
     ]
    },
    {
     "name": "stderr",
     "output_type": "stream",
     "text": [
      "100%|██████████| 11/11 [00:00<00:00, 169.24it/s]\n",
      "2023-07-16 18:21:28,593 - BERTopic - Transformed documents to Embeddings\n",
      "2023-07-16 18:21:29,402 - BERTopic - Reduced dimensionality\n",
      "2023-07-16 18:21:29,406 - BERTopic - Clustered reduced embeddings\n",
      "0it [00:00, ?it/s]\n"
     ]
    },
    {
     "name": "stdout",
     "output_type": "stream",
     "text": [
      "Can't distribute all messages in topics\n"
     ]
    },
    {
     "name": "stderr",
     "output_type": "stream",
     "text": [
      "100%|██████████| 8/8 [00:00<00:00, 160.00it/s]\n",
      "2023-07-16 18:21:29,536 - BERTopic - Transformed documents to Embeddings\n",
      "2023-07-16 18:21:30,302 - BERTopic - Reduced dimensionality\n",
      "2023-07-16 18:21:30,306 - BERTopic - Clustered reduced embeddings\n",
      "0it [00:00, ?it/s]\n"
     ]
    },
    {
     "name": "stdout",
     "output_type": "stream",
     "text": [
      "Can't distribute all messages in topics\n"
     ]
    },
    {
     "name": "stderr",
     "output_type": "stream",
     "text": [
      "100%|██████████| 9/9 [00:00<00:00, 85.71it/s]\n",
      "2023-07-16 18:21:30,466 - BERTopic - Transformed documents to Embeddings\n",
      "2023-07-16 18:21:31,456 - BERTopic - Reduced dimensionality\n",
      "2023-07-16 18:21:31,460 - BERTopic - Clustered reduced embeddings\n",
      "0it [00:00, ?it/s]\n"
     ]
    },
    {
     "name": "stdout",
     "output_type": "stream",
     "text": [
      "Can't distribute all messages in topics\n"
     ]
    },
    {
     "name": "stderr",
     "output_type": "stream",
     "text": [
      "100%|██████████| 6/6 [00:00<00:00, 104.97it/s]\n",
      "2023-07-16 18:21:31,576 - BERTopic - Transformed documents to Embeddings\n",
      "f:\\Coding\\.venv\\lib\\site-packages\\scipy\\sparse\\linalg\\_eigen\\arpack\\arpack.py:1592: RuntimeWarning: k >= N for N * N square matrix. Attempting to use scipy.linalg.eigh instead.\n",
      "  warnings.warn(\"k >= N for N * N square matrix. \"\n",
      "2023-07-16 18:21:31,582 - BERTopic - The dimensionality reduction algorithm did not contain the `y` parameter and therefore the `y` parameter was not used\n",
      "f:\\Coding\\.venv\\lib\\site-packages\\scipy\\sparse\\linalg\\_eigen\\arpack\\arpack.py:1592: RuntimeWarning: k >= N for N * N square matrix. Attempting to use scipy.linalg.eigh instead.\n",
      "  warnings.warn(\"k >= N for N * N square matrix. \"\n"
     ]
    },
    {
     "name": "stdout",
     "output_type": "stream",
     "text": [
      "Can't reduce dimensionality or some other problem\n"
     ]
    },
    {
     "name": "stderr",
     "output_type": "stream",
     "text": [
      "100%|██████████| 8/8 [00:00<00:00, 150.94it/s]\n",
      "2023-07-16 18:21:31,656 - BERTopic - Transformed documents to Embeddings\n",
      "2023-07-16 18:21:32,428 - BERTopic - Reduced dimensionality\n",
      "2023-07-16 18:21:32,433 - BERTopic - Clustered reduced embeddings\n",
      "0it [00:00, ?it/s]\n"
     ]
    },
    {
     "name": "stdout",
     "output_type": "stream",
     "text": [
      "Can't distribute all messages in topics\n"
     ]
    },
    {
     "name": "stderr",
     "output_type": "stream",
     "text": [
      "100%|██████████| 6/6 [00:00<00:00, 88.24it/s]\n",
      "2023-07-16 18:21:32,570 - BERTopic - Transformed documents to Embeddings\n",
      "f:\\Coding\\.venv\\lib\\site-packages\\scipy\\sparse\\linalg\\_eigen\\arpack\\arpack.py:1592: RuntimeWarning: k >= N for N * N square matrix. Attempting to use scipy.linalg.eigh instead.\n",
      "  warnings.warn(\"k >= N for N * N square matrix. \"\n",
      "2023-07-16 18:21:32,576 - BERTopic - The dimensionality reduction algorithm did not contain the `y` parameter and therefore the `y` parameter was not used\n",
      "f:\\Coding\\.venv\\lib\\site-packages\\scipy\\sparse\\linalg\\_eigen\\arpack\\arpack.py:1592: RuntimeWarning: k >= N for N * N square matrix. Attempting to use scipy.linalg.eigh instead.\n",
      "  warnings.warn(\"k >= N for N * N square matrix. \"\n"
     ]
    },
    {
     "name": "stdout",
     "output_type": "stream",
     "text": [
      "Can't reduce dimensionality or some other problem\n"
     ]
    },
    {
     "name": "stderr",
     "output_type": "stream",
     "text": [
      "100%|██████████| 17/17 [00:00<00:00, 124.06it/s]\n",
      "2023-07-16 18:21:32,730 - BERTopic - Transformed documents to Embeddings\n",
      "2023-07-16 18:21:33,519 - BERTopic - Reduced dimensionality\n",
      "2023-07-16 18:21:33,524 - BERTopic - Clustered reduced embeddings\n",
      "0it [00:00, ?it/s]\n"
     ]
    },
    {
     "name": "stdout",
     "output_type": "stream",
     "text": [
      "Can't distribute all messages in topics\n"
     ]
    },
    {
     "name": "stderr",
     "output_type": "stream",
     "text": [
      "100%|██████████| 12/12 [00:00<00:00, 150.01it/s]\n",
      "2023-07-16 18:21:33,661 - BERTopic - Transformed documents to Embeddings\n",
      "2023-07-16 18:21:34,434 - BERTopic - Reduced dimensionality\n",
      "2023-07-16 18:21:34,438 - BERTopic - Clustered reduced embeddings\n",
      "0it [00:00, ?it/s]\n"
     ]
    },
    {
     "name": "stdout",
     "output_type": "stream",
     "text": [
      "Can't distribute all messages in topics\n"
     ]
    },
    {
     "name": "stderr",
     "output_type": "stream",
     "text": [
      "100%|██████████| 10/10 [00:00<00:00, 123.46it/s]\n",
      "2023-07-16 18:21:34,576 - BERTopic - Transformed documents to Embeddings\n",
      "2023-07-16 18:21:35,327 - BERTopic - Reduced dimensionality\n",
      "2023-07-16 18:21:35,332 - BERTopic - Clustered reduced embeddings\n",
      "0it [00:00, ?it/s]\n"
     ]
    },
    {
     "name": "stdout",
     "output_type": "stream",
     "text": [
      "Can't distribute all messages in topics\n"
     ]
    },
    {
     "name": "stderr",
     "output_type": "stream",
     "text": [
      "100%|██████████| 10/10 [00:00<00:00, 121.96it/s]\n",
      "2023-07-16 18:21:35,472 - BERTopic - Transformed documents to Embeddings\n",
      "2023-07-16 18:21:36,446 - BERTopic - Reduced dimensionality\n",
      "2023-07-16 18:21:36,451 - BERTopic - Clustered reduced embeddings\n",
      "0it [00:00, ?it/s]\n"
     ]
    },
    {
     "name": "stdout",
     "output_type": "stream",
     "text": [
      "Can't distribute all messages in topics\n"
     ]
    },
    {
     "name": "stderr",
     "output_type": "stream",
     "text": [
      "100%|██████████| 16/16 [00:00<00:00, 137.93it/s]\n",
      "2023-07-16 18:21:36,625 - BERTopic - Transformed documents to Embeddings\n",
      "2023-07-16 18:21:37,396 - BERTopic - Reduced dimensionality\n",
      "2023-07-16 18:21:37,400 - BERTopic - Clustered reduced embeddings\n",
      "0it [00:00, ?it/s]\n"
     ]
    },
    {
     "name": "stdout",
     "output_type": "stream",
     "text": [
      "Can't distribute all messages in topics\n"
     ]
    },
    {
     "name": "stderr",
     "output_type": "stream",
     "text": [
      "100%|██████████| 6/6 [00:00<00:00, 113.20it/s]\n",
      "2023-07-16 18:21:37,520 - BERTopic - Transformed documents to Embeddings\n",
      "f:\\Coding\\.venv\\lib\\site-packages\\scipy\\sparse\\linalg\\_eigen\\arpack\\arpack.py:1592: RuntimeWarning: k >= N for N * N square matrix. Attempting to use scipy.linalg.eigh instead.\n",
      "  warnings.warn(\"k >= N for N * N square matrix. \"\n",
      "2023-07-16 18:21:37,525 - BERTopic - The dimensionality reduction algorithm did not contain the `y` parameter and therefore the `y` parameter was not used\n",
      "f:\\Coding\\.venv\\lib\\site-packages\\scipy\\sparse\\linalg\\_eigen\\arpack\\arpack.py:1592: RuntimeWarning: k >= N for N * N square matrix. Attempting to use scipy.linalg.eigh instead.\n",
      "  warnings.warn(\"k >= N for N * N square matrix. \"\n"
     ]
    },
    {
     "name": "stdout",
     "output_type": "stream",
     "text": [
      "Can't reduce dimensionality or some other problem\n"
     ]
    },
    {
     "name": "stderr",
     "output_type": "stream",
     "text": [
      "100%|██████████| 28/28 [00:00<00:00, 128.44it/s]\n",
      "2023-07-16 18:21:37,767 - BERTopic - Transformed documents to Embeddings\n",
      "2023-07-16 18:21:38,553 - BERTopic - Reduced dimensionality\n",
      "2023-07-16 18:21:38,559 - BERTopic - Clustered reduced embeddings\n",
      "100%|██████████| 1/1 [00:00<00:00, 250.00it/s]\n",
      "100%|██████████| 8/8 [00:00<00:00, 30.65it/s]\n",
      "2023-07-16 18:21:39,106 - BERTopic - Transformed documents to Embeddings\n",
      "2023-07-16 18:21:39,848 - BERTopic - Reduced dimensionality\n",
      "2023-07-16 18:21:39,852 - BERTopic - Clustered reduced embeddings\n",
      "0it [00:00, ?it/s]\n"
     ]
    },
    {
     "name": "stdout",
     "output_type": "stream",
     "text": [
      "Can't distribute all messages in topics\n"
     ]
    },
    {
     "name": "stderr",
     "output_type": "stream",
     "text": [
      "100%|██████████| 5/5 [00:00<00:00, 147.08it/s]\n",
      "2023-07-16 18:21:39,965 - BERTopic - Transformed documents to Embeddings\n",
      "f:\\Coding\\.venv\\lib\\site-packages\\scipy\\sparse\\linalg\\_eigen\\arpack\\arpack.py:1592: RuntimeWarning: k >= N for N * N square matrix. Attempting to use scipy.linalg.eigh instead.\n",
      "  warnings.warn(\"k >= N for N * N square matrix. \"\n",
      "2023-07-16 18:21:39,970 - BERTopic - The dimensionality reduction algorithm did not contain the `y` parameter and therefore the `y` parameter was not used\n",
      "f:\\Coding\\.venv\\lib\\site-packages\\scipy\\sparse\\linalg\\_eigen\\arpack\\arpack.py:1592: RuntimeWarning: k >= N for N * N square matrix. Attempting to use scipy.linalg.eigh instead.\n",
      "  warnings.warn(\"k >= N for N * N square matrix. \"\n"
     ]
    },
    {
     "name": "stdout",
     "output_type": "stream",
     "text": [
      "Can't reduce dimensionality or some other problem\n"
     ]
    },
    {
     "name": "stderr",
     "output_type": "stream",
     "text": [
      "100%|██████████| 6/6 [00:00<00:00, 78.95it/s]\n",
      "2023-07-16 18:21:40,089 - BERTopic - Transformed documents to Embeddings\n",
      "f:\\Coding\\.venv\\lib\\site-packages\\scipy\\sparse\\linalg\\_eigen\\arpack\\arpack.py:1592: RuntimeWarning: k >= N for N * N square matrix. Attempting to use scipy.linalg.eigh instead.\n",
      "  warnings.warn(\"k >= N for N * N square matrix. \"\n",
      "2023-07-16 18:21:40,093 - BERTopic - The dimensionality reduction algorithm did not contain the `y` parameter and therefore the `y` parameter was not used\n",
      "f:\\Coding\\.venv\\lib\\site-packages\\scipy\\sparse\\linalg\\_eigen\\arpack\\arpack.py:1592: RuntimeWarning: k >= N for N * N square matrix. Attempting to use scipy.linalg.eigh instead.\n",
      "  warnings.warn(\"k >= N for N * N square matrix. \"\n"
     ]
    },
    {
     "name": "stdout",
     "output_type": "stream",
     "text": [
      "Can't reduce dimensionality or some other problem\n"
     ]
    },
    {
     "name": "stderr",
     "output_type": "stream",
     "text": [
      "100%|██████████| 6/6 [00:00<00:00, 81.09it/s]\n",
      "2023-07-16 18:21:40,178 - BERTopic - Transformed documents to Embeddings\n",
      "f:\\Coding\\.venv\\lib\\site-packages\\scipy\\sparse\\linalg\\_eigen\\arpack\\arpack.py:1592: RuntimeWarning: k >= N for N * N square matrix. Attempting to use scipy.linalg.eigh instead.\n",
      "  warnings.warn(\"k >= N for N * N square matrix. \"\n",
      "2023-07-16 18:21:40,183 - BERTopic - The dimensionality reduction algorithm did not contain the `y` parameter and therefore the `y` parameter was not used\n",
      "f:\\Coding\\.venv\\lib\\site-packages\\scipy\\sparse\\linalg\\_eigen\\arpack\\arpack.py:1592: RuntimeWarning: k >= N for N * N square matrix. Attempting to use scipy.linalg.eigh instead.\n",
      "  warnings.warn(\"k >= N for N * N square matrix. \"\n"
     ]
    },
    {
     "name": "stdout",
     "output_type": "stream",
     "text": [
      "Can't reduce dimensionality or some other problem\n"
     ]
    },
    {
     "name": "stderr",
     "output_type": "stream",
     "text": [
      "100%|██████████| 13/13 [00:00<00:00, 72.63it/s]\n",
      "2023-07-16 18:21:40,373 - BERTopic - Transformed documents to Embeddings\n",
      "2023-07-16 18:21:41,153 - BERTopic - Reduced dimensionality\n",
      "2023-07-16 18:21:41,157 - BERTopic - Clustered reduced embeddings\n",
      "0it [00:00, ?it/s]\n"
     ]
    },
    {
     "name": "stdout",
     "output_type": "stream",
     "text": [
      "Can't distribute all messages in topics\n"
     ]
    },
    {
     "name": "stderr",
     "output_type": "stream",
     "text": [
      "100%|██████████| 24/24 [00:00<00:00, 127.66it/s]\n",
      "2023-07-16 18:21:41,408 - BERTopic - Transformed documents to Embeddings\n",
      "2023-07-16 18:21:42,413 - BERTopic - Reduced dimensionality\n",
      "2023-07-16 18:21:42,419 - BERTopic - Clustered reduced embeddings\n",
      "0it [00:00, ?it/s]\n"
     ]
    },
    {
     "name": "stdout",
     "output_type": "stream",
     "text": [
      "Can't distribute all messages in topics\n"
     ]
    },
    {
     "name": "stderr",
     "output_type": "stream",
     "text": [
      "100%|██████████| 52/52 [00:01<00:00, 36.21it/s] \n",
      "2023-07-16 18:21:43,940 - BERTopic - Transformed documents to Embeddings\n",
      "2023-07-16 18:21:44,774 - BERTopic - Reduced dimensionality\n",
      "2023-07-16 18:21:44,781 - BERTopic - Clustered reduced embeddings\n",
      "0it [00:00, ?it/s]\n"
     ]
    },
    {
     "name": "stdout",
     "output_type": "stream",
     "text": [
      "Can't distribute all messages in topics\n"
     ]
    },
    {
     "name": "stderr",
     "output_type": "stream",
     "text": [
      "100%|██████████| 14/14 [00:00<00:00, 46.51it/s]\n",
      "2023-07-16 18:21:45,222 - BERTopic - Transformed documents to Embeddings\n",
      "2023-07-16 18:21:45,979 - BERTopic - Reduced dimensionality\n",
      "2023-07-16 18:21:45,983 - BERTopic - Clustered reduced embeddings\n",
      "0it [00:00, ?it/s]\n"
     ]
    },
    {
     "name": "stdout",
     "output_type": "stream",
     "text": [
      "Can't distribute all messages in topics\n"
     ]
    },
    {
     "name": "stderr",
     "output_type": "stream",
     "text": [
      "100%|██████████| 14/14 [00:00<00:00, 134.62it/s]\n",
      "2023-07-16 18:21:46,153 - BERTopic - Transformed documents to Embeddings\n",
      "2023-07-16 18:21:46,906 - BERTopic - Reduced dimensionality\n",
      "2023-07-16 18:21:46,910 - BERTopic - Clustered reduced embeddings\n",
      "0it [00:00, ?it/s]\n"
     ]
    },
    {
     "name": "stdout",
     "output_type": "stream",
     "text": [
      "Can't distribute all messages in topics\n"
     ]
    },
    {
     "name": "stderr",
     "output_type": "stream",
     "text": [
      "100%|██████████| 35/35 [00:00<00:00, 92.84it/s] \n",
      "2023-07-16 18:21:47,354 - BERTopic - Transformed documents to Embeddings\n",
      "2023-07-16 18:21:48,138 - BERTopic - Reduced dimensionality\n",
      "2023-07-16 18:21:48,143 - BERTopic - Clustered reduced embeddings\n",
      "0it [00:00, ?it/s]\n"
     ]
    },
    {
     "name": "stdout",
     "output_type": "stream",
     "text": [
      "Can't distribute all messages in topics\n"
     ]
    },
    {
     "name": "stderr",
     "output_type": "stream",
     "text": [
      "100%|██████████| 16/16 [00:00<00:00, 104.58it/s]\n",
      "2023-07-16 18:21:48,369 - BERTopic - Transformed documents to Embeddings\n",
      "2023-07-16 18:21:49,340 - BERTopic - Reduced dimensionality\n",
      "2023-07-16 18:21:49,345 - BERTopic - Clustered reduced embeddings\n",
      "100%|██████████| 1/1 [00:00<00:00, 999.83it/s]\n",
      "100%|██████████| 56/56 [00:00<00:00, 81.04it/s] \n",
      "2023-07-16 18:21:50,295 - BERTopic - Transformed documents to Embeddings\n",
      "2023-07-16 18:21:51,154 - BERTopic - Reduced dimensionality\n",
      "2023-07-16 18:21:51,162 - BERTopic - Clustered reduced embeddings\n",
      "100%|██████████| 1/1 [00:00<00:00, 330.26it/s]\n",
      "100%|██████████| 67/67 [00:00<00:00, 124.30it/s]\n",
      "2023-07-16 18:21:52,299 - BERTopic - Transformed documents to Embeddings\n",
      "2023-07-16 18:21:53,158 - BERTopic - Reduced dimensionality\n",
      "2023-07-16 18:21:53,167 - BERTopic - Clustered reduced embeddings\n",
      "0it [00:00, ?it/s]\n"
     ]
    },
    {
     "name": "stdout",
     "output_type": "stream",
     "text": [
      "Can't distribute all messages in topics\n"
     ]
    },
    {
     "name": "stderr",
     "output_type": "stream",
     "text": [
      "100%|██████████| 14/14 [00:00<00:00, 155.56it/s]\n",
      "2023-07-16 18:21:53,335 - BERTopic - Transformed documents to Embeddings\n",
      "2023-07-16 18:21:54,112 - BERTopic - Reduced dimensionality\n",
      "2023-07-16 18:21:54,116 - BERTopic - Clustered reduced embeddings\n",
      "100%|██████████| 1/1 [00:00<00:00, 500.10it/s]\n",
      "100%|██████████| 11/11 [00:00<00:00, 164.18it/s]\n",
      "2023-07-16 18:21:54,322 - BERTopic - Transformed documents to Embeddings\n",
      "2023-07-16 18:21:55,067 - BERTopic - Reduced dimensionality\n",
      "2023-07-16 18:21:55,071 - BERTopic - Clustered reduced embeddings\n",
      "0it [00:00, ?it/s]\n"
     ]
    },
    {
     "name": "stdout",
     "output_type": "stream",
     "text": [
      "Can't distribute all messages in topics\n"
     ]
    },
    {
     "name": "stderr",
     "output_type": "stream",
     "text": [
      "100%|██████████| 18/18 [00:00<00:00, 117.65it/s]\n",
      "2023-07-16 18:21:55,274 - BERTopic - Transformed documents to Embeddings\n",
      "2023-07-16 18:21:56,347 - BERTopic - Reduced dimensionality\n",
      "2023-07-16 18:21:56,352 - BERTopic - Clustered reduced embeddings\n",
      "0it [00:00, ?it/s]\n"
     ]
    },
    {
     "name": "stdout",
     "output_type": "stream",
     "text": [
      "Can't distribute all messages in topics\n"
     ]
    },
    {
     "name": "stderr",
     "output_type": "stream",
     "text": [
      "100%|██████████| 8/8 [00:00<00:00, 108.11it/s]\n",
      "2023-07-16 18:21:56,499 - BERTopic - Transformed documents to Embeddings\n",
      "2023-07-16 18:21:57,239 - BERTopic - Reduced dimensionality\n",
      "2023-07-16 18:21:57,243 - BERTopic - Clustered reduced embeddings\n",
      "0it [00:00, ?it/s]\n"
     ]
    },
    {
     "name": "stdout",
     "output_type": "stream",
     "text": [
      "Can't distribute all messages in topics\n"
     ]
    },
    {
     "name": "stderr",
     "output_type": "stream",
     "text": [
      "100%|██████████| 22/22 [00:00<00:00, 58.98it/s]\n",
      "2023-07-16 18:21:57,690 - BERTopic - Transformed documents to Embeddings\n",
      "2023-07-16 18:21:58,517 - BERTopic - Reduced dimensionality\n",
      "2023-07-16 18:21:58,521 - BERTopic - Clustered reduced embeddings\n",
      "100%|██████████| 1/1 [00:00<00:00, 499.38it/s]\n",
      "100%|██████████| 15/15 [00:00<00:00, 126.05it/s]\n",
      "2023-07-16 18:21:58,881 - BERTopic - Transformed documents to Embeddings\n",
      "2023-07-16 18:21:59,640 - BERTopic - Reduced dimensionality\n",
      "2023-07-16 18:21:59,645 - BERTopic - Clustered reduced embeddings\n",
      "100%|██████████| 1/1 [00:00<00:00, 499.32it/s]\n",
      "100%|██████████| 11/11 [00:00<00:00, 90.16it/s]\n",
      "2023-07-16 18:22:00,014 - BERTopic - Transformed documents to Embeddings\n",
      "2023-07-16 18:22:00,781 - BERTopic - Reduced dimensionality\n",
      "2023-07-16 18:22:00,785 - BERTopic - Clustered reduced embeddings\n",
      "100%|██████████| 1/1 [00:00<00:00, 499.50it/s]\n",
      "100%|██████████| 5/5 [00:00<00:00, 70.42it/s]\n",
      "2023-07-16 18:22:01,053 - BERTopic - Transformed documents to Embeddings\n",
      "f:\\Coding\\.venv\\lib\\site-packages\\scipy\\sparse\\linalg\\_eigen\\arpack\\arpack.py:1592: RuntimeWarning: k >= N for N * N square matrix. Attempting to use scipy.linalg.eigh instead.\n",
      "  warnings.warn(\"k >= N for N * N square matrix. \"\n",
      "2023-07-16 18:22:01,058 - BERTopic - The dimensionality reduction algorithm did not contain the `y` parameter and therefore the `y` parameter was not used\n",
      "f:\\Coding\\.venv\\lib\\site-packages\\scipy\\sparse\\linalg\\_eigen\\arpack\\arpack.py:1592: RuntimeWarning: k >= N for N * N square matrix. Attempting to use scipy.linalg.eigh instead.\n",
      "  warnings.warn(\"k >= N for N * N square matrix. \"\n"
     ]
    },
    {
     "name": "stdout",
     "output_type": "stream",
     "text": [
      "Can't reduce dimensionality or some other problem\n"
     ]
    },
    {
     "name": "stderr",
     "output_type": "stream",
     "text": [
      "100%|██████████| 66/66 [00:00<00:00, 95.79it/s] \n",
      "2023-07-16 18:22:01,765 - BERTopic - Transformed documents to Embeddings\n",
      "2023-07-16 18:22:02,869 - BERTopic - Reduced dimensionality\n",
      "2023-07-16 18:22:02,877 - BERTopic - Clustered reduced embeddings\n",
      "0it [00:00, ?it/s]\n"
     ]
    },
    {
     "name": "stdout",
     "output_type": "stream",
     "text": [
      "Can't distribute all messages in topics\n"
     ]
    },
    {
     "name": "stderr",
     "output_type": "stream",
     "text": [
      "100%|██████████| 13/13 [00:00<00:00, 109.69it/s]\n",
      "2023-07-16 18:22:03,081 - BERTopic - Transformed documents to Embeddings\n",
      "2023-07-16 18:22:03,856 - BERTopic - Reduced dimensionality\n",
      "2023-07-16 18:22:03,860 - BERTopic - Clustered reduced embeddings\n",
      "0it [00:00, ?it/s]\n"
     ]
    },
    {
     "name": "stdout",
     "output_type": "stream",
     "text": [
      "Can't distribute all messages in topics\n"
     ]
    },
    {
     "name": "stderr",
     "output_type": "stream",
     "text": [
      "100%|██████████| 15/15 [00:00<00:00, 116.28it/s]\n",
      "2023-07-16 18:22:04,052 - BERTopic - Transformed documents to Embeddings\n",
      "2023-07-16 18:22:04,828 - BERTopic - Reduced dimensionality\n",
      "2023-07-16 18:22:04,833 - BERTopic - Clustered reduced embeddings\n",
      "0it [00:00, ?it/s]\n"
     ]
    },
    {
     "name": "stdout",
     "output_type": "stream",
     "text": [
      "Can't distribute all messages in topics\n"
     ]
    },
    {
     "name": "stderr",
     "output_type": "stream",
     "text": [
      "100%|██████████| 9/9 [00:00<00:00, 112.50it/s]\n",
      "2023-07-16 18:22:04,978 - BERTopic - Transformed documents to Embeddings\n",
      "2023-07-16 18:22:05,718 - BERTopic - Reduced dimensionality\n",
      "2023-07-16 18:22:05,721 - BERTopic - Clustered reduced embeddings\n",
      "0it [00:00, ?it/s]\n"
     ]
    },
    {
     "name": "stdout",
     "output_type": "stream",
     "text": [
      "Can't distribute all messages in topics\n"
     ]
    },
    {
     "name": "stderr",
     "output_type": "stream",
     "text": [
      "100%|██████████| 11/11 [00:00<00:00, 114.58it/s]\n",
      "2023-07-16 18:22:05,870 - BERTopic - Transformed documents to Embeddings\n",
      "2023-07-16 18:22:06,641 - BERTopic - Reduced dimensionality\n",
      "2023-07-16 18:22:06,643 - BERTopic - Clustered reduced embeddings\n",
      "  0%|          | 0/1 [00:00<?, ?it/s]\n"
     ]
    },
    {
     "name": "stdout",
     "output_type": "stream",
     "text": [
      "Can't distribute all messages in topics\n"
     ]
    },
    {
     "name": "stderr",
     "output_type": "stream",
     "text": [
      "100%|██████████| 6/6 [00:00<00:00, 70.59it/s]\n",
      "2023-07-16 18:22:06,775 - BERTopic - Transformed documents to Embeddings\n",
      "f:\\Coding\\.venv\\lib\\site-packages\\scipy\\sparse\\linalg\\_eigen\\arpack\\arpack.py:1592: RuntimeWarning: k >= N for N * N square matrix. Attempting to use scipy.linalg.eigh instead.\n",
      "  warnings.warn(\"k >= N for N * N square matrix. \"\n",
      "2023-07-16 18:22:06,779 - BERTopic - The dimensionality reduction algorithm did not contain the `y` parameter and therefore the `y` parameter was not used\n",
      "f:\\Coding\\.venv\\lib\\site-packages\\scipy\\sparse\\linalg\\_eigen\\arpack\\arpack.py:1592: RuntimeWarning: k >= N for N * N square matrix. Attempting to use scipy.linalg.eigh instead.\n",
      "  warnings.warn(\"k >= N for N * N square matrix. \"\n"
     ]
    },
    {
     "name": "stdout",
     "output_type": "stream",
     "text": [
      "Can't reduce dimensionality or some other problem\n"
     ]
    },
    {
     "name": "stderr",
     "output_type": "stream",
     "text": [
      "100%|██████████| 7/7 [00:00<00:00, 78.66it/s]\n",
      "2023-07-16 18:22:06,888 - BERTopic - Transformed documents to Embeddings\n",
      "2023-07-16 18:22:07,837 - BERTopic - Reduced dimensionality\n",
      "2023-07-16 18:22:07,840 - BERTopic - Clustered reduced embeddings\n",
      "  0%|          | 0/1 [00:00<?, ?it/s]\n"
     ]
    },
    {
     "name": "stdout",
     "output_type": "stream",
     "text": [
      "Can't distribute all messages in topics\n"
     ]
    },
    {
     "name": "stderr",
     "output_type": "stream",
     "text": [
      "100%|██████████| 9/9 [00:00<00:00, 61.22it/s]\n",
      "2023-07-16 18:22:08,029 - BERTopic - Transformed documents to Embeddings\n",
      "2023-07-16 18:22:08,785 - BERTopic - Reduced dimensionality\n",
      "2023-07-16 18:22:08,789 - BERTopic - Clustered reduced embeddings\n",
      "0it [00:00, ?it/s]\n"
     ]
    },
    {
     "name": "stdout",
     "output_type": "stream",
     "text": [
      "Can't distribute all messages in topics\n"
     ]
    },
    {
     "name": "stderr",
     "output_type": "stream",
     "text": [
      "100%|██████████| 8/8 [00:00<00:00, 84.21it/s]\n",
      "2023-07-16 18:22:08,935 - BERTopic - Transformed documents to Embeddings\n",
      "2023-07-16 18:22:09,673 - BERTopic - Reduced dimensionality\n",
      "2023-07-16 18:22:09,676 - BERTopic - Clustered reduced embeddings\n",
      "  0%|          | 0/1 [00:00<?, ?it/s]\n"
     ]
    },
    {
     "name": "stdout",
     "output_type": "stream",
     "text": [
      "Can't distribute all messages in topics\n"
     ]
    },
    {
     "name": "stderr",
     "output_type": "stream",
     "text": [
      "100%|██████████| 8/8 [00:00<00:00, 84.21it/s]\n",
      "2023-07-16 18:22:09,815 - BERTopic - Transformed documents to Embeddings\n",
      "2023-07-16 18:22:10,552 - BERTopic - Reduced dimensionality\n",
      "2023-07-16 18:22:10,555 - BERTopic - Clustered reduced embeddings\n",
      "  0%|          | 0/1 [00:00<?, ?it/s]\n"
     ]
    },
    {
     "name": "stdout",
     "output_type": "stream",
     "text": [
      "Can't distribute all messages in topics\n"
     ]
    },
    {
     "name": "stderr",
     "output_type": "stream",
     "text": [
      "100%|██████████| 5/5 [00:00<00:00, 156.25it/s]\n",
      "2023-07-16 18:22:10,636 - BERTopic - Transformed documents to Embeddings\n",
      "f:\\Coding\\.venv\\lib\\site-packages\\scipy\\sparse\\linalg\\_eigen\\arpack\\arpack.py:1592: RuntimeWarning: k >= N for N * N square matrix. Attempting to use scipy.linalg.eigh instead.\n",
      "  warnings.warn(\"k >= N for N * N square matrix. \"\n",
      "2023-07-16 18:22:10,641 - BERTopic - The dimensionality reduction algorithm did not contain the `y` parameter and therefore the `y` parameter was not used\n",
      "f:\\Coding\\.venv\\lib\\site-packages\\scipy\\sparse\\linalg\\_eigen\\arpack\\arpack.py:1592: RuntimeWarning: k >= N for N * N square matrix. Attempting to use scipy.linalg.eigh instead.\n",
      "  warnings.warn(\"k >= N for N * N square matrix. \"\n"
     ]
    },
    {
     "name": "stdout",
     "output_type": "stream",
     "text": [
      "Can't reduce dimensionality or some other problem\n"
     ]
    },
    {
     "name": "stderr",
     "output_type": "stream",
     "text": [
      "100%|██████████| 10/10 [00:00<00:00, 131.58it/s]\n",
      "2023-07-16 18:22:10,729 - BERTopic - Transformed documents to Embeddings\n",
      "2023-07-16 18:22:11,484 - BERTopic - Reduced dimensionality\n",
      "2023-07-16 18:22:11,488 - BERTopic - Clustered reduced embeddings\n",
      "0it [00:00, ?it/s]\n"
     ]
    },
    {
     "name": "stdout",
     "output_type": "stream",
     "text": [
      "Can't distribute all messages in topics\n"
     ]
    },
    {
     "name": "stderr",
     "output_type": "stream",
     "text": [
      "100%|██████████| 9/9 [00:00<00:00, 96.78it/s]\n",
      "2023-07-16 18:22:11,629 - BERTopic - Transformed documents to Embeddings\n",
      "2023-07-16 18:22:12,587 - BERTopic - Reduced dimensionality\n",
      "2023-07-16 18:22:12,591 - BERTopic - Clustered reduced embeddings\n",
      "0it [00:00, ?it/s]\n"
     ]
    },
    {
     "name": "stdout",
     "output_type": "stream",
     "text": [
      "Can't distribute all messages in topics\n"
     ]
    },
    {
     "name": "stderr",
     "output_type": "stream",
     "text": [
      "100%|██████████| 17/17 [00:00<00:00, 87.18it/s]\n",
      "2023-07-16 18:22:12,839 - BERTopic - Transformed documents to Embeddings\n",
      "2023-07-16 18:22:13,616 - BERTopic - Reduced dimensionality\n",
      "2023-07-16 18:22:13,621 - BERTopic - Clustered reduced embeddings\n",
      "0it [00:00, ?it/s]\n"
     ]
    },
    {
     "name": "stdout",
     "output_type": "stream",
     "text": [
      "Can't distribute all messages in topics\n"
     ]
    },
    {
     "name": "stderr",
     "output_type": "stream",
     "text": [
      "100%|██████████| 6/6 [00:00<00:00, 133.33it/s]\n",
      "2023-07-16 18:22:13,743 - BERTopic - Transformed documents to Embeddings\n",
      "f:\\Coding\\.venv\\lib\\site-packages\\scipy\\sparse\\linalg\\_eigen\\arpack\\arpack.py:1592: RuntimeWarning: k >= N for N * N square matrix. Attempting to use scipy.linalg.eigh instead.\n",
      "  warnings.warn(\"k >= N for N * N square matrix. \"\n",
      "2023-07-16 18:22:13,748 - BERTopic - The dimensionality reduction algorithm did not contain the `y` parameter and therefore the `y` parameter was not used\n",
      "f:\\Coding\\.venv\\lib\\site-packages\\scipy\\sparse\\linalg\\_eigen\\arpack\\arpack.py:1592: RuntimeWarning: k >= N for N * N square matrix. Attempting to use scipy.linalg.eigh instead.\n",
      "  warnings.warn(\"k >= N for N * N square matrix. \"\n"
     ]
    },
    {
     "name": "stdout",
     "output_type": "stream",
     "text": [
      "Can't reduce dimensionality or some other problem\n"
     ]
    },
    {
     "name": "stderr",
     "output_type": "stream",
     "text": [
      "100%|██████████| 6/6 [00:00<00:00, 115.38it/s]\n",
      "2023-07-16 18:22:13,813 - BERTopic - Transformed documents to Embeddings\n",
      "f:\\Coding\\.venv\\lib\\site-packages\\scipy\\sparse\\linalg\\_eigen\\arpack\\arpack.py:1592: RuntimeWarning: k >= N for N * N square matrix. Attempting to use scipy.linalg.eigh instead.\n",
      "  warnings.warn(\"k >= N for N * N square matrix. \"\n",
      "2023-07-16 18:22:13,819 - BERTopic - The dimensionality reduction algorithm did not contain the `y` parameter and therefore the `y` parameter was not used\n",
      "f:\\Coding\\.venv\\lib\\site-packages\\scipy\\sparse\\linalg\\_eigen\\arpack\\arpack.py:1592: RuntimeWarning: k >= N for N * N square matrix. Attempting to use scipy.linalg.eigh instead.\n",
      "  warnings.warn(\"k >= N for N * N square matrix. \"\n"
     ]
    },
    {
     "name": "stdout",
     "output_type": "stream",
     "text": [
      "Can't reduce dimensionality or some other problem\n"
     ]
    },
    {
     "name": "stderr",
     "output_type": "stream",
     "text": [
      "100%|██████████| 7/7 [00:00<00:00, 112.91it/s]\n",
      "2023-07-16 18:22:13,892 - BERTopic - Transformed documents to Embeddings\n",
      "2023-07-16 18:22:14,628 - BERTopic - Reduced dimensionality\n",
      "2023-07-16 18:22:14,632 - BERTopic - Clustered reduced embeddings\n",
      "0it [00:00, ?it/s]\n"
     ]
    },
    {
     "name": "stdout",
     "output_type": "stream",
     "text": [
      "Can't distribute all messages in topics\n"
     ]
    },
    {
     "name": "stderr",
     "output_type": "stream",
     "text": [
      "100%|██████████| 16/16 [00:00<00:00, 137.93it/s]\n",
      "2023-07-16 18:22:14,828 - BERTopic - Transformed documents to Embeddings\n",
      "2023-07-16 18:22:15,632 - BERTopic - Reduced dimensionality\n",
      "2023-07-16 18:22:15,637 - BERTopic - Clustered reduced embeddings\n",
      "100%|██████████| 1/1 [00:00<00:00, 499.50it/s]\n",
      "100%|██████████| 19/19 [00:00<00:00, 157.02it/s]\n",
      "2023-07-16 18:22:15,981 - BERTopic - Transformed documents to Embeddings\n",
      "2023-07-16 18:22:16,740 - BERTopic - Reduced dimensionality\n",
      "2023-07-16 18:22:16,745 - BERTopic - Clustered reduced embeddings\n",
      "100%|██████████| 1/1 [00:00<00:00, 999.12it/s]\n",
      "100%|██████████| 8/8 [00:00<00:00, 160.00it/s]\n",
      "2023-07-16 18:22:16,972 - BERTopic - Transformed documents to Embeddings\n",
      "2023-07-16 18:22:17,961 - BERTopic - Reduced dimensionality\n",
      "2023-07-16 18:22:17,965 - BERTopic - Clustered reduced embeddings\n",
      "0it [00:00, ?it/s]\n"
     ]
    },
    {
     "name": "stdout",
     "output_type": "stream",
     "text": [
      "Can't distribute all messages in topics\n"
     ]
    },
    {
     "name": "stderr",
     "output_type": "stream",
     "text": [
      "100%|██████████| 6/6 [00:00<00:00, 73.17it/s]\n",
      "2023-07-16 18:22:18,100 - BERTopic - Transformed documents to Embeddings\n",
      "f:\\Coding\\.venv\\lib\\site-packages\\scipy\\sparse\\linalg\\_eigen\\arpack\\arpack.py:1592: RuntimeWarning: k >= N for N * N square matrix. Attempting to use scipy.linalg.eigh instead.\n",
      "  warnings.warn(\"k >= N for N * N square matrix. \"\n",
      "2023-07-16 18:22:18,106 - BERTopic - The dimensionality reduction algorithm did not contain the `y` parameter and therefore the `y` parameter was not used\n",
      "f:\\Coding\\.venv\\lib\\site-packages\\scipy\\sparse\\linalg\\_eigen\\arpack\\arpack.py:1592: RuntimeWarning: k >= N for N * N square matrix. Attempting to use scipy.linalg.eigh instead.\n",
      "  warnings.warn(\"k >= N for N * N square matrix. \"\n"
     ]
    },
    {
     "name": "stdout",
     "output_type": "stream",
     "text": [
      "Can't reduce dimensionality or some other problem\n"
     ]
    },
    {
     "name": "stderr",
     "output_type": "stream",
     "text": [
      "100%|██████████| 5/5 [00:00<00:00, 52.63it/s]\n",
      "2023-07-16 18:22:18,213 - BERTopic - Transformed documents to Embeddings\n",
      "f:\\Coding\\.venv\\lib\\site-packages\\scipy\\sparse\\linalg\\_eigen\\arpack\\arpack.py:1592: RuntimeWarning: k >= N for N * N square matrix. Attempting to use scipy.linalg.eigh instead.\n",
      "  warnings.warn(\"k >= N for N * N square matrix. \"\n",
      "2023-07-16 18:22:18,218 - BERTopic - The dimensionality reduction algorithm did not contain the `y` parameter and therefore the `y` parameter was not used\n",
      "f:\\Coding\\.venv\\lib\\site-packages\\scipy\\sparse\\linalg\\_eigen\\arpack\\arpack.py:1592: RuntimeWarning: k >= N for N * N square matrix. Attempting to use scipy.linalg.eigh instead.\n",
      "  warnings.warn(\"k >= N for N * N square matrix. \"\n"
     ]
    },
    {
     "name": "stdout",
     "output_type": "stream",
     "text": [
      "Can't reduce dimensionality or some other problem\n"
     ]
    },
    {
     "name": "stderr",
     "output_type": "stream",
     "text": [
      "100%|██████████| 5/5 [00:00<00:00, 52.63it/s]\n",
      "2023-07-16 18:22:18,324 - BERTopic - Transformed documents to Embeddings\n",
      "f:\\Coding\\.venv\\lib\\site-packages\\scipy\\sparse\\linalg\\_eigen\\arpack\\arpack.py:1592: RuntimeWarning: k >= N for N * N square matrix. Attempting to use scipy.linalg.eigh instead.\n",
      "  warnings.warn(\"k >= N for N * N square matrix. \"\n",
      "2023-07-16 18:22:18,329 - BERTopic - The dimensionality reduction algorithm did not contain the `y` parameter and therefore the `y` parameter was not used\n",
      "f:\\Coding\\.venv\\lib\\site-packages\\scipy\\sparse\\linalg\\_eigen\\arpack\\arpack.py:1592: RuntimeWarning: k >= N for N * N square matrix. Attempting to use scipy.linalg.eigh instead.\n",
      "  warnings.warn(\"k >= N for N * N square matrix. \"\n"
     ]
    },
    {
     "name": "stdout",
     "output_type": "stream",
     "text": [
      "Can't reduce dimensionality or some other problem\n"
     ]
    },
    {
     "name": "stderr",
     "output_type": "stream",
     "text": [
      "100%|██████████| 5/5 [00:00<00:00, 94.34it/s]\n",
      "2023-07-16 18:22:18,395 - BERTopic - Transformed documents to Embeddings\n",
      "f:\\Coding\\.venv\\lib\\site-packages\\scipy\\sparse\\linalg\\_eigen\\arpack\\arpack.py:1592: RuntimeWarning: k >= N for N * N square matrix. Attempting to use scipy.linalg.eigh instead.\n",
      "  warnings.warn(\"k >= N for N * N square matrix. \"\n",
      "2023-07-16 18:22:18,400 - BERTopic - The dimensionality reduction algorithm did not contain the `y` parameter and therefore the `y` parameter was not used\n",
      "f:\\Coding\\.venv\\lib\\site-packages\\scipy\\sparse\\linalg\\_eigen\\arpack\\arpack.py:1592: RuntimeWarning: k >= N for N * N square matrix. Attempting to use scipy.linalg.eigh instead.\n",
      "  warnings.warn(\"k >= N for N * N square matrix. \"\n"
     ]
    },
    {
     "name": "stdout",
     "output_type": "stream",
     "text": [
      "Can't reduce dimensionality or some other problem\n"
     ]
    },
    {
     "name": "stderr",
     "output_type": "stream",
     "text": [
      "100%|██████████| 8/8 [00:00<00:00, 135.60it/s]\n",
      "2023-07-16 18:22:18,489 - BERTopic - Transformed documents to Embeddings\n",
      "2023-07-16 18:22:19,230 - BERTopic - Reduced dimensionality\n",
      "2023-07-16 18:22:19,234 - BERTopic - Clustered reduced embeddings\n",
      "0it [00:00, ?it/s]\n"
     ]
    },
    {
     "name": "stdout",
     "output_type": "stream",
     "text": [
      "Can't distribute all messages in topics\n"
     ]
    },
    {
     "name": "stderr",
     "output_type": "stream",
     "text": [
      "100%|██████████| 8/8 [00:00<00:00, 43.72it/s]\n",
      "2023-07-16 18:22:19,521 - BERTopic - Transformed documents to Embeddings\n",
      "2023-07-16 18:22:20,265 - BERTopic - Reduced dimensionality\n",
      "2023-07-16 18:22:20,268 - BERTopic - Clustered reduced embeddings\n",
      "0it [00:00, ?it/s]\n"
     ]
    },
    {
     "name": "stdout",
     "output_type": "stream",
     "text": [
      "Can't distribute all messages in topics\n"
     ]
    },
    {
     "name": "stderr",
     "output_type": "stream",
     "text": [
      "100%|██████████| 8/8 [00:00<00:00, 63.49it/s]\n",
      "2023-07-16 18:22:20,449 - BERTopic - Transformed documents to Embeddings\n",
      "2023-07-16 18:22:21,218 - BERTopic - Reduced dimensionality\n",
      "2023-07-16 18:22:21,222 - BERTopic - Clustered reduced embeddings\n",
      "0it [00:00, ?it/s]\n"
     ]
    },
    {
     "name": "stdout",
     "output_type": "stream",
     "text": [
      "Can't distribute all messages in topics\n"
     ]
    },
    {
     "name": "stderr",
     "output_type": "stream",
     "text": [
      "100%|██████████| 12/12 [00:00<00:00, 99.17it/s]\n",
      "2023-07-16 18:22:21,396 - BERTopic - Transformed documents to Embeddings\n",
      "2023-07-16 18:22:22,167 - BERTopic - Reduced dimensionality\n",
      "2023-07-16 18:22:22,170 - BERTopic - Clustered reduced embeddings\n",
      "0it [00:00, ?it/s]\n"
     ]
    },
    {
     "name": "stdout",
     "output_type": "stream",
     "text": [
      "Can't distribute all messages in topics\n"
     ]
    },
    {
     "name": "stderr",
     "output_type": "stream",
     "text": [
      "100%|██████████| 12/12 [00:00<00:00, 99.15it/s]\n",
      "2023-07-16 18:22:22,346 - BERTopic - Transformed documents to Embeddings\n",
      "2023-07-16 18:22:23,322 - BERTopic - Reduced dimensionality\n",
      "2023-07-16 18:22:23,325 - BERTopic - Clustered reduced embeddings\n",
      "0it [00:00, ?it/s]\n"
     ]
    },
    {
     "name": "stdout",
     "output_type": "stream",
     "text": [
      "Can't distribute all messages in topics\n"
     ]
    },
    {
     "name": "stderr",
     "output_type": "stream",
     "text": [
      "100%|██████████| 8/8 [00:00<00:00, 111.11it/s]\n",
      "2023-07-16 18:22:23,450 - BERTopic - Transformed documents to Embeddings\n",
      "2023-07-16 18:22:24,208 - BERTopic - Reduced dimensionality\n",
      "2023-07-16 18:22:24,212 - BERTopic - Clustered reduced embeddings\n",
      "100%|██████████| 1/1 [00:00<00:00, 333.25it/s]\n",
      "100%|██████████| 6/6 [00:00<00:00, 111.12it/s]\n",
      "2023-07-16 18:22:24,402 - BERTopic - Transformed documents to Embeddings\n",
      "f:\\Coding\\.venv\\lib\\site-packages\\scipy\\sparse\\linalg\\_eigen\\arpack\\arpack.py:1592: RuntimeWarning: k >= N for N * N square matrix. Attempting to use scipy.linalg.eigh instead.\n",
      "  warnings.warn(\"k >= N for N * N square matrix. \"\n",
      "2023-07-16 18:22:24,407 - BERTopic - The dimensionality reduction algorithm did not contain the `y` parameter and therefore the `y` parameter was not used\n",
      "f:\\Coding\\.venv\\lib\\site-packages\\scipy\\sparse\\linalg\\_eigen\\arpack\\arpack.py:1592: RuntimeWarning: k >= N for N * N square matrix. Attempting to use scipy.linalg.eigh instead.\n",
      "  warnings.warn(\"k >= N for N * N square matrix. \"\n"
     ]
    },
    {
     "name": "stdout",
     "output_type": "stream",
     "text": [
      "Can't reduce dimensionality or some other problem\n"
     ]
    },
    {
     "name": "stderr",
     "output_type": "stream",
     "text": [
      "100%|██████████| 11/11 [00:00<00:00, 103.21it/s]\n",
      "2023-07-16 18:22:24,525 - BERTopic - Transformed documents to Embeddings\n",
      "2023-07-16 18:22:25,280 - BERTopic - Reduced dimensionality\n",
      "2023-07-16 18:22:25,284 - BERTopic - Clustered reduced embeddings\n",
      "0it [00:00, ?it/s]\n"
     ]
    },
    {
     "name": "stdout",
     "output_type": "stream",
     "text": [
      "Can't distribute all messages in topics\n"
     ]
    },
    {
     "name": "stderr",
     "output_type": "stream",
     "text": [
      "100%|██████████| 18/18 [00:00<00:00, 53.73it/s]\n",
      "2023-07-16 18:22:25,684 - BERTopic - Transformed documents to Embeddings\n",
      "2023-07-16 18:22:26,476 - BERTopic - Reduced dimensionality\n",
      "2023-07-16 18:22:26,479 - BERTopic - Clustered reduced embeddings\n",
      "0it [00:00, ?it/s]\n"
     ]
    },
    {
     "name": "stdout",
     "output_type": "stream",
     "text": [
      "Can't distribute all messages in topics\n"
     ]
    },
    {
     "name": "stderr",
     "output_type": "stream",
     "text": [
      "100%|██████████| 18/18 [00:00<00:00, 61.64it/s]\n",
      "2023-07-16 18:22:26,849 - BERTopic - Transformed documents to Embeddings\n",
      "2023-07-16 18:22:27,653 - BERTopic - Reduced dimensionality\n",
      "2023-07-16 18:22:27,657 - BERTopic - Clustered reduced embeddings\n",
      "0it [00:00, ?it/s]\n"
     ]
    },
    {
     "name": "stdout",
     "output_type": "stream",
     "text": [
      "Can't distribute all messages in topics\n"
     ]
    },
    {
     "name": "stderr",
     "output_type": "stream",
     "text": [
      "100%|██████████| 18/18 [00:00<00:00, 47.37it/s]\n",
      "2023-07-16 18:22:28,117 - BERTopic - Transformed documents to Embeddings\n",
      "2023-07-16 18:22:29,103 - BERTopic - Reduced dimensionality\n",
      "2023-07-16 18:22:29,107 - BERTopic - Clustered reduced embeddings\n",
      "0it [00:00, ?it/s]\n"
     ]
    },
    {
     "name": "stdout",
     "output_type": "stream",
     "text": [
      "Can't distribute all messages in topics\n"
     ]
    },
    {
     "name": "stderr",
     "output_type": "stream",
     "text": [
      "100%|██████████| 18/18 [00:00<00:00, 61.22it/s]\n",
      "2023-07-16 18:22:29,475 - BERTopic - Transformed documents to Embeddings\n",
      "2023-07-16 18:22:30,250 - BERTopic - Reduced dimensionality\n",
      "2023-07-16 18:22:30,254 - BERTopic - Clustered reduced embeddings\n",
      "0it [00:00, ?it/s]\n"
     ]
    },
    {
     "name": "stdout",
     "output_type": "stream",
     "text": [
      "Can't distribute all messages in topics\n"
     ]
    },
    {
     "name": "stderr",
     "output_type": "stream",
     "text": [
      "100%|██████████| 18/18 [00:00<00:00, 54.22it/s]\n",
      "2023-07-16 18:22:30,657 - BERTopic - Transformed documents to Embeddings\n",
      "2023-07-16 18:22:31,421 - BERTopic - Reduced dimensionality\n",
      "2023-07-16 18:22:31,425 - BERTopic - Clustered reduced embeddings\n",
      "0it [00:00, ?it/s]\n"
     ]
    },
    {
     "name": "stdout",
     "output_type": "stream",
     "text": [
      "Can't distribute all messages in topics\n"
     ]
    },
    {
     "name": "stderr",
     "output_type": "stream",
     "text": [
      "100%|██████████| 14/14 [00:00<00:00, 93.33it/s]\n",
      "2023-07-16 18:22:31,654 - BERTopic - Transformed documents to Embeddings\n",
      "2023-07-16 18:22:32,427 - BERTopic - Reduced dimensionality\n",
      "2023-07-16 18:22:32,432 - BERTopic - Clustered reduced embeddings\n",
      "100%|██████████| 1/1 [00:00<00:00, 500.04it/s]\n",
      "100%|██████████| 52/52 [00:00<00:00, 168.55it/s]\n",
      "2023-07-16 18:22:32,926 - BERTopic - Transformed documents to Embeddings\n",
      "2023-07-16 18:22:33,740 - BERTopic - Reduced dimensionality\n",
      "2023-07-16 18:22:33,748 - BERTopic - Clustered reduced embeddings\n",
      "100%|██████████| 1/1 [00:00<00:00, 1013.12it/s]\n",
      "100%|██████████| 48/48 [00:00<00:00, 131.15it/s]\n",
      "2023-07-16 18:22:34,540 - BERTopic - Transformed documents to Embeddings\n",
      "2023-07-16 18:22:35,570 - BERTopic - Reduced dimensionality\n",
      "2023-07-16 18:22:35,577 - BERTopic - Clustered reduced embeddings\n",
      "100%|██████████| 1/1 [00:00<00:00, 492.46it/s]\n",
      "100%|██████████| 5/5 [00:00<00:00, 172.39it/s]\n",
      "2023-07-16 18:22:36,019 - BERTopic - Transformed documents to Embeddings\n",
      "f:\\Coding\\.venv\\lib\\site-packages\\scipy\\sparse\\linalg\\_eigen\\arpack\\arpack.py:1592: RuntimeWarning: k >= N for N * N square matrix. Attempting to use scipy.linalg.eigh instead.\n",
      "  warnings.warn(\"k >= N for N * N square matrix. \"\n",
      "2023-07-16 18:22:36,024 - BERTopic - The dimensionality reduction algorithm did not contain the `y` parameter and therefore the `y` parameter was not used\n",
      "f:\\Coding\\.venv\\lib\\site-packages\\scipy\\sparse\\linalg\\_eigen\\arpack\\arpack.py:1592: RuntimeWarning: k >= N for N * N square matrix. Attempting to use scipy.linalg.eigh instead.\n",
      "  warnings.warn(\"k >= N for N * N square matrix. \"\n"
     ]
    },
    {
     "name": "stdout",
     "output_type": "stream",
     "text": [
      "Can't reduce dimensionality or some other problem\n"
     ]
    },
    {
     "name": "stderr",
     "output_type": "stream",
     "text": [
      "100%|██████████| 5/5 [00:00<00:00, 80.64it/s]\n",
      "2023-07-16 18:22:36,110 - BERTopic - Transformed documents to Embeddings\n",
      "f:\\Coding\\.venv\\lib\\site-packages\\scipy\\sparse\\linalg\\_eigen\\arpack\\arpack.py:1592: RuntimeWarning: k >= N for N * N square matrix. Attempting to use scipy.linalg.eigh instead.\n",
      "  warnings.warn(\"k >= N for N * N square matrix. \"\n",
      "2023-07-16 18:22:36,114 - BERTopic - The dimensionality reduction algorithm did not contain the `y` parameter and therefore the `y` parameter was not used\n",
      "f:\\Coding\\.venv\\lib\\site-packages\\scipy\\sparse\\linalg\\_eigen\\arpack\\arpack.py:1592: RuntimeWarning: k >= N for N * N square matrix. Attempting to use scipy.linalg.eigh instead.\n",
      "  warnings.warn(\"k >= N for N * N square matrix. \"\n"
     ]
    },
    {
     "name": "stdout",
     "output_type": "stream",
     "text": [
      "Can't reduce dimensionality or some other problem\n"
     ]
    },
    {
     "name": "stderr",
     "output_type": "stream",
     "text": [
      "100%|██████████| 6/6 [00:00<00:00, 49.18it/s]\n",
      "2023-07-16 18:22:36,248 - BERTopic - Transformed documents to Embeddings\n",
      "f:\\Coding\\.venv\\lib\\site-packages\\scipy\\sparse\\linalg\\_eigen\\arpack\\arpack.py:1592: RuntimeWarning: k >= N for N * N square matrix. Attempting to use scipy.linalg.eigh instead.\n",
      "  warnings.warn(\"k >= N for N * N square matrix. \"\n",
      "2023-07-16 18:22:36,254 - BERTopic - The dimensionality reduction algorithm did not contain the `y` parameter and therefore the `y` parameter was not used\n",
      "f:\\Coding\\.venv\\lib\\site-packages\\scipy\\sparse\\linalg\\_eigen\\arpack\\arpack.py:1592: RuntimeWarning: k >= N for N * N square matrix. Attempting to use scipy.linalg.eigh instead.\n",
      "  warnings.warn(\"k >= N for N * N square matrix. \"\n"
     ]
    },
    {
     "name": "stdout",
     "output_type": "stream",
     "text": [
      "Can't reduce dimensionality or some other problem\n"
     ]
    },
    {
     "name": "stderr",
     "output_type": "stream",
     "text": [
      "100%|██████████| 6/6 [00:00<00:00, 111.12it/s]\n",
      "2023-07-16 18:22:36,320 - BERTopic - Transformed documents to Embeddings\n",
      "f:\\Coding\\.venv\\lib\\site-packages\\scipy\\sparse\\linalg\\_eigen\\arpack\\arpack.py:1592: RuntimeWarning: k >= N for N * N square matrix. Attempting to use scipy.linalg.eigh instead.\n",
      "  warnings.warn(\"k >= N for N * N square matrix. \"\n",
      "2023-07-16 18:22:36,326 - BERTopic - The dimensionality reduction algorithm did not contain the `y` parameter and therefore the `y` parameter was not used\n",
      "f:\\Coding\\.venv\\lib\\site-packages\\scipy\\sparse\\linalg\\_eigen\\arpack\\arpack.py:1592: RuntimeWarning: k >= N for N * N square matrix. Attempting to use scipy.linalg.eigh instead.\n",
      "  warnings.warn(\"k >= N for N * N square matrix. \"\n"
     ]
    },
    {
     "name": "stdout",
     "output_type": "stream",
     "text": [
      "Can't reduce dimensionality or some other problem\n"
     ]
    },
    {
     "name": "stderr",
     "output_type": "stream",
     "text": [
      "100%|██████████| 12/12 [00:00<00:00, 114.29it/s]\n",
      "2023-07-16 18:22:36,443 - BERTopic - Transformed documents to Embeddings\n",
      "2023-07-16 18:22:37,208 - BERTopic - Reduced dimensionality\n",
      "2023-07-16 18:22:37,212 - BERTopic - Clustered reduced embeddings\n",
      "0it [00:00, ?it/s]\n"
     ]
    },
    {
     "name": "stdout",
     "output_type": "stream",
     "text": [
      "Can't distribute all messages in topics\n"
     ]
    },
    {
     "name": "stderr",
     "output_type": "stream",
     "text": [
      "100%|██████████| 10/10 [00:00<00:00, 153.85it/s]\n",
      "2023-07-16 18:22:37,331 - BERTopic - Transformed documents to Embeddings\n",
      "2023-07-16 18:22:38,076 - BERTopic - Reduced dimensionality\n",
      "2023-07-16 18:22:38,080 - BERTopic - Clustered reduced embeddings\n",
      "0it [00:00, ?it/s]\n"
     ]
    },
    {
     "name": "stdout",
     "output_type": "stream",
     "text": [
      "Can't distribute all messages in topics\n"
     ]
    },
    {
     "name": "stderr",
     "output_type": "stream",
     "text": [
      "100%|██████████| 9/9 [00:00<00:00, 140.63it/s]\n",
      "2023-07-16 18:22:38,193 - BERTopic - Transformed documents to Embeddings\n",
      "2023-07-16 18:22:38,958 - BERTopic - Reduced dimensionality\n",
      "2023-07-16 18:22:38,962 - BERTopic - Clustered reduced embeddings\n",
      "100%|██████████| 1/1 [00:00<00:00, 333.07it/s]\n",
      "100%|██████████| 16/16 [00:00<00:00, 130.08it/s]\n",
      "2023-07-16 18:22:39,228 - BERTopic - Transformed documents to Embeddings\n",
      "2023-07-16 18:22:39,987 - BERTopic - Reduced dimensionality\n",
      "2023-07-16 18:22:39,992 - BERTopic - Clustered reduced embeddings\n",
      "0it [00:00, ?it/s]\n"
     ]
    },
    {
     "name": "stdout",
     "output_type": "stream",
     "text": [
      "Can't distribute all messages in topics\n"
     ]
    },
    {
     "name": "stderr",
     "output_type": "stream",
     "text": [
      "100%|██████████| 7/7 [00:00<00:00, 92.11it/s]\n",
      "2023-07-16 18:22:40,135 - BERTopic - Transformed documents to Embeddings\n",
      "2023-07-16 18:22:41,125 - BERTopic - Reduced dimensionality\n",
      "2023-07-16 18:22:41,128 - BERTopic - Clustered reduced embeddings\n",
      "  0%|          | 0/1 [00:00<?, ?it/s]\n"
     ]
    },
    {
     "name": "stdout",
     "output_type": "stream",
     "text": [
      "Can't distribute all messages in topics\n"
     ]
    },
    {
     "name": "stderr",
     "output_type": "stream",
     "text": [
      "100%|██████████| 22/22 [00:00<00:00, 139.24it/s]\n",
      "2023-07-16 18:22:41,325 - BERTopic - Transformed documents to Embeddings\n",
      "2023-07-16 18:22:42,092 - BERTopic - Reduced dimensionality\n",
      "2023-07-16 18:22:42,098 - BERTopic - Clustered reduced embeddings\n",
      "0it [00:00, ?it/s]\n"
     ]
    },
    {
     "name": "stdout",
     "output_type": "stream",
     "text": [
      "Can't distribute all messages in topics\n"
     ]
    },
    {
     "name": "stderr",
     "output_type": "stream",
     "text": [
      "100%|██████████| 6/6 [00:00<00:00, 101.70it/s]\n",
      "2023-07-16 18:22:42,216 - BERTopic - Transformed documents to Embeddings\n",
      "f:\\Coding\\.venv\\lib\\site-packages\\scipy\\sparse\\linalg\\_eigen\\arpack\\arpack.py:1592: RuntimeWarning: k >= N for N * N square matrix. Attempting to use scipy.linalg.eigh instead.\n",
      "  warnings.warn(\"k >= N for N * N square matrix. \"\n",
      "2023-07-16 18:22:42,221 - BERTopic - The dimensionality reduction algorithm did not contain the `y` parameter and therefore the `y` parameter was not used\n",
      "f:\\Coding\\.venv\\lib\\site-packages\\scipy\\sparse\\linalg\\_eigen\\arpack\\arpack.py:1592: RuntimeWarning: k >= N for N * N square matrix. Attempting to use scipy.linalg.eigh instead.\n",
      "  warnings.warn(\"k >= N for N * N square matrix. \"\n"
     ]
    },
    {
     "name": "stdout",
     "output_type": "stream",
     "text": [
      "Can't reduce dimensionality or some other problem\n"
     ]
    },
    {
     "name": "stderr",
     "output_type": "stream",
     "text": [
      "100%|██████████| 13/13 [00:00<00:00, 82.80it/s]\n",
      "2023-07-16 18:22:42,390 - BERTopic - Transformed documents to Embeddings\n",
      "2023-07-16 18:22:43,159 - BERTopic - Reduced dimensionality\n",
      "2023-07-16 18:22:43,163 - BERTopic - Clustered reduced embeddings\n",
      "0it [00:00, ?it/s]\n"
     ]
    },
    {
     "name": "stdout",
     "output_type": "stream",
     "text": [
      "Can't distribute all messages in topics\n"
     ]
    },
    {
     "name": "stderr",
     "output_type": "stream",
     "text": [
      "100%|██████████| 14/14 [00:00<00:00, 142.86it/s]\n",
      "2023-07-16 18:22:43,314 - BERTopic - Transformed documents to Embeddings\n",
      "2023-07-16 18:22:44,066 - BERTopic - Reduced dimensionality\n",
      "2023-07-16 18:22:44,070 - BERTopic - Clustered reduced embeddings\n",
      "100%|██████████| 1/1 [00:00<00:00, 500.16it/s]\n",
      "100%|██████████| 14/14 [00:00<00:00, 166.67it/s]\n",
      "2023-07-16 18:22:44,335 - BERTopic - Transformed documents to Embeddings\n",
      "2023-07-16 18:22:45,106 - BERTopic - Reduced dimensionality\n",
      "2023-07-16 18:22:45,110 - BERTopic - Clustered reduced embeddings\n",
      "100%|██████████| 1/1 [00:00<00:00, 499.68it/s]\n",
      "100%|██████████| 34/34 [00:00<00:00, 126.87it/s]\n",
      "2023-07-16 18:22:45,560 - BERTopic - Transformed documents to Embeddings\n",
      "2023-07-16 18:22:46,565 - BERTopic - Reduced dimensionality\n",
      "2023-07-16 18:22:46,572 - BERTopic - Clustered reduced embeddings\n",
      "100%|██████████| 1/1 [00:00<00:00, 499.26it/s]\n",
      "100%|██████████| 6/6 [00:00<00:00, 162.15it/s]\n",
      "2023-07-16 18:22:46,957 - BERTopic - Transformed documents to Embeddings\n",
      "f:\\Coding\\.venv\\lib\\site-packages\\scipy\\sparse\\linalg\\_eigen\\arpack\\arpack.py:1592: RuntimeWarning: k >= N for N * N square matrix. Attempting to use scipy.linalg.eigh instead.\n",
      "  warnings.warn(\"k >= N for N * N square matrix. \"\n",
      "2023-07-16 18:22:46,963 - BERTopic - The dimensionality reduction algorithm did not contain the `y` parameter and therefore the `y` parameter was not used\n",
      "f:\\Coding\\.venv\\lib\\site-packages\\scipy\\sparse\\linalg\\_eigen\\arpack\\arpack.py:1592: RuntimeWarning: k >= N for N * N square matrix. Attempting to use scipy.linalg.eigh instead.\n",
      "  warnings.warn(\"k >= N for N * N square matrix. \"\n"
     ]
    },
    {
     "name": "stdout",
     "output_type": "stream",
     "text": [
      "Can't reduce dimensionality or some other problem\n"
     ]
    },
    {
     "name": "stderr",
     "output_type": "stream",
     "text": [
      "100%|██████████| 24/24 [00:00<00:00, 151.90it/s]\n",
      "2023-07-16 18:22:47,132 - BERTopic - Transformed documents to Embeddings\n",
      "2023-07-16 18:22:47,919 - BERTopic - Reduced dimensionality\n",
      "2023-07-16 18:22:47,924 - BERTopic - Clustered reduced embeddings\n",
      "0it [00:00, ?it/s]\n"
     ]
    },
    {
     "name": "stdout",
     "output_type": "stream",
     "text": [
      "Can't distribute all messages in topics\n"
     ]
    },
    {
     "name": "stderr",
     "output_type": "stream",
     "text": [
      "100%|██████████| 13/13 [00:00<00:00, 130.01it/s]\n",
      "2023-07-16 18:22:48,094 - BERTopic - Transformed documents to Embeddings\n",
      "2023-07-16 18:22:48,845 - BERTopic - Reduced dimensionality\n",
      "2023-07-16 18:22:48,850 - BERTopic - Clustered reduced embeddings\n",
      "0it [00:00, ?it/s]\n"
     ]
    },
    {
     "name": "stdout",
     "output_type": "stream",
     "text": [
      "Can't distribute all messages in topics\n"
     ]
    },
    {
     "name": "stderr",
     "output_type": "stream",
     "text": [
      "100%|██████████| 9/9 [00:00<00:00, 104.65it/s]\n",
      "2023-07-16 18:22:48,987 - BERTopic - Transformed documents to Embeddings\n",
      "2023-07-16 18:22:49,763 - BERTopic - Reduced dimensionality\n",
      "2023-07-16 18:22:49,767 - BERTopic - Clustered reduced embeddings\n",
      "0it [00:00, ?it/s]\n"
     ]
    },
    {
     "name": "stdout",
     "output_type": "stream",
     "text": [
      "Can't distribute all messages in topics\n"
     ]
    },
    {
     "name": "stderr",
     "output_type": "stream",
     "text": [
      "100%|██████████| 13/13 [00:00<00:00, 90.28it/s]\n",
      "2023-07-16 18:22:49,967 - BERTopic - Transformed documents to Embeddings\n",
      "2023-07-16 18:22:50,716 - BERTopic - Reduced dimensionality\n",
      "2023-07-16 18:22:50,721 - BERTopic - Clustered reduced embeddings\n",
      "0it [00:00, ?it/s]\n"
     ]
    },
    {
     "name": "stdout",
     "output_type": "stream",
     "text": [
      "Can't distribute all messages in topics\n"
     ]
    },
    {
     "name": "stderr",
     "output_type": "stream",
     "text": [
      "100%|██████████| 11/11 [00:00<00:00, 126.44it/s]\n",
      "2023-07-16 18:22:50,858 - BERTopic - Transformed documents to Embeddings\n",
      "2023-07-16 18:22:51,854 - BERTopic - Reduced dimensionality\n",
      "2023-07-16 18:22:51,858 - BERTopic - Clustered reduced embeddings\n",
      "0it [00:00, ?it/s]\n"
     ]
    },
    {
     "name": "stdout",
     "output_type": "stream",
     "text": [
      "Can't distribute all messages in topics\n"
     ]
    },
    {
     "name": "stderr",
     "output_type": "stream",
     "text": [
      "100%|██████████| 15/15 [00:00<00:00, 115.39it/s]\n",
      "2023-07-16 18:22:52,037 - BERTopic - Transformed documents to Embeddings\n",
      "2023-07-16 18:22:52,790 - BERTopic - Reduced dimensionality\n",
      "2023-07-16 18:22:52,794 - BERTopic - Clustered reduced embeddings\n",
      "0it [00:00, ?it/s]\n"
     ]
    },
    {
     "name": "stdout",
     "output_type": "stream",
     "text": [
      "Can't distribute all messages in topics\n"
     ]
    },
    {
     "name": "stderr",
     "output_type": "stream",
     "text": [
      "100%|██████████| 5/5 [00:00<00:00, 156.26it/s]\n",
      "2023-07-16 18:22:52,952 - BERTopic - Transformed documents to Embeddings\n",
      "f:\\Coding\\.venv\\lib\\site-packages\\scipy\\sparse\\linalg\\_eigen\\arpack\\arpack.py:1592: RuntimeWarning: k >= N for N * N square matrix. Attempting to use scipy.linalg.eigh instead.\n",
      "  warnings.warn(\"k >= N for N * N square matrix. \"\n",
      "2023-07-16 18:22:52,957 - BERTopic - The dimensionality reduction algorithm did not contain the `y` parameter and therefore the `y` parameter was not used\n",
      "f:\\Coding\\.venv\\lib\\site-packages\\scipy\\sparse\\linalg\\_eigen\\arpack\\arpack.py:1592: RuntimeWarning: k >= N for N * N square matrix. Attempting to use scipy.linalg.eigh instead.\n",
      "  warnings.warn(\"k >= N for N * N square matrix. \"\n"
     ]
    },
    {
     "name": "stdout",
     "output_type": "stream",
     "text": [
      "Can't reduce dimensionality or some other problem\n"
     ]
    },
    {
     "name": "stderr",
     "output_type": "stream",
     "text": [
      "100%|██████████| 22/22 [00:00<00:00, 118.92it/s]\n",
      "2023-07-16 18:22:53,159 - BERTopic - Transformed documents to Embeddings\n",
      "2023-07-16 18:22:53,942 - BERTopic - Reduced dimensionality\n",
      "2023-07-16 18:22:53,946 - BERTopic - Clustered reduced embeddings\n",
      "0it [00:00, ?it/s]\n"
     ]
    },
    {
     "name": "stdout",
     "output_type": "stream",
     "text": [
      "Can't distribute all messages in topics\n"
     ]
    },
    {
     "name": "stderr",
     "output_type": "stream",
     "text": [
      "100%|██████████| 10/10 [00:00<00:00, 138.89it/s]\n",
      "2023-07-16 18:22:54,094 - BERTopic - Transformed documents to Embeddings\n",
      "2023-07-16 18:22:54,848 - BERTopic - Reduced dimensionality\n",
      "2023-07-16 18:22:54,852 - BERTopic - Clustered reduced embeddings\n",
      "0it [00:00, ?it/s]\n"
     ]
    },
    {
     "name": "stdout",
     "output_type": "stream",
     "text": [
      "Can't distribute all messages in topics\n"
     ]
    },
    {
     "name": "stderr",
     "output_type": "stream",
     "text": [
      "100%|██████████| 10/10 [00:00<00:00, 125.01it/s]\n",
      "2023-07-16 18:22:54,981 - BERTopic - Transformed documents to Embeddings\n",
      "2023-07-16 18:22:55,751 - BERTopic - Reduced dimensionality\n",
      "2023-07-16 18:22:55,756 - BERTopic - Clustered reduced embeddings\n",
      "0it [00:00, ?it/s]\n"
     ]
    },
    {
     "name": "stdout",
     "output_type": "stream",
     "text": [
      "Can't distribute all messages in topics\n"
     ]
    },
    {
     "name": "stderr",
     "output_type": "stream",
     "text": [
      "100%|██████████| 10/10 [00:00<00:00, 109.89it/s]\n",
      "2023-07-16 18:22:55,927 - BERTopic - Transformed documents to Embeddings\n",
      "2023-07-16 18:22:56,669 - BERTopic - Reduced dimensionality\n",
      "2023-07-16 18:22:56,673 - BERTopic - Clustered reduced embeddings\n",
      "0it [00:00, ?it/s]\n"
     ]
    },
    {
     "name": "stdout",
     "output_type": "stream",
     "text": [
      "Can't distribute all messages in topics\n"
     ]
    },
    {
     "name": "stderr",
     "output_type": "stream",
     "text": [
      "100%|██████████| 10/10 [00:00<00:00, 123.46it/s]\n",
      "2023-07-16 18:22:56,806 - BERTopic - Transformed documents to Embeddings\n",
      "2023-07-16 18:22:57,780 - BERTopic - Reduced dimensionality\n",
      "2023-07-16 18:22:57,783 - BERTopic - Clustered reduced embeddings\n",
      "  0%|          | 0/1 [00:00<?, ?it/s]\n"
     ]
    },
    {
     "name": "stdout",
     "output_type": "stream",
     "text": [
      "Can't distribute all messages in topics\n"
     ]
    },
    {
     "name": "stderr",
     "output_type": "stream",
     "text": [
      "100%|██████████| 6/6 [00:00<00:00, 37.74it/s]\n",
      "2023-07-16 18:22:57,989 - BERTopic - Transformed documents to Embeddings\n",
      "f:\\Coding\\.venv\\lib\\site-packages\\scipy\\sparse\\linalg\\_eigen\\arpack\\arpack.py:1592: RuntimeWarning: k >= N for N * N square matrix. Attempting to use scipy.linalg.eigh instead.\n",
      "  warnings.warn(\"k >= N for N * N square matrix. \"\n",
      "2023-07-16 18:22:57,995 - BERTopic - The dimensionality reduction algorithm did not contain the `y` parameter and therefore the `y` parameter was not used\n",
      "f:\\Coding\\.venv\\lib\\site-packages\\scipy\\sparse\\linalg\\_eigen\\arpack\\arpack.py:1592: RuntimeWarning: k >= N for N * N square matrix. Attempting to use scipy.linalg.eigh instead.\n",
      "  warnings.warn(\"k >= N for N * N square matrix. \"\n"
     ]
    },
    {
     "name": "stdout",
     "output_type": "stream",
     "text": [
      "Can't reduce dimensionality or some other problem\n"
     ]
    },
    {
     "name": "stderr",
     "output_type": "stream",
     "text": [
      "100%|██████████| 15/15 [00:00<00:00, 94.34it/s]\n",
      "2023-07-16 18:22:58,172 - BERTopic - Transformed documents to Embeddings\n",
      "2023-07-16 18:22:58,931 - BERTopic - Reduced dimensionality\n",
      "2023-07-16 18:22:58,936 - BERTopic - Clustered reduced embeddings\n",
      "0it [00:00, ?it/s]\n"
     ]
    },
    {
     "name": "stdout",
     "output_type": "stream",
     "text": [
      "Can't distribute all messages in topics\n"
     ]
    },
    {
     "name": "stderr",
     "output_type": "stream",
     "text": [
      "100%|██████████| 21/21 [00:00<00:00, 91.70it/s]\n",
      "2023-07-16 18:22:59,233 - BERTopic - Transformed documents to Embeddings\n",
      "2023-07-16 18:22:59,996 - BERTopic - Reduced dimensionality\n",
      "2023-07-16 18:23:00,002 - BERTopic - Clustered reduced embeddings\n",
      "0it [00:00, ?it/s]\n"
     ]
    },
    {
     "name": "stdout",
     "output_type": "stream",
     "text": [
      "Can't distribute all messages in topics\n"
     ]
    },
    {
     "name": "stderr",
     "output_type": "stream",
     "text": [
      "100%|██████████| 11/11 [00:00<00:00, 114.59it/s]\n",
      "2023-07-16 18:23:00,230 - BERTopic - Transformed documents to Embeddings\n",
      "2023-07-16 18:23:00,969 - BERTopic - Reduced dimensionality\n",
      "2023-07-16 18:23:00,973 - BERTopic - Clustered reduced embeddings\n",
      "0it [00:00, ?it/s]\n"
     ]
    },
    {
     "name": "stdout",
     "output_type": "stream",
     "text": [
      "Can't distribute all messages in topics\n"
     ]
    },
    {
     "name": "stderr",
     "output_type": "stream",
     "text": [
      "100%|██████████| 11/11 [00:00<00:00, 118.28it/s]\n",
      "2023-07-16 18:23:01,117 - BERTopic - Transformed documents to Embeddings\n",
      "2023-07-16 18:23:01,859 - BERTopic - Reduced dimensionality\n",
      "2023-07-16 18:23:01,862 - BERTopic - Clustered reduced embeddings\n",
      "0it [00:00, ?it/s]\n"
     ]
    },
    {
     "name": "stdout",
     "output_type": "stream",
     "text": [
      "Can't distribute all messages in topics\n"
     ]
    },
    {
     "name": "stderr",
     "output_type": "stream",
     "text": [
      "100%|██████████| 11/11 [00:00<00:00, 83.33it/s]\n",
      "2023-07-16 18:23:02,056 - BERTopic - Transformed documents to Embeddings\n",
      "2023-07-16 18:23:03,038 - BERTopic - Reduced dimensionality\n",
      "2023-07-16 18:23:03,042 - BERTopic - Clustered reduced embeddings\n",
      "0it [00:00, ?it/s]\n"
     ]
    },
    {
     "name": "stdout",
     "output_type": "stream",
     "text": [
      "Can't distribute all messages in topics\n"
     ]
    },
    {
     "name": "stderr",
     "output_type": "stream",
     "text": [
      "100%|██████████| 10/10 [00:00<00:00, 77.52it/s]\n",
      "2023-07-16 18:23:03,234 - BERTopic - Transformed documents to Embeddings\n",
      "2023-07-16 18:23:03,974 - BERTopic - Reduced dimensionality\n",
      "2023-07-16 18:23:03,977 - BERTopic - Clustered reduced embeddings\n",
      "100%|██████████| 1/1 [00:00<00:00, 499.74it/s]\n",
      "100%|██████████| 10/10 [00:00<00:00, 91.74it/s]\n",
      "2023-07-16 18:23:04,226 - BERTopic - Transformed documents to Embeddings\n",
      "2023-07-16 18:23:05,006 - BERTopic - Reduced dimensionality\n",
      "2023-07-16 18:23:05,010 - BERTopic - Clustered reduced embeddings\n",
      "100%|██████████| 1/1 [00:00<00:00, 499.26it/s]\n",
      "100%|██████████| 10/10 [00:00<00:00, 89.28it/s]\n",
      "2023-07-16 18:23:05,261 - BERTopic - Transformed documents to Embeddings\n",
      "2023-07-16 18:23:06,010 - BERTopic - Reduced dimensionality\n",
      "2023-07-16 18:23:06,014 - BERTopic - Clustered reduced embeddings\n",
      "100%|██████████| 1/1 [00:00<00:00, 499.98it/s]\n",
      "100%|██████████| 25/25 [00:00<00:00, 135.87it/s]\n",
      "2023-07-16 18:23:06,338 - BERTopic - Transformed documents to Embeddings\n",
      "2023-07-16 18:23:07,135 - BERTopic - Reduced dimensionality\n",
      "2023-07-16 18:23:07,140 - BERTopic - Clustered reduced embeddings\n",
      "100%|██████████| 1/1 [00:00<00:00, 310.32it/s]\n",
      "100%|██████████| 25/25 [00:00<00:00, 131.58it/s]\n",
      "2023-07-16 18:23:07,568 - BERTopic - Transformed documents to Embeddings\n",
      "2023-07-16 18:23:08,557 - BERTopic - Reduced dimensionality\n",
      "2023-07-16 18:23:08,562 - BERTopic - Clustered reduced embeddings\n",
      "100%|██████████| 1/1 [00:00<00:00, 329.59it/s]\n",
      "100%|██████████| 9/9 [00:00<00:00, 163.64it/s]\n",
      "2023-07-16 18:23:08,947 - BERTopic - Transformed documents to Embeddings\n",
      "2023-07-16 18:23:09,686 - BERTopic - Reduced dimensionality\n",
      "2023-07-16 18:23:09,690 - BERTopic - Clustered reduced embeddings\n",
      "0it [00:00, ?it/s]\n"
     ]
    },
    {
     "name": "stdout",
     "output_type": "stream",
     "text": [
      "Can't distribute all messages in topics\n"
     ]
    },
    {
     "name": "stderr",
     "output_type": "stream",
     "text": [
      "100%|██████████| 9/9 [00:00<00:00, 111.11it/s]\n",
      "2023-07-16 18:23:09,827 - BERTopic - Transformed documents to Embeddings\n",
      "2023-07-16 18:23:10,563 - BERTopic - Reduced dimensionality\n",
      "2023-07-16 18:23:10,567 - BERTopic - Clustered reduced embeddings\n",
      "0it [00:00, ?it/s]\n"
     ]
    },
    {
     "name": "stdout",
     "output_type": "stream",
     "text": [
      "Can't distribute all messages in topics\n"
     ]
    },
    {
     "name": "stderr",
     "output_type": "stream",
     "text": [
      "100%|██████████| 11/11 [00:00<00:00, 73.83it/s]\n",
      "2023-07-16 18:23:10,778 - BERTopic - Transformed documents to Embeddings\n",
      "2023-07-16 18:23:11,540 - BERTopic - Reduced dimensionality\n",
      "2023-07-16 18:23:11,544 - BERTopic - Clustered reduced embeddings\n",
      "0it [00:00, ?it/s]\n"
     ]
    },
    {
     "name": "stdout",
     "output_type": "stream",
     "text": [
      "Can't distribute all messages in topics\n"
     ]
    },
    {
     "name": "stderr",
     "output_type": "stream",
     "text": [
      "100%|██████████| 11/11 [00:00<00:00, 69.18it/s]\n",
      "2023-07-16 18:23:11,784 - BERTopic - Transformed documents to Embeddings\n",
      "2023-07-16 18:23:12,523 - BERTopic - Reduced dimensionality\n",
      "2023-07-16 18:23:12,527 - BERTopic - Clustered reduced embeddings\n",
      "0it [00:00, ?it/s]\n"
     ]
    },
    {
     "name": "stdout",
     "output_type": "stream",
     "text": [
      "Can't distribute all messages in topics\n"
     ]
    },
    {
     "name": "stderr",
     "output_type": "stream",
     "text": [
      "100%|██████████| 5/5 [00:00<00:00, 30.68it/s]\n",
      "2023-07-16 18:23:12,754 - BERTopic - Transformed documents to Embeddings\n",
      "f:\\Coding\\.venv\\lib\\site-packages\\scipy\\sparse\\linalg\\_eigen\\arpack\\arpack.py:1592: RuntimeWarning: k >= N for N * N square matrix. Attempting to use scipy.linalg.eigh instead.\n",
      "  warnings.warn(\"k >= N for N * N square matrix. \"\n",
      "2023-07-16 18:23:12,759 - BERTopic - The dimensionality reduction algorithm did not contain the `y` parameter and therefore the `y` parameter was not used\n",
      "f:\\Coding\\.venv\\lib\\site-packages\\scipy\\sparse\\linalg\\_eigen\\arpack\\arpack.py:1592: RuntimeWarning: k >= N for N * N square matrix. Attempting to use scipy.linalg.eigh instead.\n",
      "  warnings.warn(\"k >= N for N * N square matrix. \"\n"
     ]
    },
    {
     "name": "stdout",
     "output_type": "stream",
     "text": [
      "Can't reduce dimensionality or some other problem\n"
     ]
    },
    {
     "name": "stderr",
     "output_type": "stream",
     "text": [
      "100%|██████████| 5/5 [00:00<00:00, 26.04it/s]\n",
      "2023-07-16 18:23:12,964 - BERTopic - Transformed documents to Embeddings\n",
      "f:\\Coding\\.venv\\lib\\site-packages\\scipy\\sparse\\linalg\\_eigen\\arpack\\arpack.py:1592: RuntimeWarning: k >= N for N * N square matrix. Attempting to use scipy.linalg.eigh instead.\n",
      "  warnings.warn(\"k >= N for N * N square matrix. \"\n",
      "2023-07-16 18:23:12,974 - BERTopic - The dimensionality reduction algorithm did not contain the `y` parameter and therefore the `y` parameter was not used\n",
      "f:\\Coding\\.venv\\lib\\site-packages\\scipy\\sparse\\linalg\\_eigen\\arpack\\arpack.py:1592: RuntimeWarning: k >= N for N * N square matrix. Attempting to use scipy.linalg.eigh instead.\n",
      "  warnings.warn(\"k >= N for N * N square matrix. \"\n"
     ]
    },
    {
     "name": "stdout",
     "output_type": "stream",
     "text": [
      "Can't reduce dimensionality or some other problem\n"
     ]
    },
    {
     "name": "stderr",
     "output_type": "stream",
     "text": [
      "100%|██████████| 11/11 [00:00<00:00, 117.03it/s]\n",
      "2023-07-16 18:23:13,095 - BERTopic - Transformed documents to Embeddings\n",
      "2023-07-16 18:23:14,064 - BERTopic - Reduced dimensionality\n",
      "2023-07-16 18:23:14,069 - BERTopic - Clustered reduced embeddings\n",
      "0it [00:00, ?it/s]\n"
     ]
    },
    {
     "name": "stdout",
     "output_type": "stream",
     "text": [
      "Can't distribute all messages in topics\n"
     ]
    },
    {
     "name": "stderr",
     "output_type": "stream",
     "text": [
      "100%|██████████| 5/5 [00:00<00:00, 128.21it/s]\n",
      "2023-07-16 18:23:14,173 - BERTopic - Transformed documents to Embeddings\n",
      "f:\\Coding\\.venv\\lib\\site-packages\\scipy\\sparse\\linalg\\_eigen\\arpack\\arpack.py:1592: RuntimeWarning: k >= N for N * N square matrix. Attempting to use scipy.linalg.eigh instead.\n",
      "  warnings.warn(\"k >= N for N * N square matrix. \"\n",
      "2023-07-16 18:23:14,178 - BERTopic - The dimensionality reduction algorithm did not contain the `y` parameter and therefore the `y` parameter was not used\n",
      "f:\\Coding\\.venv\\lib\\site-packages\\scipy\\sparse\\linalg\\_eigen\\arpack\\arpack.py:1592: RuntimeWarning: k >= N for N * N square matrix. Attempting to use scipy.linalg.eigh instead.\n",
      "  warnings.warn(\"k >= N for N * N square matrix. \"\n"
     ]
    },
    {
     "name": "stdout",
     "output_type": "stream",
     "text": [
      "Can't reduce dimensionality or some other problem\n"
     ]
    },
    {
     "name": "stderr",
     "output_type": "stream",
     "text": [
      "100%|██████████| 9/9 [00:00<00:00, 82.57it/s]\n",
      "2023-07-16 18:23:14,325 - BERTopic - Transformed documents to Embeddings\n",
      "2023-07-16 18:23:15,087 - BERTopic - Reduced dimensionality\n",
      "2023-07-16 18:23:15,091 - BERTopic - Clustered reduced embeddings\n",
      "0it [00:00, ?it/s]\n"
     ]
    },
    {
     "name": "stdout",
     "output_type": "stream",
     "text": [
      "Can't distribute all messages in topics\n"
     ]
    },
    {
     "name": "stderr",
     "output_type": "stream",
     "text": [
      "100%|██████████| 8/8 [00:00<00:00, 125.00it/s]\n",
      "2023-07-16 18:23:15,298 - BERTopic - Transformed documents to Embeddings\n",
      "2023-07-16 18:23:16,041 - BERTopic - Reduced dimensionality\n",
      "2023-07-16 18:23:16,045 - BERTopic - Clustered reduced embeddings\n",
      "100%|██████████| 1/1 [00:00<00:00, 499.32it/s]\n",
      "100%|██████████| 8/8 [00:00<00:00, 109.59it/s]\n",
      "2023-07-16 18:23:16,281 - BERTopic - Transformed documents to Embeddings\n",
      "2023-07-16 18:23:17,018 - BERTopic - Reduced dimensionality\n",
      "2023-07-16 18:23:17,022 - BERTopic - Clustered reduced embeddings\n",
      "0it [00:00, ?it/s]\n"
     ]
    },
    {
     "name": "stdout",
     "output_type": "stream",
     "text": [
      "Can't distribute all messages in topics\n"
     ]
    },
    {
     "name": "stderr",
     "output_type": "stream",
     "text": [
      "100%|██████████| 7/7 [00:00<00:00, 140.01it/s]\n",
      "2023-07-16 18:23:17,119 - BERTopic - Transformed documents to Embeddings\n",
      "2023-07-16 18:23:17,889 - BERTopic - Reduced dimensionality\n",
      "2023-07-16 18:23:17,892 - BERTopic - Clustered reduced embeddings\n",
      "0it [00:00, ?it/s]\n"
     ]
    },
    {
     "name": "stdout",
     "output_type": "stream",
     "text": [
      "Can't distribute all messages in topics\n"
     ]
    },
    {
     "name": "stderr",
     "output_type": "stream",
     "text": [
      "100%|██████████| 6/6 [00:00<00:00, 120.00it/s]\n",
      "2023-07-16 18:23:17,990 - BERTopic - Transformed documents to Embeddings\n",
      "f:\\Coding\\.venv\\lib\\site-packages\\scipy\\sparse\\linalg\\_eigen\\arpack\\arpack.py:1592: RuntimeWarning: k >= N for N * N square matrix. Attempting to use scipy.linalg.eigh instead.\n",
      "  warnings.warn(\"k >= N for N * N square matrix. \"\n",
      "2023-07-16 18:23:17,995 - BERTopic - The dimensionality reduction algorithm did not contain the `y` parameter and therefore the `y` parameter was not used\n",
      "f:\\Coding\\.venv\\lib\\site-packages\\scipy\\sparse\\linalg\\_eigen\\arpack\\arpack.py:1592: RuntimeWarning: k >= N for N * N square matrix. Attempting to use scipy.linalg.eigh instead.\n",
      "  warnings.warn(\"k >= N for N * N square matrix. \"\n"
     ]
    },
    {
     "name": "stdout",
     "output_type": "stream",
     "text": [
      "Can't reduce dimensionality or some other problem\n"
     ]
    },
    {
     "name": "stderr",
     "output_type": "stream",
     "text": [
      "100%|██████████| 6/6 [00:00<00:00, 122.46it/s]\n",
      "2023-07-16 18:23:18,056 - BERTopic - Transformed documents to Embeddings\n",
      "f:\\Coding\\.venv\\lib\\site-packages\\scipy\\sparse\\linalg\\_eigen\\arpack\\arpack.py:1592: RuntimeWarning: k >= N for N * N square matrix. Attempting to use scipy.linalg.eigh instead.\n",
      "  warnings.warn(\"k >= N for N * N square matrix. \"\n",
      "2023-07-16 18:23:18,061 - BERTopic - The dimensionality reduction algorithm did not contain the `y` parameter and therefore the `y` parameter was not used\n",
      "f:\\Coding\\.venv\\lib\\site-packages\\scipy\\sparse\\linalg\\_eigen\\arpack\\arpack.py:1592: RuntimeWarning: k >= N for N * N square matrix. Attempting to use scipy.linalg.eigh instead.\n",
      "  warnings.warn(\"k >= N for N * N square matrix. \"\n"
     ]
    },
    {
     "name": "stdout",
     "output_type": "stream",
     "text": [
      "Can't reduce dimensionality or some other problem\n"
     ]
    },
    {
     "name": "stderr",
     "output_type": "stream",
     "text": [
      "100%|██████████| 5/5 [00:00<00:00, 100.00it/s]\n",
      "2023-07-16 18:23:18,136 - BERTopic - Transformed documents to Embeddings\n",
      "f:\\Coding\\.venv\\lib\\site-packages\\scipy\\sparse\\linalg\\_eigen\\arpack\\arpack.py:1592: RuntimeWarning: k >= N for N * N square matrix. Attempting to use scipy.linalg.eigh instead.\n",
      "  warnings.warn(\"k >= N for N * N square matrix. \"\n",
      "2023-07-16 18:23:18,141 - BERTopic - The dimensionality reduction algorithm did not contain the `y` parameter and therefore the `y` parameter was not used\n",
      "f:\\Coding\\.venv\\lib\\site-packages\\scipy\\sparse\\linalg\\_eigen\\arpack\\arpack.py:1592: RuntimeWarning: k >= N for N * N square matrix. Attempting to use scipy.linalg.eigh instead.\n",
      "  warnings.warn(\"k >= N for N * N square matrix. \"\n"
     ]
    },
    {
     "name": "stdout",
     "output_type": "stream",
     "text": [
      "Can't reduce dimensionality or some other problem\n"
     ]
    },
    {
     "name": "stderr",
     "output_type": "stream",
     "text": [
      "100%|██████████| 5/5 [00:00<00:00, 53.76it/s]\n",
      "2023-07-16 18:23:18,246 - BERTopic - Transformed documents to Embeddings\n",
      "f:\\Coding\\.venv\\lib\\site-packages\\scipy\\sparse\\linalg\\_eigen\\arpack\\arpack.py:1592: RuntimeWarning: k >= N for N * N square matrix. Attempting to use scipy.linalg.eigh instead.\n",
      "  warnings.warn(\"k >= N for N * N square matrix. \"\n",
      "2023-07-16 18:23:18,251 - BERTopic - The dimensionality reduction algorithm did not contain the `y` parameter and therefore the `y` parameter was not used\n",
      "f:\\Coding\\.venv\\lib\\site-packages\\scipy\\sparse\\linalg\\_eigen\\arpack\\arpack.py:1592: RuntimeWarning: k >= N for N * N square matrix. Attempting to use scipy.linalg.eigh instead.\n",
      "  warnings.warn(\"k >= N for N * N square matrix. \"\n"
     ]
    },
    {
     "name": "stdout",
     "output_type": "stream",
     "text": [
      "Can't reduce dimensionality or some other problem\n"
     ]
    },
    {
     "name": "stderr",
     "output_type": "stream",
     "text": [
      "100%|██████████| 5/5 [00:00<00:00, 81.96it/s]\n",
      "2023-07-16 18:23:18,325 - BERTopic - Transformed documents to Embeddings\n",
      "f:\\Coding\\.venv\\lib\\site-packages\\scipy\\sparse\\linalg\\_eigen\\arpack\\arpack.py:1592: RuntimeWarning: k >= N for N * N square matrix. Attempting to use scipy.linalg.eigh instead.\n",
      "  warnings.warn(\"k >= N for N * N square matrix. \"\n",
      "2023-07-16 18:23:18,330 - BERTopic - The dimensionality reduction algorithm did not contain the `y` parameter and therefore the `y` parameter was not used\n",
      "f:\\Coding\\.venv\\lib\\site-packages\\scipy\\sparse\\linalg\\_eigen\\arpack\\arpack.py:1592: RuntimeWarning: k >= N for N * N square matrix. Attempting to use scipy.linalg.eigh instead.\n",
      "  warnings.warn(\"k >= N for N * N square matrix. \"\n"
     ]
    },
    {
     "name": "stdout",
     "output_type": "stream",
     "text": [
      "Can't reduce dimensionality or some other problem\n"
     ]
    },
    {
     "name": "stderr",
     "output_type": "stream",
     "text": [
      "100%|██████████| 5/5 [00:00<00:00, 102.05it/s]\n",
      "2023-07-16 18:23:18,392 - BERTopic - Transformed documents to Embeddings\n",
      "f:\\Coding\\.venv\\lib\\site-packages\\scipy\\sparse\\linalg\\_eigen\\arpack\\arpack.py:1592: RuntimeWarning: k >= N for N * N square matrix. Attempting to use scipy.linalg.eigh instead.\n",
      "  warnings.warn(\"k >= N for N * N square matrix. \"\n",
      "2023-07-16 18:23:18,397 - BERTopic - The dimensionality reduction algorithm did not contain the `y` parameter and therefore the `y` parameter was not used\n",
      "f:\\Coding\\.venv\\lib\\site-packages\\scipy\\sparse\\linalg\\_eigen\\arpack\\arpack.py:1592: RuntimeWarning: k >= N for N * N square matrix. Attempting to use scipy.linalg.eigh instead.\n",
      "  warnings.warn(\"k >= N for N * N square matrix. \"\n"
     ]
    },
    {
     "name": "stdout",
     "output_type": "stream",
     "text": [
      "Can't reduce dimensionality or some other problem\n"
     ]
    },
    {
     "name": "stderr",
     "output_type": "stream",
     "text": [
      "100%|██████████| 8/8 [00:00<00:00, 80.81it/s]\n",
      "2023-07-16 18:23:18,507 - BERTopic - Transformed documents to Embeddings\n",
      "2023-07-16 18:23:19,489 - BERTopic - Reduced dimensionality\n",
      "2023-07-16 18:23:19,492 - BERTopic - Clustered reduced embeddings\n",
      "0it [00:00, ?it/s]\n"
     ]
    },
    {
     "name": "stdout",
     "output_type": "stream",
     "text": [
      "Can't distribute all messages in topics\n"
     ]
    },
    {
     "name": "stderr",
     "output_type": "stream",
     "text": [
      "100%|██████████| 8/8 [00:00<00:00, 85.11it/s]\n",
      "2023-07-16 18:23:19,637 - BERTopic - Transformed documents to Embeddings\n",
      "2023-07-16 18:23:20,381 - BERTopic - Reduced dimensionality\n",
      "2023-07-16 18:23:20,385 - BERTopic - Clustered reduced embeddings\n",
      "0it [00:00, ?it/s]\n"
     ]
    },
    {
     "name": "stdout",
     "output_type": "stream",
     "text": [
      "Can't distribute all messages in topics\n"
     ]
    },
    {
     "name": "stderr",
     "output_type": "stream",
     "text": [
      "100%|██████████| 5/5 [00:00<00:00, 119.05it/s]\n",
      "2023-07-16 18:23:20,501 - BERTopic - Transformed documents to Embeddings\n",
      "f:\\Coding\\.venv\\lib\\site-packages\\scipy\\sparse\\linalg\\_eigen\\arpack\\arpack.py:1592: RuntimeWarning: k >= N for N * N square matrix. Attempting to use scipy.linalg.eigh instead.\n",
      "  warnings.warn(\"k >= N for N * N square matrix. \"\n",
      "2023-07-16 18:23:20,506 - BERTopic - The dimensionality reduction algorithm did not contain the `y` parameter and therefore the `y` parameter was not used\n",
      "f:\\Coding\\.venv\\lib\\site-packages\\scipy\\sparse\\linalg\\_eigen\\arpack\\arpack.py:1592: RuntimeWarning: k >= N for N * N square matrix. Attempting to use scipy.linalg.eigh instead.\n",
      "  warnings.warn(\"k >= N for N * N square matrix. \"\n"
     ]
    },
    {
     "name": "stdout",
     "output_type": "stream",
     "text": [
      "Can't reduce dimensionality or some other problem\n"
     ]
    },
    {
     "name": "stderr",
     "output_type": "stream",
     "text": [
      "100%|██████████| 5/5 [00:00<00:00, 104.16it/s]\n",
      "2023-07-16 18:23:20,566 - BERTopic - Transformed documents to Embeddings\n",
      "f:\\Coding\\.venv\\lib\\site-packages\\scipy\\sparse\\linalg\\_eigen\\arpack\\arpack.py:1592: RuntimeWarning: k >= N for N * N square matrix. Attempting to use scipy.linalg.eigh instead.\n",
      "  warnings.warn(\"k >= N for N * N square matrix. \"\n",
      "2023-07-16 18:23:20,572 - BERTopic - The dimensionality reduction algorithm did not contain the `y` parameter and therefore the `y` parameter was not used\n",
      "f:\\Coding\\.venv\\lib\\site-packages\\scipy\\sparse\\linalg\\_eigen\\arpack\\arpack.py:1592: RuntimeWarning: k >= N for N * N square matrix. Attempting to use scipy.linalg.eigh instead.\n",
      "  warnings.warn(\"k >= N for N * N square matrix. \"\n"
     ]
    },
    {
     "name": "stdout",
     "output_type": "stream",
     "text": [
      "Can't reduce dimensionality or some other problem\n"
     ]
    },
    {
     "name": "stderr",
     "output_type": "stream",
     "text": [
      "100%|██████████| 5/5 [00:00<00:00, 44.64it/s]\n",
      "2023-07-16 18:23:20,706 - BERTopic - Transformed documents to Embeddings\n",
      "f:\\Coding\\.venv\\lib\\site-packages\\scipy\\sparse\\linalg\\_eigen\\arpack\\arpack.py:1592: RuntimeWarning: k >= N for N * N square matrix. Attempting to use scipy.linalg.eigh instead.\n",
      "  warnings.warn(\"k >= N for N * N square matrix. \"\n",
      "2023-07-16 18:23:20,711 - BERTopic - The dimensionality reduction algorithm did not contain the `y` parameter and therefore the `y` parameter was not used\n",
      "f:\\Coding\\.venv\\lib\\site-packages\\scipy\\sparse\\linalg\\_eigen\\arpack\\arpack.py:1592: RuntimeWarning: k >= N for N * N square matrix. Attempting to use scipy.linalg.eigh instead.\n",
      "  warnings.warn(\"k >= N for N * N square matrix. \"\n"
     ]
    },
    {
     "name": "stdout",
     "output_type": "stream",
     "text": [
      "Can't reduce dimensionality or some other problem\n"
     ]
    },
    {
     "name": "stderr",
     "output_type": "stream",
     "text": [
      "100%|██████████| 14/14 [00:00<00:00, 103.71it/s]\n",
      "2023-07-16 18:23:20,924 - BERTopic - Transformed documents to Embeddings\n",
      "2023-07-16 18:23:21,716 - BERTopic - Reduced dimensionality\n",
      "2023-07-16 18:23:21,721 - BERTopic - Clustered reduced embeddings\n",
      "0it [00:00, ?it/s]\n"
     ]
    },
    {
     "name": "stdout",
     "output_type": "stream",
     "text": [
      "Can't distribute all messages in topics\n"
     ]
    },
    {
     "name": "stderr",
     "output_type": "stream",
     "text": [
      "100%|██████████| 14/14 [00:00<00:00, 115.70it/s]\n",
      "2023-07-16 18:23:21,906 - BERTopic - Transformed documents to Embeddings\n",
      "2023-07-16 18:23:22,664 - BERTopic - Reduced dimensionality\n",
      "2023-07-16 18:23:22,669 - BERTopic - Clustered reduced embeddings\n",
      "0it [00:00, ?it/s]\n"
     ]
    },
    {
     "name": "stdout",
     "output_type": "stream",
     "text": [
      "Can't distribute all messages in topics\n"
     ]
    },
    {
     "name": "stderr",
     "output_type": "stream",
     "text": [
      "100%|██████████| 5/5 [00:00<00:00, 138.89it/s]\n",
      "2023-07-16 18:23:22,890 - BERTopic - Transformed documents to Embeddings\n",
      "f:\\Coding\\.venv\\lib\\site-packages\\scipy\\sparse\\linalg\\_eigen\\arpack\\arpack.py:1592: RuntimeWarning: k >= N for N * N square matrix. Attempting to use scipy.linalg.eigh instead.\n",
      "  warnings.warn(\"k >= N for N * N square matrix. \"\n",
      "2023-07-16 18:23:22,894 - BERTopic - The dimensionality reduction algorithm did not contain the `y` parameter and therefore the `y` parameter was not used\n",
      "f:\\Coding\\.venv\\lib\\site-packages\\scipy\\sparse\\linalg\\_eigen\\arpack\\arpack.py:1592: RuntimeWarning: k >= N for N * N square matrix. Attempting to use scipy.linalg.eigh instead.\n",
      "  warnings.warn(\"k >= N for N * N square matrix. \"\n"
     ]
    },
    {
     "name": "stdout",
     "output_type": "stream",
     "text": [
      "Can't reduce dimensionality or some other problem\n"
     ]
    },
    {
     "name": "stderr",
     "output_type": "stream",
     "text": [
      "100%|██████████| 8/8 [00:00<00:00, 81.63it/s]\n",
      "2023-07-16 18:23:23,126 - BERTopic - Transformed documents to Embeddings\n",
      "2023-07-16 18:23:23,885 - BERTopic - Reduced dimensionality\n",
      "2023-07-16 18:23:23,887 - BERTopic - Clustered reduced embeddings\n",
      "  0%|          | 0/1 [00:00<?, ?it/s]\n"
     ]
    },
    {
     "name": "stdout",
     "output_type": "stream",
     "text": [
      "Can't distribute all messages in topics\n"
     ]
    },
    {
     "name": "stderr",
     "output_type": "stream",
     "text": [
      "100%|██████████| 14/14 [00:00<00:00, 135.97it/s]\n",
      "2023-07-16 18:23:24,041 - BERTopic - Transformed documents to Embeddings\n",
      "2023-07-16 18:23:24,793 - BERTopic - Reduced dimensionality\n",
      "2023-07-16 18:23:24,797 - BERTopic - Clustered reduced embeddings\n",
      "100%|██████████| 1/1 [00:00<00:00, 329.90it/s]\n",
      "100%|██████████| 8/8 [00:00<00:00, 121.21it/s]\n",
      "2023-07-16 18:23:25,006 - BERTopic - Transformed documents to Embeddings\n",
      "2023-07-16 18:23:26,000 - BERTopic - Reduced dimensionality\n",
      "2023-07-16 18:23:26,004 - BERTopic - Clustered reduced embeddings\n",
      "0it [00:00, ?it/s]\n"
     ]
    },
    {
     "name": "stdout",
     "output_type": "stream",
     "text": [
      "Can't distribute all messages in topics\n"
     ]
    },
    {
     "name": "stderr",
     "output_type": "stream",
     "text": [
      "100%|██████████| 22/22 [00:00<00:00, 54.19it/s]\n",
      "2023-07-16 18:23:26,458 - BERTopic - Transformed documents to Embeddings\n",
      "2023-07-16 18:23:27,233 - BERTopic - Reduced dimensionality\n",
      "2023-07-16 18:23:27,237 - BERTopic - Clustered reduced embeddings\n",
      "100%|██████████| 1/1 [00:00<00:00, 499.74it/s]\n",
      "100%|██████████| 5/5 [00:00<00:00, 192.28it/s]\n",
      "2023-07-16 18:23:27,550 - BERTopic - Transformed documents to Embeddings\n",
      "f:\\Coding\\.venv\\lib\\site-packages\\scipy\\sparse\\linalg\\_eigen\\arpack\\arpack.py:1592: RuntimeWarning: k >= N for N * N square matrix. Attempting to use scipy.linalg.eigh instead.\n",
      "  warnings.warn(\"k >= N for N * N square matrix. \"\n",
      "2023-07-16 18:23:27,554 - BERTopic - The dimensionality reduction algorithm did not contain the `y` parameter and therefore the `y` parameter was not used\n",
      "f:\\Coding\\.venv\\lib\\site-packages\\scipy\\sparse\\linalg\\_eigen\\arpack\\arpack.py:1592: RuntimeWarning: k >= N for N * N square matrix. Attempting to use scipy.linalg.eigh instead.\n",
      "  warnings.warn(\"k >= N for N * N square matrix. \"\n"
     ]
    },
    {
     "name": "stdout",
     "output_type": "stream",
     "text": [
      "Can't reduce dimensionality or some other problem\n"
     ]
    },
    {
     "name": "stderr",
     "output_type": "stream",
     "text": [
      "100%|██████████| 18/18 [00:00<00:00, 147.54it/s]\n",
      "2023-07-16 18:23:27,702 - BERTopic - Transformed documents to Embeddings\n",
      "2023-07-16 18:23:28,489 - BERTopic - Reduced dimensionality\n",
      "2023-07-16 18:23:28,493 - BERTopic - Clustered reduced embeddings\n",
      "0it [00:00, ?it/s]\n"
     ]
    },
    {
     "name": "stdout",
     "output_type": "stream",
     "text": [
      "Can't distribute all messages in topics\n"
     ]
    },
    {
     "name": "stderr",
     "output_type": "stream",
     "text": [
      "100%|██████████| 6/6 [00:00<00:00, 127.66it/s]\n",
      "2023-07-16 18:23:28,596 - BERTopic - Transformed documents to Embeddings\n",
      "f:\\Coding\\.venv\\lib\\site-packages\\scipy\\sparse\\linalg\\_eigen\\arpack\\arpack.py:1592: RuntimeWarning: k >= N for N * N square matrix. Attempting to use scipy.linalg.eigh instead.\n",
      "  warnings.warn(\"k >= N for N * N square matrix. \"\n",
      "2023-07-16 18:23:28,601 - BERTopic - The dimensionality reduction algorithm did not contain the `y` parameter and therefore the `y` parameter was not used\n",
      "f:\\Coding\\.venv\\lib\\site-packages\\scipy\\sparse\\linalg\\_eigen\\arpack\\arpack.py:1592: RuntimeWarning: k >= N for N * N square matrix. Attempting to use scipy.linalg.eigh instead.\n",
      "  warnings.warn(\"k >= N for N * N square matrix. \"\n"
     ]
    },
    {
     "name": "stdout",
     "output_type": "stream",
     "text": [
      "Can't reduce dimensionality or some other problem\n"
     ]
    },
    {
     "name": "stderr",
     "output_type": "stream",
     "text": [
      "100%|██████████| 11/11 [00:00<00:00, 152.78it/s]\n",
      "2023-07-16 18:23:28,702 - BERTopic - Transformed documents to Embeddings\n",
      "2023-07-16 18:23:29,451 - BERTopic - Reduced dimensionality\n",
      "2023-07-16 18:23:29,455 - BERTopic - Clustered reduced embeddings\n",
      "0it [00:00, ?it/s]\n"
     ]
    },
    {
     "name": "stdout",
     "output_type": "stream",
     "text": [
      "Can't distribute all messages in topics\n"
     ]
    },
    {
     "name": "stderr",
     "output_type": "stream",
     "text": [
      "100%|██████████| 21/21 [00:00<00:00, 146.86it/s]\n",
      "2023-07-16 18:23:29,687 - BERTopic - Transformed documents to Embeddings\n",
      "2023-07-16 18:23:30,480 - BERTopic - Reduced dimensionality\n",
      "2023-07-16 18:23:30,486 - BERTopic - Clustered reduced embeddings\n",
      "0it [00:00, ?it/s]\n"
     ]
    },
    {
     "name": "stdout",
     "output_type": "stream",
     "text": [
      "Can't distribute all messages in topics\n"
     ]
    },
    {
     "name": "stderr",
     "output_type": "stream",
     "text": [
      "100%|██████████| 5/5 [00:00<00:00, 73.53it/s]\n",
      "2023-07-16 18:23:30,681 - BERTopic - Transformed documents to Embeddings\n",
      "f:\\Coding\\.venv\\lib\\site-packages\\scipy\\sparse\\linalg\\_eigen\\arpack\\arpack.py:1592: RuntimeWarning: k >= N for N * N square matrix. Attempting to use scipy.linalg.eigh instead.\n",
      "  warnings.warn(\"k >= N for N * N square matrix. \"\n",
      "2023-07-16 18:23:30,696 - BERTopic - The dimensionality reduction algorithm did not contain the `y` parameter and therefore the `y` parameter was not used\n",
      "f:\\Coding\\.venv\\lib\\site-packages\\scipy\\sparse\\linalg\\_eigen\\arpack\\arpack.py:1592: RuntimeWarning: k >= N for N * N square matrix. Attempting to use scipy.linalg.eigh instead.\n",
      "  warnings.warn(\"k >= N for N * N square matrix. \"\n"
     ]
    },
    {
     "name": "stdout",
     "output_type": "stream",
     "text": [
      "Can't reduce dimensionality or some other problem\n"
     ]
    },
    {
     "name": "stderr",
     "output_type": "stream",
     "text": [
      "100%|██████████| 5/5 [00:00<00:00, 50.00it/s]\n",
      "2023-07-16 18:23:30,811 - BERTopic - Transformed documents to Embeddings\n",
      "f:\\Coding\\.venv\\lib\\site-packages\\scipy\\sparse\\linalg\\_eigen\\arpack\\arpack.py:1592: RuntimeWarning: k >= N for N * N square matrix. Attempting to use scipy.linalg.eigh instead.\n",
      "  warnings.warn(\"k >= N for N * N square matrix. \"\n",
      "2023-07-16 18:23:30,816 - BERTopic - The dimensionality reduction algorithm did not contain the `y` parameter and therefore the `y` parameter was not used\n",
      "f:\\Coding\\.venv\\lib\\site-packages\\scipy\\sparse\\linalg\\_eigen\\arpack\\arpack.py:1592: RuntimeWarning: k >= N for N * N square matrix. Attempting to use scipy.linalg.eigh instead.\n",
      "  warnings.warn(\"k >= N for N * N square matrix. \"\n"
     ]
    },
    {
     "name": "stdout",
     "output_type": "stream",
     "text": [
      "Can't reduce dimensionality or some other problem\n"
     ]
    },
    {
     "name": "stderr",
     "output_type": "stream",
     "text": [
      "100%|██████████| 7/7 [00:00<00:00, 122.80it/s]\n",
      "2023-07-16 18:23:30,896 - BERTopic - Transformed documents to Embeddings\n",
      "2023-07-16 18:23:31,867 - BERTopic - Reduced dimensionality\n",
      "2023-07-16 18:23:31,870 - BERTopic - Clustered reduced embeddings\n",
      "  0%|          | 0/1 [00:00<?, ?it/s]\n"
     ]
    },
    {
     "name": "stdout",
     "output_type": "stream",
     "text": [
      "Can't distribute all messages in topics\n"
     ]
    },
    {
     "name": "stderr",
     "output_type": "stream",
     "text": [
      "100%|██████████| 10/10 [00:00<00:00, 98.04it/s]\n",
      "2023-07-16 18:23:32,027 - BERTopic - Transformed documents to Embeddings\n",
      "2023-07-16 18:23:32,807 - BERTopic - Reduced dimensionality\n",
      "2023-07-16 18:23:32,811 - BERTopic - Clustered reduced embeddings\n",
      "100%|██████████| 1/1 [00:00<00:00, 333.15it/s]\n",
      "100%|██████████| 5/5 [00:00<00:00, 138.88it/s]\n",
      "2023-07-16 18:23:33,000 - BERTopic - Transformed documents to Embeddings\n",
      "f:\\Coding\\.venv\\lib\\site-packages\\scipy\\sparse\\linalg\\_eigen\\arpack\\arpack.py:1592: RuntimeWarning: k >= N for N * N square matrix. Attempting to use scipy.linalg.eigh instead.\n",
      "  warnings.warn(\"k >= N for N * N square matrix. \"\n",
      "2023-07-16 18:23:33,005 - BERTopic - The dimensionality reduction algorithm did not contain the `y` parameter and therefore the `y` parameter was not used\n",
      "f:\\Coding\\.venv\\lib\\site-packages\\scipy\\sparse\\linalg\\_eigen\\arpack\\arpack.py:1592: RuntimeWarning: k >= N for N * N square matrix. Attempting to use scipy.linalg.eigh instead.\n",
      "  warnings.warn(\"k >= N for N * N square matrix. \"\n"
     ]
    },
    {
     "name": "stdout",
     "output_type": "stream",
     "text": [
      "Can't reduce dimensionality or some other problem\n"
     ]
    },
    {
     "name": "stderr",
     "output_type": "stream",
     "text": [
      "100%|██████████| 7/7 [00:00<00:00, 132.07it/s]\n",
      "2023-07-16 18:23:33,079 - BERTopic - Transformed documents to Embeddings\n",
      "2023-07-16 18:23:33,829 - BERTopic - Reduced dimensionality\n",
      "2023-07-16 18:23:33,833 - BERTopic - Clustered reduced embeddings\n",
      "0it [00:00, ?it/s]\n"
     ]
    },
    {
     "name": "stdout",
     "output_type": "stream",
     "text": [
      "Can't distribute all messages in topics\n"
     ]
    },
    {
     "name": "stderr",
     "output_type": "stream",
     "text": [
      "100%|██████████| 9/9 [00:00<00:00, 134.33it/s]\n",
      "2023-07-16 18:23:33,973 - BERTopic - Transformed documents to Embeddings\n",
      "2023-07-16 18:23:34,736 - BERTopic - Reduced dimensionality\n",
      "2023-07-16 18:23:34,740 - BERTopic - Clustered reduced embeddings\n",
      "0it [00:00, ?it/s]\n"
     ]
    },
    {
     "name": "stdout",
     "output_type": "stream",
     "text": [
      "Can't distribute all messages in topics\n"
     ]
    },
    {
     "name": "stderr",
     "output_type": "stream",
     "text": [
      "100%|██████████| 6/6 [00:00<00:00, 56.33it/s]\n",
      "2023-07-16 18:23:34,903 - BERTopic - Transformed documents to Embeddings\n",
      "f:\\Coding\\.venv\\lib\\site-packages\\scipy\\sparse\\linalg\\_eigen\\arpack\\arpack.py:1592: RuntimeWarning: k >= N for N * N square matrix. Attempting to use scipy.linalg.eigh instead.\n",
      "  warnings.warn(\"k >= N for N * N square matrix. \"\n",
      "2023-07-16 18:23:34,908 - BERTopic - The dimensionality reduction algorithm did not contain the `y` parameter and therefore the `y` parameter was not used\n",
      "f:\\Coding\\.venv\\lib\\site-packages\\scipy\\sparse\\linalg\\_eigen\\arpack\\arpack.py:1592: RuntimeWarning: k >= N for N * N square matrix. Attempting to use scipy.linalg.eigh instead.\n",
      "  warnings.warn(\"k >= N for N * N square matrix. \"\n"
     ]
    },
    {
     "name": "stdout",
     "output_type": "stream",
     "text": [
      "Can't reduce dimensionality or some other problem\n"
     ]
    },
    {
     "name": "stderr",
     "output_type": "stream",
     "text": [
      "100%|██████████| 10/10 [00:00<00:00, 126.58it/s]\n",
      "2023-07-16 18:23:35,010 - BERTopic - Transformed documents to Embeddings\n",
      "2023-07-16 18:23:35,763 - BERTopic - Reduced dimensionality\n",
      "2023-07-16 18:23:35,767 - BERTopic - Clustered reduced embeddings\n",
      "0it [00:00, ?it/s]\n"
     ]
    },
    {
     "name": "stdout",
     "output_type": "stream",
     "text": [
      "Can't distribute all messages in topics\n"
     ]
    },
    {
     "name": "stderr",
     "output_type": "stream",
     "text": [
      "100%|██████████| 7/7 [00:00<00:00, 97.22it/s]\n",
      "2023-07-16 18:23:35,943 - BERTopic - Transformed documents to Embeddings\n",
      "2023-07-16 18:23:36,942 - BERTopic - Reduced dimensionality\n",
      "2023-07-16 18:23:36,944 - BERTopic - Clustered reduced embeddings\n",
      "  0%|          | 0/1 [00:00<?, ?it/s]\n"
     ]
    },
    {
     "name": "stdout",
     "output_type": "stream",
     "text": [
      "Can't distribute all messages in topics\n"
     ]
    },
    {
     "name": "stderr",
     "output_type": "stream",
     "text": [
      "100%|██████████| 7/7 [00:00<00:00, 60.88it/s]\n",
      "2023-07-16 18:23:37,244 - BERTopic - Transformed documents to Embeddings\n",
      "2023-07-16 18:23:37,990 - BERTopic - Reduced dimensionality\n",
      "2023-07-16 18:23:37,994 - BERTopic - Clustered reduced embeddings\n",
      "0it [00:00, ?it/s]\n"
     ]
    },
    {
     "name": "stdout",
     "output_type": "stream",
     "text": [
      "Can't distribute all messages in topics\n"
     ]
    },
    {
     "name": "stderr",
     "output_type": "stream",
     "text": [
      "100%|██████████| 9/9 [00:00<00:00, 108.43it/s]\n",
      "2023-07-16 18:23:38,189 - BERTopic - Transformed documents to Embeddings\n",
      "2023-07-16 18:23:38,964 - BERTopic - Reduced dimensionality\n",
      "2023-07-16 18:23:38,967 - BERTopic - Clustered reduced embeddings\n",
      "  0%|          | 0/1 [00:00<?, ?it/s]\n"
     ]
    },
    {
     "name": "stdout",
     "output_type": "stream",
     "text": [
      "Can't distribute all messages in topics\n",
      "events detected\n",
      "connections generated\n",
      "924 outlier clusters of 938 total clusters. Filtering...\n",
      "outliers filtered\n",
      "done!\n"
     ]
    }
   ],
   "source": [
    "import sys\n",
    "sys.path.append('F:\\Coding\\SOIKA')\n",
    "import torch\n",
    "import pandas as pd\n",
    "from factfinder import EventDetection\n",
    "import geopandas as gpd\n",
    "\n",
    "target_texts = gpd.read_file('F:\\Coding\\SOIKA\\data\\processed\\messages.geojson')\n",
    "model = EventDetection()\n",
    "messages, events, connections = model.run(target_texts, 'Санкт-Петербург', 32636, min_event_size=3)"
   ]
  },
  {
   "cell_type": "code",
   "execution_count": 2,
   "metadata": {},
   "outputs": [
    {
     "data": {
      "text/html": [
       "<div>\n",
       "<style scoped>\n",
       "    .dataframe tbody tr th:only-of-type {\n",
       "        vertical-align: middle;\n",
       "    }\n",
       "\n",
       "    .dataframe tbody tr th {\n",
       "        vertical-align: top;\n",
       "    }\n",
       "\n",
       "    .dataframe thead th {\n",
       "        text-align: right;\n",
       "    }\n",
       "</style>\n",
       "<table border=\"1\" class=\"dataframe\">\n",
       "  <thead>\n",
       "    <tr style=\"text-align: right;\">\n",
       "      <th></th>\n",
       "      <th>name</th>\n",
       "      <th>docs</th>\n",
       "      <th>level</th>\n",
       "      <th>id</th>\n",
       "      <th>population</th>\n",
       "      <th>importance</th>\n",
       "      <th>risk</th>\n",
       "      <th>message_ids</th>\n",
       "      <th>geometry</th>\n",
       "    </tr>\n",
       "  </thead>\n",
       "  <tbody>\n",
       "    <tr>\n",
       "      <th>0</th>\n",
       "      <td>0_снег_убирать_разу_не вывозили</td>\n",
       "      <td>644, 644, 644</td>\n",
       "      <td>global</td>\n",
       "      <td>0_global_0</td>\n",
       "      <td>1.000000</td>\n",
       "      <td>0.500000</td>\n",
       "      <td>0.204247</td>\n",
       "      <td>13, 15, 33, 35, 45, 59, 71, 79, 100, 281, 399,...</td>\n",
       "      <td>POINT (30.35146 59.93096)</td>\n",
       "    </tr>\n",
       "    <tr>\n",
       "      <th>1</th>\n",
       "      <td>1_коляской_безобразие_обратите_снегопада</td>\n",
       "      <td>886, 886, 886</td>\n",
       "      <td>global</td>\n",
       "      <td>1_global_0</td>\n",
       "      <td>1.000000</td>\n",
       "      <td>0.442857</td>\n",
       "      <td>0.142772</td>\n",
       "      <td>68, 68, 450, 450, 490, 564, 651, 793, 793, 793...</td>\n",
       "      <td>POINT (30.35848 59.93952)</td>\n",
       "    </tr>\n",
       "    <tr>\n",
       "      <th>2</th>\n",
       "      <td>2_метро_метро чернышевская_чернышевская_метро ...</td>\n",
       "      <td>240, 210, 448</td>\n",
       "      <td>global</td>\n",
       "      <td>2_global_0</td>\n",
       "      <td>1.000000</td>\n",
       "      <td>0.605000</td>\n",
       "      <td>0.193313</td>\n",
       "      <td>189, 210, 220, 236, 240, 257, 292, 322, 371, 3...</td>\n",
       "      <td>POINT (30.34821 59.92743)</td>\n",
       "    </tr>\n",
       "    <tr>\n",
       "      <th>3</th>\n",
       "      <td>3_украшения_романти нравится_нравится вполне_с...</td>\n",
       "      <td>762, 494, 494</td>\n",
       "      <td>global</td>\n",
       "      <td>3_global_0</td>\n",
       "      <td>1.000000</td>\n",
       "      <td>0.373333</td>\n",
       "      <td>0.049684</td>\n",
       "      <td>116, 421, 494, 494, 628, 685, 762, 762, 762, 7...</td>\n",
       "      <td>POINT (30.34927 59.93245)</td>\n",
       "    </tr>\n",
       "    <tr>\n",
       "      <th>4</th>\n",
       "      <td>4_ваше_понимаем ваше_понимаем_здравствуйте мы</td>\n",
       "      <td>634, 162, 162</td>\n",
       "      <td>global</td>\n",
       "      <td>4_global_0</td>\n",
       "      <td>1.000000</td>\n",
       "      <td>0.513333</td>\n",
       "      <td>0.100385</td>\n",
       "      <td>162, 162, 193, 304, 304, 443, 597, 612, 634, 6...</td>\n",
       "      <td>POINT (30.36607 59.92923)</td>\n",
       "    </tr>\n",
       "    <tr>\n",
       "      <th>...</th>\n",
       "      <td>...</td>\n",
       "      <td>...</td>\n",
       "      <td>...</td>\n",
       "      <td>...</td>\n",
       "      <td>...</td>\n",
       "      <td>...</td>\n",
       "      <td>...</td>\n",
       "      <td>...</td>\n",
       "      <td>...</td>\n",
       "    </tr>\n",
       "    <tr>\n",
       "      <th>0</th>\n",
       "      <td>0_45_дома_таврическая 45_таврическая</td>\n",
       "      <td>772, 1284, 1285</td>\n",
       "      <td>building</td>\n",
       "      <td>0_building_4211.0</td>\n",
       "      <td>0.772102</td>\n",
       "      <td>0.400000</td>\n",
       "      <td>0.008579</td>\n",
       "      <td>770, 772, 1284, 1285</td>\n",
       "      <td>POINT (30.37868 59.94965)</td>\n",
       "    </tr>\n",
       "    <tr>\n",
       "      <th>1</th>\n",
       "      <td>1_на таврической 45_на таврической_таврической...</td>\n",
       "      <td>991, 528, 607</td>\n",
       "      <td>building</td>\n",
       "      <td>1_building_4211.0</td>\n",
       "      <td>0.772102</td>\n",
       "      <td>0.500000</td>\n",
       "      <td>0.003591</td>\n",
       "      <td>528, 607, 991</td>\n",
       "      <td>POINT (30.37868 59.94965)</td>\n",
       "    </tr>\n",
       "    <tr>\n",
       "      <th>2</th>\n",
       "      <td>2_всё_санкт_центральный_центральный район</td>\n",
       "      <td>608, 775, 1287</td>\n",
       "      <td>building</td>\n",
       "      <td>2_building_4211.0</td>\n",
       "      <td>0.772102</td>\n",
       "      <td>0.666667</td>\n",
       "      <td>0.010370</td>\n",
       "      <td>608, 775, 1287</td>\n",
       "      <td>POINT (30.37868 59.94965)</td>\n",
       "    </tr>\n",
       "    <tr>\n",
       "      <th>0</th>\n",
       "      <td>0_на_рубинштейна_на рубинштейна_27</td>\n",
       "      <td>1182, 1159, 1551</td>\n",
       "      <td>building</td>\n",
       "      <td>0_building_1199.0</td>\n",
       "      <td>0.186518</td>\n",
       "      <td>0.525000</td>\n",
       "      <td>0.001482</td>\n",
       "      <td>1159, 1182, 1262, 1551</td>\n",
       "      <td>POINT (30.34254 59.92721)</td>\n",
       "    </tr>\n",
       "    <tr>\n",
       "      <th>1</th>\n",
       "      <td>1_рубинштейна_по_района_без</td>\n",
       "      <td>1329, 1296, 1334</td>\n",
       "      <td>building</td>\n",
       "      <td>1_building_1199.0</td>\n",
       "      <td>0.186518</td>\n",
       "      <td>0.833333</td>\n",
       "      <td>0.000140</td>\n",
       "      <td>1296, 1329, 1334</td>\n",
       "      <td>POINT (30.34254 59.92721)</td>\n",
       "    </tr>\n",
       "  </tbody>\n",
       "</table>\n",
       "<p>924 rows × 9 columns</p>\n",
       "</div>"
      ],
      "text/plain": [
       "                                                 name              docs   \n",
       "0                     0_снег_убирать_разу_не вывозили     644, 644, 644  \\\n",
       "1            1_коляской_безобразие_обратите_снегопада     886, 886, 886   \n",
       "2   2_метро_метро чернышевская_чернышевская_метро ...     240, 210, 448   \n",
       "3   3_украшения_романти нравится_нравится вполне_с...     762, 494, 494   \n",
       "4       4_ваше_понимаем ваше_понимаем_здравствуйте мы     634, 162, 162   \n",
       "..                                                ...               ...   \n",
       "0                0_45_дома_таврическая 45_таврическая   772, 1284, 1285   \n",
       "1   1_на таврической 45_на таврической_таврической...     991, 528, 607   \n",
       "2           2_всё_санкт_центральный_центральный район    608, 775, 1287   \n",
       "0                  0_на_рубинштейна_на рубинштейна_27  1182, 1159, 1551   \n",
       "1                         1_рубинштейна_по_района_без  1329, 1296, 1334   \n",
       "\n",
       "       level                 id  population  importance      risk   \n",
       "0     global         0_global_0    1.000000    0.500000  0.204247  \\\n",
       "1     global         1_global_0    1.000000    0.442857  0.142772   \n",
       "2     global         2_global_0    1.000000    0.605000  0.193313   \n",
       "3     global         3_global_0    1.000000    0.373333  0.049684   \n",
       "4     global         4_global_0    1.000000    0.513333  0.100385   \n",
       "..       ...                ...         ...         ...       ...   \n",
       "0   building  0_building_4211.0    0.772102    0.400000  0.008579   \n",
       "1   building  1_building_4211.0    0.772102    0.500000  0.003591   \n",
       "2   building  2_building_4211.0    0.772102    0.666667  0.010370   \n",
       "0   building  0_building_1199.0    0.186518    0.525000  0.001482   \n",
       "1   building  1_building_1199.0    0.186518    0.833333  0.000140   \n",
       "\n",
       "                                          message_ids   \n",
       "0   13, 15, 33, 35, 45, 59, 71, 79, 100, 281, 399,...  \\\n",
       "1   68, 68, 450, 450, 490, 564, 651, 793, 793, 793...   \n",
       "2   189, 210, 220, 236, 240, 257, 292, 322, 371, 3...   \n",
       "3   116, 421, 494, 494, 628, 685, 762, 762, 762, 7...   \n",
       "4   162, 162, 193, 304, 304, 443, 597, 612, 634, 6...   \n",
       "..                                                ...   \n",
       "0                                770, 772, 1284, 1285   \n",
       "1                                       528, 607, 991   \n",
       "2                                      608, 775, 1287   \n",
       "0                              1159, 1182, 1262, 1551   \n",
       "1                                    1296, 1329, 1334   \n",
       "\n",
       "                     geometry  \n",
       "0   POINT (30.35146 59.93096)  \n",
       "1   POINT (30.35848 59.93952)  \n",
       "2   POINT (30.34821 59.92743)  \n",
       "3   POINT (30.34927 59.93245)  \n",
       "4   POINT (30.36607 59.92923)  \n",
       "..                        ...  \n",
       "0   POINT (30.37868 59.94965)  \n",
       "1   POINT (30.37868 59.94965)  \n",
       "2   POINT (30.37868 59.94965)  \n",
       "0   POINT (30.34254 59.92721)  \n",
       "1   POINT (30.34254 59.92721)  \n",
       "\n",
       "[924 rows x 9 columns]"
      ]
     },
     "execution_count": 2,
     "metadata": {},
     "output_type": "execute_result"
    }
   ],
   "source": [
    "events"
   ]
  },
  {
   "cell_type": "code",
   "execution_count": 3,
   "metadata": {},
   "outputs": [
    {
     "data": {
      "text/html": [
       "<div>\n",
       "<style scoped>\n",
       "    .dataframe tbody tr th:only-of-type {\n",
       "        vertical-align: middle;\n",
       "    }\n",
       "\n",
       "    .dataframe tbody tr th {\n",
       "        vertical-align: top;\n",
       "    }\n",
       "\n",
       "    .dataframe thead th {\n",
       "        text-align: right;\n",
       "    }\n",
       "</style>\n",
       "<table border=\"1\" class=\"dataframe\">\n",
       "  <thead>\n",
       "    <tr style=\"text-align: right;\">\n",
       "      <th></th>\n",
       "      <th>weight</th>\n",
       "      <th>a</th>\n",
       "      <th>b</th>\n",
       "      <th>geometry</th>\n",
       "    </tr>\n",
       "  </thead>\n",
       "  <tbody>\n",
       "    <tr>\n",
       "      <th>0</th>\n",
       "      <td>12</td>\n",
       "      <td>0_global_0</td>\n",
       "      <td>1_global_0</td>\n",
       "      <td>LINESTRING (30.351 59.931, 30.358 59.940)</td>\n",
       "    </tr>\n",
       "    <tr>\n",
       "      <th>1</th>\n",
       "      <td>12</td>\n",
       "      <td>0_global_0</td>\n",
       "      <td>2_global_0</td>\n",
       "      <td>LINESTRING (30.351 59.931, 30.348 59.927)</td>\n",
       "    </tr>\n",
       "    <tr>\n",
       "      <th>2</th>\n",
       "      <td>11</td>\n",
       "      <td>0_global_0</td>\n",
       "      <td>3_global_0</td>\n",
       "      <td>LINESTRING (30.351 59.931, 30.349 59.932)</td>\n",
       "    </tr>\n",
       "    <tr>\n",
       "      <th>3</th>\n",
       "      <td>12</td>\n",
       "      <td>0_global_0</td>\n",
       "      <td>4_global_0</td>\n",
       "      <td>LINESTRING (30.351 59.931, 30.366 59.929)</td>\n",
       "    </tr>\n",
       "    <tr>\n",
       "      <th>4</th>\n",
       "      <td>11</td>\n",
       "      <td>0_global_0</td>\n",
       "      <td>5_global_0</td>\n",
       "      <td>LINESTRING (30.351 59.931, 30.357 59.929)</td>\n",
       "    </tr>\n",
       "    <tr>\n",
       "      <th>...</th>\n",
       "      <td>...</td>\n",
       "      <td>...</td>\n",
       "      <td>...</td>\n",
       "      <td>...</td>\n",
       "    </tr>\n",
       "    <tr>\n",
       "      <th>439440</th>\n",
       "      <td>8</td>\n",
       "      <td>1_building_4211.0</td>\n",
       "      <td>0_building_1199.0</td>\n",
       "      <td>LINESTRING (30.379 59.950, 30.343 59.927)</td>\n",
       "    </tr>\n",
       "    <tr>\n",
       "      <th>439441</th>\n",
       "      <td>6</td>\n",
       "      <td>1_building_4211.0</td>\n",
       "      <td>1_building_1199.0</td>\n",
       "      <td>LINESTRING (30.379 59.950, 30.343 59.927)</td>\n",
       "    </tr>\n",
       "    <tr>\n",
       "      <th>439444</th>\n",
       "      <td>7</td>\n",
       "      <td>2_building_4211.0</td>\n",
       "      <td>0_building_1199.0</td>\n",
       "      <td>LINESTRING (30.379 59.950, 30.343 59.927)</td>\n",
       "    </tr>\n",
       "    <tr>\n",
       "      <th>439445</th>\n",
       "      <td>5</td>\n",
       "      <td>2_building_4211.0</td>\n",
       "      <td>1_building_1199.0</td>\n",
       "      <td>LINESTRING (30.379 59.950, 30.343 59.927)</td>\n",
       "    </tr>\n",
       "    <tr>\n",
       "      <th>439450</th>\n",
       "      <td>6</td>\n",
       "      <td>0_building_1199.0</td>\n",
       "      <td>1_building_1199.0</td>\n",
       "      <td>LINESTRING (30.343 59.927, 30.343 59.927)</td>\n",
       "    </tr>\n",
       "  </tbody>\n",
       "</table>\n",
       "<p>426426 rows × 4 columns</p>\n",
       "</div>"
      ],
      "text/plain": [
       "        weight                  a                  b   \n",
       "0           12         0_global_0         1_global_0  \\\n",
       "1           12         0_global_0         2_global_0   \n",
       "2           11         0_global_0         3_global_0   \n",
       "3           12         0_global_0         4_global_0   \n",
       "4           11         0_global_0         5_global_0   \n",
       "...        ...                ...                ...   \n",
       "439440       8  1_building_4211.0  0_building_1199.0   \n",
       "439441       6  1_building_4211.0  1_building_1199.0   \n",
       "439444       7  2_building_4211.0  0_building_1199.0   \n",
       "439445       5  2_building_4211.0  1_building_1199.0   \n",
       "439450       6  0_building_1199.0  1_building_1199.0   \n",
       "\n",
       "                                         geometry  \n",
       "0       LINESTRING (30.351 59.931, 30.358 59.940)  \n",
       "1       LINESTRING (30.351 59.931, 30.348 59.927)  \n",
       "2       LINESTRING (30.351 59.931, 30.349 59.932)  \n",
       "3       LINESTRING (30.351 59.931, 30.366 59.929)  \n",
       "4       LINESTRING (30.351 59.931, 30.357 59.929)  \n",
       "...                                           ...  \n",
       "439440  LINESTRING (30.379 59.950, 30.343 59.927)  \n",
       "439441  LINESTRING (30.379 59.950, 30.343 59.927)  \n",
       "439444  LINESTRING (30.379 59.950, 30.343 59.927)  \n",
       "439445  LINESTRING (30.379 59.950, 30.343 59.927)  \n",
       "439450  LINESTRING (30.343 59.927, 30.343 59.927)  \n",
       "\n",
       "[426426 rows x 4 columns]"
      ]
     },
     "execution_count": 3,
     "metadata": {},
     "output_type": "execute_result"
    }
   ],
   "source": [
    "connections"
   ]
  },
  {
   "cell_type": "code",
   "execution_count": 4,
   "metadata": {},
   "outputs": [
    {
     "data": {
      "text/html": [
       "<div>\n",
       "<style scoped>\n",
       "    .dataframe tbody tr th:only-of-type {\n",
       "        vertical-align: middle;\n",
       "    }\n",
       "\n",
       "    .dataframe tbody tr th {\n",
       "        vertical-align: top;\n",
       "    }\n",
       "\n",
       "    .dataframe thead th {\n",
       "        text-align: right;\n",
       "    }\n",
       "</style>\n",
       "<table border=\"1\" class=\"dataframe\">\n",
       "  <thead>\n",
       "    <tr style=\"text-align: right;\">\n",
       "      <th></th>\n",
       "      <th>message_id</th>\n",
       "      <th>text</th>\n",
       "      <th>geometry</th>\n",
       "      <th>date_time</th>\n",
       "      <th>block</th>\n",
       "    </tr>\n",
       "  </thead>\n",
       "  <tbody>\n",
       "    <tr>\n",
       "      <th>0</th>\n",
       "      <td>0</td>\n",
       "      <td>Здравствуйте! В Санкт-Петербурге нет Генеральн...</td>\n",
       "      <td>POINT (30.30768 59.93180)</td>\n",
       "      <td>2023.01.26 16:32</td>\n",
       "      <td>Безопасность</td>\n",
       "    </tr>\n",
       "    <tr>\n",
       "      <th>1</th>\n",
       "      <td>0</td>\n",
       "      <td>Здравствуйте! В Санкт-Петербурге нет Генеральн...</td>\n",
       "      <td>POINT (30.30768 59.93180)</td>\n",
       "      <td>2023.01.26 16:32</td>\n",
       "      <td>Безопасность</td>\n",
       "    </tr>\n",
       "    <tr>\n",
       "      <th>2</th>\n",
       "      <td>1</td>\n",
       "      <td>[club143265175|Центральный район Санкт-Петербу...</td>\n",
       "      <td>POINT (30.34628 59.93237)</td>\n",
       "      <td>2023.01.26 11:55</td>\n",
       "      <td>ЖКХ</td>\n",
       "    </tr>\n",
       "    <tr>\n",
       "      <th>3</th>\n",
       "      <td>2</td>\n",
       "      <td>1) Фурштатская, 19 Отслоение штукатурного слоя...</td>\n",
       "      <td>POINT (30.35808 59.94512)</td>\n",
       "      <td>2023.01.28 12:39</td>\n",
       "      <td>ЖКХ</td>\n",
       "    </tr>\n",
       "    <tr>\n",
       "      <th>4</th>\n",
       "      <td>3</td>\n",
       "      <td>2) Фурштатская, 17 Здесь прямо-таки умоляю обр...</td>\n",
       "      <td>POINT (30.35808 59.94512)</td>\n",
       "      <td>2023.01.28 12:42</td>\n",
       "      <td>Благоустройство</td>\n",
       "    </tr>\n",
       "    <tr>\n",
       "      <th>...</th>\n",
       "      <td>...</td>\n",
       "      <td>...</td>\n",
       "      <td>...</td>\n",
       "      <td>...</td>\n",
       "      <td>...</td>\n",
       "    </tr>\n",
       "    <tr>\n",
       "      <th>2298</th>\n",
       "      <td>1655</td>\n",
       "      <td>[club143265175|Центральный район - сердце Санк...</td>\n",
       "      <td>POINT (30.34270 59.92318)</td>\n",
       "      <td>2020.02.27 14:38</td>\n",
       "      <td>Благоустройство</td>\n",
       "    </tr>\n",
       "    <tr>\n",
       "      <th>2299</th>\n",
       "      <td>1656</td>\n",
       "      <td>[club143265175|Центральный район - сердце Санк...</td>\n",
       "      <td>POINT (30.34428 59.92952)</td>\n",
       "      <td>2020.02.27 19:30</td>\n",
       "      <td>Благоустройство</td>\n",
       "    </tr>\n",
       "    <tr>\n",
       "      <th>2300</th>\n",
       "      <td>1657</td>\n",
       "      <td>[club143265175|Центральный район - сердце Санк...</td>\n",
       "      <td>POINT (30.34428 59.92952)</td>\n",
       "      <td>2020.02.27 21:20</td>\n",
       "      <td>Безопасность</td>\n",
       "    </tr>\n",
       "    <tr>\n",
       "      <th>2301</th>\n",
       "      <td>1658</td>\n",
       "      <td>[id143399007|Лиза], мы ходим гулять во двор на...</td>\n",
       "      <td>POINT (30.34006 59.92728)</td>\n",
       "      <td>2020.02.18 10:13</td>\n",
       "      <td>Благоустройство</td>\n",
       "    </tr>\n",
       "    <tr>\n",
       "      <th>2302</th>\n",
       "      <td>1659</td>\n",
       "      <td>[id544918666|Павел], просили написать в сообще...</td>\n",
       "      <td>POINT (30.35144 59.92431)</td>\n",
       "      <td>2019.06.18 12:02</td>\n",
       "      <td>Благоустройство</td>\n",
       "    </tr>\n",
       "  </tbody>\n",
       "</table>\n",
       "<p>2303 rows × 5 columns</p>\n",
       "</div>"
      ],
      "text/plain": [
       "      message_id                                               text   \n",
       "0              0  Здравствуйте! В Санкт-Петербурге нет Генеральн...  \\\n",
       "1              0  Здравствуйте! В Санкт-Петербурге нет Генеральн...   \n",
       "2              1  [club143265175|Центральный район Санкт-Петербу...   \n",
       "3              2  1) Фурштатская, 19 Отслоение штукатурного слоя...   \n",
       "4              3  2) Фурштатская, 17 Здесь прямо-таки умоляю обр...   \n",
       "...          ...                                                ...   \n",
       "2298        1655  [club143265175|Центральный район - сердце Санк...   \n",
       "2299        1656  [club143265175|Центральный район - сердце Санк...   \n",
       "2300        1657  [club143265175|Центральный район - сердце Санк...   \n",
       "2301        1658  [id143399007|Лиза], мы ходим гулять во двор на...   \n",
       "2302        1659  [id544918666|Павел], просили написать в сообще...   \n",
       "\n",
       "                       geometry         date_time            block  \n",
       "0     POINT (30.30768 59.93180)  2023.01.26 16:32     Безопасность  \n",
       "1     POINT (30.30768 59.93180)  2023.01.26 16:32     Безопасность  \n",
       "2     POINT (30.34628 59.93237)  2023.01.26 11:55              ЖКХ  \n",
       "3     POINT (30.35808 59.94512)  2023.01.28 12:39              ЖКХ  \n",
       "4     POINT (30.35808 59.94512)  2023.01.28 12:42  Благоустройство  \n",
       "...                         ...               ...              ...  \n",
       "2298  POINT (30.34270 59.92318)  2020.02.27 14:38  Благоустройство  \n",
       "2299  POINT (30.34428 59.92952)  2020.02.27 19:30  Благоустройство  \n",
       "2300  POINT (30.34428 59.92952)  2020.02.27 21:20     Безопасность  \n",
       "2301  POINT (30.34006 59.92728)  2020.02.18 10:13  Благоустройство  \n",
       "2302  POINT (30.35144 59.92431)  2019.06.18 12:02  Благоустройство  \n",
       "\n",
       "[2303 rows x 5 columns]"
      ]
     },
     "execution_count": 4,
     "metadata": {},
     "output_type": "execute_result"
    }
   ],
   "source": [
    "messages"
   ]
  }
 ],
 "metadata": {
  "kernelspec": {
   "display_name": ".venv",
   "language": "python",
   "name": "python3"
  },
  "language_info": {
   "codemirror_mode": {
    "name": "ipython",
    "version": 3
   },
   "file_extension": ".py",
   "mimetype": "text/x-python",
   "name": "python",
   "nbconvert_exporter": "python",
   "pygments_lexer": "ipython3",
   "version": "3.9.4"
  },
  "orig_nbformat": 4
 },
 "nbformat": 4,
 "nbformat_minor": 2
}
