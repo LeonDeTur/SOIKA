{
 "cells": [
  {
   "cell_type": "code",
   "execution_count": 1,
   "metadata": {},
   "outputs": [
    {
     "name": "stderr",
     "output_type": "stream",
     "text": [
      "f:\\Coding\\.venv\\lib\\site-packages\\umap\\distances.py:1063: NumbaDeprecationWarning: \u001b[1mThe 'nopython' keyword argument was not supplied to the 'numba.jit' decorator. The implicit default value for this argument is currently False, but it will be changed to True in Numba 0.59.0. See https://numba.readthedocs.io/en/stable/reference/deprecation.html#deprecation-of-object-mode-fall-back-behaviour-when-using-jit for details.\u001b[0m\n",
      "  @numba.jit()\n",
      "f:\\Coding\\.venv\\lib\\site-packages\\umap\\distances.py:1071: NumbaDeprecationWarning: \u001b[1mThe 'nopython' keyword argument was not supplied to the 'numba.jit' decorator. The implicit default value for this argument is currently False, but it will be changed to True in Numba 0.59.0. See https://numba.readthedocs.io/en/stable/reference/deprecation.html#deprecation-of-object-mode-fall-back-behaviour-when-using-jit for details.\u001b[0m\n",
      "  @numba.jit()\n",
      "f:\\Coding\\.venv\\lib\\site-packages\\umap\\distances.py:1086: NumbaDeprecationWarning: \u001b[1mThe 'nopython' keyword argument was not supplied to the 'numba.jit' decorator. The implicit default value for this argument is currently False, but it will be changed to True in Numba 0.59.0. See https://numba.readthedocs.io/en/stable/reference/deprecation.html#deprecation-of-object-mode-fall-back-behaviour-when-using-jit for details.\u001b[0m\n",
      "  @numba.jit()\n",
      "f:\\Coding\\.venv\\lib\\site-packages\\umap\\umap_.py:660: NumbaDeprecationWarning: \u001b[1mThe 'nopython' keyword argument was not supplied to the 'numba.jit' decorator. The implicit default value for this argument is currently False, but it will be changed to True in Numba 0.59.0. See https://numba.readthedocs.io/en/stable/reference/deprecation.html#deprecation-of-object-mode-fall-back-behaviour-when-using-jit for details.\u001b[0m\n",
      "  @numba.jit()\n"
     ]
    },
    {
     "name": "stdout",
     "output_type": "stream",
     "text": [
      "messages loaded\n",
      "road links loaded\n",
      "buildings loaded\n",
      "messages preprocessed\n"
     ]
    },
    {
     "name": "stderr",
     "output_type": "stream",
     "text": [
      "Some weights of the model checkpoint at cointegrated/rubert-tiny2 were not used when initializing BertModel: ['cls.predictions.transform.dense.weight', 'cls.predictions.bias', 'cls.predictions.transform.LayerNorm.weight', 'cls.predictions.transform.LayerNorm.bias', 'cls.seq_relationship.weight', 'cls.predictions.decoder.bias', 'cls.predictions.decoder.weight', 'cls.seq_relationship.bias', 'cls.predictions.transform.dense.bias']\n",
      "- This IS expected if you are initializing BertModel from the checkpoint of a model trained on another task or with another architecture (e.g. initializing a BertForSequenceClassification model from a BertForPreTraining model).\n",
      "- This IS NOT expected if you are initializing BertModel from the checkpoint of a model that you expect to be exactly identical (initializing a BertForSequenceClassification model from a BertForSequenceClassification model).\n",
      "100%|██████████| 2604/2604 [00:22<00:00, 117.74it/s]\n",
      "2023-07-06 18:43:49,901 - BERTopic - Transformed documents to Embeddings\n",
      "2023-07-06 18:44:05,107 - BERTopic - Reduced dimensionality\n",
      "2023-07-06 18:44:27,685 - BERTopic - Clustered reduced embeddings\n",
      "100%|██████████| 1/1 [00:00<00:00,  6.37it/s]\n",
      "100%|██████████| 12/12 [00:00<00:00, 55.56it/s]\n",
      "2023-07-06 18:44:49,913 - BERTopic - Transformed documents to Embeddings\n",
      "2023-07-06 18:44:50,818 - BERTopic - Reduced dimensionality\n",
      "2023-07-06 18:44:50,824 - BERTopic - Clustered reduced embeddings\n",
      "0it [00:00, ?it/s]\n"
     ]
    },
    {
     "name": "stdout",
     "output_type": "stream",
     "text": [
      "Can't distribute all messages in topics\n"
     ]
    },
    {
     "name": "stderr",
     "output_type": "stream",
     "text": [
      "100%|██████████| 95/95 [00:01<00:00, 69.39it/s] \n",
      "2023-07-06 18:44:52,283 - BERTopic - Transformed documents to Embeddings\n",
      "2023-07-06 18:44:53,444 - BERTopic - Reduced dimensionality\n",
      "2023-07-06 18:44:53,455 - BERTopic - Clustered reduced embeddings\n",
      "100%|██████████| 1/1 [00:00<00:00, 165.72it/s]\n",
      "100%|██████████| 27/27 [00:00<00:00, 91.84it/s]\n",
      "2023-07-06 18:44:54,351 - BERTopic - Transformed documents to Embeddings\n",
      "2023-07-06 18:44:55,199 - BERTopic - Reduced dimensionality\n",
      "2023-07-06 18:44:55,206 - BERTopic - Clustered reduced embeddings\n",
      "100%|██████████| 1/1 [00:00<00:00, 500.33it/s]\n",
      "100%|██████████| 83/83 [00:01<00:00, 44.74it/s] \n",
      "2023-07-06 18:44:57,403 - BERTopic - Transformed documents to Embeddings\n",
      "2023-07-06 18:44:58,334 - BERTopic - Reduced dimensionality\n",
      "2023-07-06 18:44:58,344 - BERTopic - Clustered reduced embeddings\n",
      "100%|██████████| 1/1 [00:00<00:00, 199.80it/s]\n",
      "100%|██████████| 30/30 [00:00<00:00, 131.56it/s]\n",
      "2023-07-06 18:44:59,411 - BERTopic - Transformed documents to Embeddings\n",
      "2023-07-06 18:45:00,323 - BERTopic - Reduced dimensionality\n",
      "2023-07-06 18:45:00,329 - BERTopic - Clustered reduced embeddings\n",
      "0it [00:00, ?it/s]\n"
     ]
    },
    {
     "name": "stdout",
     "output_type": "stream",
     "text": [
      "Can't distribute all messages in topics\n"
     ]
    },
    {
     "name": "stderr",
     "output_type": "stream",
     "text": [
      "100%|██████████| 40/40 [00:00<00:00, 97.56it/s] \n",
      "2023-07-06 18:45:00,842 - BERTopic - Transformed documents to Embeddings\n",
      "2023-07-06 18:45:01,696 - BERTopic - Reduced dimensionality\n",
      "2023-07-06 18:45:01,703 - BERTopic - Clustered reduced embeddings\n",
      "0it [00:00, ?it/s]\n"
     ]
    },
    {
     "name": "stdout",
     "output_type": "stream",
     "text": [
      "Can't distribute all messages in topics\n"
     ]
    },
    {
     "name": "stderr",
     "output_type": "stream",
     "text": [
      "100%|██████████| 48/48 [00:00<00:00, 87.91it/s] \n",
      "2023-07-06 18:45:02,331 - BERTopic - Transformed documents to Embeddings\n",
      "2023-07-06 18:45:03,500 - BERTopic - Reduced dimensionality\n",
      "2023-07-06 18:45:03,508 - BERTopic - Clustered reduced embeddings\n",
      "0it [00:00, ?it/s]\n"
     ]
    },
    {
     "name": "stdout",
     "output_type": "stream",
     "text": [
      "Can't distribute all messages in topics\n"
     ]
    },
    {
     "name": "stderr",
     "output_type": "stream",
     "text": [
      "100%|██████████| 9/9 [00:00<00:00, 81.08it/s]\n",
      "2023-07-06 18:45:03,733 - BERTopic - Transformed documents to Embeddings\n",
      "2023-07-06 18:45:04,493 - BERTopic - Reduced dimensionality\n",
      "2023-07-06 18:45:04,496 - BERTopic - Clustered reduced embeddings\n",
      "0it [00:00, ?it/s]\n"
     ]
    },
    {
     "name": "stdout",
     "output_type": "stream",
     "text": [
      "Can't distribute all messages in topics\n"
     ]
    },
    {
     "name": "stderr",
     "output_type": "stream",
     "text": [
      "100%|██████████| 18/18 [00:00<00:00, 162.16it/s]\n",
      "2023-07-06 18:45:04,658 - BERTopic - Transformed documents to Embeddings\n",
      "2023-07-06 18:45:05,462 - BERTopic - Reduced dimensionality\n",
      "2023-07-06 18:45:05,466 - BERTopic - Clustered reduced embeddings\n",
      "0it [00:00, ?it/s]\n"
     ]
    },
    {
     "name": "stdout",
     "output_type": "stream",
     "text": [
      "Can't distribute all messages in topics\n"
     ]
    },
    {
     "name": "stderr",
     "output_type": "stream",
     "text": [
      "100%|██████████| 60/60 [00:00<00:00, 67.79it/s]\n",
      "2023-07-06 18:45:06,430 - BERTopic - Transformed documents to Embeddings\n",
      "2023-07-06 18:45:07,464 - BERTopic - Reduced dimensionality\n",
      "2023-07-06 18:45:07,474 - BERTopic - Clustered reduced embeddings\n",
      "0it [00:00, ?it/s]\n"
     ]
    },
    {
     "name": "stdout",
     "output_type": "stream",
     "text": [
      "Can't distribute all messages in topics\n"
     ]
    },
    {
     "name": "stderr",
     "output_type": "stream",
     "text": [
      "100%|██████████| 13/13 [00:00<00:00, 58.82it/s]\n",
      "2023-07-06 18:45:07,782 - BERTopic - Transformed documents to Embeddings\n",
      "2023-07-06 18:45:08,687 - BERTopic - Reduced dimensionality\n",
      "2023-07-06 18:45:08,693 - BERTopic - Clustered reduced embeddings\n",
      "0it [00:00, ?it/s]\n"
     ]
    },
    {
     "name": "stdout",
     "output_type": "stream",
     "text": [
      "Can't distribute all messages in topics\n"
     ]
    },
    {
     "name": "stderr",
     "output_type": "stream",
     "text": [
      "100%|██████████| 78/78 [00:00<00:00, 88.24it/s] \n",
      "2023-07-06 18:45:09,647 - BERTopic - Transformed documents to Embeddings\n",
      "2023-07-06 18:45:10,799 - BERTopic - Reduced dimensionality\n",
      "2023-07-06 18:45:10,810 - BERTopic - Clustered reduced embeddings\n",
      "100%|██████████| 1/1 [00:00<00:00, 250.02it/s]\n",
      "100%|██████████| 8/8 [00:00<00:00, 39.60it/s]\n",
      "2023-07-06 18:45:11,661 - BERTopic - Transformed documents to Embeddings\n",
      "2023-07-06 18:45:12,436 - BERTopic - Reduced dimensionality\n",
      "2023-07-06 18:45:12,441 - BERTopic - Clustered reduced embeddings\n",
      "0it [00:00, ?it/s]\n"
     ]
    },
    {
     "name": "stdout",
     "output_type": "stream",
     "text": [
      "Can't distribute all messages in topics\n"
     ]
    },
    {
     "name": "stderr",
     "output_type": "stream",
     "text": [
      "100%|██████████| 40/40 [00:00<00:00, 139.86it/s]\n",
      "2023-07-06 18:45:12,775 - BERTopic - Transformed documents to Embeddings\n",
      "2023-07-06 18:45:13,646 - BERTopic - Reduced dimensionality\n",
      "2023-07-06 18:45:13,652 - BERTopic - Clustered reduced embeddings\n",
      "0it [00:00, ?it/s]\n"
     ]
    },
    {
     "name": "stdout",
     "output_type": "stream",
     "text": [
      "Can't distribute all messages in topics\n"
     ]
    },
    {
     "name": "stderr",
     "output_type": "stream",
     "text": [
      "100%|██████████| 14/14 [00:00<00:00, 140.00it/s]\n",
      "2023-07-06 18:45:13,880 - BERTopic - Transformed documents to Embeddings\n",
      "2023-07-06 18:45:14,672 - BERTopic - Reduced dimensionality\n",
      "2023-07-06 18:45:14,677 - BERTopic - Clustered reduced embeddings\n",
      "0it [00:00, ?it/s]\n"
     ]
    },
    {
     "name": "stdout",
     "output_type": "stream",
     "text": [
      "Can't distribute all messages in topics\n"
     ]
    },
    {
     "name": "stderr",
     "output_type": "stream",
     "text": [
      "100%|██████████| 18/18 [00:00<00:00, 100.56it/s]\n",
      "2023-07-06 18:45:14,947 - BERTopic - Transformed documents to Embeddings\n",
      "2023-07-06 18:45:15,779 - BERTopic - Reduced dimensionality\n",
      "2023-07-06 18:45:15,783 - BERTopic - Clustered reduced embeddings\n",
      "0it [00:00, ?it/s]\n"
     ]
    },
    {
     "name": "stdout",
     "output_type": "stream",
     "text": [
      "Can't distribute all messages in topics\n"
     ]
    },
    {
     "name": "stderr",
     "output_type": "stream",
     "text": [
      "100%|██████████| 28/28 [00:00<00:00, 63.93it/s]\n",
      "2023-07-06 18:45:16,305 - BERTopic - Transformed documents to Embeddings\n",
      "2023-07-06 18:45:17,339 - BERTopic - Reduced dimensionality\n",
      "2023-07-06 18:45:17,344 - BERTopic - Clustered reduced embeddings\n",
      "100%|██████████| 1/1 [00:00<00:00, 248.29it/s]\n",
      "100%|██████████| 18/18 [00:00<00:00, 102.86it/s]\n",
      "2023-07-06 18:45:17,911 - BERTopic - Transformed documents to Embeddings\n",
      "2023-07-06 18:45:18,779 - BERTopic - Reduced dimensionality\n",
      "2023-07-06 18:45:18,784 - BERTopic - Clustered reduced embeddings\n",
      "0it [00:00, ?it/s]\n"
     ]
    },
    {
     "name": "stdout",
     "output_type": "stream",
     "text": [
      "Can't distribute all messages in topics\n"
     ]
    },
    {
     "name": "stderr",
     "output_type": "stream",
     "text": [
      "100%|██████████| 27/27 [00:00<00:00, 73.17it/s]\n",
      "2023-07-06 18:45:19,220 - BERTopic - Transformed documents to Embeddings\n",
      "2023-07-06 18:45:20,176 - BERTopic - Reduced dimensionality\n",
      "2023-07-06 18:45:20,182 - BERTopic - Clustered reduced embeddings\n",
      "100%|██████████| 1/1 [00:00<00:00, 499.50it/s]\n",
      "100%|██████████| 11/11 [00:00<00:00, 135.80it/s]\n",
      "2023-07-06 18:45:20,504 - BERTopic - Transformed documents to Embeddings\n",
      "2023-07-06 18:45:21,272 - BERTopic - Reduced dimensionality\n",
      "2023-07-06 18:45:21,276 - BERTopic - Clustered reduced embeddings\n",
      "0it [00:00, ?it/s]\n"
     ]
    },
    {
     "name": "stdout",
     "output_type": "stream",
     "text": [
      "Can't distribute all messages in topics\n"
     ]
    },
    {
     "name": "stderr",
     "output_type": "stream",
     "text": [
      "100%|██████████| 31/31 [00:00<00:00, 106.53it/s]\n",
      "2023-07-06 18:45:21,620 - BERTopic - Transformed documents to Embeddings\n",
      "2023-07-06 18:45:22,458 - BERTopic - Reduced dimensionality\n",
      "2023-07-06 18:45:22,464 - BERTopic - Clustered reduced embeddings\n",
      "0it [00:00, ?it/s]\n"
     ]
    },
    {
     "name": "stdout",
     "output_type": "stream",
     "text": [
      "Can't distribute all messages in topics\n"
     ]
    },
    {
     "name": "stderr",
     "output_type": "stream",
     "text": [
      "100%|██████████| 24/24 [00:00<00:00, 103.01it/s]\n",
      "2023-07-06 18:45:22,786 - BERTopic - Transformed documents to Embeddings\n",
      "2023-07-06 18:45:23,949 - BERTopic - Reduced dimensionality\n",
      "2023-07-06 18:45:23,956 - BERTopic - Clustered reduced embeddings\n",
      "0it [00:00, ?it/s]\n"
     ]
    },
    {
     "name": "stdout",
     "output_type": "stream",
     "text": [
      "Can't distribute all messages in topics\n"
     ]
    },
    {
     "name": "stderr",
     "output_type": "stream",
     "text": [
      "100%|██████████| 21/21 [00:00<00:00, 133.76it/s]\n",
      "2023-07-06 18:45:24,178 - BERTopic - Transformed documents to Embeddings\n",
      "2023-07-06 18:45:25,019 - BERTopic - Reduced dimensionality\n",
      "2023-07-06 18:45:25,025 - BERTopic - Clustered reduced embeddings\n",
      "0it [00:00, ?it/s]\n"
     ]
    },
    {
     "name": "stdout",
     "output_type": "stream",
     "text": [
      "Can't distribute all messages in topics\n"
     ]
    },
    {
     "name": "stderr",
     "output_type": "stream",
     "text": [
      "100%|██████████| 5/5 [00:00<00:00, 98.04it/s]\n",
      "2023-07-06 18:45:25,153 - BERTopic - Transformed documents to Embeddings\n",
      "f:\\Coding\\.venv\\lib\\site-packages\\scipy\\sparse\\linalg\\_eigen\\arpack\\arpack.py:1592: RuntimeWarning: k >= N for N * N square matrix. Attempting to use scipy.linalg.eigh instead.\n",
      "  warnings.warn(\"k >= N for N * N square matrix. \"\n",
      "2023-07-06 18:45:25,162 - BERTopic - The dimensionality reduction algorithm did not contain the `y` parameter and therefore the `y` parameter was not used\n",
      "f:\\Coding\\.venv\\lib\\site-packages\\scipy\\sparse\\linalg\\_eigen\\arpack\\arpack.py:1592: RuntimeWarning: k >= N for N * N square matrix. Attempting to use scipy.linalg.eigh instead.\n",
      "  warnings.warn(\"k >= N for N * N square matrix. \"\n"
     ]
    },
    {
     "name": "stdout",
     "output_type": "stream",
     "text": [
      "Can't reduce dimensionality or some other problem\n"
     ]
    },
    {
     "name": "stderr",
     "output_type": "stream",
     "text": [
      "100%|██████████| 6/6 [00:00<00:00, 54.55it/s]\n",
      "2023-07-06 18:45:25,289 - BERTopic - Transformed documents to Embeddings\n",
      "f:\\Coding\\.venv\\lib\\site-packages\\scipy\\sparse\\linalg\\_eigen\\arpack\\arpack.py:1592: RuntimeWarning: k >= N for N * N square matrix. Attempting to use scipy.linalg.eigh instead.\n",
      "  warnings.warn(\"k >= N for N * N square matrix. \"\n",
      "2023-07-06 18:45:25,295 - BERTopic - The dimensionality reduction algorithm did not contain the `y` parameter and therefore the `y` parameter was not used\n",
      "f:\\Coding\\.venv\\lib\\site-packages\\scipy\\sparse\\linalg\\_eigen\\arpack\\arpack.py:1592: RuntimeWarning: k >= N for N * N square matrix. Attempting to use scipy.linalg.eigh instead.\n",
      "  warnings.warn(\"k >= N for N * N square matrix. \"\n"
     ]
    },
    {
     "name": "stdout",
     "output_type": "stream",
     "text": [
      "Can't reduce dimensionality or some other problem\n"
     ]
    },
    {
     "name": "stderr",
     "output_type": "stream",
     "text": [
      "100%|██████████| 20/20 [00:00<00:00, 114.94it/s]\n",
      "2023-07-06 18:45:25,486 - BERTopic - Transformed documents to Embeddings\n",
      "2023-07-06 18:45:26,258 - BERTopic - Reduced dimensionality\n",
      "2023-07-06 18:45:26,263 - BERTopic - Clustered reduced embeddings\n",
      "0it [00:00, ?it/s]\n"
     ]
    },
    {
     "name": "stdout",
     "output_type": "stream",
     "text": [
      "Can't distribute all messages in topics\n"
     ]
    },
    {
     "name": "stderr",
     "output_type": "stream",
     "text": [
      "100%|██████████| 25/25 [00:00<00:00, 133.00it/s]\n",
      "2023-07-06 18:45:26,523 - BERTopic - Transformed documents to Embeddings\n",
      "2023-07-06 18:45:27,326 - BERTopic - Reduced dimensionality\n",
      "2023-07-06 18:45:27,331 - BERTopic - Clustered reduced embeddings\n",
      "0it [00:00, ?it/s]\n"
     ]
    },
    {
     "name": "stdout",
     "output_type": "stream",
     "text": [
      "Can't distribute all messages in topics\n"
     ]
    },
    {
     "name": "stderr",
     "output_type": "stream",
     "text": [
      "100%|██████████| 8/8 [00:00<00:00, 123.09it/s]\n",
      "2023-07-06 18:45:27,468 - BERTopic - Transformed documents to Embeddings\n",
      "2023-07-06 18:45:28,272 - BERTopic - Reduced dimensionality\n",
      "2023-07-06 18:45:28,277 - BERTopic - Clustered reduced embeddings\n",
      "0it [00:00, ?it/s]\n"
     ]
    },
    {
     "name": "stdout",
     "output_type": "stream",
     "text": [
      "Can't distribute all messages in topics\n"
     ]
    },
    {
     "name": "stderr",
     "output_type": "stream",
     "text": [
      "100%|██████████| 311/311 [00:02<00:00, 107.24it/s]\n",
      "2023-07-06 18:45:31,245 - BERTopic - Transformed documents to Embeddings\n",
      "2023-07-06 18:45:32,929 - BERTopic - Reduced dimensionality\n",
      "2023-07-06 18:45:32,979 - BERTopic - Clustered reduced embeddings\n",
      "100%|██████████| 1/1 [00:00<00:00, 111.06it/s]\n",
      "100%|██████████| 11/11 [00:00<00:00, 129.41it/s]\n",
      "2023-07-06 18:45:35,851 - BERTopic - Transformed documents to Embeddings\n",
      "2023-07-06 18:45:36,682 - BERTopic - Reduced dimensionality\n",
      "2023-07-06 18:45:36,685 - BERTopic - Clustered reduced embeddings\n",
      "  0%|          | 0/1 [00:00<?, ?it/s]\n"
     ]
    },
    {
     "name": "stdout",
     "output_type": "stream",
     "text": [
      "Can't distribute all messages in topics\n"
     ]
    },
    {
     "name": "stderr",
     "output_type": "stream",
     "text": [
      "100%|██████████| 8/8 [00:00<00:00, 83.34it/s]\n",
      "2023-07-06 18:45:36,831 - BERTopic - Transformed documents to Embeddings\n",
      "2023-07-06 18:45:37,751 - BERTopic - Reduced dimensionality\n",
      "2023-07-06 18:45:37,755 - BERTopic - Clustered reduced embeddings\n",
      "0it [00:00, ?it/s]\n"
     ]
    },
    {
     "name": "stdout",
     "output_type": "stream",
     "text": [
      "Can't distribute all messages in topics\n"
     ]
    },
    {
     "name": "stderr",
     "output_type": "stream",
     "text": [
      "100%|██████████| 8/8 [00:00<00:00, 76.92it/s]\n",
      "2023-07-06 18:45:37,918 - BERTopic - Transformed documents to Embeddings\n",
      "2023-07-06 18:45:38,721 - BERTopic - Reduced dimensionality\n",
      "2023-07-06 18:45:38,724 - BERTopic - Clustered reduced embeddings\n",
      "  0%|          | 0/1 [00:00<?, ?it/s]\n"
     ]
    },
    {
     "name": "stdout",
     "output_type": "stream",
     "text": [
      "Can't distribute all messages in topics\n"
     ]
    },
    {
     "name": "stderr",
     "output_type": "stream",
     "text": [
      "100%|██████████| 12/12 [00:00<00:00, 104.35it/s]\n",
      "2023-07-06 18:45:38,881 - BERTopic - Transformed documents to Embeddings\n",
      "2023-07-06 18:45:39,691 - BERTopic - Reduced dimensionality\n",
      "2023-07-06 18:45:39,696 - BERTopic - Clustered reduced embeddings\n",
      "0it [00:00, ?it/s]\n"
     ]
    },
    {
     "name": "stdout",
     "output_type": "stream",
     "text": [
      "Can't distribute all messages in topics\n"
     ]
    },
    {
     "name": "stderr",
     "output_type": "stream",
     "text": [
      "100%|██████████| 22/22 [00:00<00:00, 117.65it/s]\n",
      "2023-07-06 18:45:39,958 - BERTopic - Transformed documents to Embeddings\n",
      "2023-07-06 18:45:40,999 - BERTopic - Reduced dimensionality\n",
      "2023-07-06 18:45:41,004 - BERTopic - Clustered reduced embeddings\n",
      "0it [00:00, ?it/s]\n"
     ]
    },
    {
     "name": "stdout",
     "output_type": "stream",
     "text": [
      "Can't distribute all messages in topics\n"
     ]
    },
    {
     "name": "stderr",
     "output_type": "stream",
     "text": [
      "100%|██████████| 10/10 [00:00<00:00, 107.53it/s]\n",
      "2023-07-06 18:45:41,169 - BERTopic - Transformed documents to Embeddings\n",
      "2023-07-06 18:45:42,064 - BERTopic - Reduced dimensionality\n",
      "2023-07-06 18:45:42,068 - BERTopic - Clustered reduced embeddings\n",
      "0it [00:00, ?it/s]\n"
     ]
    },
    {
     "name": "stdout",
     "output_type": "stream",
     "text": [
      "Can't distribute all messages in topics\n"
     ]
    },
    {
     "name": "stderr",
     "output_type": "stream",
     "text": [
      "100%|██████████| 12/12 [00:00<00:00, 144.58it/s]\n",
      "2023-07-06 18:45:42,203 - BERTopic - Transformed documents to Embeddings\n",
      "2023-07-06 18:45:42,994 - BERTopic - Reduced dimensionality\n",
      "2023-07-06 18:45:42,998 - BERTopic - Clustered reduced embeddings\n",
      "0it [00:00, ?it/s]\n"
     ]
    },
    {
     "name": "stdout",
     "output_type": "stream",
     "text": [
      "Can't distribute all messages in topics\n"
     ]
    },
    {
     "name": "stderr",
     "output_type": "stream",
     "text": [
      "100%|██████████| 6/6 [00:00<00:00, 146.33it/s]\n",
      "2023-07-06 18:45:43,089 - BERTopic - Transformed documents to Embeddings\n",
      "f:\\Coding\\.venv\\lib\\site-packages\\scipy\\sparse\\linalg\\_eigen\\arpack\\arpack.py:1592: RuntimeWarning: k >= N for N * N square matrix. Attempting to use scipy.linalg.eigh instead.\n",
      "  warnings.warn(\"k >= N for N * N square matrix. \"\n",
      "2023-07-06 18:45:43,095 - BERTopic - The dimensionality reduction algorithm did not contain the `y` parameter and therefore the `y` parameter was not used\n",
      "f:\\Coding\\.venv\\lib\\site-packages\\scipy\\sparse\\linalg\\_eigen\\arpack\\arpack.py:1592: RuntimeWarning: k >= N for N * N square matrix. Attempting to use scipy.linalg.eigh instead.\n",
      "  warnings.warn(\"k >= N for N * N square matrix. \"\n"
     ]
    },
    {
     "name": "stdout",
     "output_type": "stream",
     "text": [
      "Can't reduce dimensionality or some other problem\n"
     ]
    },
    {
     "name": "stderr",
     "output_type": "stream",
     "text": [
      "100%|██████████| 17/17 [00:00<00:00, 133.86it/s]\n",
      "2023-07-06 18:45:43,233 - BERTopic - Transformed documents to Embeddings\n",
      "2023-07-06 18:45:44,168 - BERTopic - Reduced dimensionality\n",
      "2023-07-06 18:45:44,173 - BERTopic - Clustered reduced embeddings\n",
      "0it [00:00, ?it/s]\n"
     ]
    },
    {
     "name": "stdout",
     "output_type": "stream",
     "text": [
      "Can't distribute all messages in topics\n"
     ]
    },
    {
     "name": "stderr",
     "output_type": "stream",
     "text": [
      "100%|██████████| 35/35 [00:00<00:00, 142.86it/s]\n",
      "2023-07-06 18:45:44,502 - BERTopic - Transformed documents to Embeddings\n",
      "2023-07-06 18:45:45,388 - BERTopic - Reduced dimensionality\n",
      "2023-07-06 18:45:45,394 - BERTopic - Clustered reduced embeddings\n",
      "100%|██████████| 1/1 [00:00<00:00, 499.74it/s]\n",
      "100%|██████████| 10/10 [00:00<00:00, 61.35it/s]\n",
      "2023-07-06 18:45:46,019 - BERTopic - Transformed documents to Embeddings\n",
      "2023-07-06 18:45:47,248 - BERTopic - Reduced dimensionality\n",
      "2023-07-06 18:45:47,252 - BERTopic - Clustered reduced embeddings\n",
      "0it [00:00, ?it/s]\n"
     ]
    },
    {
     "name": "stdout",
     "output_type": "stream",
     "text": [
      "Can't distribute all messages in topics\n"
     ]
    },
    {
     "name": "stderr",
     "output_type": "stream",
     "text": [
      "100%|██████████| 10/10 [00:00<00:00, 34.72it/s]\n",
      "2023-07-06 18:45:47,597 - BERTopic - Transformed documents to Embeddings\n",
      "2023-07-06 18:45:48,391 - BERTopic - Reduced dimensionality\n",
      "2023-07-06 18:45:48,395 - BERTopic - Clustered reduced embeddings\n",
      "0it [00:00, ?it/s]\n"
     ]
    },
    {
     "name": "stdout",
     "output_type": "stream",
     "text": [
      "Can't distribute all messages in topics\n"
     ]
    },
    {
     "name": "stderr",
     "output_type": "stream",
     "text": [
      "100%|██████████| 6/6 [00:00<00:00, 115.46it/s]\n",
      "2023-07-06 18:45:48,497 - BERTopic - Transformed documents to Embeddings\n",
      "f:\\Coding\\.venv\\lib\\site-packages\\scipy\\sparse\\linalg\\_eigen\\arpack\\arpack.py:1592: RuntimeWarning: k >= N for N * N square matrix. Attempting to use scipy.linalg.eigh instead.\n",
      "  warnings.warn(\"k >= N for N * N square matrix. \"\n",
      "2023-07-06 18:45:48,502 - BERTopic - The dimensionality reduction algorithm did not contain the `y` parameter and therefore the `y` parameter was not used\n",
      "f:\\Coding\\.venv\\lib\\site-packages\\scipy\\sparse\\linalg\\_eigen\\arpack\\arpack.py:1592: RuntimeWarning: k >= N for N * N square matrix. Attempting to use scipy.linalg.eigh instead.\n",
      "  warnings.warn(\"k >= N for N * N square matrix. \"\n"
     ]
    },
    {
     "name": "stdout",
     "output_type": "stream",
     "text": [
      "Can't reduce dimensionality or some other problem\n"
     ]
    },
    {
     "name": "stderr",
     "output_type": "stream",
     "text": [
      "100%|██████████| 5/5 [00:00<00:00, 178.56it/s]\n",
      "2023-07-06 18:45:48,543 - BERTopic - Transformed documents to Embeddings\n",
      "f:\\Coding\\.venv\\lib\\site-packages\\scipy\\sparse\\linalg\\_eigen\\arpack\\arpack.py:1592: RuntimeWarning: k >= N for N * N square matrix. Attempting to use scipy.linalg.eigh instead.\n",
      "  warnings.warn(\"k >= N for N * N square matrix. \"\n",
      "2023-07-06 18:45:48,548 - BERTopic - The dimensionality reduction algorithm did not contain the `y` parameter and therefore the `y` parameter was not used\n",
      "f:\\Coding\\.venv\\lib\\site-packages\\scipy\\sparse\\linalg\\_eigen\\arpack\\arpack.py:1592: RuntimeWarning: k >= N for N * N square matrix. Attempting to use scipy.linalg.eigh instead.\n",
      "  warnings.warn(\"k >= N for N * N square matrix. \"\n"
     ]
    },
    {
     "name": "stdout",
     "output_type": "stream",
     "text": [
      "Can't reduce dimensionality or some other problem\n"
     ]
    },
    {
     "name": "stderr",
     "output_type": "stream",
     "text": [
      "100%|██████████| 10/10 [00:00<00:00, 156.26it/s]\n",
      "2023-07-06 18:45:48,627 - BERTopic - Transformed documents to Embeddings\n",
      "2023-07-06 18:45:49,474 - BERTopic - Reduced dimensionality\n",
      "2023-07-06 18:45:49,478 - BERTopic - Clustered reduced embeddings\n",
      "100%|██████████| 1/1 [00:00<00:00, 499.44it/s]\n",
      "100%|██████████| 19/19 [00:00<00:00, 68.84it/s]\n",
      "2023-07-06 18:45:49,961 - BERTopic - Transformed documents to Embeddings\n",
      "2023-07-06 18:45:50,978 - BERTopic - Reduced dimensionality\n",
      "2023-07-06 18:45:50,988 - BERTopic - Clustered reduced embeddings\n",
      "0it [00:00, ?it/s]\n"
     ]
    },
    {
     "name": "stdout",
     "output_type": "stream",
     "text": [
      "Can't distribute all messages in topics\n"
     ]
    },
    {
     "name": "stderr",
     "output_type": "stream",
     "text": [
      "100%|██████████| 18/18 [00:00<00:00, 57.41it/s] \n",
      "2023-07-06 18:45:51,361 - BERTopic - Transformed documents to Embeddings\n",
      "2023-07-06 18:45:52,134 - BERTopic - Reduced dimensionality\n",
      "2023-07-06 18:45:52,139 - BERTopic - Clustered reduced embeddings\n",
      "0it [00:00, ?it/s]\n"
     ]
    },
    {
     "name": "stdout",
     "output_type": "stream",
     "text": [
      "Can't distribute all messages in topics\n"
     ]
    },
    {
     "name": "stderr",
     "output_type": "stream",
     "text": [
      "100%|██████████| 40/40 [00:00<00:00, 118.69it/s]\n",
      "2023-07-06 18:45:52,529 - BERTopic - Transformed documents to Embeddings\n",
      "2023-07-06 18:45:53,630 - BERTopic - Reduced dimensionality\n",
      "2023-07-06 18:45:53,638 - BERTopic - Clustered reduced embeddings\n",
      "100%|██████████| 1/1 [00:00<00:00, 333.41it/s]\n",
      "100%|██████████| 14/14 [00:00<00:00, 119.66it/s]\n",
      "2023-07-06 18:45:54,137 - BERTopic - Transformed documents to Embeddings\n",
      "2023-07-06 18:45:54,923 - BERTopic - Reduced dimensionality\n",
      "2023-07-06 18:45:54,927 - BERTopic - Clustered reduced embeddings\n",
      "0it [00:00, ?it/s]\n"
     ]
    },
    {
     "name": "stdout",
     "output_type": "stream",
     "text": [
      "Can't distribute all messages in topics\n"
     ]
    },
    {
     "name": "stderr",
     "output_type": "stream",
     "text": [
      "100%|██████████| 32/32 [00:00<00:00, 172.05it/s]\n",
      "2023-07-06 18:45:55,175 - BERTopic - Transformed documents to Embeddings\n",
      "2023-07-06 18:45:55,974 - BERTopic - Reduced dimensionality\n",
      "2023-07-06 18:45:55,982 - BERTopic - Clustered reduced embeddings\n",
      "0it [00:00, ?it/s]\n"
     ]
    },
    {
     "name": "stdout",
     "output_type": "stream",
     "text": [
      "Can't distribute all messages in topics\n"
     ]
    },
    {
     "name": "stderr",
     "output_type": "stream",
     "text": [
      "100%|██████████| 74/74 [00:01<00:00, 50.31it/s]\n",
      "2023-07-06 18:45:57,514 - BERTopic - Transformed documents to Embeddings\n",
      "2023-07-06 18:45:58,523 - BERTopic - Reduced dimensionality\n",
      "2023-07-06 18:45:58,534 - BERTopic - Clustered reduced embeddings\n",
      "0it [00:00, ?it/s]\n"
     ]
    },
    {
     "name": "stdout",
     "output_type": "stream",
     "text": [
      "Can't distribute all messages in topics\n"
     ]
    },
    {
     "name": "stderr",
     "output_type": "stream",
     "text": [
      "100%|██████████| 102/102 [00:00<00:00, 148.26it/s]\n",
      "2023-07-06 18:45:59,401 - BERTopic - Transformed documents to Embeddings\n",
      "2023-07-06 18:46:00,358 - BERTopic - Reduced dimensionality\n",
      "2023-07-06 18:46:00,373 - BERTopic - Clustered reduced embeddings\n",
      "0it [00:00, ?it/s]\n"
     ]
    },
    {
     "name": "stdout",
     "output_type": "stream",
     "text": [
      "Can't distribute all messages in topics\n"
     ]
    },
    {
     "name": "stderr",
     "output_type": "stream",
     "text": [
      "100%|██████████| 19/19 [00:00<00:00, 82.97it/s]\n",
      "2023-07-06 18:46:00,833 - BERTopic - Transformed documents to Embeddings\n",
      "2023-07-06 18:46:01,656 - BERTopic - Reduced dimensionality\n",
      "2023-07-06 18:46:01,661 - BERTopic - Clustered reduced embeddings\n",
      "0it [00:00, ?it/s]\n"
     ]
    },
    {
     "name": "stdout",
     "output_type": "stream",
     "text": [
      "Can't distribute all messages in topics\n"
     ]
    },
    {
     "name": "stderr",
     "output_type": "stream",
     "text": [
      "100%|██████████| 6/6 [00:00<00:00, 90.92it/s]\n",
      "2023-07-06 18:46:01,779 - BERTopic - Transformed documents to Embeddings\n",
      "f:\\Coding\\.venv\\lib\\site-packages\\scipy\\sparse\\linalg\\_eigen\\arpack\\arpack.py:1592: RuntimeWarning: k >= N for N * N square matrix. Attempting to use scipy.linalg.eigh instead.\n",
      "  warnings.warn(\"k >= N for N * N square matrix. \"\n",
      "2023-07-06 18:46:01,784 - BERTopic - The dimensionality reduction algorithm did not contain the `y` parameter and therefore the `y` parameter was not used\n",
      "f:\\Coding\\.venv\\lib\\site-packages\\scipy\\sparse\\linalg\\_eigen\\arpack\\arpack.py:1592: RuntimeWarning: k >= N for N * N square matrix. Attempting to use scipy.linalg.eigh instead.\n",
      "  warnings.warn(\"k >= N for N * N square matrix. \"\n"
     ]
    },
    {
     "name": "stdout",
     "output_type": "stream",
     "text": [
      "Can't reduce dimensionality or some other problem\n"
     ]
    },
    {
     "name": "stderr",
     "output_type": "stream",
     "text": [
      "100%|██████████| 12/12 [00:00<00:00, 71.00it/s]\n",
      "2023-07-06 18:46:01,964 - BERTopic - Transformed documents to Embeddings\n",
      "2023-07-06 18:46:03,034 - BERTopic - Reduced dimensionality\n",
      "2023-07-06 18:46:03,040 - BERTopic - Clustered reduced embeddings\n",
      "0it [00:00, ?it/s]\n"
     ]
    },
    {
     "name": "stdout",
     "output_type": "stream",
     "text": [
      "Can't distribute all messages in topics\n"
     ]
    },
    {
     "name": "stderr",
     "output_type": "stream",
     "text": [
      "100%|██████████| 19/19 [00:00<00:00, 67.49it/s]\n",
      "2023-07-06 18:46:03,390 - BERTopic - Transformed documents to Embeddings\n",
      "2023-07-06 18:46:04,231 - BERTopic - Reduced dimensionality\n",
      "2023-07-06 18:46:04,236 - BERTopic - Clustered reduced embeddings\n",
      "0it [00:00, ?it/s]\n"
     ]
    },
    {
     "name": "stdout",
     "output_type": "stream",
     "text": [
      "Can't distribute all messages in topics\n"
     ]
    },
    {
     "name": "stderr",
     "output_type": "stream",
     "text": [
      "100%|██████████| 43/43 [00:00<00:00, 100.47it/s]\n",
      "2023-07-06 18:46:04,754 - BERTopic - Transformed documents to Embeddings\n",
      "2023-07-06 18:46:05,642 - BERTopic - Reduced dimensionality\n",
      "2023-07-06 18:46:05,649 - BERTopic - Clustered reduced embeddings\n",
      "0it [00:00, ?it/s]\n"
     ]
    },
    {
     "name": "stdout",
     "output_type": "stream",
     "text": [
      "Can't distribute all messages in topics\n"
     ]
    },
    {
     "name": "stderr",
     "output_type": "stream",
     "text": [
      "100%|██████████| 46/46 [00:00<00:00, 152.32it/s]\n",
      "2023-07-06 18:46:06,050 - BERTopic - Transformed documents to Embeddings\n",
      "2023-07-06 18:46:06,902 - BERTopic - Reduced dimensionality\n",
      "2023-07-06 18:46:06,909 - BERTopic - Clustered reduced embeddings\n",
      "100%|██████████| 1/1 [00:00<00:00, 333.49it/s]\n",
      "100%|██████████| 29/29 [00:00<00:00, 55.56it/s]\n",
      "2023-07-06 18:46:07,890 - BERTopic - Transformed documents to Embeddings\n",
      "2023-07-06 18:46:08,920 - BERTopic - Reduced dimensionality\n",
      "2023-07-06 18:46:08,926 - BERTopic - Clustered reduced embeddings\n",
      "0it [00:00, ?it/s]\n"
     ]
    },
    {
     "name": "stdout",
     "output_type": "stream",
     "text": [
      "Can't distribute all messages in topics\n"
     ]
    },
    {
     "name": "stderr",
     "output_type": "stream",
     "text": [
      "100%|██████████| 30/30 [00:00<00:00, 143.54it/s]\n",
      "2023-07-06 18:46:09,268 - BERTopic - Transformed documents to Embeddings\n",
      "2023-07-06 18:46:10,180 - BERTopic - Reduced dimensionality\n",
      "2023-07-06 18:46:10,185 - BERTopic - Clustered reduced embeddings\n",
      "0it [00:00, ?it/s]\n"
     ]
    },
    {
     "name": "stdout",
     "output_type": "stream",
     "text": [
      "Can't distribute all messages in topics\n"
     ]
    },
    {
     "name": "stderr",
     "output_type": "stream",
     "text": [
      "100%|██████████| 43/43 [00:00<00:00, 111.40it/s]\n",
      "2023-07-06 18:46:10,654 - BERTopic - Transformed documents to Embeddings\n",
      "2023-07-06 18:46:11,517 - BERTopic - Reduced dimensionality\n",
      "2023-07-06 18:46:11,524 - BERTopic - Clustered reduced embeddings\n",
      "100%|██████████| 1/1 [00:00<00:00, 332.93it/s]\n",
      "100%|██████████| 6/6 [00:00<00:00, 142.84it/s]\n",
      "2023-07-06 18:46:12,223 - BERTopic - Transformed documents to Embeddings\n",
      "f:\\Coding\\.venv\\lib\\site-packages\\scipy\\sparse\\linalg\\_eigen\\arpack\\arpack.py:1592: RuntimeWarning: k >= N for N * N square matrix. Attempting to use scipy.linalg.eigh instead.\n",
      "  warnings.warn(\"k >= N for N * N square matrix. \"\n",
      "2023-07-06 18:46:12,229 - BERTopic - The dimensionality reduction algorithm did not contain the `y` parameter and therefore the `y` parameter was not used\n",
      "f:\\Coding\\.venv\\lib\\site-packages\\scipy\\sparse\\linalg\\_eigen\\arpack\\arpack.py:1592: RuntimeWarning: k >= N for N * N square matrix. Attempting to use scipy.linalg.eigh instead.\n",
      "  warnings.warn(\"k >= N for N * N square matrix. \"\n"
     ]
    },
    {
     "name": "stdout",
     "output_type": "stream",
     "text": [
      "Can't reduce dimensionality or some other problem\n"
     ]
    },
    {
     "name": "stderr",
     "output_type": "stream",
     "text": [
      "100%|██████████| 9/9 [00:00<00:00, 97.83it/s]\n",
      "2023-07-06 18:46:12,338 - BERTopic - Transformed documents to Embeddings\n",
      "2023-07-06 18:46:13,188 - BERTopic - Reduced dimensionality\n",
      "2023-07-06 18:46:13,192 - BERTopic - Clustered reduced embeddings\n",
      "0it [00:00, ?it/s]\n"
     ]
    },
    {
     "name": "stdout",
     "output_type": "stream",
     "text": [
      "Can't distribute all messages in topics\n"
     ]
    },
    {
     "name": "stderr",
     "output_type": "stream",
     "text": [
      "100%|██████████| 22/22 [00:00<00:00, 133.72it/s]\n",
      "2023-07-06 18:46:13,410 - BERTopic - Transformed documents to Embeddings\n",
      "2023-07-06 18:46:14,205 - BERTopic - Reduced dimensionality\n",
      "2023-07-06 18:46:14,211 - BERTopic - Clustered reduced embeddings\n",
      "0it [00:00, ?it/s]\n"
     ]
    },
    {
     "name": "stdout",
     "output_type": "stream",
     "text": [
      "Can't distribute all messages in topics\n"
     ]
    },
    {
     "name": "stderr",
     "output_type": "stream",
     "text": [
      "100%|██████████| 12/12 [00:00<00:00, 95.24it/s]\n",
      "2023-07-06 18:46:14,427 - BERTopic - Transformed documents to Embeddings\n",
      "2023-07-06 18:46:15,190 - BERTopic - Reduced dimensionality\n",
      "2023-07-06 18:46:15,194 - BERTopic - Clustered reduced embeddings\n",
      "100%|██████████| 1/1 [00:00<00:00, 500.51it/s]\n",
      "100%|██████████| 8/8 [00:00<00:00, 27.78it/s]\n",
      "2023-07-06 18:46:15,620 - BERTopic - Transformed documents to Embeddings\n",
      "2023-07-06 18:46:16,734 - BERTopic - Reduced dimensionality\n",
      "2023-07-06 18:46:16,738 - BERTopic - Clustered reduced embeddings\n",
      "100%|██████████| 1/1 [00:00<00:00, 201.12it/s]\n",
      "100%|██████████| 52/52 [00:00<00:00, 118.72it/s]\n",
      "2023-07-06 18:46:17,326 - BERTopic - Transformed documents to Embeddings\n",
      "2023-07-06 18:46:18,149 - BERTopic - Reduced dimensionality\n",
      "2023-07-06 18:46:18,158 - BERTopic - Clustered reduced embeddings\n",
      "100%|██████████| 1/1 [00:00<00:00, 500.16it/s]\n",
      "100%|██████████| 23/23 [00:00<00:00, 121.69it/s]\n",
      "2023-07-06 18:46:18,952 - BERTopic - Transformed documents to Embeddings\n",
      "2023-07-06 18:46:19,790 - BERTopic - Reduced dimensionality\n",
      "2023-07-06 18:46:19,795 - BERTopic - Clustered reduced embeddings\n",
      "100%|██████████| 1/1 [00:00<00:00, 1002.94it/s]\n",
      "100%|██████████| 19/19 [00:00<00:00, 154.47it/s]\n",
      "2023-07-06 18:46:20,216 - BERTopic - Transformed documents to Embeddings\n",
      "2023-07-06 18:46:21,023 - BERTopic - Reduced dimensionality\n",
      "2023-07-06 18:46:21,028 - BERTopic - Clustered reduced embeddings\n",
      "0it [00:00, ?it/s]\n"
     ]
    },
    {
     "name": "stdout",
     "output_type": "stream",
     "text": [
      "Can't distribute all messages in topics\n"
     ]
    },
    {
     "name": "stderr",
     "output_type": "stream",
     "text": [
      "100%|██████████| 7/7 [00:00<00:00, 152.17it/s]\n",
      "2023-07-06 18:46:21,149 - BERTopic - Transformed documents to Embeddings\n",
      "2023-07-06 18:46:22,112 - BERTopic - Reduced dimensionality\n",
      "2023-07-06 18:46:22,115 - BERTopic - Clustered reduced embeddings\n",
      "0it [00:00, ?it/s]\n"
     ]
    },
    {
     "name": "stdout",
     "output_type": "stream",
     "text": [
      "Can't distribute all messages in topics\n"
     ]
    },
    {
     "name": "stderr",
     "output_type": "stream",
     "text": [
      "100%|██████████| 17/17 [00:00<00:00, 87.63it/s]\n",
      "2023-07-06 18:46:22,357 - BERTopic - Transformed documents to Embeddings\n",
      "2023-07-06 18:46:23,164 - BERTopic - Reduced dimensionality\n",
      "2023-07-06 18:46:23,169 - BERTopic - Clustered reduced embeddings\n",
      "0it [00:00, ?it/s]\n"
     ]
    },
    {
     "name": "stdout",
     "output_type": "stream",
     "text": [
      "Can't distribute all messages in topics\n"
     ]
    },
    {
     "name": "stderr",
     "output_type": "stream",
     "text": [
      "100%|██████████| 23/23 [00:00<00:00, 126.38it/s]\n",
      "2023-07-06 18:46:23,419 - BERTopic - Transformed documents to Embeddings\n",
      "2023-07-06 18:46:24,205 - BERTopic - Reduced dimensionality\n",
      "2023-07-06 18:46:24,210 - BERTopic - Clustered reduced embeddings\n",
      "100%|██████████| 1/1 [00:00<00:00, 999.36it/s]\n",
      "100%|██████████| 8/8 [00:00<00:00, 109.59it/s]\n",
      "2023-07-06 18:46:24,598 - BERTopic - Transformed documents to Embeddings\n",
      "2023-07-06 18:46:25,439 - BERTopic - Reduced dimensionality\n",
      "2023-07-06 18:46:25,441 - BERTopic - Clustered reduced embeddings\n",
      "  0%|          | 0/1 [00:00<?, ?it/s]\n"
     ]
    },
    {
     "name": "stdout",
     "output_type": "stream",
     "text": [
      "Can't distribute all messages in topics\n"
     ]
    },
    {
     "name": "stderr",
     "output_type": "stream",
     "text": [
      "100%|██████████| 22/22 [00:00<00:00, 120.54it/s]\n",
      "2023-07-06 18:46:25,670 - BERTopic - Transformed documents to Embeddings\n",
      "2023-07-06 18:46:26,446 - BERTopic - Reduced dimensionality\n",
      "2023-07-06 18:46:26,451 - BERTopic - Clustered reduced embeddings\n",
      "0it [00:00, ?it/s]\n"
     ]
    },
    {
     "name": "stdout",
     "output_type": "stream",
     "text": [
      "Can't distribute all messages in topics\n"
     ]
    },
    {
     "name": "stderr",
     "output_type": "stream",
     "text": [
      "100%|██████████| 14/14 [00:00<00:00, 101.45it/s]\n",
      "2023-07-06 18:46:26,654 - BERTopic - Transformed documents to Embeddings\n",
      "2023-07-06 18:46:27,468 - BERTopic - Reduced dimensionality\n",
      "2023-07-06 18:46:27,474 - BERTopic - Clustered reduced embeddings\n",
      "0it [00:00, ?it/s]\n"
     ]
    },
    {
     "name": "stdout",
     "output_type": "stream",
     "text": [
      "Can't distribute all messages in topics\n"
     ]
    },
    {
     "name": "stderr",
     "output_type": "stream",
     "text": [
      "100%|██████████| 12/12 [00:00<00:00, 127.67it/s]\n",
      "2023-07-06 18:46:27,633 - BERTopic - Transformed documents to Embeddings\n",
      "2023-07-06 18:46:28,736 - BERTopic - Reduced dimensionality\n",
      "2023-07-06 18:46:28,742 - BERTopic - Clustered reduced embeddings\n",
      "0it [00:00, ?it/s]\n"
     ]
    },
    {
     "name": "stdout",
     "output_type": "stream",
     "text": [
      "Can't distribute all messages in topics\n"
     ]
    },
    {
     "name": "stderr",
     "output_type": "stream",
     "text": [
      "100%|██████████| 22/22 [00:00<00:00, 81.18it/s] \n",
      "2023-07-06 18:46:29,071 - BERTopic - Transformed documents to Embeddings\n",
      "2023-07-06 18:46:29,873 - BERTopic - Reduced dimensionality\n",
      "2023-07-06 18:46:29,878 - BERTopic - Clustered reduced embeddings\n",
      "0it [00:00, ?it/s]\n"
     ]
    },
    {
     "name": "stdout",
     "output_type": "stream",
     "text": [
      "Can't distribute all messages in topics\n"
     ]
    },
    {
     "name": "stderr",
     "output_type": "stream",
     "text": [
      "100%|██████████| 10/10 [00:00<00:00, 33.44it/s]\n",
      "2023-07-06 18:46:30,250 - BERTopic - Transformed documents to Embeddings\n",
      "2023-07-06 18:46:31,130 - BERTopic - Reduced dimensionality\n",
      "2023-07-06 18:46:31,134 - BERTopic - Clustered reduced embeddings\n",
      "0it [00:00, ?it/s]\n"
     ]
    },
    {
     "name": "stdout",
     "output_type": "stream",
     "text": [
      "Can't distribute all messages in topics\n"
     ]
    },
    {
     "name": "stderr",
     "output_type": "stream",
     "text": [
      "100%|██████████| 11/11 [00:00<00:00, 64.71it/s]\n",
      "2023-07-06 18:46:31,363 - BERTopic - Transformed documents to Embeddings\n",
      "2023-07-06 18:46:32,171 - BERTopic - Reduced dimensionality\n",
      "2023-07-06 18:46:32,176 - BERTopic - Clustered reduced embeddings\n",
      "0it [00:00, ?it/s]\n"
     ]
    },
    {
     "name": "stdout",
     "output_type": "stream",
     "text": [
      "Can't distribute all messages in topics\n"
     ]
    },
    {
     "name": "stderr",
     "output_type": "stream",
     "text": [
      "100%|██████████| 8/8 [00:00<00:00, 170.22it/s]\n",
      "2023-07-06 18:46:32,294 - BERTopic - Transformed documents to Embeddings\n",
      "2023-07-06 18:46:33,045 - BERTopic - Reduced dimensionality\n",
      "2023-07-06 18:46:33,049 - BERTopic - Clustered reduced embeddings\n",
      "0it [00:00, ?it/s]\n"
     ]
    },
    {
     "name": "stdout",
     "output_type": "stream",
     "text": [
      "Can't distribute all messages in topics\n"
     ]
    },
    {
     "name": "stderr",
     "output_type": "stream",
     "text": [
      "100%|██████████| 9/9 [00:00<00:00, 61.64it/s]\n",
      "2023-07-06 18:46:33,250 - BERTopic - Transformed documents to Embeddings\n",
      "2023-07-06 18:46:34,277 - BERTopic - Reduced dimensionality\n",
      "2023-07-06 18:46:34,282 - BERTopic - Clustered reduced embeddings\n",
      "0it [00:00, ?it/s]\n"
     ]
    },
    {
     "name": "stdout",
     "output_type": "stream",
     "text": [
      "Can't distribute all messages in topics\n"
     ]
    },
    {
     "name": "stderr",
     "output_type": "stream",
     "text": [
      "100%|██████████| 6/6 [00:00<00:00, 120.00it/s]\n",
      "2023-07-06 18:46:34,390 - BERTopic - Transformed documents to Embeddings\n",
      "f:\\Coding\\.venv\\lib\\site-packages\\scipy\\sparse\\linalg\\_eigen\\arpack\\arpack.py:1592: RuntimeWarning: k >= N for N * N square matrix. Attempting to use scipy.linalg.eigh instead.\n",
      "  warnings.warn(\"k >= N for N * N square matrix. \"\n",
      "2023-07-06 18:46:34,396 - BERTopic - The dimensionality reduction algorithm did not contain the `y` parameter and therefore the `y` parameter was not used\n",
      "f:\\Coding\\.venv\\lib\\site-packages\\scipy\\sparse\\linalg\\_eigen\\arpack\\arpack.py:1592: RuntimeWarning: k >= N for N * N square matrix. Attempting to use scipy.linalg.eigh instead.\n",
      "  warnings.warn(\"k >= N for N * N square matrix. \"\n"
     ]
    },
    {
     "name": "stdout",
     "output_type": "stream",
     "text": [
      "Can't reduce dimensionality or some other problem\n"
     ]
    },
    {
     "name": "stderr",
     "output_type": "stream",
     "text": [
      "100%|██████████| 8/8 [00:00<00:00, 89.89it/s]\n",
      "2023-07-06 18:46:34,508 - BERTopic - Transformed documents to Embeddings\n",
      "2023-07-06 18:46:35,778 - BERTopic - Reduced dimensionality\n",
      "2023-07-06 18:46:35,783 - BERTopic - Clustered reduced embeddings\n",
      "0it [00:00, ?it/s]\n"
     ]
    },
    {
     "name": "stdout",
     "output_type": "stream",
     "text": [
      "Can't distribute all messages in topics\n"
     ]
    },
    {
     "name": "stderr",
     "output_type": "stream",
     "text": [
      "100%|██████████| 6/6 [00:00<00:00, 85.71it/s]\n",
      "2023-07-06 18:46:35,918 - BERTopic - Transformed documents to Embeddings\n",
      "f:\\Coding\\.venv\\lib\\site-packages\\scipy\\sparse\\linalg\\_eigen\\arpack\\arpack.py:1592: RuntimeWarning: k >= N for N * N square matrix. Attempting to use scipy.linalg.eigh instead.\n",
      "  warnings.warn(\"k >= N for N * N square matrix. \"\n",
      "2023-07-06 18:46:35,926 - BERTopic - The dimensionality reduction algorithm did not contain the `y` parameter and therefore the `y` parameter was not used\n",
      "f:\\Coding\\.venv\\lib\\site-packages\\scipy\\sparse\\linalg\\_eigen\\arpack\\arpack.py:1592: RuntimeWarning: k >= N for N * N square matrix. Attempting to use scipy.linalg.eigh instead.\n",
      "  warnings.warn(\"k >= N for N * N square matrix. \"\n"
     ]
    },
    {
     "name": "stdout",
     "output_type": "stream",
     "text": [
      "Can't reduce dimensionality or some other problem\n"
     ]
    },
    {
     "name": "stderr",
     "output_type": "stream",
     "text": [
      "100%|██████████| 17/17 [00:00<00:00, 123.19it/s]\n",
      "2023-07-06 18:46:36,080 - BERTopic - Transformed documents to Embeddings\n",
      "2023-07-06 18:46:36,924 - BERTopic - Reduced dimensionality\n",
      "2023-07-06 18:46:36,930 - BERTopic - Clustered reduced embeddings\n",
      "0it [00:00, ?it/s]\n"
     ]
    },
    {
     "name": "stdout",
     "output_type": "stream",
     "text": [
      "Can't distribute all messages in topics\n"
     ]
    },
    {
     "name": "stderr",
     "output_type": "stream",
     "text": [
      "100%|██████████| 12/12 [00:00<00:00, 134.83it/s]\n",
      "2023-07-06 18:46:37,092 - BERTopic - Transformed documents to Embeddings\n",
      "2023-07-06 18:46:37,942 - BERTopic - Reduced dimensionality\n",
      "2023-07-06 18:46:37,947 - BERTopic - Clustered reduced embeddings\n",
      "0it [00:00, ?it/s]\n"
     ]
    },
    {
     "name": "stdout",
     "output_type": "stream",
     "text": [
      "Can't distribute all messages in topics\n"
     ]
    },
    {
     "name": "stderr",
     "output_type": "stream",
     "text": [
      "100%|██████████| 10/10 [00:00<00:00, 54.95it/s]\n",
      "2023-07-06 18:46:38,295 - BERTopic - Transformed documents to Embeddings\n",
      "2023-07-06 18:46:39,348 - BERTopic - Reduced dimensionality\n",
      "2023-07-06 18:46:39,353 - BERTopic - Clustered reduced embeddings\n",
      "0it [00:00, ?it/s]\n"
     ]
    },
    {
     "name": "stdout",
     "output_type": "stream",
     "text": [
      "Can't distribute all messages in topics\n"
     ]
    },
    {
     "name": "stderr",
     "output_type": "stream",
     "text": [
      "100%|██████████| 10/10 [00:00<00:00, 97.09it/s]\n",
      "2023-07-06 18:46:39,537 - BERTopic - Transformed documents to Embeddings\n",
      "2023-07-06 18:46:40,654 - BERTopic - Reduced dimensionality\n",
      "2023-07-06 18:46:40,658 - BERTopic - Clustered reduced embeddings\n",
      "0it [00:00, ?it/s]\n"
     ]
    },
    {
     "name": "stdout",
     "output_type": "stream",
     "text": [
      "Can't distribute all messages in topics\n"
     ]
    },
    {
     "name": "stderr",
     "output_type": "stream",
     "text": [
      "100%|██████████| 16/16 [00:00<00:00, 68.09it/s]\n",
      "2023-07-06 18:46:40,953 - BERTopic - Transformed documents to Embeddings\n",
      "2023-07-06 18:46:41,998 - BERTopic - Reduced dimensionality\n",
      "2023-07-06 18:46:42,002 - BERTopic - Clustered reduced embeddings\n",
      "0it [00:00, ?it/s]\n"
     ]
    },
    {
     "name": "stdout",
     "output_type": "stream",
     "text": [
      "Can't distribute all messages in topics\n"
     ]
    },
    {
     "name": "stderr",
     "output_type": "stream",
     "text": [
      "100%|██████████| 28/28 [00:00<00:00, 73.88it/s] \n",
      "2023-07-06 18:46:42,462 - BERTopic - Transformed documents to Embeddings\n",
      "2023-07-06 18:46:43,431 - BERTopic - Reduced dimensionality\n",
      "2023-07-06 18:46:43,437 - BERTopic - Clustered reduced embeddings\n",
      "100%|██████████| 1/1 [00:00<00:00, 200.00it/s]\n",
      "100%|██████████| 8/8 [00:00<00:00, 20.94it/s]\n",
      "2023-07-06 18:46:44,242 - BERTopic - Transformed documents to Embeddings\n",
      "2023-07-06 18:46:45,101 - BERTopic - Reduced dimensionality\n",
      "2023-07-06 18:46:45,105 - BERTopic - Clustered reduced embeddings\n",
      "0it [00:00, ?it/s]\n"
     ]
    },
    {
     "name": "stdout",
     "output_type": "stream",
     "text": [
      "Can't distribute all messages in topics\n"
     ]
    },
    {
     "name": "stderr",
     "output_type": "stream",
     "text": [
      "100%|██████████| 5/5 [00:00<00:00, 151.52it/s]\n",
      "2023-07-06 18:46:45,219 - BERTopic - Transformed documents to Embeddings\n",
      "f:\\Coding\\.venv\\lib\\site-packages\\scipy\\sparse\\linalg\\_eigen\\arpack\\arpack.py:1592: RuntimeWarning: k >= N for N * N square matrix. Attempting to use scipy.linalg.eigh instead.\n",
      "  warnings.warn(\"k >= N for N * N square matrix. \"\n",
      "2023-07-06 18:46:45,224 - BERTopic - The dimensionality reduction algorithm did not contain the `y` parameter and therefore the `y` parameter was not used\n",
      "f:\\Coding\\.venv\\lib\\site-packages\\scipy\\sparse\\linalg\\_eigen\\arpack\\arpack.py:1592: RuntimeWarning: k >= N for N * N square matrix. Attempting to use scipy.linalg.eigh instead.\n",
      "  warnings.warn(\"k >= N for N * N square matrix. \"\n"
     ]
    },
    {
     "name": "stdout",
     "output_type": "stream",
     "text": [
      "Can't reduce dimensionality or some other problem\n"
     ]
    },
    {
     "name": "stderr",
     "output_type": "stream",
     "text": [
      "100%|██████████| 6/6 [00:00<00:00, 70.59it/s]\n",
      "2023-07-06 18:46:45,350 - BERTopic - Transformed documents to Embeddings\n",
      "f:\\Coding\\.venv\\lib\\site-packages\\scipy\\sparse\\linalg\\_eigen\\arpack\\arpack.py:1592: RuntimeWarning: k >= N for N * N square matrix. Attempting to use scipy.linalg.eigh instead.\n",
      "  warnings.warn(\"k >= N for N * N square matrix. \"\n",
      "2023-07-06 18:46:45,356 - BERTopic - The dimensionality reduction algorithm did not contain the `y` parameter and therefore the `y` parameter was not used\n",
      "f:\\Coding\\.venv\\lib\\site-packages\\scipy\\sparse\\linalg\\_eigen\\arpack\\arpack.py:1592: RuntimeWarning: k >= N for N * N square matrix. Attempting to use scipy.linalg.eigh instead.\n",
      "  warnings.warn(\"k >= N for N * N square matrix. \"\n"
     ]
    },
    {
     "name": "stdout",
     "output_type": "stream",
     "text": [
      "Can't reduce dimensionality or some other problem\n"
     ]
    },
    {
     "name": "stderr",
     "output_type": "stream",
     "text": [
      "100%|██████████| 6/6 [00:00<00:00, 81.08it/s]\n",
      "2023-07-06 18:46:45,442 - BERTopic - Transformed documents to Embeddings\n",
      "f:\\Coding\\.venv\\lib\\site-packages\\scipy\\sparse\\linalg\\_eigen\\arpack\\arpack.py:1592: RuntimeWarning: k >= N for N * N square matrix. Attempting to use scipy.linalg.eigh instead.\n",
      "  warnings.warn(\"k >= N for N * N square matrix. \"\n",
      "2023-07-06 18:46:45,446 - BERTopic - The dimensionality reduction algorithm did not contain the `y` parameter and therefore the `y` parameter was not used\n",
      "f:\\Coding\\.venv\\lib\\site-packages\\scipy\\sparse\\linalg\\_eigen\\arpack\\arpack.py:1592: RuntimeWarning: k >= N for N * N square matrix. Attempting to use scipy.linalg.eigh instead.\n",
      "  warnings.warn(\"k >= N for N * N square matrix. \"\n"
     ]
    },
    {
     "name": "stdout",
     "output_type": "stream",
     "text": [
      "Can't reduce dimensionality or some other problem\n"
     ]
    },
    {
     "name": "stderr",
     "output_type": "stream",
     "text": [
      "100%|██████████| 13/13 [00:00<00:00, 92.86it/s]\n",
      "2023-07-06 18:46:45,599 - BERTopic - Transformed documents to Embeddings\n",
      "2023-07-06 18:46:46,371 - BERTopic - Reduced dimensionality\n",
      "2023-07-06 18:46:46,375 - BERTopic - Clustered reduced embeddings\n",
      "0it [00:00, ?it/s]\n"
     ]
    },
    {
     "name": "stdout",
     "output_type": "stream",
     "text": [
      "Can't distribute all messages in topics\n"
     ]
    },
    {
     "name": "stderr",
     "output_type": "stream",
     "text": [
      "100%|██████████| 24/24 [00:00<00:00, 126.32it/s]\n",
      "2023-07-06 18:46:46,629 - BERTopic - Transformed documents to Embeddings\n",
      "2023-07-06 18:46:47,736 - BERTopic - Reduced dimensionality\n",
      "2023-07-06 18:46:47,741 - BERTopic - Clustered reduced embeddings\n",
      "0it [00:00, ?it/s]\n"
     ]
    },
    {
     "name": "stdout",
     "output_type": "stream",
     "text": [
      "Can't distribute all messages in topics\n"
     ]
    },
    {
     "name": "stderr",
     "output_type": "stream",
     "text": [
      "100%|██████████| 52/52 [00:01<00:00, 37.96it/s] \n",
      "2023-07-06 18:46:49,206 - BERTopic - Transformed documents to Embeddings\n",
      "2023-07-06 18:46:50,110 - BERTopic - Reduced dimensionality\n",
      "2023-07-06 18:46:50,118 - BERTopic - Clustered reduced embeddings\n",
      "0it [00:00, ?it/s]\n"
     ]
    },
    {
     "name": "stdout",
     "output_type": "stream",
     "text": [
      "Can't distribute all messages in topics\n"
     ]
    },
    {
     "name": "stderr",
     "output_type": "stream",
     "text": [
      "100%|██████████| 14/14 [00:00<00:00, 97.22it/s]\n",
      "2023-07-06 18:46:50,396 - BERTopic - Transformed documents to Embeddings\n",
      "2023-07-06 18:46:51,228 - BERTopic - Reduced dimensionality\n",
      "2023-07-06 18:46:51,233 - BERTopic - Clustered reduced embeddings\n",
      "0it [00:00, ?it/s]\n"
     ]
    },
    {
     "name": "stdout",
     "output_type": "stream",
     "text": [
      "Can't distribute all messages in topics\n"
     ]
    },
    {
     "name": "stderr",
     "output_type": "stream",
     "text": [
      "100%|██████████| 14/14 [00:00<00:00, 125.00it/s]\n",
      "2023-07-06 18:46:51,415 - BERTopic - Transformed documents to Embeddings\n",
      "2023-07-06 18:46:52,391 - BERTopic - Reduced dimensionality\n",
      "2023-07-06 18:46:52,395 - BERTopic - Clustered reduced embeddings\n",
      "0it [00:00, ?it/s]\n"
     ]
    },
    {
     "name": "stdout",
     "output_type": "stream",
     "text": [
      "Can't distribute all messages in topics\n"
     ]
    },
    {
     "name": "stderr",
     "output_type": "stream",
     "text": [
      "100%|██████████| 35/35 [00:00<00:00, 52.32it/s]\n",
      "2023-07-06 18:46:53,194 - BERTopic - Transformed documents to Embeddings\n",
      "2023-07-06 18:46:54,482 - BERTopic - Reduced dimensionality\n",
      "2023-07-06 18:46:54,491 - BERTopic - Clustered reduced embeddings\n",
      "0it [00:00, ?it/s]\n"
     ]
    },
    {
     "name": "stdout",
     "output_type": "stream",
     "text": [
      "Can't distribute all messages in topics\n"
     ]
    },
    {
     "name": "stderr",
     "output_type": "stream",
     "text": [
      "100%|██████████| 16/16 [00:00<00:00, 56.94it/s]\n",
      "2023-07-06 18:46:54,874 - BERTopic - Transformed documents to Embeddings\n",
      "2023-07-06 18:46:55,683 - BERTopic - Reduced dimensionality\n",
      "2023-07-06 18:46:55,687 - BERTopic - Clustered reduced embeddings\n",
      "100%|██████████| 1/1 [00:00<00:00, 998.17it/s]\n",
      "100%|██████████| 56/56 [00:00<00:00, 66.83it/s]\n",
      "2023-07-06 18:46:56,769 - BERTopic - Transformed documents to Embeddings\n",
      "2023-07-06 18:46:57,718 - BERTopic - Reduced dimensionality\n",
      "2023-07-06 18:46:57,728 - BERTopic - Clustered reduced embeddings\n",
      "100%|██████████| 1/1 [00:00<00:00, 200.06it/s]\n",
      "100%|██████████| 67/67 [00:00<00:00, 97.24it/s] \n",
      "2023-07-06 18:46:59,087 - BERTopic - Transformed documents to Embeddings\n",
      "2023-07-06 18:47:00,057 - BERTopic - Reduced dimensionality\n",
      "2023-07-06 18:47:00,066 - BERTopic - Clustered reduced embeddings\n",
      "0it [00:00, ?it/s]\n"
     ]
    },
    {
     "name": "stdout",
     "output_type": "stream",
     "text": [
      "Can't distribute all messages in topics\n"
     ]
    },
    {
     "name": "stderr",
     "output_type": "stream",
     "text": [
      "100%|██████████| 14/14 [00:00<00:00, 152.18it/s]\n",
      "2023-07-06 18:47:00,235 - BERTopic - Transformed documents to Embeddings\n",
      "2023-07-06 18:47:01,049 - BERTopic - Reduced dimensionality\n",
      "2023-07-06 18:47:01,053 - BERTopic - Clustered reduced embeddings\n",
      "100%|██████████| 1/1 [00:00<00:00, 499.92it/s]\n",
      "100%|██████████| 11/11 [00:00<00:00, 152.78it/s]\n",
      "2023-07-06 18:47:01,279 - BERTopic - Transformed documents to Embeddings\n",
      "2023-07-06 18:47:02,056 - BERTopic - Reduced dimensionality\n",
      "2023-07-06 18:47:02,061 - BERTopic - Clustered reduced embeddings\n",
      "0it [00:00, ?it/s]\n"
     ]
    },
    {
     "name": "stdout",
     "output_type": "stream",
     "text": [
      "Can't distribute all messages in topics\n"
     ]
    },
    {
     "name": "stderr",
     "output_type": "stream",
     "text": [
      "100%|██████████| 18/18 [00:00<00:00, 89.55it/s]\n",
      "2023-07-06 18:47:02,318 - BERTopic - Transformed documents to Embeddings\n",
      "2023-07-06 18:47:03,331 - BERTopic - Reduced dimensionality\n",
      "2023-07-06 18:47:03,336 - BERTopic - Clustered reduced embeddings\n",
      "0it [00:00, ?it/s]\n"
     ]
    },
    {
     "name": "stdout",
     "output_type": "stream",
     "text": [
      "Can't distribute all messages in topics\n"
     ]
    },
    {
     "name": "stderr",
     "output_type": "stream",
     "text": [
      "100%|██████████| 8/8 [00:00<00:00, 115.95it/s]\n",
      "2023-07-06 18:47:03,469 - BERTopic - Transformed documents to Embeddings\n",
      "2023-07-06 18:47:04,229 - BERTopic - Reduced dimensionality\n",
      "2023-07-06 18:47:04,232 - BERTopic - Clustered reduced embeddings\n",
      "0it [00:00, ?it/s]\n"
     ]
    },
    {
     "name": "stdout",
     "output_type": "stream",
     "text": [
      "Can't distribute all messages in topics\n"
     ]
    },
    {
     "name": "stderr",
     "output_type": "stream",
     "text": [
      "100%|██████████| 22/22 [00:00<00:00, 65.48it/s]\n",
      "2023-07-06 18:47:04,619 - BERTopic - Transformed documents to Embeddings\n",
      "2023-07-06 18:47:05,443 - BERTopic - Reduced dimensionality\n",
      "2023-07-06 18:47:05,448 - BERTopic - Clustered reduced embeddings\n",
      "100%|██████████| 1/1 [00:00<00:00, 491.77it/s]\n",
      "100%|██████████| 15/15 [00:00<00:00, 120.00it/s]\n",
      "2023-07-06 18:47:05,866 - BERTopic - Transformed documents to Embeddings\n",
      "2023-07-06 18:47:06,735 - BERTopic - Reduced dimensionality\n",
      "2023-07-06 18:47:06,741 - BERTopic - Clustered reduced embeddings\n",
      "100%|██████████| 1/1 [00:00<00:00, 492.12it/s]\n",
      "100%|██████████| 11/11 [00:00<00:00, 91.67it/s]\n",
      "2023-07-06 18:47:07,145 - BERTopic - Transformed documents to Embeddings\n",
      "2023-07-06 18:47:07,899 - BERTopic - Reduced dimensionality\n",
      "2023-07-06 18:47:07,903 - BERTopic - Clustered reduced embeddings\n",
      "100%|██████████| 1/1 [00:00<00:00, 499.68it/s]\n",
      "100%|██████████| 5/5 [00:00<00:00, 119.05it/s]\n",
      "2023-07-06 18:47:08,100 - BERTopic - Transformed documents to Embeddings\n",
      "f:\\Coding\\.venv\\lib\\site-packages\\scipy\\sparse\\linalg\\_eigen\\arpack\\arpack.py:1592: RuntimeWarning: k >= N for N * N square matrix. Attempting to use scipy.linalg.eigh instead.\n",
      "  warnings.warn(\"k >= N for N * N square matrix. \"\n",
      "2023-07-06 18:47:08,105 - BERTopic - The dimensionality reduction algorithm did not contain the `y` parameter and therefore the `y` parameter was not used\n",
      "f:\\Coding\\.venv\\lib\\site-packages\\scipy\\sparse\\linalg\\_eigen\\arpack\\arpack.py:1592: RuntimeWarning: k >= N for N * N square matrix. Attempting to use scipy.linalg.eigh instead.\n",
      "  warnings.warn(\"k >= N for N * N square matrix. \"\n"
     ]
    },
    {
     "name": "stdout",
     "output_type": "stream",
     "text": [
      "Can't reduce dimensionality or some other problem\n"
     ]
    },
    {
     "name": "stderr",
     "output_type": "stream",
     "text": [
      "100%|██████████| 66/66 [00:00<00:00, 78.76it/s]\n",
      "2023-07-06 18:47:08,962 - BERTopic - Transformed documents to Embeddings\n",
      "2023-07-06 18:47:10,056 - BERTopic - Reduced dimensionality\n",
      "2023-07-06 18:47:10,064 - BERTopic - Clustered reduced embeddings\n",
      "0it [00:00, ?it/s]\n"
     ]
    },
    {
     "name": "stdout",
     "output_type": "stream",
     "text": [
      "Can't distribute all messages in topics\n"
     ]
    },
    {
     "name": "stderr",
     "output_type": "stream",
     "text": [
      "100%|██████████| 13/13 [00:00<00:00, 63.72it/s]\n",
      "2023-07-06 18:47:10,355 - BERTopic - Transformed documents to Embeddings\n",
      "2023-07-06 18:47:11,288 - BERTopic - Reduced dimensionality\n",
      "2023-07-06 18:47:11,294 - BERTopic - Clustered reduced embeddings\n",
      "0it [00:00, ?it/s]\n"
     ]
    },
    {
     "name": "stdout",
     "output_type": "stream",
     "text": [
      "Can't distribute all messages in topics\n"
     ]
    },
    {
     "name": "stderr",
     "output_type": "stream",
     "text": [
      "100%|██████████| 15/15 [00:00<00:00, 73.17it/s]\n",
      "2023-07-06 18:47:11,581 - BERTopic - Transformed documents to Embeddings\n",
      "2023-07-06 18:47:12,626 - BERTopic - Reduced dimensionality\n",
      "2023-07-06 18:47:12,631 - BERTopic - Clustered reduced embeddings\n",
      "0it [00:00, ?it/s]\n"
     ]
    },
    {
     "name": "stdout",
     "output_type": "stream",
     "text": [
      "Can't distribute all messages in topics\n"
     ]
    },
    {
     "name": "stderr",
     "output_type": "stream",
     "text": [
      "100%|██████████| 9/9 [00:00<00:00, 66.18it/s]\n",
      "2023-07-06 18:47:12,873 - BERTopic - Transformed documents to Embeddings\n",
      "2023-07-06 18:47:13,740 - BERTopic - Reduced dimensionality\n",
      "2023-07-06 18:47:13,744 - BERTopic - Clustered reduced embeddings\n",
      "0it [00:00, ?it/s]\n"
     ]
    },
    {
     "name": "stdout",
     "output_type": "stream",
     "text": [
      "Can't distribute all messages in topics\n"
     ]
    },
    {
     "name": "stderr",
     "output_type": "stream",
     "text": [
      "100%|██████████| 11/11 [00:00<00:00, 70.97it/s]\n",
      "2023-07-06 18:47:13,957 - BERTopic - Transformed documents to Embeddings\n",
      "2023-07-06 18:47:14,822 - BERTopic - Reduced dimensionality\n",
      "2023-07-06 18:47:14,826 - BERTopic - Clustered reduced embeddings\n",
      "  0%|          | 0/1 [00:00<?, ?it/s]\n"
     ]
    },
    {
     "name": "stdout",
     "output_type": "stream",
     "text": [
      "Can't distribute all messages in topics\n"
     ]
    },
    {
     "name": "stderr",
     "output_type": "stream",
     "text": [
      "100%|██████████| 6/6 [00:00<00:00, 24.39it/s]\n",
      "2023-07-06 18:47:15,151 - BERTopic - Transformed documents to Embeddings\n",
      "f:\\Coding\\.venv\\lib\\site-packages\\scipy\\sparse\\linalg\\_eigen\\arpack\\arpack.py:1592: RuntimeWarning: k >= N for N * N square matrix. Attempting to use scipy.linalg.eigh instead.\n",
      "  warnings.warn(\"k >= N for N * N square matrix. \"\n",
      "2023-07-06 18:47:15,230 - BERTopic - The dimensionality reduction algorithm did not contain the `y` parameter and therefore the `y` parameter was not used\n",
      "f:\\Coding\\.venv\\lib\\site-packages\\scipy\\sparse\\linalg\\_eigen\\arpack\\arpack.py:1592: RuntimeWarning: k >= N for N * N square matrix. Attempting to use scipy.linalg.eigh instead.\n",
      "  warnings.warn(\"k >= N for N * N square matrix. \"\n"
     ]
    },
    {
     "name": "stdout",
     "output_type": "stream",
     "text": [
      "Can't reduce dimensionality or some other problem\n"
     ]
    },
    {
     "name": "stderr",
     "output_type": "stream",
     "text": [
      "100%|██████████| 7/7 [00:00<00:00, 66.97it/s]\n",
      "2023-07-06 18:47:15,358 - BERTopic - Transformed documents to Embeddings\n",
      "2023-07-06 18:47:16,846 - BERTopic - Reduced dimensionality\n",
      "2023-07-06 18:47:16,850 - BERTopic - Clustered reduced embeddings\n",
      "  0%|          | 0/1 [00:00<?, ?it/s]\n"
     ]
    },
    {
     "name": "stdout",
     "output_type": "stream",
     "text": [
      "Can't distribute all messages in topics\n"
     ]
    },
    {
     "name": "stderr",
     "output_type": "stream",
     "text": [
      "100%|██████████| 9/9 [00:00<00:00, 66.67it/s]\n",
      "2023-07-06 18:47:17,046 - BERTopic - Transformed documents to Embeddings\n",
      "2023-07-06 18:47:18,241 - BERTopic - Reduced dimensionality\n",
      "2023-07-06 18:47:18,245 - BERTopic - Clustered reduced embeddings\n",
      "0it [00:00, ?it/s]\n"
     ]
    },
    {
     "name": "stdout",
     "output_type": "stream",
     "text": [
      "Can't distribute all messages in topics\n"
     ]
    },
    {
     "name": "stderr",
     "output_type": "stream",
     "text": [
      "100%|██████████| 8/8 [00:00<00:00, 35.09it/s]\n",
      "2023-07-06 18:47:18,542 - BERTopic - Transformed documents to Embeddings\n",
      "2023-07-06 18:47:19,583 - BERTopic - Reduced dimensionality\n",
      "2023-07-06 18:47:19,587 - BERTopic - Clustered reduced embeddings\n",
      "  0%|          | 0/1 [00:00<?, ?it/s]\n"
     ]
    },
    {
     "name": "stdout",
     "output_type": "stream",
     "text": [
      "Can't distribute all messages in topics\n"
     ]
    },
    {
     "name": "stderr",
     "output_type": "stream",
     "text": [
      "100%|██████████| 8/8 [00:00<00:00, 66.12it/s]\n",
      "2023-07-06 18:47:19,762 - BERTopic - Transformed documents to Embeddings\n",
      "2023-07-06 18:47:20,647 - BERTopic - Reduced dimensionality\n",
      "2023-07-06 18:47:20,650 - BERTopic - Clustered reduced embeddings\n",
      "  0%|          | 0/1 [00:00<?, ?it/s]\n"
     ]
    },
    {
     "name": "stdout",
     "output_type": "stream",
     "text": [
      "Can't distribute all messages in topics\n"
     ]
    },
    {
     "name": "stderr",
     "output_type": "stream",
     "text": [
      "100%|██████████| 5/5 [00:00<00:00, 131.57it/s]\n",
      "2023-07-06 18:47:20,746 - BERTopic - Transformed documents to Embeddings\n",
      "f:\\Coding\\.venv\\lib\\site-packages\\scipy\\sparse\\linalg\\_eigen\\arpack\\arpack.py:1592: RuntimeWarning: k >= N for N * N square matrix. Attempting to use scipy.linalg.eigh instead.\n",
      "  warnings.warn(\"k >= N for N * N square matrix. \"\n",
      "2023-07-06 18:47:20,752 - BERTopic - The dimensionality reduction algorithm did not contain the `y` parameter and therefore the `y` parameter was not used\n",
      "f:\\Coding\\.venv\\lib\\site-packages\\scipy\\sparse\\linalg\\_eigen\\arpack\\arpack.py:1592: RuntimeWarning: k >= N for N * N square matrix. Attempting to use scipy.linalg.eigh instead.\n",
      "  warnings.warn(\"k >= N for N * N square matrix. \"\n"
     ]
    },
    {
     "name": "stdout",
     "output_type": "stream",
     "text": [
      "Can't reduce dimensionality or some other problem\n"
     ]
    },
    {
     "name": "stderr",
     "output_type": "stream",
     "text": [
      "100%|██████████| 10/10 [00:00<00:00, 116.29it/s]\n",
      "2023-07-06 18:47:20,852 - BERTopic - Transformed documents to Embeddings\n",
      "2023-07-06 18:47:21,738 - BERTopic - Reduced dimensionality\n",
      "2023-07-06 18:47:21,743 - BERTopic - Clustered reduced embeddings\n",
      "0it [00:00, ?it/s]\n"
     ]
    },
    {
     "name": "stdout",
     "output_type": "stream",
     "text": [
      "Can't distribute all messages in topics\n"
     ]
    },
    {
     "name": "stderr",
     "output_type": "stream",
     "text": [
      "100%|██████████| 9/9 [00:00<00:00, 16.79it/s]\n",
      "2023-07-06 18:47:22,395 - BERTopic - Transformed documents to Embeddings\n",
      "2023-07-06 18:47:24,764 - BERTopic - Reduced dimensionality\n",
      "2023-07-06 18:47:24,769 - BERTopic - Clustered reduced embeddings\n",
      "0it [00:00, ?it/s]\n"
     ]
    },
    {
     "name": "stdout",
     "output_type": "stream",
     "text": [
      "Can't distribute all messages in topics\n"
     ]
    },
    {
     "name": "stderr",
     "output_type": "stream",
     "text": [
      "100%|██████████| 17/17 [00:00<00:00, 54.84it/s]\n",
      "2023-07-06 18:47:25,159 - BERTopic - Transformed documents to Embeddings\n",
      "2023-07-06 18:47:26,048 - BERTopic - Reduced dimensionality\n",
      "2023-07-06 18:47:26,052 - BERTopic - Clustered reduced embeddings\n",
      "0it [00:00, ?it/s]\n"
     ]
    },
    {
     "name": "stdout",
     "output_type": "stream",
     "text": [
      "Can't distribute all messages in topics\n"
     ]
    },
    {
     "name": "stderr",
     "output_type": "stream",
     "text": [
      "100%|██████████| 6/6 [00:00<00:00, 89.56it/s]\n",
      "2023-07-06 18:47:26,205 - BERTopic - Transformed documents to Embeddings\n",
      "f:\\Coding\\.venv\\lib\\site-packages\\scipy\\sparse\\linalg\\_eigen\\arpack\\arpack.py:1592: RuntimeWarning: k >= N for N * N square matrix. Attempting to use scipy.linalg.eigh instead.\n",
      "  warnings.warn(\"k >= N for N * N square matrix. \"\n",
      "2023-07-06 18:47:26,210 - BERTopic - The dimensionality reduction algorithm did not contain the `y` parameter and therefore the `y` parameter was not used\n",
      "f:\\Coding\\.venv\\lib\\site-packages\\scipy\\sparse\\linalg\\_eigen\\arpack\\arpack.py:1592: RuntimeWarning: k >= N for N * N square matrix. Attempting to use scipy.linalg.eigh instead.\n",
      "  warnings.warn(\"k >= N for N * N square matrix. \"\n"
     ]
    },
    {
     "name": "stdout",
     "output_type": "stream",
     "text": [
      "Can't reduce dimensionality or some other problem\n"
     ]
    },
    {
     "name": "stderr",
     "output_type": "stream",
     "text": [
      "100%|██████████| 6/6 [00:00<00:00, 30.76it/s]\n",
      "2023-07-06 18:47:26,418 - BERTopic - Transformed documents to Embeddings\n",
      "f:\\Coding\\.venv\\lib\\site-packages\\scipy\\sparse\\linalg\\_eigen\\arpack\\arpack.py:1592: RuntimeWarning: k >= N for N * N square matrix. Attempting to use scipy.linalg.eigh instead.\n",
      "  warnings.warn(\"k >= N for N * N square matrix. \"\n",
      "2023-07-06 18:47:26,425 - BERTopic - The dimensionality reduction algorithm did not contain the `y` parameter and therefore the `y` parameter was not used\n",
      "f:\\Coding\\.venv\\lib\\site-packages\\scipy\\sparse\\linalg\\_eigen\\arpack\\arpack.py:1592: RuntimeWarning: k >= N for N * N square matrix. Attempting to use scipy.linalg.eigh instead.\n",
      "  warnings.warn(\"k >= N for N * N square matrix. \"\n"
     ]
    },
    {
     "name": "stdout",
     "output_type": "stream",
     "text": [
      "Can't reduce dimensionality or some other problem\n"
     ]
    },
    {
     "name": "stderr",
     "output_type": "stream",
     "text": [
      "100%|██████████| 7/7 [00:00<00:00, 125.01it/s]\n",
      "2023-07-06 18:47:26,495 - BERTopic - Transformed documents to Embeddings\n",
      "2023-07-06 18:47:27,296 - BERTopic - Reduced dimensionality\n",
      "2023-07-06 18:47:27,300 - BERTopic - Clustered reduced embeddings\n",
      "0it [00:00, ?it/s]\n"
     ]
    },
    {
     "name": "stdout",
     "output_type": "stream",
     "text": [
      "Can't distribute all messages in topics\n"
     ]
    },
    {
     "name": "stderr",
     "output_type": "stream",
     "text": [
      "100%|██████████| 16/16 [00:00<00:00, 160.00it/s]\n",
      "2023-07-06 18:47:27,476 - BERTopic - Transformed documents to Embeddings\n",
      "2023-07-06 18:47:28,243 - BERTopic - Reduced dimensionality\n",
      "2023-07-06 18:47:28,247 - BERTopic - Clustered reduced embeddings\n",
      "100%|██████████| 1/1 [00:00<00:00, 500.10it/s]\n",
      "100%|██████████| 19/19 [00:00<00:00, 104.97it/s]\n",
      "2023-07-06 18:47:28,625 - BERTopic - Transformed documents to Embeddings\n",
      "2023-07-06 18:47:29,405 - BERTopic - Reduced dimensionality\n",
      "2023-07-06 18:47:29,410 - BERTopic - Clustered reduced embeddings\n",
      "100%|██████████| 1/1 [00:00<00:00, 1000.79it/s]\n",
      "100%|██████████| 8/8 [00:00<00:00, 166.67it/s]\n",
      "2023-07-06 18:47:29,640 - BERTopic - Transformed documents to Embeddings\n",
      "2023-07-06 18:47:30,799 - BERTopic - Reduced dimensionality\n",
      "2023-07-06 18:47:30,806 - BERTopic - Clustered reduced embeddings\n",
      "0it [00:00, ?it/s]\n"
     ]
    },
    {
     "name": "stdout",
     "output_type": "stream",
     "text": [
      "Can't distribute all messages in topics\n"
     ]
    },
    {
     "name": "stderr",
     "output_type": "stream",
     "text": [
      "100%|██████████| 6/6 [00:00<00:00, 50.85it/s]\n",
      "2023-07-06 18:47:31,020 - BERTopic - Transformed documents to Embeddings\n",
      "f:\\Coding\\.venv\\lib\\site-packages\\scipy\\sparse\\linalg\\_eigen\\arpack\\arpack.py:1592: RuntimeWarning: k >= N for N * N square matrix. Attempting to use scipy.linalg.eigh instead.\n",
      "  warnings.warn(\"k >= N for N * N square matrix. \"\n",
      "2023-07-06 18:47:31,028 - BERTopic - The dimensionality reduction algorithm did not contain the `y` parameter and therefore the `y` parameter was not used\n",
      "f:\\Coding\\.venv\\lib\\site-packages\\scipy\\sparse\\linalg\\_eigen\\arpack\\arpack.py:1592: RuntimeWarning: k >= N for N * N square matrix. Attempting to use scipy.linalg.eigh instead.\n",
      "  warnings.warn(\"k >= N for N * N square matrix. \"\n"
     ]
    },
    {
     "name": "stdout",
     "output_type": "stream",
     "text": [
      "Can't reduce dimensionality or some other problem\n"
     ]
    },
    {
     "name": "stderr",
     "output_type": "stream",
     "text": [
      "100%|██████████| 5/5 [00:00<00:00, 27.93it/s]\n",
      "2023-07-06 18:47:31,225 - BERTopic - Transformed documents to Embeddings\n",
      "f:\\Coding\\.venv\\lib\\site-packages\\scipy\\sparse\\linalg\\_eigen\\arpack\\arpack.py:1592: RuntimeWarning: k >= N for N * N square matrix. Attempting to use scipy.linalg.eigh instead.\n",
      "  warnings.warn(\"k >= N for N * N square matrix. \"\n",
      "2023-07-06 18:47:31,236 - BERTopic - The dimensionality reduction algorithm did not contain the `y` parameter and therefore the `y` parameter was not used\n",
      "f:\\Coding\\.venv\\lib\\site-packages\\scipy\\sparse\\linalg\\_eigen\\arpack\\arpack.py:1592: RuntimeWarning: k >= N for N * N square matrix. Attempting to use scipy.linalg.eigh instead.\n",
      "  warnings.warn(\"k >= N for N * N square matrix. \"\n"
     ]
    },
    {
     "name": "stdout",
     "output_type": "stream",
     "text": [
      "Can't reduce dimensionality or some other problem\n"
     ]
    },
    {
     "name": "stderr",
     "output_type": "stream",
     "text": [
      "100%|██████████| 5/5 [00:00<00:00, 35.46it/s]\n",
      "2023-07-06 18:47:31,425 - BERTopic - Transformed documents to Embeddings\n",
      "f:\\Coding\\.venv\\lib\\site-packages\\scipy\\sparse\\linalg\\_eigen\\arpack\\arpack.py:1592: RuntimeWarning: k >= N for N * N square matrix. Attempting to use scipy.linalg.eigh instead.\n",
      "  warnings.warn(\"k >= N for N * N square matrix. \"\n",
      "2023-07-06 18:47:31,433 - BERTopic - The dimensionality reduction algorithm did not contain the `y` parameter and therefore the `y` parameter was not used\n",
      "f:\\Coding\\.venv\\lib\\site-packages\\scipy\\sparse\\linalg\\_eigen\\arpack\\arpack.py:1592: RuntimeWarning: k >= N for N * N square matrix. Attempting to use scipy.linalg.eigh instead.\n",
      "  warnings.warn(\"k >= N for N * N square matrix. \"\n"
     ]
    },
    {
     "name": "stdout",
     "output_type": "stream",
     "text": [
      "Can't reduce dimensionality or some other problem\n"
     ]
    },
    {
     "name": "stderr",
     "output_type": "stream",
     "text": [
      "100%|██████████| 5/5 [00:00<00:00, 57.47it/s]\n",
      "2023-07-06 18:47:31,539 - BERTopic - Transformed documents to Embeddings\n",
      "f:\\Coding\\.venv\\lib\\site-packages\\scipy\\sparse\\linalg\\_eigen\\arpack\\arpack.py:1592: RuntimeWarning: k >= N for N * N square matrix. Attempting to use scipy.linalg.eigh instead.\n",
      "  warnings.warn(\"k >= N for N * N square matrix. \"\n",
      "2023-07-06 18:47:31,544 - BERTopic - The dimensionality reduction algorithm did not contain the `y` parameter and therefore the `y` parameter was not used\n",
      "f:\\Coding\\.venv\\lib\\site-packages\\scipy\\sparse\\linalg\\_eigen\\arpack\\arpack.py:1592: RuntimeWarning: k >= N for N * N square matrix. Attempting to use scipy.linalg.eigh instead.\n",
      "  warnings.warn(\"k >= N for N * N square matrix. \"\n"
     ]
    },
    {
     "name": "stdout",
     "output_type": "stream",
     "text": [
      "Can't reduce dimensionality or some other problem\n"
     ]
    },
    {
     "name": "stderr",
     "output_type": "stream",
     "text": [
      "100%|██████████| 8/8 [00:00<00:00, 140.35it/s]\n",
      "2023-07-06 18:47:31,636 - BERTopic - Transformed documents to Embeddings\n",
      "2023-07-06 18:47:32,500 - BERTopic - Reduced dimensionality\n",
      "2023-07-06 18:47:32,504 - BERTopic - Clustered reduced embeddings\n",
      "0it [00:00, ?it/s]\n"
     ]
    },
    {
     "name": "stdout",
     "output_type": "stream",
     "text": [
      "Can't distribute all messages in topics\n"
     ]
    },
    {
     "name": "stderr",
     "output_type": "stream",
     "text": [
      "100%|██████████| 8/8 [00:00<00:00, 65.04it/s]\n",
      "2023-07-06 18:47:32,712 - BERTopic - Transformed documents to Embeddings\n",
      "2023-07-06 18:47:33,529 - BERTopic - Reduced dimensionality\n",
      "2023-07-06 18:47:33,533 - BERTopic - Clustered reduced embeddings\n",
      "0it [00:00, ?it/s]\n"
     ]
    },
    {
     "name": "stdout",
     "output_type": "stream",
     "text": [
      "Can't distribute all messages in topics\n"
     ]
    },
    {
     "name": "stderr",
     "output_type": "stream",
     "text": [
      "100%|██████████| 8/8 [00:00<00:00, 52.98it/s]\n",
      "2023-07-06 18:47:33,747 - BERTopic - Transformed documents to Embeddings\n",
      "2023-07-06 18:47:34,588 - BERTopic - Reduced dimensionality\n",
      "2023-07-06 18:47:34,592 - BERTopic - Clustered reduced embeddings\n",
      "0it [00:00, ?it/s]\n"
     ]
    },
    {
     "name": "stdout",
     "output_type": "stream",
     "text": [
      "Can't distribute all messages in topics\n"
     ]
    },
    {
     "name": "stderr",
     "output_type": "stream",
     "text": [
      "100%|██████████| 12/12 [00:00<00:00, 90.23it/s]\n",
      "2023-07-06 18:47:34,781 - BERTopic - Transformed documents to Embeddings\n",
      "2023-07-06 18:47:35,619 - BERTopic - Reduced dimensionality\n",
      "2023-07-06 18:47:35,623 - BERTopic - Clustered reduced embeddings\n",
      "0it [00:00, ?it/s]\n"
     ]
    },
    {
     "name": "stdout",
     "output_type": "stream",
     "text": [
      "Can't distribute all messages in topics\n"
     ]
    },
    {
     "name": "stderr",
     "output_type": "stream",
     "text": [
      "100%|██████████| 12/12 [00:00<00:00, 95.24it/s]\n",
      "2023-07-06 18:47:35,803 - BERTopic - Transformed documents to Embeddings\n",
      "2023-07-06 18:47:36,822 - BERTopic - Reduced dimensionality\n",
      "2023-07-06 18:47:36,826 - BERTopic - Clustered reduced embeddings\n",
      "0it [00:00, ?it/s]\n"
     ]
    },
    {
     "name": "stdout",
     "output_type": "stream",
     "text": [
      "Can't distribute all messages in topics\n"
     ]
    },
    {
     "name": "stderr",
     "output_type": "stream",
     "text": [
      "100%|██████████| 8/8 [00:00<00:00, 101.27it/s]\n",
      "2023-07-06 18:47:36,959 - BERTopic - Transformed documents to Embeddings\n",
      "2023-07-06 18:47:37,732 - BERTopic - Reduced dimensionality\n",
      "2023-07-06 18:47:37,736 - BERTopic - Clustered reduced embeddings\n",
      "100%|██████████| 1/1 [00:00<00:00, 1000.07it/s]\n",
      "100%|██████████| 6/6 [00:00<00:00, 100.00it/s]\n",
      "2023-07-06 18:47:37,932 - BERTopic - Transformed documents to Embeddings\n",
      "f:\\Coding\\.venv\\lib\\site-packages\\scipy\\sparse\\linalg\\_eigen\\arpack\\arpack.py:1592: RuntimeWarning: k >= N for N * N square matrix. Attempting to use scipy.linalg.eigh instead.\n",
      "  warnings.warn(\"k >= N for N * N square matrix. \"\n",
      "2023-07-06 18:47:37,936 - BERTopic - The dimensionality reduction algorithm did not contain the `y` parameter and therefore the `y` parameter was not used\n",
      "f:\\Coding\\.venv\\lib\\site-packages\\scipy\\sparse\\linalg\\_eigen\\arpack\\arpack.py:1592: RuntimeWarning: k >= N for N * N square matrix. Attempting to use scipy.linalg.eigh instead.\n",
      "  warnings.warn(\"k >= N for N * N square matrix. \"\n"
     ]
    },
    {
     "name": "stdout",
     "output_type": "stream",
     "text": [
      "Can't reduce dimensionality or some other problem\n"
     ]
    },
    {
     "name": "stderr",
     "output_type": "stream",
     "text": [
      "100%|██████████| 11/11 [00:00<00:00, 159.43it/s]\n",
      "2023-07-06 18:47:38,018 - BERTopic - Transformed documents to Embeddings\n",
      "2023-07-06 18:47:38,772 - BERTopic - Reduced dimensionality\n",
      "2023-07-06 18:47:38,775 - BERTopic - Clustered reduced embeddings\n",
      "0it [00:00, ?it/s]\n"
     ]
    },
    {
     "name": "stdout",
     "output_type": "stream",
     "text": [
      "Can't distribute all messages in topics\n"
     ]
    },
    {
     "name": "stderr",
     "output_type": "stream",
     "text": [
      "100%|██████████| 18/18 [00:00<00:00, 52.94it/s]\n",
      "2023-07-06 18:47:39,181 - BERTopic - Transformed documents to Embeddings\n",
      "2023-07-06 18:47:39,977 - BERTopic - Reduced dimensionality\n",
      "2023-07-06 18:47:39,982 - BERTopic - Clustered reduced embeddings\n",
      "0it [00:00, ?it/s]\n"
     ]
    },
    {
     "name": "stdout",
     "output_type": "stream",
     "text": [
      "Can't distribute all messages in topics\n"
     ]
    },
    {
     "name": "stderr",
     "output_type": "stream",
     "text": [
      "100%|██████████| 18/18 [00:00<00:00, 56.25it/s]\n",
      "2023-07-06 18:47:40,380 - BERTopic - Transformed documents to Embeddings\n",
      "2023-07-06 18:47:41,144 - BERTopic - Reduced dimensionality\n",
      "2023-07-06 18:47:41,148 - BERTopic - Clustered reduced embeddings\n",
      "0it [00:00, ?it/s]\n"
     ]
    },
    {
     "name": "stdout",
     "output_type": "stream",
     "text": [
      "Can't distribute all messages in topics\n"
     ]
    },
    {
     "name": "stderr",
     "output_type": "stream",
     "text": [
      "100%|██████████| 18/18 [00:00<00:00, 51.14it/s]\n",
      "2023-07-06 18:47:41,575 - BERTopic - Transformed documents to Embeddings\n",
      "2023-07-06 18:47:42,584 - BERTopic - Reduced dimensionality\n",
      "2023-07-06 18:47:42,588 - BERTopic - Clustered reduced embeddings\n",
      "0it [00:00, ?it/s]\n"
     ]
    },
    {
     "name": "stdout",
     "output_type": "stream",
     "text": [
      "Can't distribute all messages in topics\n"
     ]
    },
    {
     "name": "stderr",
     "output_type": "stream",
     "text": [
      "100%|██████████| 18/18 [00:00<00:00, 58.63it/s]\n",
      "2023-07-06 18:47:42,968 - BERTopic - Transformed documents to Embeddings\n",
      "2023-07-06 18:47:43,784 - BERTopic - Reduced dimensionality\n",
      "2023-07-06 18:47:43,792 - BERTopic - Clustered reduced embeddings\n",
      "0it [00:00, ?it/s]\n"
     ]
    },
    {
     "name": "stdout",
     "output_type": "stream",
     "text": [
      "Can't distribute all messages in topics\n"
     ]
    },
    {
     "name": "stderr",
     "output_type": "stream",
     "text": [
      "100%|██████████| 18/18 [00:00<00:00, 35.02it/s]\n",
      "2023-07-06 18:47:44,510 - BERTopic - Transformed documents to Embeddings\n",
      "2023-07-06 18:47:45,320 - BERTopic - Reduced dimensionality\n",
      "2023-07-06 18:47:45,325 - BERTopic - Clustered reduced embeddings\n",
      "0it [00:00, ?it/s]\n"
     ]
    },
    {
     "name": "stdout",
     "output_type": "stream",
     "text": [
      "Can't distribute all messages in topics\n"
     ]
    },
    {
     "name": "stderr",
     "output_type": "stream",
     "text": [
      "100%|██████████| 52/52 [00:00<00:00, 148.57it/s]\n",
      "2023-07-06 18:47:45,767 - BERTopic - Transformed documents to Embeddings\n",
      "2023-07-06 18:47:46,615 - BERTopic - Reduced dimensionality\n",
      "2023-07-06 18:47:46,623 - BERTopic - Clustered reduced embeddings\n",
      "100%|██████████| 1/1 [00:00<00:00, 333.44it/s]\n",
      "100%|██████████| 48/48 [00:00<00:00, 164.38it/s]\n",
      "2023-07-06 18:47:47,352 - BERTopic - Transformed documents to Embeddings\n",
      "2023-07-06 18:47:48,297 - BERTopic - Reduced dimensionality\n",
      "2023-07-06 18:47:48,303 - BERTopic - Clustered reduced embeddings\n",
      "100%|██████████| 1/1 [00:00<00:00, 495.02it/s]\n",
      "100%|██████████| 5/5 [00:00<00:00, 147.05it/s]\n",
      "2023-07-06 18:47:48,815 - BERTopic - Transformed documents to Embeddings\n",
      "f:\\Coding\\.venv\\lib\\site-packages\\scipy\\sparse\\linalg\\_eigen\\arpack\\arpack.py:1592: RuntimeWarning: k >= N for N * N square matrix. Attempting to use scipy.linalg.eigh instead.\n",
      "  warnings.warn(\"k >= N for N * N square matrix. \"\n",
      "2023-07-06 18:47:48,820 - BERTopic - The dimensionality reduction algorithm did not contain the `y` parameter and therefore the `y` parameter was not used\n",
      "f:\\Coding\\.venv\\lib\\site-packages\\scipy\\sparse\\linalg\\_eigen\\arpack\\arpack.py:1592: RuntimeWarning: k >= N for N * N square matrix. Attempting to use scipy.linalg.eigh instead.\n",
      "  warnings.warn(\"k >= N for N * N square matrix. \"\n"
     ]
    },
    {
     "name": "stdout",
     "output_type": "stream",
     "text": [
      "Can't reduce dimensionality or some other problem\n"
     ]
    },
    {
     "name": "stderr",
     "output_type": "stream",
     "text": [
      "100%|██████████| 5/5 [00:00<00:00, 45.05it/s]\n",
      "2023-07-06 18:47:48,958 - BERTopic - Transformed documents to Embeddings\n",
      "f:\\Coding\\.venv\\lib\\site-packages\\scipy\\sparse\\linalg\\_eigen\\arpack\\arpack.py:1592: RuntimeWarning: k >= N for N * N square matrix. Attempting to use scipy.linalg.eigh instead.\n",
      "  warnings.warn(\"k >= N for N * N square matrix. \"\n",
      "2023-07-06 18:47:48,963 - BERTopic - The dimensionality reduction algorithm did not contain the `y` parameter and therefore the `y` parameter was not used\n",
      "f:\\Coding\\.venv\\lib\\site-packages\\scipy\\sparse\\linalg\\_eigen\\arpack\\arpack.py:1592: RuntimeWarning: k >= N for N * N square matrix. Attempting to use scipy.linalg.eigh instead.\n",
      "  warnings.warn(\"k >= N for N * N square matrix. \"\n"
     ]
    },
    {
     "name": "stdout",
     "output_type": "stream",
     "text": [
      "Can't reduce dimensionality or some other problem\n"
     ]
    },
    {
     "name": "stderr",
     "output_type": "stream",
     "text": [
      "100%|██████████| 6/6 [00:00<00:00, 66.67it/s]\n",
      "2023-07-06 18:47:49,065 - BERTopic - Transformed documents to Embeddings\n",
      "f:\\Coding\\.venv\\lib\\site-packages\\scipy\\sparse\\linalg\\_eigen\\arpack\\arpack.py:1592: RuntimeWarning: k >= N for N * N square matrix. Attempting to use scipy.linalg.eigh instead.\n",
      "  warnings.warn(\"k >= N for N * N square matrix. \"\n",
      "2023-07-06 18:47:49,070 - BERTopic - The dimensionality reduction algorithm did not contain the `y` parameter and therefore the `y` parameter was not used\n",
      "f:\\Coding\\.venv\\lib\\site-packages\\scipy\\sparse\\linalg\\_eigen\\arpack\\arpack.py:1592: RuntimeWarning: k >= N for N * N square matrix. Attempting to use scipy.linalg.eigh instead.\n",
      "  warnings.warn(\"k >= N for N * N square matrix. \"\n"
     ]
    },
    {
     "name": "stdout",
     "output_type": "stream",
     "text": [
      "Can't reduce dimensionality or some other problem\n"
     ]
    },
    {
     "name": "stderr",
     "output_type": "stream",
     "text": [
      "100%|██████████| 6/6 [00:00<00:00, 90.91it/s]\n",
      "2023-07-06 18:47:49,149 - BERTopic - Transformed documents to Embeddings\n",
      "f:\\Coding\\.venv\\lib\\site-packages\\scipy\\sparse\\linalg\\_eigen\\arpack\\arpack.py:1592: RuntimeWarning: k >= N for N * N square matrix. Attempting to use scipy.linalg.eigh instead.\n",
      "  warnings.warn(\"k >= N for N * N square matrix. \"\n",
      "2023-07-06 18:47:49,189 - BERTopic - The dimensionality reduction algorithm did not contain the `y` parameter and therefore the `y` parameter was not used\n",
      "f:\\Coding\\.venv\\lib\\site-packages\\scipy\\sparse\\linalg\\_eigen\\arpack\\arpack.py:1592: RuntimeWarning: k >= N for N * N square matrix. Attempting to use scipy.linalg.eigh instead.\n",
      "  warnings.warn(\"k >= N for N * N square matrix. \"\n"
     ]
    },
    {
     "name": "stdout",
     "output_type": "stream",
     "text": [
      "Can't reduce dimensionality or some other problem\n"
     ]
    },
    {
     "name": "stderr",
     "output_type": "stream",
     "text": [
      "100%|██████████| 12/12 [00:00<00:00, 87.59it/s]\n",
      "2023-07-06 18:47:49,341 - BERTopic - Transformed documents to Embeddings\n",
      "2023-07-06 18:47:50,444 - BERTopic - Reduced dimensionality\n",
      "2023-07-06 18:47:50,448 - BERTopic - Clustered reduced embeddings\n",
      "0it [00:00, ?it/s]\n"
     ]
    },
    {
     "name": "stdout",
     "output_type": "stream",
     "text": [
      "Can't distribute all messages in topics\n"
     ]
    },
    {
     "name": "stderr",
     "output_type": "stream",
     "text": [
      "100%|██████████| 10/10 [00:00<00:00, 112.36it/s]\n",
      "2023-07-06 18:47:50,600 - BERTopic - Transformed documents to Embeddings\n",
      "2023-07-06 18:47:51,386 - BERTopic - Reduced dimensionality\n",
      "2023-07-06 18:47:51,390 - BERTopic - Clustered reduced embeddings\n",
      "0it [00:00, ?it/s]\n"
     ]
    },
    {
     "name": "stdout",
     "output_type": "stream",
     "text": [
      "Can't distribute all messages in topics\n"
     ]
    },
    {
     "name": "stderr",
     "output_type": "stream",
     "text": [
      "100%|██████████| 9/9 [00:00<00:00, 136.36it/s]\n",
      "2023-07-06 18:47:51,506 - BERTopic - Transformed documents to Embeddings\n",
      "2023-07-06 18:47:52,326 - BERTopic - Reduced dimensionality\n",
      "2023-07-06 18:47:52,330 - BERTopic - Clustered reduced embeddings\n",
      "100%|██████████| 1/1 [00:00<00:00, 333.07it/s]\n",
      "100%|██████████| 16/16 [00:00<00:00, 130.08it/s]\n",
      "2023-07-06 18:47:52,603 - BERTopic - Transformed documents to Embeddings\n",
      "2023-07-06 18:47:53,391 - BERTopic - Reduced dimensionality\n",
      "2023-07-06 18:47:53,395 - BERTopic - Clustered reduced embeddings\n",
      "0it [00:00, ?it/s]\n"
     ]
    },
    {
     "name": "stdout",
     "output_type": "stream",
     "text": [
      "Can't distribute all messages in topics\n"
     ]
    },
    {
     "name": "stderr",
     "output_type": "stream",
     "text": [
      "100%|██████████| 7/7 [00:00<00:00, 152.19it/s]\n",
      "2023-07-06 18:47:53,505 - BERTopic - Transformed documents to Embeddings\n",
      "2023-07-06 18:47:54,264 - BERTopic - Reduced dimensionality\n",
      "2023-07-06 18:47:54,269 - BERTopic - Clustered reduced embeddings\n",
      "  0%|          | 0/1 [00:00<?, ?it/s]\n"
     ]
    },
    {
     "name": "stdout",
     "output_type": "stream",
     "text": [
      "Can't distribute all messages in topics\n"
     ]
    },
    {
     "name": "stderr",
     "output_type": "stream",
     "text": [
      "100%|██████████| 22/22 [00:00<00:00, 75.47it/s]\n",
      "2023-07-06 18:47:54,621 - BERTopic - Transformed documents to Embeddings\n",
      "2023-07-06 18:47:55,439 - BERTopic - Reduced dimensionality\n",
      "2023-07-06 18:47:55,446 - BERTopic - Clustered reduced embeddings\n",
      "0it [00:00, ?it/s]\n"
     ]
    },
    {
     "name": "stdout",
     "output_type": "stream",
     "text": [
      "Can't distribute all messages in topics\n"
     ]
    },
    {
     "name": "stderr",
     "output_type": "stream",
     "text": [
      "100%|██████████| 7/7 [00:00<00:00, 97.23it/s]\n",
      "2023-07-06 18:47:55,579 - BERTopic - Transformed documents to Embeddings\n",
      "2023-07-06 18:47:56,639 - BERTopic - Reduced dimensionality\n",
      "2023-07-06 18:47:56,644 - BERTopic - Clustered reduced embeddings\n",
      "100%|██████████| 1/1 [00:00<00:00, 499.74it/s]\n",
      "100%|██████████| 13/13 [00:00<00:00, 86.09it/s]\n",
      "2023-07-06 18:47:56,939 - BERTopic - Transformed documents to Embeddings\n",
      "2023-07-06 18:47:57,723 - BERTopic - Reduced dimensionality\n",
      "2023-07-06 18:47:57,727 - BERTopic - Clustered reduced embeddings\n",
      "0it [00:00, ?it/s]\n"
     ]
    },
    {
     "name": "stdout",
     "output_type": "stream",
     "text": [
      "Can't distribute all messages in topics\n"
     ]
    },
    {
     "name": "stderr",
     "output_type": "stream",
     "text": [
      "100%|██████████| 13/13 [00:00<00:00, 86.67it/s]\n",
      "2023-07-06 18:47:57,934 - BERTopic - Transformed documents to Embeddings\n",
      "2023-07-06 18:47:58,709 - BERTopic - Reduced dimensionality\n",
      "2023-07-06 18:47:58,713 - BERTopic - Clustered reduced embeddings\n",
      "0it [00:00, ?it/s]\n"
     ]
    },
    {
     "name": "stdout",
     "output_type": "stream",
     "text": [
      "Can't distribute all messages in topics\n"
     ]
    },
    {
     "name": "stderr",
     "output_type": "stream",
     "text": [
      "100%|██████████| 14/14 [00:00<00:00, 144.34it/s]\n",
      "2023-07-06 18:47:58,894 - BERTopic - Transformed documents to Embeddings\n",
      "2023-07-06 18:47:59,660 - BERTopic - Reduced dimensionality\n",
      "2023-07-06 18:47:59,665 - BERTopic - Clustered reduced embeddings\n",
      "100%|██████████| 1/1 [00:00<00:00, 492.29it/s]\n",
      "100%|██████████| 14/14 [00:00<00:00, 157.31it/s]\n",
      "2023-07-06 18:47:59,936 - BERTopic - Transformed documents to Embeddings\n",
      "2023-07-06 18:48:00,705 - BERTopic - Reduced dimensionality\n",
      "2023-07-06 18:48:00,709 - BERTopic - Clustered reduced embeddings\n",
      "100%|██████████| 1/1 [00:00<00:00, 500.10it/s]\n",
      "100%|██████████| 34/34 [00:00<00:00, 127.34it/s]\n",
      "2023-07-06 18:48:01,234 - BERTopic - Transformed documents to Embeddings\n",
      "2023-07-06 18:48:02,291 - BERTopic - Reduced dimensionality\n",
      "2023-07-06 18:48:02,297 - BERTopic - Clustered reduced embeddings\n",
      "100%|██████████| 1/1 [00:00<00:00, 499.68it/s]\n",
      "100%|██████████| 6/6 [00:00<00:00, 157.91it/s]\n",
      "2023-07-06 18:48:02,671 - BERTopic - Transformed documents to Embeddings\n",
      "f:\\Coding\\.venv\\lib\\site-packages\\scipy\\sparse\\linalg\\_eigen\\arpack\\arpack.py:1592: RuntimeWarning: k >= N for N * N square matrix. Attempting to use scipy.linalg.eigh instead.\n",
      "  warnings.warn(\"k >= N for N * N square matrix. \"\n",
      "2023-07-06 18:48:02,677 - BERTopic - The dimensionality reduction algorithm did not contain the `y` parameter and therefore the `y` parameter was not used\n",
      "f:\\Coding\\.venv\\lib\\site-packages\\scipy\\sparse\\linalg\\_eigen\\arpack\\arpack.py:1592: RuntimeWarning: k >= N for N * N square matrix. Attempting to use scipy.linalg.eigh instead.\n",
      "  warnings.warn(\"k >= N for N * N square matrix. \"\n"
     ]
    },
    {
     "name": "stdout",
     "output_type": "stream",
     "text": [
      "Can't reduce dimensionality or some other problem\n"
     ]
    },
    {
     "name": "stderr",
     "output_type": "stream",
     "text": [
      "100%|██████████| 24/24 [00:00<00:00, 150.00it/s]\n",
      "2023-07-06 18:48:02,850 - BERTopic - Transformed documents to Embeddings\n",
      "2023-07-06 18:48:03,683 - BERTopic - Reduced dimensionality\n",
      "2023-07-06 18:48:03,689 - BERTopic - Clustered reduced embeddings\n",
      "0it [00:00, ?it/s]\n"
     ]
    },
    {
     "name": "stdout",
     "output_type": "stream",
     "text": [
      "Can't distribute all messages in topics\n"
     ]
    },
    {
     "name": "stderr",
     "output_type": "stream",
     "text": [
      "100%|██████████| 13/13 [00:00<00:00, 119.27it/s]\n",
      "2023-07-06 18:48:03,879 - BERTopic - Transformed documents to Embeddings\n",
      "2023-07-06 18:48:04,633 - BERTopic - Reduced dimensionality\n",
      "2023-07-06 18:48:04,638 - BERTopic - Clustered reduced embeddings\n",
      "0it [00:00, ?it/s]\n"
     ]
    },
    {
     "name": "stdout",
     "output_type": "stream",
     "text": [
      "Can't distribute all messages in topics\n"
     ]
    },
    {
     "name": "stderr",
     "output_type": "stream",
     "text": [
      "100%|██████████| 9/9 [00:00<00:00, 109.76it/s]\n",
      "2023-07-06 18:48:04,770 - BERTopic - Transformed documents to Embeddings\n",
      "2023-07-06 18:48:05,544 - BERTopic - Reduced dimensionality\n",
      "2023-07-06 18:48:05,548 - BERTopic - Clustered reduced embeddings\n",
      "0it [00:00, ?it/s]\n"
     ]
    },
    {
     "name": "stdout",
     "output_type": "stream",
     "text": [
      "Can't distribute all messages in topics\n"
     ]
    },
    {
     "name": "stderr",
     "output_type": "stream",
     "text": [
      "100%|██████████| 13/13 [00:00<00:00, 139.79it/s]\n",
      "2023-07-06 18:48:05,697 - BERTopic - Transformed documents to Embeddings\n",
      "2023-07-06 18:48:06,450 - BERTopic - Reduced dimensionality\n",
      "2023-07-06 18:48:06,455 - BERTopic - Clustered reduced embeddings\n",
      "0it [00:00, ?it/s]\n"
     ]
    },
    {
     "name": "stdout",
     "output_type": "stream",
     "text": [
      "Can't distribute all messages in topics\n"
     ]
    },
    {
     "name": "stderr",
     "output_type": "stream",
     "text": [
      "100%|██████████| 11/11 [00:00<00:00, 88.71it/s]\n",
      "2023-07-06 18:48:06,630 - BERTopic - Transformed documents to Embeddings\n",
      "2023-07-06 18:48:07,642 - BERTopic - Reduced dimensionality\n",
      "2023-07-06 18:48:07,646 - BERTopic - Clustered reduced embeddings\n",
      "0it [00:00, ?it/s]\n"
     ]
    },
    {
     "name": "stdout",
     "output_type": "stream",
     "text": [
      "Can't distribute all messages in topics\n"
     ]
    },
    {
     "name": "stderr",
     "output_type": "stream",
     "text": [
      "100%|██████████| 15/15 [00:00<00:00, 101.35it/s]\n",
      "2023-07-06 18:48:07,846 - BERTopic - Transformed documents to Embeddings\n",
      "2023-07-06 18:48:08,606 - BERTopic - Reduced dimensionality\n",
      "2023-07-06 18:48:08,611 - BERTopic - Clustered reduced embeddings\n",
      "0it [00:00, ?it/s]\n"
     ]
    },
    {
     "name": "stdout",
     "output_type": "stream",
     "text": [
      "Can't distribute all messages in topics\n"
     ]
    },
    {
     "name": "stderr",
     "output_type": "stream",
     "text": [
      "100%|██████████| 5/5 [00:00<00:00, 142.86it/s]\n",
      "2023-07-06 18:48:08,764 - BERTopic - Transformed documents to Embeddings\n",
      "f:\\Coding\\.venv\\lib\\site-packages\\scipy\\sparse\\linalg\\_eigen\\arpack\\arpack.py:1592: RuntimeWarning: k >= N for N * N square matrix. Attempting to use scipy.linalg.eigh instead.\n",
      "  warnings.warn(\"k >= N for N * N square matrix. \"\n",
      "2023-07-06 18:48:08,769 - BERTopic - The dimensionality reduction algorithm did not contain the `y` parameter and therefore the `y` parameter was not used\n",
      "f:\\Coding\\.venv\\lib\\site-packages\\scipy\\sparse\\linalg\\_eigen\\arpack\\arpack.py:1592: RuntimeWarning: k >= N for N * N square matrix. Attempting to use scipy.linalg.eigh instead.\n",
      "  warnings.warn(\"k >= N for N * N square matrix. \"\n"
     ]
    },
    {
     "name": "stdout",
     "output_type": "stream",
     "text": [
      "Can't reduce dimensionality or some other problem\n"
     ]
    },
    {
     "name": "stderr",
     "output_type": "stream",
     "text": [
      "100%|██████████| 22/22 [00:00<00:00, 125.00it/s]\n",
      "2023-07-06 18:48:08,962 - BERTopic - Transformed documents to Embeddings\n",
      "2023-07-06 18:48:09,770 - BERTopic - Reduced dimensionality\n",
      "2023-07-06 18:48:09,774 - BERTopic - Clustered reduced embeddings\n",
      "0it [00:00, ?it/s]\n"
     ]
    },
    {
     "name": "stdout",
     "output_type": "stream",
     "text": [
      "Can't distribute all messages in topics\n"
     ]
    },
    {
     "name": "stderr",
     "output_type": "stream",
     "text": [
      "100%|██████████| 10/10 [00:00<00:00, 138.90it/s]\n",
      "2023-07-06 18:48:09,922 - BERTopic - Transformed documents to Embeddings\n",
      "2023-07-06 18:48:10,698 - BERTopic - Reduced dimensionality\n",
      "2023-07-06 18:48:10,702 - BERTopic - Clustered reduced embeddings\n",
      "0it [00:00, ?it/s]\n"
     ]
    },
    {
     "name": "stdout",
     "output_type": "stream",
     "text": [
      "Can't distribute all messages in topics\n"
     ]
    },
    {
     "name": "stderr",
     "output_type": "stream",
     "text": [
      "100%|██████████| 10/10 [00:00<00:00, 135.15it/s]\n",
      "2023-07-06 18:48:10,827 - BERTopic - Transformed documents to Embeddings\n",
      "2023-07-06 18:48:11,599 - BERTopic - Reduced dimensionality\n",
      "2023-07-06 18:48:11,605 - BERTopic - Clustered reduced embeddings\n",
      "0it [00:00, ?it/s]\n"
     ]
    },
    {
     "name": "stdout",
     "output_type": "stream",
     "text": [
      "Can't distribute all messages in topics\n"
     ]
    },
    {
     "name": "stderr",
     "output_type": "stream",
     "text": [
      "100%|██████████| 10/10 [00:00<00:00, 108.70it/s]\n",
      "2023-07-06 18:48:11,783 - BERTopic - Transformed documents to Embeddings\n",
      "2023-07-06 18:48:12,778 - BERTopic - Reduced dimensionality\n",
      "2023-07-06 18:48:12,782 - BERTopic - Clustered reduced embeddings\n",
      "0it [00:00, ?it/s]\n"
     ]
    },
    {
     "name": "stdout",
     "output_type": "stream",
     "text": [
      "Can't distribute all messages in topics\n"
     ]
    },
    {
     "name": "stderr",
     "output_type": "stream",
     "text": [
      "100%|██████████| 10/10 [00:00<00:00, 133.34it/s]\n",
      "2023-07-06 18:48:12,910 - BERTopic - Transformed documents to Embeddings\n",
      "2023-07-06 18:48:13,658 - BERTopic - Reduced dimensionality\n",
      "2023-07-06 18:48:13,661 - BERTopic - Clustered reduced embeddings\n",
      "  0%|          | 0/1 [00:00<?, ?it/s]\n"
     ]
    },
    {
     "name": "stdout",
     "output_type": "stream",
     "text": [
      "Can't distribute all messages in topics\n"
     ]
    },
    {
     "name": "stderr",
     "output_type": "stream",
     "text": [
      "100%|██████████| 6/6 [00:00<00:00, 37.98it/s]\n",
      "2023-07-06 18:48:13,869 - BERTopic - Transformed documents to Embeddings\n",
      "f:\\Coding\\.venv\\lib\\site-packages\\scipy\\sparse\\linalg\\_eigen\\arpack\\arpack.py:1592: RuntimeWarning: k >= N for N * N square matrix. Attempting to use scipy.linalg.eigh instead.\n",
      "  warnings.warn(\"k >= N for N * N square matrix. \"\n",
      "2023-07-06 18:48:13,875 - BERTopic - The dimensionality reduction algorithm did not contain the `y` parameter and therefore the `y` parameter was not used\n",
      "f:\\Coding\\.venv\\lib\\site-packages\\scipy\\sparse\\linalg\\_eigen\\arpack\\arpack.py:1592: RuntimeWarning: k >= N for N * N square matrix. Attempting to use scipy.linalg.eigh instead.\n",
      "  warnings.warn(\"k >= N for N * N square matrix. \"\n"
     ]
    },
    {
     "name": "stdout",
     "output_type": "stream",
     "text": [
      "Can't reduce dimensionality or some other problem\n"
     ]
    },
    {
     "name": "stderr",
     "output_type": "stream",
     "text": [
      "100%|██████████| 15/15 [00:00<00:00, 92.59it/s]\n",
      "2023-07-06 18:48:14,055 - BERTopic - Transformed documents to Embeddings\n",
      "2023-07-06 18:48:14,829 - BERTopic - Reduced dimensionality\n",
      "2023-07-06 18:48:14,833 - BERTopic - Clustered reduced embeddings\n",
      "0it [00:00, ?it/s]\n"
     ]
    },
    {
     "name": "stdout",
     "output_type": "stream",
     "text": [
      "Can't distribute all messages in topics\n"
     ]
    },
    {
     "name": "stderr",
     "output_type": "stream",
     "text": [
      "100%|██████████| 21/21 [00:00<00:00, 97.22it/s]\n",
      "2023-07-06 18:48:15,114 - BERTopic - Transformed documents to Embeddings\n",
      "2023-07-06 18:48:15,887 - BERTopic - Reduced dimensionality\n",
      "2023-07-06 18:48:15,893 - BERTopic - Clustered reduced embeddings\n",
      "0it [00:00, ?it/s]\n"
     ]
    },
    {
     "name": "stdout",
     "output_type": "stream",
     "text": [
      "Can't distribute all messages in topics\n"
     ]
    },
    {
     "name": "stderr",
     "output_type": "stream",
     "text": [
      "100%|██████████| 11/11 [00:00<00:00, 126.44it/s]\n",
      "2023-07-06 18:48:16,096 - BERTopic - Transformed documents to Embeddings\n",
      "2023-07-06 18:48:16,849 - BERTopic - Reduced dimensionality\n",
      "2023-07-06 18:48:16,853 - BERTopic - Clustered reduced embeddings\n",
      "0it [00:00, ?it/s]\n"
     ]
    },
    {
     "name": "stdout",
     "output_type": "stream",
     "text": [
      "Can't distribute all messages in topics\n"
     ]
    },
    {
     "name": "stderr",
     "output_type": "stream",
     "text": [
      "100%|██████████| 11/11 [00:00<00:00, 79.71it/s]\n",
      "2023-07-06 18:48:17,045 - BERTopic - Transformed documents to Embeddings\n",
      "2023-07-06 18:48:18,038 - BERTopic - Reduced dimensionality\n",
      "2023-07-06 18:48:18,042 - BERTopic - Clustered reduced embeddings\n",
      "0it [00:00, ?it/s]\n"
     ]
    },
    {
     "name": "stdout",
     "output_type": "stream",
     "text": [
      "Can't distribute all messages in topics\n"
     ]
    },
    {
     "name": "stderr",
     "output_type": "stream",
     "text": [
      "100%|██████████| 11/11 [00:00<00:00, 82.71it/s]\n",
      "2023-07-06 18:48:18,265 - BERTopic - Transformed documents to Embeddings\n",
      "2023-07-06 18:48:19,017 - BERTopic - Reduced dimensionality\n",
      "2023-07-06 18:48:19,021 - BERTopic - Clustered reduced embeddings\n",
      "0it [00:00, ?it/s]\n"
     ]
    },
    {
     "name": "stdout",
     "output_type": "stream",
     "text": [
      "Can't distribute all messages in topics\n"
     ]
    },
    {
     "name": "stderr",
     "output_type": "stream",
     "text": [
      "100%|██████████| 10/10 [00:00<00:00, 81.97it/s]\n",
      "2023-07-06 18:48:19,207 - BERTopic - Transformed documents to Embeddings\n",
      "2023-07-06 18:48:19,952 - BERTopic - Reduced dimensionality\n",
      "2023-07-06 18:48:19,956 - BERTopic - Clustered reduced embeddings\n",
      "100%|██████████| 1/1 [00:00<00:00, 496.02it/s]\n",
      "100%|██████████| 10/10 [00:00<00:00, 52.49it/s]\n",
      "2023-07-06 18:48:20,287 - BERTopic - Transformed documents to Embeddings\n",
      "2023-07-06 18:48:21,069 - BERTopic - Reduced dimensionality\n",
      "2023-07-06 18:48:21,073 - BERTopic - Clustered reduced embeddings\n",
      "100%|██████████| 1/1 [00:00<00:00, 499.68it/s]\n",
      "100%|██████████| 10/10 [00:00<00:00, 86.96it/s]\n",
      "2023-07-06 18:48:21,328 - BERTopic - Transformed documents to Embeddings\n",
      "2023-07-06 18:48:22,083 - BERTopic - Reduced dimensionality\n",
      "2023-07-06 18:48:22,087 - BERTopic - Clustered reduced embeddings\n",
      "100%|██████████| 1/1 [00:00<00:00, 500.10it/s]\n",
      "100%|██████████| 25/25 [00:00<00:00, 96.52it/s] \n",
      "2023-07-06 18:48:22,496 - BERTopic - Transformed documents to Embeddings\n",
      "2023-07-06 18:48:23,509 - BERTopic - Reduced dimensionality\n",
      "2023-07-06 18:48:23,514 - BERTopic - Clustered reduced embeddings\n",
      "100%|██████████| 1/1 [00:00<00:00, 332.85it/s]\n",
      "100%|██████████| 25/25 [00:00<00:00, 111.11it/s]\n",
      "2023-07-06 18:48:24,006 - BERTopic - Transformed documents to Embeddings\n",
      "2023-07-06 18:48:24,852 - BERTopic - Reduced dimensionality\n",
      "2023-07-06 18:48:24,857 - BERTopic - Clustered reduced embeddings\n",
      "100%|██████████| 1/1 [00:00<00:00, 330.16it/s]\n",
      "100%|██████████| 9/9 [00:00<00:00, 130.44it/s]\n",
      "2023-07-06 18:48:25,216 - BERTopic - Transformed documents to Embeddings\n",
      "2023-07-06 18:48:25,985 - BERTopic - Reduced dimensionality\n",
      "2023-07-06 18:48:25,990 - BERTopic - Clustered reduced embeddings\n",
      "0it [00:00, ?it/s]\n"
     ]
    },
    {
     "name": "stdout",
     "output_type": "stream",
     "text": [
      "Can't distribute all messages in topics\n"
     ]
    },
    {
     "name": "stderr",
     "output_type": "stream",
     "text": [
      "100%|██████████| 9/9 [00:00<00:00, 111.11it/s]\n",
      "2023-07-06 18:48:26,127 - BERTopic - Transformed documents to Embeddings\n",
      "2023-07-06 18:48:26,908 - BERTopic - Reduced dimensionality\n",
      "2023-07-06 18:48:26,912 - BERTopic - Clustered reduced embeddings\n",
      "0it [00:00, ?it/s]\n"
     ]
    },
    {
     "name": "stdout",
     "output_type": "stream",
     "text": [
      "Can't distribute all messages in topics\n"
     ]
    },
    {
     "name": "stderr",
     "output_type": "stream",
     "text": [
      "100%|██████████| 11/11 [00:00<00:00, 78.01it/s]\n",
      "2023-07-06 18:48:27,119 - BERTopic - Transformed documents to Embeddings\n",
      "2023-07-06 18:48:27,883 - BERTopic - Reduced dimensionality\n",
      "2023-07-06 18:48:27,887 - BERTopic - Clustered reduced embeddings\n",
      "0it [00:00, ?it/s]\n"
     ]
    },
    {
     "name": "stdout",
     "output_type": "stream",
     "text": [
      "Can't distribute all messages in topics\n"
     ]
    },
    {
     "name": "stderr",
     "output_type": "stream",
     "text": [
      "100%|██████████| 11/11 [00:00<00:00, 67.07it/s]\n",
      "2023-07-06 18:48:28,124 - BERTopic - Transformed documents to Embeddings\n",
      "2023-07-06 18:48:29,140 - BERTopic - Reduced dimensionality\n",
      "2023-07-06 18:48:29,144 - BERTopic - Clustered reduced embeddings\n",
      "0it [00:00, ?it/s]\n"
     ]
    },
    {
     "name": "stdout",
     "output_type": "stream",
     "text": [
      "Can't distribute all messages in topics\n"
     ]
    },
    {
     "name": "stderr",
     "output_type": "stream",
     "text": [
      "100%|██████████| 5/5 [00:00<00:00, 31.25it/s]\n",
      "2023-07-06 18:48:29,372 - BERTopic - Transformed documents to Embeddings\n",
      "f:\\Coding\\.venv\\lib\\site-packages\\scipy\\sparse\\linalg\\_eigen\\arpack\\arpack.py:1592: RuntimeWarning: k >= N for N * N square matrix. Attempting to use scipy.linalg.eigh instead.\n",
      "  warnings.warn(\"k >= N for N * N square matrix. \"\n",
      "2023-07-06 18:48:29,377 - BERTopic - The dimensionality reduction algorithm did not contain the `y` parameter and therefore the `y` parameter was not used\n",
      "f:\\Coding\\.venv\\lib\\site-packages\\scipy\\sparse\\linalg\\_eigen\\arpack\\arpack.py:1592: RuntimeWarning: k >= N for N * N square matrix. Attempting to use scipy.linalg.eigh instead.\n",
      "  warnings.warn(\"k >= N for N * N square matrix. \"\n"
     ]
    },
    {
     "name": "stdout",
     "output_type": "stream",
     "text": [
      "Can't reduce dimensionality or some other problem\n"
     ]
    },
    {
     "name": "stderr",
     "output_type": "stream",
     "text": [
      "100%|██████████| 5/5 [00:00<00:00, 29.15it/s]\n",
      "2023-07-06 18:48:29,559 - BERTopic - Transformed documents to Embeddings\n",
      "f:\\Coding\\.venv\\lib\\site-packages\\scipy\\sparse\\linalg\\_eigen\\arpack\\arpack.py:1592: RuntimeWarning: k >= N for N * N square matrix. Attempting to use scipy.linalg.eigh instead.\n",
      "  warnings.warn(\"k >= N for N * N square matrix. \"\n",
      "2023-07-06 18:48:29,564 - BERTopic - The dimensionality reduction algorithm did not contain the `y` parameter and therefore the `y` parameter was not used\n",
      "f:\\Coding\\.venv\\lib\\site-packages\\scipy\\sparse\\linalg\\_eigen\\arpack\\arpack.py:1592: RuntimeWarning: k >= N for N * N square matrix. Attempting to use scipy.linalg.eigh instead.\n",
      "  warnings.warn(\"k >= N for N * N square matrix. \"\n"
     ]
    },
    {
     "name": "stdout",
     "output_type": "stream",
     "text": [
      "Can't reduce dimensionality or some other problem\n"
     ]
    },
    {
     "name": "stderr",
     "output_type": "stream",
     "text": [
      "100%|██████████| 11/11 [00:00<00:00, 154.93it/s]\n",
      "2023-07-06 18:48:29,652 - BERTopic - Transformed documents to Embeddings\n",
      "2023-07-06 18:48:30,415 - BERTopic - Reduced dimensionality\n",
      "2023-07-06 18:48:30,419 - BERTopic - Clustered reduced embeddings\n",
      "0it [00:00, ?it/s]\n"
     ]
    },
    {
     "name": "stdout",
     "output_type": "stream",
     "text": [
      "Can't distribute all messages in topics\n"
     ]
    },
    {
     "name": "stderr",
     "output_type": "stream",
     "text": [
      "100%|██████████| 5/5 [00:00<00:00, 53.19it/s]\n",
      "2023-07-06 18:48:30,606 - BERTopic - Transformed documents to Embeddings\n",
      "f:\\Coding\\.venv\\lib\\site-packages\\scipy\\sparse\\linalg\\_eigen\\arpack\\arpack.py:1592: RuntimeWarning: k >= N for N * N square matrix. Attempting to use scipy.linalg.eigh instead.\n",
      "  warnings.warn(\"k >= N for N * N square matrix. \"\n",
      "2023-07-06 18:48:30,613 - BERTopic - The dimensionality reduction algorithm did not contain the `y` parameter and therefore the `y` parameter was not used\n",
      "f:\\Coding\\.venv\\lib\\site-packages\\scipy\\sparse\\linalg\\_eigen\\arpack\\arpack.py:1592: RuntimeWarning: k >= N for N * N square matrix. Attempting to use scipy.linalg.eigh instead.\n",
      "  warnings.warn(\"k >= N for N * N square matrix. \"\n"
     ]
    },
    {
     "name": "stdout",
     "output_type": "stream",
     "text": [
      "Can't reduce dimensionality or some other problem\n"
     ]
    },
    {
     "name": "stderr",
     "output_type": "stream",
     "text": [
      "100%|██████████| 9/9 [00:00<00:00, 62.50it/s]\n",
      "2023-07-06 18:48:30,845 - BERTopic - Transformed documents to Embeddings\n",
      "2023-07-06 18:48:31,707 - BERTopic - Reduced dimensionality\n",
      "2023-07-06 18:48:31,711 - BERTopic - Clustered reduced embeddings\n",
      "0it [00:00, ?it/s]\n"
     ]
    },
    {
     "name": "stdout",
     "output_type": "stream",
     "text": [
      "Can't distribute all messages in topics\n"
     ]
    },
    {
     "name": "stderr",
     "output_type": "stream",
     "text": [
      "100%|██████████| 8/8 [00:00<00:00, 121.21it/s]\n",
      "2023-07-06 18:48:31,912 - BERTopic - Transformed documents to Embeddings\n",
      "2023-07-06 18:48:32,685 - BERTopic - Reduced dimensionality\n",
      "2023-07-06 18:48:32,690 - BERTopic - Clustered reduced embeddings\n",
      "100%|██████████| 1/1 [00:00<00:00, 1001.74it/s]\n",
      "100%|██████████| 8/8 [00:00<00:00, 160.00it/s]\n",
      "2023-07-06 18:48:32,906 - BERTopic - Transformed documents to Embeddings\n",
      "2023-07-06 18:48:33,677 - BERTopic - Reduced dimensionality\n",
      "2023-07-06 18:48:33,681 - BERTopic - Clustered reduced embeddings\n",
      "0it [00:00, ?it/s]\n"
     ]
    },
    {
     "name": "stdout",
     "output_type": "stream",
     "text": [
      "Can't distribute all messages in topics\n"
     ]
    },
    {
     "name": "stderr",
     "output_type": "stream",
     "text": [
      "100%|██████████| 7/7 [00:00<00:00, 134.61it/s]\n",
      "2023-07-06 18:48:33,780 - BERTopic - Transformed documents to Embeddings\n",
      "2023-07-06 18:48:34,530 - BERTopic - Reduced dimensionality\n",
      "2023-07-06 18:48:34,534 - BERTopic - Clustered reduced embeddings\n",
      "0it [00:00, ?it/s]\n"
     ]
    },
    {
     "name": "stdout",
     "output_type": "stream",
     "text": [
      "Can't distribute all messages in topics\n"
     ]
    },
    {
     "name": "stderr",
     "output_type": "stream",
     "text": [
      "100%|██████████| 6/6 [00:00<00:00, 125.00it/s]\n",
      "2023-07-06 18:48:34,630 - BERTopic - Transformed documents to Embeddings\n",
      "f:\\Coding\\.venv\\lib\\site-packages\\scipy\\sparse\\linalg\\_eigen\\arpack\\arpack.py:1592: RuntimeWarning: k >= N for N * N square matrix. Attempting to use scipy.linalg.eigh instead.\n",
      "  warnings.warn(\"k >= N for N * N square matrix. \"\n",
      "2023-07-06 18:48:34,636 - BERTopic - The dimensionality reduction algorithm did not contain the `y` parameter and therefore the `y` parameter was not used\n",
      "f:\\Coding\\.venv\\lib\\site-packages\\scipy\\sparse\\linalg\\_eigen\\arpack\\arpack.py:1592: RuntimeWarning: k >= N for N * N square matrix. Attempting to use scipy.linalg.eigh instead.\n",
      "  warnings.warn(\"k >= N for N * N square matrix. \"\n"
     ]
    },
    {
     "name": "stdout",
     "output_type": "stream",
     "text": [
      "Can't reduce dimensionality or some other problem\n"
     ]
    },
    {
     "name": "stderr",
     "output_type": "stream",
     "text": [
      "100%|██████████| 6/6 [00:00<00:00, 133.33it/s]\n",
      "2023-07-06 18:48:34,694 - BERTopic - Transformed documents to Embeddings\n",
      "f:\\Coding\\.venv\\lib\\site-packages\\scipy\\sparse\\linalg\\_eigen\\arpack\\arpack.py:1592: RuntimeWarning: k >= N for N * N square matrix. Attempting to use scipy.linalg.eigh instead.\n",
      "  warnings.warn(\"k >= N for N * N square matrix. \"\n",
      "2023-07-06 18:48:34,699 - BERTopic - The dimensionality reduction algorithm did not contain the `y` parameter and therefore the `y` parameter was not used\n",
      "f:\\Coding\\.venv\\lib\\site-packages\\scipy\\sparse\\linalg\\_eigen\\arpack\\arpack.py:1592: RuntimeWarning: k >= N for N * N square matrix. Attempting to use scipy.linalg.eigh instead.\n",
      "  warnings.warn(\"k >= N for N * N square matrix. \"\n"
     ]
    },
    {
     "name": "stdout",
     "output_type": "stream",
     "text": [
      "Can't reduce dimensionality or some other problem\n"
     ]
    },
    {
     "name": "stderr",
     "output_type": "stream",
     "text": [
      "100%|██████████| 5/5 [00:00<00:00, 100.01it/s]\n",
      "2023-07-06 18:48:34,775 - BERTopic - Transformed documents to Embeddings\n",
      "f:\\Coding\\.venv\\lib\\site-packages\\scipy\\sparse\\linalg\\_eigen\\arpack\\arpack.py:1592: RuntimeWarning: k >= N for N * N square matrix. Attempting to use scipy.linalg.eigh instead.\n",
      "  warnings.warn(\"k >= N for N * N square matrix. \"\n",
      "2023-07-06 18:48:34,780 - BERTopic - The dimensionality reduction algorithm did not contain the `y` parameter and therefore the `y` parameter was not used\n",
      "f:\\Coding\\.venv\\lib\\site-packages\\scipy\\sparse\\linalg\\_eigen\\arpack\\arpack.py:1592: RuntimeWarning: k >= N for N * N square matrix. Attempting to use scipy.linalg.eigh instead.\n",
      "  warnings.warn(\"k >= N for N * N square matrix. \"\n"
     ]
    },
    {
     "name": "stdout",
     "output_type": "stream",
     "text": [
      "Can't reduce dimensionality or some other problem\n"
     ]
    },
    {
     "name": "stderr",
     "output_type": "stream",
     "text": [
      "100%|██████████| 5/5 [00:00<00:00, 56.18it/s]\n",
      "2023-07-06 18:48:34,882 - BERTopic - Transformed documents to Embeddings\n",
      "f:\\Coding\\.venv\\lib\\site-packages\\scipy\\sparse\\linalg\\_eigen\\arpack\\arpack.py:1592: RuntimeWarning: k >= N for N * N square matrix. Attempting to use scipy.linalg.eigh instead.\n",
      "  warnings.warn(\"k >= N for N * N square matrix. \"\n",
      "2023-07-06 18:48:34,887 - BERTopic - The dimensionality reduction algorithm did not contain the `y` parameter and therefore the `y` parameter was not used\n",
      "f:\\Coding\\.venv\\lib\\site-packages\\scipy\\sparse\\linalg\\_eigen\\arpack\\arpack.py:1592: RuntimeWarning: k >= N for N * N square matrix. Attempting to use scipy.linalg.eigh instead.\n",
      "  warnings.warn(\"k >= N for N * N square matrix. \"\n"
     ]
    },
    {
     "name": "stdout",
     "output_type": "stream",
     "text": [
      "Can't reduce dimensionality or some other problem\n"
     ]
    },
    {
     "name": "stderr",
     "output_type": "stream",
     "text": [
      "100%|██████████| 5/5 [00:00<00:00, 104.16it/s]\n",
      "2023-07-06 18:48:34,947 - BERTopic - Transformed documents to Embeddings\n",
      "f:\\Coding\\.venv\\lib\\site-packages\\scipy\\sparse\\linalg\\_eigen\\arpack\\arpack.py:1592: RuntimeWarning: k >= N for N * N square matrix. Attempting to use scipy.linalg.eigh instead.\n",
      "  warnings.warn(\"k >= N for N * N square matrix. \"\n",
      "2023-07-06 18:48:34,953 - BERTopic - The dimensionality reduction algorithm did not contain the `y` parameter and therefore the `y` parameter was not used\n",
      "f:\\Coding\\.venv\\lib\\site-packages\\scipy\\sparse\\linalg\\_eigen\\arpack\\arpack.py:1592: RuntimeWarning: k >= N for N * N square matrix. Attempting to use scipy.linalg.eigh instead.\n",
      "  warnings.warn(\"k >= N for N * N square matrix. \"\n"
     ]
    },
    {
     "name": "stdout",
     "output_type": "stream",
     "text": [
      "Can't reduce dimensionality or some other problem\n"
     ]
    },
    {
     "name": "stderr",
     "output_type": "stream",
     "text": [
      "100%|██████████| 5/5 [00:00<00:00, 98.04it/s]\n",
      "2023-07-06 18:48:35,016 - BERTopic - Transformed documents to Embeddings\n",
      "f:\\Coding\\.venv\\lib\\site-packages\\scipy\\sparse\\linalg\\_eigen\\arpack\\arpack.py:1592: RuntimeWarning: k >= N for N * N square matrix. Attempting to use scipy.linalg.eigh instead.\n",
      "  warnings.warn(\"k >= N for N * N square matrix. \"\n",
      "2023-07-06 18:48:35,022 - BERTopic - The dimensionality reduction algorithm did not contain the `y` parameter and therefore the `y` parameter was not used\n",
      "f:\\Coding\\.venv\\lib\\site-packages\\scipy\\sparse\\linalg\\_eigen\\arpack\\arpack.py:1592: RuntimeWarning: k >= N for N * N square matrix. Attempting to use scipy.linalg.eigh instead.\n",
      "  warnings.warn(\"k >= N for N * N square matrix. \"\n"
     ]
    },
    {
     "name": "stdout",
     "output_type": "stream",
     "text": [
      "Can't reduce dimensionality or some other problem\n"
     ]
    },
    {
     "name": "stderr",
     "output_type": "stream",
     "text": [
      "100%|██████████| 8/8 [00:00<00:00, 82.47it/s]\n",
      "2023-07-06 18:48:35,130 - BERTopic - Transformed documents to Embeddings\n",
      "2023-07-06 18:48:36,136 - BERTopic - Reduced dimensionality\n",
      "2023-07-06 18:48:36,140 - BERTopic - Clustered reduced embeddings\n",
      "0it [00:00, ?it/s]\n"
     ]
    },
    {
     "name": "stdout",
     "output_type": "stream",
     "text": [
      "Can't distribute all messages in topics\n"
     ]
    },
    {
     "name": "stderr",
     "output_type": "stream",
     "text": [
      "100%|██████████| 8/8 [00:00<00:00, 90.91it/s]\n",
      "2023-07-06 18:48:36,281 - BERTopic - Transformed documents to Embeddings\n",
      "2023-07-06 18:48:37,035 - BERTopic - Reduced dimensionality\n",
      "2023-07-06 18:48:37,039 - BERTopic - Clustered reduced embeddings\n",
      "0it [00:00, ?it/s]\n"
     ]
    },
    {
     "name": "stdout",
     "output_type": "stream",
     "text": [
      "Can't distribute all messages in topics\n"
     ]
    },
    {
     "name": "stderr",
     "output_type": "stream",
     "text": [
      "100%|██████████| 5/5 [00:00<00:00, 116.28it/s]\n",
      "2023-07-06 18:48:37,158 - BERTopic - Transformed documents to Embeddings\n",
      "f:\\Coding\\.venv\\lib\\site-packages\\scipy\\sparse\\linalg\\_eigen\\arpack\\arpack.py:1592: RuntimeWarning: k >= N for N * N square matrix. Attempting to use scipy.linalg.eigh instead.\n",
      "  warnings.warn(\"k >= N for N * N square matrix. \"\n",
      "2023-07-06 18:48:37,163 - BERTopic - The dimensionality reduction algorithm did not contain the `y` parameter and therefore the `y` parameter was not used\n",
      "f:\\Coding\\.venv\\lib\\site-packages\\scipy\\sparse\\linalg\\_eigen\\arpack\\arpack.py:1592: RuntimeWarning: k >= N for N * N square matrix. Attempting to use scipy.linalg.eigh instead.\n",
      "  warnings.warn(\"k >= N for N * N square matrix. \"\n"
     ]
    },
    {
     "name": "stdout",
     "output_type": "stream",
     "text": [
      "Can't reduce dimensionality or some other problem\n"
     ]
    },
    {
     "name": "stderr",
     "output_type": "stream",
     "text": [
      "100%|██████████| 5/5 [00:00<00:00, 106.38it/s]\n",
      "2023-07-06 18:48:37,222 - BERTopic - Transformed documents to Embeddings\n",
      "f:\\Coding\\.venv\\lib\\site-packages\\scipy\\sparse\\linalg\\_eigen\\arpack\\arpack.py:1592: RuntimeWarning: k >= N for N * N square matrix. Attempting to use scipy.linalg.eigh instead.\n",
      "  warnings.warn(\"k >= N for N * N square matrix. \"\n",
      "2023-07-06 18:48:37,228 - BERTopic - The dimensionality reduction algorithm did not contain the `y` parameter and therefore the `y` parameter was not used\n",
      "f:\\Coding\\.venv\\lib\\site-packages\\scipy\\sparse\\linalg\\_eigen\\arpack\\arpack.py:1592: RuntimeWarning: k >= N for N * N square matrix. Attempting to use scipy.linalg.eigh instead.\n",
      "  warnings.warn(\"k >= N for N * N square matrix. \"\n"
     ]
    },
    {
     "name": "stdout",
     "output_type": "stream",
     "text": [
      "Can't reduce dimensionality or some other problem\n"
     ]
    },
    {
     "name": "stderr",
     "output_type": "stream",
     "text": [
      "100%|██████████| 5/5 [00:00<00:00, 21.83it/s]\n",
      "2023-07-06 18:48:37,480 - BERTopic - Transformed documents to Embeddings\n",
      "f:\\Coding\\.venv\\lib\\site-packages\\scipy\\sparse\\linalg\\_eigen\\arpack\\arpack.py:1592: RuntimeWarning: k >= N for N * N square matrix. Attempting to use scipy.linalg.eigh instead.\n",
      "  warnings.warn(\"k >= N for N * N square matrix. \"\n",
      "2023-07-06 18:48:37,485 - BERTopic - The dimensionality reduction algorithm did not contain the `y` parameter and therefore the `y` parameter was not used\n",
      "f:\\Coding\\.venv\\lib\\site-packages\\scipy\\sparse\\linalg\\_eigen\\arpack\\arpack.py:1592: RuntimeWarning: k >= N for N * N square matrix. Attempting to use scipy.linalg.eigh instead.\n",
      "  warnings.warn(\"k >= N for N * N square matrix. \"\n"
     ]
    },
    {
     "name": "stdout",
     "output_type": "stream",
     "text": [
      "Can't reduce dimensionality or some other problem\n"
     ]
    },
    {
     "name": "stderr",
     "output_type": "stream",
     "text": [
      "100%|██████████| 14/14 [00:00<00:00, 115.70it/s]\n",
      "2023-07-06 18:48:37,653 - BERTopic - Transformed documents to Embeddings\n",
      "2023-07-06 18:48:38,442 - BERTopic - Reduced dimensionality\n",
      "2023-07-06 18:48:38,447 - BERTopic - Clustered reduced embeddings\n",
      "0it [00:00, ?it/s]\n"
     ]
    },
    {
     "name": "stdout",
     "output_type": "stream",
     "text": [
      "Can't distribute all messages in topics\n"
     ]
    },
    {
     "name": "stderr",
     "output_type": "stream",
     "text": [
      "100%|██████████| 14/14 [00:00<00:00, 117.65it/s]\n",
      "2023-07-06 18:48:38,638 - BERTopic - Transformed documents to Embeddings\n",
      "2023-07-06 18:48:39,399 - BERTopic - Reduced dimensionality\n",
      "2023-07-06 18:48:39,403 - BERTopic - Clustered reduced embeddings\n",
      "0it [00:00, ?it/s]\n"
     ]
    },
    {
     "name": "stdout",
     "output_type": "stream",
     "text": [
      "Can't distribute all messages in topics\n"
     ]
    },
    {
     "name": "stderr",
     "output_type": "stream",
     "text": [
      "100%|██████████| 301/301 [00:01<00:00, 153.92it/s]\n",
      "2023-07-06 18:48:41,587 - BERTopic - Transformed documents to Embeddings\n",
      "2023-07-06 18:48:42,944 - BERTopic - Reduced dimensionality\n",
      "2023-07-06 18:48:42,999 - BERTopic - Clustered reduced embeddings\n",
      "100%|██████████| 1/1 [00:00<00:00, 71.43it/s]\n",
      "100%|██████████| 5/5 [00:00<00:00, 49.02it/s]\n",
      "2023-07-06 18:48:46,015 - BERTopic - Transformed documents to Embeddings\n",
      "f:\\Coding\\.venv\\lib\\site-packages\\scipy\\sparse\\linalg\\_eigen\\arpack\\arpack.py:1592: RuntimeWarning: k >= N for N * N square matrix. Attempting to use scipy.linalg.eigh instead.\n",
      "  warnings.warn(\"k >= N for N * N square matrix. \"\n",
      "2023-07-06 18:48:46,021 - BERTopic - The dimensionality reduction algorithm did not contain the `y` parameter and therefore the `y` parameter was not used\n",
      "f:\\Coding\\.venv\\lib\\site-packages\\scipy\\sparse\\linalg\\_eigen\\arpack\\arpack.py:1592: RuntimeWarning: k >= N for N * N square matrix. Attempting to use scipy.linalg.eigh instead.\n",
      "  warnings.warn(\"k >= N for N * N square matrix. \"\n"
     ]
    },
    {
     "name": "stdout",
     "output_type": "stream",
     "text": [
      "Can't reduce dimensionality or some other problem\n"
     ]
    },
    {
     "name": "stderr",
     "output_type": "stream",
     "text": [
      "100%|██████████| 8/8 [00:00<00:00, 69.56it/s]\n",
      "2023-07-06 18:48:46,275 - BERTopic - Transformed documents to Embeddings\n",
      "2023-07-06 18:48:47,047 - BERTopic - Reduced dimensionality\n",
      "2023-07-06 18:48:47,050 - BERTopic - Clustered reduced embeddings\n",
      "  0%|          | 0/1 [00:00<?, ?it/s]\n"
     ]
    },
    {
     "name": "stdout",
     "output_type": "stream",
     "text": [
      "Can't distribute all messages in topics\n"
     ]
    },
    {
     "name": "stderr",
     "output_type": "stream",
     "text": [
      "100%|██████████| 14/14 [00:00<00:00, 152.18it/s]\n",
      "2023-07-06 18:48:47,193 - BERTopic - Transformed documents to Embeddings\n",
      "2023-07-06 18:48:47,955 - BERTopic - Reduced dimensionality\n",
      "2023-07-06 18:48:47,959 - BERTopic - Clustered reduced embeddings\n",
      "100%|██████████| 1/1 [00:00<00:00, 500.27it/s]\n",
      "100%|██████████| 8/8 [00:00<00:00, 131.14it/s]\n",
      "2023-07-06 18:48:48,244 - BERTopic - Transformed documents to Embeddings\n",
      "2023-07-06 18:48:49,009 - BERTopic - Reduced dimensionality\n",
      "2023-07-06 18:48:49,012 - BERTopic - Clustered reduced embeddings\n",
      "0it [00:00, ?it/s]\n"
     ]
    },
    {
     "name": "stdout",
     "output_type": "stream",
     "text": [
      "Can't distribute all messages in topics\n"
     ]
    },
    {
     "name": "stderr",
     "output_type": "stream",
     "text": [
      "100%|██████████| 22/22 [00:00<00:00, 64.90it/s]\n",
      "2023-07-06 18:48:49,401 - BERTopic - Transformed documents to Embeddings\n",
      "2023-07-06 18:48:50,219 - BERTopic - Reduced dimensionality\n",
      "2023-07-06 18:48:50,226 - BERTopic - Clustered reduced embeddings\n",
      "100%|██████████| 1/1 [00:00<00:00, 500.99it/s]\n",
      "100%|██████████| 5/5 [00:00<00:00, 185.18it/s]\n",
      "2023-07-06 18:48:50,584 - BERTopic - Transformed documents to Embeddings\n",
      "f:\\Coding\\.venv\\lib\\site-packages\\scipy\\sparse\\linalg\\_eigen\\arpack\\arpack.py:1592: RuntimeWarning: k >= N for N * N square matrix. Attempting to use scipy.linalg.eigh instead.\n",
      "  warnings.warn(\"k >= N for N * N square matrix. \"\n",
      "2023-07-06 18:48:50,589 - BERTopic - The dimensionality reduction algorithm did not contain the `y` parameter and therefore the `y` parameter was not used\n",
      "f:\\Coding\\.venv\\lib\\site-packages\\scipy\\sparse\\linalg\\_eigen\\arpack\\arpack.py:1592: RuntimeWarning: k >= N for N * N square matrix. Attempting to use scipy.linalg.eigh instead.\n",
      "  warnings.warn(\"k >= N for N * N square matrix. \"\n"
     ]
    },
    {
     "name": "stdout",
     "output_type": "stream",
     "text": [
      "Can't reduce dimensionality or some other problem\n"
     ]
    },
    {
     "name": "stderr",
     "output_type": "stream",
     "text": [
      "100%|██████████| 18/18 [00:00<00:00, 130.44it/s]\n",
      "2023-07-06 18:48:50,755 - BERTopic - Transformed documents to Embeddings\n",
      "2023-07-06 18:48:51,535 - BERTopic - Reduced dimensionality\n",
      "2023-07-06 18:48:51,539 - BERTopic - Clustered reduced embeddings\n",
      "0it [00:00, ?it/s]\n"
     ]
    },
    {
     "name": "stdout",
     "output_type": "stream",
     "text": [
      "Can't distribute all messages in topics\n"
     ]
    },
    {
     "name": "stderr",
     "output_type": "stream",
     "text": [
      "100%|██████████| 6/6 [00:00<00:00, 127.67it/s]\n",
      "2023-07-06 18:48:51,646 - BERTopic - Transformed documents to Embeddings\n",
      "f:\\Coding\\.venv\\lib\\site-packages\\scipy\\sparse\\linalg\\_eigen\\arpack\\arpack.py:1592: RuntimeWarning: k >= N for N * N square matrix. Attempting to use scipy.linalg.eigh instead.\n",
      "  warnings.warn(\"k >= N for N * N square matrix. \"\n",
      "2023-07-06 18:48:51,652 - BERTopic - The dimensionality reduction algorithm did not contain the `y` parameter and therefore the `y` parameter was not used\n",
      "f:\\Coding\\.venv\\lib\\site-packages\\scipy\\sparse\\linalg\\_eigen\\arpack\\arpack.py:1592: RuntimeWarning: k >= N for N * N square matrix. Attempting to use scipy.linalg.eigh instead.\n",
      "  warnings.warn(\"k >= N for N * N square matrix. \"\n"
     ]
    },
    {
     "name": "stdout",
     "output_type": "stream",
     "text": [
      "Can't reduce dimensionality or some other problem\n"
     ]
    },
    {
     "name": "stderr",
     "output_type": "stream",
     "text": [
      "100%|██████████| 11/11 [00:00<00:00, 148.65it/s]\n",
      "2023-07-06 18:48:51,755 - BERTopic - Transformed documents to Embeddings\n",
      "2023-07-06 18:48:52,772 - BERTopic - Reduced dimensionality\n",
      "2023-07-06 18:48:52,776 - BERTopic - Clustered reduced embeddings\n",
      "0it [00:00, ?it/s]\n"
     ]
    },
    {
     "name": "stdout",
     "output_type": "stream",
     "text": [
      "Can't distribute all messages in topics\n"
     ]
    },
    {
     "name": "stderr",
     "output_type": "stream",
     "text": [
      "100%|██████████| 21/21 [00:00<00:00, 140.94it/s]\n",
      "2023-07-06 18:48:53,011 - BERTopic - Transformed documents to Embeddings\n",
      "2023-07-06 18:48:53,785 - BERTopic - Reduced dimensionality\n",
      "2023-07-06 18:48:53,790 - BERTopic - Clustered reduced embeddings\n",
      "0it [00:00, ?it/s]\n"
     ]
    },
    {
     "name": "stdout",
     "output_type": "stream",
     "text": [
      "Can't distribute all messages in topics\n"
     ]
    },
    {
     "name": "stderr",
     "output_type": "stream",
     "text": [
      "100%|██████████| 5/5 [00:00<00:00, 138.89it/s]\n",
      "2023-07-06 18:48:53,955 - BERTopic - Transformed documents to Embeddings\n",
      "f:\\Coding\\.venv\\lib\\site-packages\\scipy\\sparse\\linalg\\_eigen\\arpack\\arpack.py:1592: RuntimeWarning: k >= N for N * N square matrix. Attempting to use scipy.linalg.eigh instead.\n",
      "  warnings.warn(\"k >= N for N * N square matrix. \"\n",
      "2023-07-06 18:48:53,960 - BERTopic - The dimensionality reduction algorithm did not contain the `y` parameter and therefore the `y` parameter was not used\n",
      "f:\\Coding\\.venv\\lib\\site-packages\\scipy\\sparse\\linalg\\_eigen\\arpack\\arpack.py:1592: RuntimeWarning: k >= N for N * N square matrix. Attempting to use scipy.linalg.eigh instead.\n",
      "  warnings.warn(\"k >= N for N * N square matrix. \"\n"
     ]
    },
    {
     "name": "stdout",
     "output_type": "stream",
     "text": [
      "Can't reduce dimensionality or some other problem\n"
     ]
    },
    {
     "name": "stderr",
     "output_type": "stream",
     "text": [
      "100%|██████████| 5/5 [00:00<00:00, 45.45it/s]\n",
      "2023-07-06 18:48:54,086 - BERTopic - Transformed documents to Embeddings\n",
      "f:\\Coding\\.venv\\lib\\site-packages\\scipy\\sparse\\linalg\\_eigen\\arpack\\arpack.py:1592: RuntimeWarning: k >= N for N * N square matrix. Attempting to use scipy.linalg.eigh instead.\n",
      "  warnings.warn(\"k >= N for N * N square matrix. \"\n",
      "2023-07-06 18:48:54,091 - BERTopic - The dimensionality reduction algorithm did not contain the `y` parameter and therefore the `y` parameter was not used\n",
      "f:\\Coding\\.venv\\lib\\site-packages\\scipy\\sparse\\linalg\\_eigen\\arpack\\arpack.py:1592: RuntimeWarning: k >= N for N * N square matrix. Attempting to use scipy.linalg.eigh instead.\n",
      "  warnings.warn(\"k >= N for N * N square matrix. \"\n"
     ]
    },
    {
     "name": "stdout",
     "output_type": "stream",
     "text": [
      "Can't reduce dimensionality or some other problem\n"
     ]
    },
    {
     "name": "stderr",
     "output_type": "stream",
     "text": [
      "100%|██████████| 7/7 [00:00<00:00, 80.46it/s]\n",
      "2023-07-06 18:48:54,202 - BERTopic - Transformed documents to Embeddings\n",
      "2023-07-06 18:48:54,982 - BERTopic - Reduced dimensionality\n",
      "2023-07-06 18:48:54,985 - BERTopic - Clustered reduced embeddings\n",
      "  0%|          | 0/1 [00:00<?, ?it/s]\n"
     ]
    },
    {
     "name": "stdout",
     "output_type": "stream",
     "text": [
      "Can't distribute all messages in topics\n"
     ]
    },
    {
     "name": "stderr",
     "output_type": "stream",
     "text": [
      "100%|██████████| 10/10 [00:00<00:00, 93.46it/s]\n",
      "2023-07-06 18:48:55,149 - BERTopic - Transformed documents to Embeddings\n",
      "2023-07-06 18:48:55,915 - BERTopic - Reduced dimensionality\n",
      "2023-07-06 18:48:55,919 - BERTopic - Clustered reduced embeddings\n",
      "100%|██████████| 1/1 [00:00<00:00, 500.27it/s]\n",
      "100%|██████████| 5/5 [00:00<00:00, 142.85it/s]\n",
      "2023-07-06 18:48:56,118 - BERTopic - Transformed documents to Embeddings\n",
      "f:\\Coding\\.venv\\lib\\site-packages\\scipy\\sparse\\linalg\\_eigen\\arpack\\arpack.py:1592: RuntimeWarning: k >= N for N * N square matrix. Attempting to use scipy.linalg.eigh instead.\n",
      "  warnings.warn(\"k >= N for N * N square matrix. \"\n",
      "2023-07-06 18:48:56,124 - BERTopic - The dimensionality reduction algorithm did not contain the `y` parameter and therefore the `y` parameter was not used\n",
      "f:\\Coding\\.venv\\lib\\site-packages\\scipy\\sparse\\linalg\\_eigen\\arpack\\arpack.py:1592: RuntimeWarning: k >= N for N * N square matrix. Attempting to use scipy.linalg.eigh instead.\n",
      "  warnings.warn(\"k >= N for N * N square matrix. \"\n"
     ]
    },
    {
     "name": "stdout",
     "output_type": "stream",
     "text": [
      "Can't reduce dimensionality or some other problem\n"
     ]
    },
    {
     "name": "stderr",
     "output_type": "stream",
     "text": [
      "100%|██████████| 7/7 [00:00<00:00, 132.08it/s]\n",
      "2023-07-06 18:48:56,198 - BERTopic - Transformed documents to Embeddings\n",
      "2023-07-06 18:48:56,975 - BERTopic - Reduced dimensionality\n",
      "2023-07-06 18:48:56,979 - BERTopic - Clustered reduced embeddings\n",
      "0it [00:00, ?it/s]\n"
     ]
    },
    {
     "name": "stdout",
     "output_type": "stream",
     "text": [
      "Can't distribute all messages in topics\n"
     ]
    },
    {
     "name": "stderr",
     "output_type": "stream",
     "text": [
      "100%|██████████| 9/9 [00:00<00:00, 132.35it/s]\n",
      "2023-07-06 18:48:57,120 - BERTopic - Transformed documents to Embeddings\n",
      "2023-07-06 18:48:58,108 - BERTopic - Reduced dimensionality\n",
      "2023-07-06 18:48:58,112 - BERTopic - Clustered reduced embeddings\n",
      "0it [00:00, ?it/s]\n"
     ]
    },
    {
     "name": "stdout",
     "output_type": "stream",
     "text": [
      "Can't distribute all messages in topics\n"
     ]
    },
    {
     "name": "stderr",
     "output_type": "stream",
     "text": [
      "100%|██████████| 6/6 [00:00<00:00, 100.00it/s]\n",
      "2023-07-06 18:48:58,225 - BERTopic - Transformed documents to Embeddings\n",
      "f:\\Coding\\.venv\\lib\\site-packages\\scipy\\sparse\\linalg\\_eigen\\arpack\\arpack.py:1592: RuntimeWarning: k >= N for N * N square matrix. Attempting to use scipy.linalg.eigh instead.\n",
      "  warnings.warn(\"k >= N for N * N square matrix. \"\n",
      "2023-07-06 18:48:58,230 - BERTopic - The dimensionality reduction algorithm did not contain the `y` parameter and therefore the `y` parameter was not used\n",
      "f:\\Coding\\.venv\\lib\\site-packages\\scipy\\sparse\\linalg\\_eigen\\arpack\\arpack.py:1592: RuntimeWarning: k >= N for N * N square matrix. Attempting to use scipy.linalg.eigh instead.\n",
      "  warnings.warn(\"k >= N for N * N square matrix. \"\n"
     ]
    },
    {
     "name": "stdout",
     "output_type": "stream",
     "text": [
      "Can't reduce dimensionality or some other problem\n"
     ]
    },
    {
     "name": "stderr",
     "output_type": "stream",
     "text": [
      "100%|██████████| 10/10 [00:00<00:00, 95.24it/s]\n",
      "2023-07-06 18:48:58,360 - BERTopic - Transformed documents to Embeddings\n",
      "2023-07-06 18:48:59,138 - BERTopic - Reduced dimensionality\n",
      "2023-07-06 18:48:59,142 - BERTopic - Clustered reduced embeddings\n",
      "0it [00:00, ?it/s]\n"
     ]
    },
    {
     "name": "stdout",
     "output_type": "stream",
     "text": [
      "Can't distribute all messages in topics\n"
     ]
    },
    {
     "name": "stderr",
     "output_type": "stream",
     "text": [
      "100%|██████████| 7/7 [00:00<00:00, 102.94it/s]\n",
      "2023-07-06 18:48:59,318 - BERTopic - Transformed documents to Embeddings\n",
      "2023-07-06 18:49:00,068 - BERTopic - Reduced dimensionality\n",
      "2023-07-06 18:49:00,071 - BERTopic - Clustered reduced embeddings\n",
      "  0%|          | 0/1 [00:00<?, ?it/s]\n"
     ]
    },
    {
     "name": "stdout",
     "output_type": "stream",
     "text": [
      "Can't distribute all messages in topics\n"
     ]
    },
    {
     "name": "stderr",
     "output_type": "stream",
     "text": [
      "100%|██████████| 7/7 [00:00<00:00, 61.95it/s]\n",
      "2023-07-06 18:49:00,375 - BERTopic - Transformed documents to Embeddings\n",
      "2023-07-06 18:49:01,149 - BERTopic - Reduced dimensionality\n",
      "2023-07-06 18:49:01,152 - BERTopic - Clustered reduced embeddings\n",
      "0it [00:00, ?it/s]\n"
     ]
    },
    {
     "name": "stdout",
     "output_type": "stream",
     "text": [
      "Can't distribute all messages in topics\n"
     ]
    },
    {
     "name": "stderr",
     "output_type": "stream",
     "text": [
      "100%|██████████| 301/301 [00:02<00:00, 146.47it/s]\n",
      "2023-07-06 18:49:03,310 - BERTopic - Transformed documents to Embeddings\n",
      "2023-07-06 18:49:04,621 - BERTopic - Reduced dimensionality\n",
      "2023-07-06 18:49:04,677 - BERTopic - Clustered reduced embeddings\n",
      "100%|██████████| 1/1 [00:00<00:00, 76.93it/s]\n",
      "100%|██████████| 9/9 [00:00<00:00, 107.14it/s]\n",
      "2023-07-06 18:49:07,614 - BERTopic - Transformed documents to Embeddings\n",
      "2023-07-06 18:49:08,686 - BERTopic - Reduced dimensionality\n",
      "2023-07-06 18:49:08,690 - BERTopic - Clustered reduced embeddings\n",
      "  0%|          | 0/1 [00:00<?, ?it/s]\n"
     ]
    },
    {
     "name": "stdout",
     "output_type": "stream",
     "text": [
      "Can't distribute all messages in topics\n",
      "events detected\n",
      "connections generated\n",
      "1095 outlier clusters of 1113 total clusters. Filtering...\n",
      "outliers filtered\n",
      "done!\n"
     ]
    }
   ],
   "source": [
    "import sys\n",
    "sys.path.append('F:\\Coding\\SOIKA')\n",
    "import torch\n",
    "import pandas as pd\n",
    "from factfinder import EventDetection\n",
    "\n",
    "model = EventDetection()\n",
    "messages, events, connections = model.run('Санкт-Петербург', 32636, min_event_size=3)"
   ]
  },
  {
   "cell_type": "code",
   "execution_count": 2,
   "metadata": {},
   "outputs": [
    {
     "data": {
      "text/html": [
       "<div>\n",
       "<style scoped>\n",
       "    .dataframe tbody tr th:only-of-type {\n",
       "        vertical-align: middle;\n",
       "    }\n",
       "\n",
       "    .dataframe tbody tr th {\n",
       "        vertical-align: top;\n",
       "    }\n",
       "\n",
       "    .dataframe thead th {\n",
       "        text-align: right;\n",
       "    }\n",
       "</style>\n",
       "<table border=\"1\" class=\"dataframe\">\n",
       "  <thead>\n",
       "    <tr style=\"text-align: right;\">\n",
       "      <th></th>\n",
       "      <th>name</th>\n",
       "      <th>docs</th>\n",
       "      <th>level</th>\n",
       "      <th>id</th>\n",
       "      <th>population</th>\n",
       "      <th>importance</th>\n",
       "      <th>risk</th>\n",
       "      <th>message_ids</th>\n",
       "      <th>geometry</th>\n",
       "    </tr>\n",
       "  </thead>\n",
       "  <tbody>\n",
       "    <tr>\n",
       "      <th>1</th>\n",
       "      <td>0_на мытнинской_да_мытнинской_галина</td>\n",
       "      <td>8688, 14766, 14766</td>\n",
       "      <td>global</td>\n",
       "      <td>0_global_0</td>\n",
       "      <td>1.000000</td>\n",
       "      <td>0.366667</td>\n",
       "      <td>0.213522</td>\n",
       "      <td>1246, 6317, 6918, 6918, 7461, 7935, 8688, 8688...</td>\n",
       "      <td>POINT (30.36692 59.92277)</td>\n",
       "    </tr>\n",
       "    <tr>\n",
       "      <th>2</th>\n",
       "      <td>1_коляской_безобразие_обратите_снегопада</td>\n",
       "      <td>8639, 8639, 8639</td>\n",
       "      <td>global</td>\n",
       "      <td>1_global_0</td>\n",
       "      <td>1.000000</td>\n",
       "      <td>0.442857</td>\n",
       "      <td>0.142772</td>\n",
       "      <td>657, 657, 5376, 5376, 5817, 6460, 7180, 8639, ...</td>\n",
       "      <td>POINT (30.35507 59.93397)</td>\n",
       "    </tr>\n",
       "    <tr>\n",
       "      <th>3</th>\n",
       "      <td>2_или_управляющей_нет проход_безопасен</td>\n",
       "      <td>13315, 13315, 13315</td>\n",
       "      <td>global</td>\n",
       "      <td>2_global_0</td>\n",
       "      <td>1.000000</td>\n",
       "      <td>0.289474</td>\n",
       "      <td>0.091564</td>\n",
       "      <td>2324, 3300, 10236, 13165, 13315, 13315, 13315,...</td>\n",
       "      <td>POINT (30.37127 59.94370)</td>\n",
       "    </tr>\n",
       "    <tr>\n",
       "      <th>4</th>\n",
       "      <td>3_пресекается_проезд_глаза_забор</td>\n",
       "      <td>1585, 14772, 14772</td>\n",
       "      <td>global</td>\n",
       "      <td>3_global_0</td>\n",
       "      <td>1.000000</td>\n",
       "      <td>0.264706</td>\n",
       "      <td>0.078120</td>\n",
       "      <td>1585, 1585, 2176, 2176, 7406, 10649, 11124, 12...</td>\n",
       "      <td>POINT (30.35507 59.93397)</td>\n",
       "    </tr>\n",
       "    <tr>\n",
       "      <th>5</th>\n",
       "      <td>4_новгородской_тех кто_от калитки_калитки</td>\n",
       "      <td>17582, 17582, 17582</td>\n",
       "      <td>global</td>\n",
       "      <td>4_global_0</td>\n",
       "      <td>1.000000</td>\n",
       "      <td>0.317647</td>\n",
       "      <td>0.091971</td>\n",
       "      <td>481, 898, 898, 6615, 6629, 7562, 8410, 8410, 8...</td>\n",
       "      <td>POINT (30.35507 59.93397)</td>\n",
       "    </tr>\n",
       "    <tr>\n",
       "      <th>...</th>\n",
       "      <td>...</td>\n",
       "      <td>...</td>\n",
       "      <td>...</td>\n",
       "      <td>...</td>\n",
       "      <td>...</td>\n",
       "      <td>...</td>\n",
       "      <td>...</td>\n",
       "      <td>...</td>\n",
       "      <td>...</td>\n",
       "    </tr>\n",
       "    <tr>\n",
       "      <th>48</th>\n",
       "      <td>47_что_по_то есть_суд</td>\n",
       "      <td>18570, 6193, 7520</td>\n",
       "      <td>building</td>\n",
       "      <td>47_building_3084.0</td>\n",
       "      <td>0.186848</td>\n",
       "      <td>0.366667</td>\n",
       "      <td>0.005955</td>\n",
       "      <td>6831, 6193, 5138, 18570, 16463, 7520</td>\n",
       "      <td>POINT (30.35507 59.93397)</td>\n",
       "    </tr>\n",
       "    <tr>\n",
       "      <th>49</th>\n",
       "      <td>48_всё_когда_сразу_снег</td>\n",
       "      <td>6059, 8536, 3818</td>\n",
       "      <td>building</td>\n",
       "      <td>48_building_3084.0</td>\n",
       "      <td>0.186848</td>\n",
       "      <td>0.300000</td>\n",
       "      <td>0.000826</td>\n",
       "      <td>8536, 3818, 10334, 6059</td>\n",
       "      <td>POINT (30.35507 59.93397)</td>\n",
       "    </tr>\n",
       "    <tr>\n",
       "      <th>50</th>\n",
       "      <td>49_пол_возможно_центр 38 пол_пол ку просто</td>\n",
       "      <td>15733, 17409, 8828</td>\n",
       "      <td>building</td>\n",
       "      <td>49_building_3084.0</td>\n",
       "      <td>0.186848</td>\n",
       "      <td>0.525000</td>\n",
       "      <td>0.003614</td>\n",
       "      <td>17409, 15733, 8828, 12246</td>\n",
       "      <td>POINT (30.35507 59.93397)</td>\n",
       "    </tr>\n",
       "    <tr>\n",
       "      <th>51</th>\n",
       "      <td>50_теперь_бабок_то пенсионерок не_экономический</td>\n",
       "      <td>4290, 4185, 343</td>\n",
       "      <td>building</td>\n",
       "      <td>50_building_3084.0</td>\n",
       "      <td>0.186848</td>\n",
       "      <td>0.366667</td>\n",
       "      <td>0.000406</td>\n",
       "      <td>4185, 343, 4290</td>\n",
       "      <td>POINT (30.35507 59.93397)</td>\n",
       "    </tr>\n",
       "    <tr>\n",
       "      <th>52</th>\n",
       "      <td>51_молодцы_сегодня_минус_на этом</td>\n",
       "      <td>10574, 14601, 9704</td>\n",
       "      <td>building</td>\n",
       "      <td>51_building_3084.0</td>\n",
       "      <td>0.186848</td>\n",
       "      <td>0.360000</td>\n",
       "      <td>0.003219</td>\n",
       "      <td>19190, 4131, 10574, 9704, 14601</td>\n",
       "      <td>POINT (30.35507 59.93397)</td>\n",
       "    </tr>\n",
       "  </tbody>\n",
       "</table>\n",
       "<p>1095 rows × 9 columns</p>\n",
       "</div>"
      ],
      "text/plain": [
       "                                               name                 docs   \n",
       "1              0_на мытнинской_да_мытнинской_галина   8688, 14766, 14766  \\\n",
       "2          1_коляской_безобразие_обратите_снегопада     8639, 8639, 8639   \n",
       "3            2_или_управляющей_нет проход_безопасен  13315, 13315, 13315   \n",
       "4                  3_пресекается_проезд_глаза_забор   1585, 14772, 14772   \n",
       "5         4_новгородской_тех кто_от калитки_калитки  17582, 17582, 17582   \n",
       "..                                              ...                  ...   \n",
       "48                            47_что_по_то есть_суд    18570, 6193, 7520   \n",
       "49                          48_всё_когда_сразу_снег     6059, 8536, 3818   \n",
       "50       49_пол_возможно_центр 38 пол_пол ку просто   15733, 17409, 8828   \n",
       "51  50_теперь_бабок_то пенсионерок не_экономический      4290, 4185, 343   \n",
       "52                 51_молодцы_сегодня_минус_на этом   10574, 14601, 9704   \n",
       "\n",
       "       level                  id  population  importance      risk   \n",
       "1     global          0_global_0    1.000000    0.366667  0.213522  \\\n",
       "2     global          1_global_0    1.000000    0.442857  0.142772   \n",
       "3     global          2_global_0    1.000000    0.289474  0.091564   \n",
       "4     global          3_global_0    1.000000    0.264706  0.078120   \n",
       "5     global          4_global_0    1.000000    0.317647  0.091971   \n",
       "..       ...                 ...         ...         ...       ...   \n",
       "48  building  47_building_3084.0    0.186848    0.366667  0.005955   \n",
       "49  building  48_building_3084.0    0.186848    0.300000  0.000826   \n",
       "50  building  49_building_3084.0    0.186848    0.525000  0.003614   \n",
       "51  building  50_building_3084.0    0.186848    0.366667  0.000406   \n",
       "52  building  51_building_3084.0    0.186848    0.360000  0.003219   \n",
       "\n",
       "                                          message_ids   \n",
       "1   1246, 6317, 6918, 6918, 7461, 7935, 8688, 8688...  \\\n",
       "2   657, 657, 5376, 5376, 5817, 6460, 7180, 8639, ...   \n",
       "3   2324, 3300, 10236, 13165, 13315, 13315, 13315,...   \n",
       "4   1585, 1585, 2176, 2176, 7406, 10649, 11124, 12...   \n",
       "5   481, 898, 898, 6615, 6629, 7562, 8410, 8410, 8...   \n",
       "..                                                ...   \n",
       "48               6831, 6193, 5138, 18570, 16463, 7520   \n",
       "49                            8536, 3818, 10334, 6059   \n",
       "50                          17409, 15733, 8828, 12246   \n",
       "51                                    4185, 343, 4290   \n",
       "52                    19190, 4131, 10574, 9704, 14601   \n",
       "\n",
       "                     geometry  \n",
       "1   POINT (30.36692 59.92277)  \n",
       "2   POINT (30.35507 59.93397)  \n",
       "3   POINT (30.37127 59.94370)  \n",
       "4   POINT (30.35507 59.93397)  \n",
       "5   POINT (30.35507 59.93397)  \n",
       "..                        ...  \n",
       "48  POINT (30.35507 59.93397)  \n",
       "49  POINT (30.35507 59.93397)  \n",
       "50  POINT (30.35507 59.93397)  \n",
       "51  POINT (30.35507 59.93397)  \n",
       "52  POINT (30.35507 59.93397)  \n",
       "\n",
       "[1095 rows x 9 columns]"
      ]
     },
     "execution_count": 2,
     "metadata": {},
     "output_type": "execute_result"
    }
   ],
   "source": [
    "events"
   ]
  },
  {
   "cell_type": "code",
   "execution_count": 4,
   "metadata": {},
   "outputs": [
    {
     "data": {
      "text/html": [
       "<div>\n",
       "<style scoped>\n",
       "    .dataframe tbody tr th:only-of-type {\n",
       "        vertical-align: middle;\n",
       "    }\n",
       "\n",
       "    .dataframe tbody tr th {\n",
       "        vertical-align: top;\n",
       "    }\n",
       "\n",
       "    .dataframe thead th {\n",
       "        text-align: right;\n",
       "    }\n",
       "</style>\n",
       "<table border=\"1\" class=\"dataframe\">\n",
       "  <thead>\n",
       "    <tr style=\"text-align: right;\">\n",
       "      <th></th>\n",
       "      <th>weight</th>\n",
       "      <th>a</th>\n",
       "      <th>b</th>\n",
       "      <th>geometry</th>\n",
       "    </tr>\n",
       "  </thead>\n",
       "  <tbody>\n",
       "    <tr>\n",
       "      <th>1112</th>\n",
       "      <td>12</td>\n",
       "      <td>0_global_0</td>\n",
       "      <td>1_global_0</td>\n",
       "      <td>LINESTRING (30.367 59.923, 30.355 59.934)</td>\n",
       "    </tr>\n",
       "    <tr>\n",
       "      <th>1113</th>\n",
       "      <td>12</td>\n",
       "      <td>0_global_0</td>\n",
       "      <td>2_global_0</td>\n",
       "      <td>LINESTRING (30.367 59.923, 30.371 59.944)</td>\n",
       "    </tr>\n",
       "    <tr>\n",
       "      <th>1114</th>\n",
       "      <td>12</td>\n",
       "      <td>0_global_0</td>\n",
       "      <td>3_global_0</td>\n",
       "      <td>LINESTRING (30.367 59.923, 30.355 59.934)</td>\n",
       "    </tr>\n",
       "    <tr>\n",
       "      <th>1115</th>\n",
       "      <td>12</td>\n",
       "      <td>0_global_0</td>\n",
       "      <td>4_global_0</td>\n",
       "      <td>LINESTRING (30.367 59.923, 30.355 59.934)</td>\n",
       "    </tr>\n",
       "    <tr>\n",
       "      <th>1116</th>\n",
       "      <td>11</td>\n",
       "      <td>0_global_0</td>\n",
       "      <td>5_global_0</td>\n",
       "      <td>LINESTRING (30.367 59.923, 30.349 59.932)</td>\n",
       "    </tr>\n",
       "    <tr>\n",
       "      <th>...</th>\n",
       "      <td>...</td>\n",
       "      <td>...</td>\n",
       "      <td>...</td>\n",
       "      <td>...</td>\n",
       "    </tr>\n",
       "    <tr>\n",
       "      <th>618819</th>\n",
       "      <td>9</td>\n",
       "      <td>48_building_3084.0</td>\n",
       "      <td>50_building_3084.0</td>\n",
       "      <td>LINESTRING (30.355 59.934, 30.355 59.934)</td>\n",
       "    </tr>\n",
       "    <tr>\n",
       "      <th>618820</th>\n",
       "      <td>9</td>\n",
       "      <td>48_building_3084.0</td>\n",
       "      <td>51_building_3084.0</td>\n",
       "      <td>LINESTRING (30.355 59.934, 30.355 59.934)</td>\n",
       "    </tr>\n",
       "    <tr>\n",
       "      <th>618822</th>\n",
       "      <td>10</td>\n",
       "      <td>49_building_3084.0</td>\n",
       "      <td>50_building_3084.0</td>\n",
       "      <td>LINESTRING (30.355 59.934, 30.355 59.934)</td>\n",
       "    </tr>\n",
       "    <tr>\n",
       "      <th>618823</th>\n",
       "      <td>10</td>\n",
       "      <td>49_building_3084.0</td>\n",
       "      <td>51_building_3084.0</td>\n",
       "      <td>LINESTRING (30.355 59.934, 30.355 59.934)</td>\n",
       "    </tr>\n",
       "    <tr>\n",
       "      <th>618825</th>\n",
       "      <td>8</td>\n",
       "      <td>50_building_3084.0</td>\n",
       "      <td>51_building_3084.0</td>\n",
       "      <td>LINESTRING (30.355 59.934, 30.355 59.934)</td>\n",
       "    </tr>\n",
       "  </tbody>\n",
       "</table>\n",
       "<p>598965 rows × 4 columns</p>\n",
       "</div>"
      ],
      "text/plain": [
       "        weight                   a                   b   \n",
       "1112        12          0_global_0          1_global_0  \\\n",
       "1113        12          0_global_0          2_global_0   \n",
       "1114        12          0_global_0          3_global_0   \n",
       "1115        12          0_global_0          4_global_0   \n",
       "1116        11          0_global_0          5_global_0   \n",
       "...        ...                 ...                 ...   \n",
       "618819       9  48_building_3084.0  50_building_3084.0   \n",
       "618820       9  48_building_3084.0  51_building_3084.0   \n",
       "618822      10  49_building_3084.0  50_building_3084.0   \n",
       "618823      10  49_building_3084.0  51_building_3084.0   \n",
       "618825       8  50_building_3084.0  51_building_3084.0   \n",
       "\n",
       "                                         geometry  \n",
       "1112    LINESTRING (30.367 59.923, 30.355 59.934)  \n",
       "1113    LINESTRING (30.367 59.923, 30.371 59.944)  \n",
       "1114    LINESTRING (30.367 59.923, 30.355 59.934)  \n",
       "1115    LINESTRING (30.367 59.923, 30.355 59.934)  \n",
       "1116    LINESTRING (30.367 59.923, 30.349 59.932)  \n",
       "...                                           ...  \n",
       "618819  LINESTRING (30.355 59.934, 30.355 59.934)  \n",
       "618820  LINESTRING (30.355 59.934, 30.355 59.934)  \n",
       "618822  LINESTRING (30.355 59.934, 30.355 59.934)  \n",
       "618823  LINESTRING (30.355 59.934, 30.355 59.934)  \n",
       "618825  LINESTRING (30.355 59.934, 30.355 59.934)  \n",
       "\n",
       "[598965 rows x 4 columns]"
      ]
     },
     "execution_count": 4,
     "metadata": {},
     "output_type": "execute_result"
    }
   ],
   "source": [
    "connections"
   ]
  },
  {
   "cell_type": "code",
   "execution_count": 5,
   "metadata": {},
   "outputs": [
    {
     "data": {
      "text/html": [
       "<div>\n",
       "<style scoped>\n",
       "    .dataframe tbody tr th:only-of-type {\n",
       "        vertical-align: middle;\n",
       "    }\n",
       "\n",
       "    .dataframe tbody tr th {\n",
       "        vertical-align: top;\n",
       "    }\n",
       "\n",
       "    .dataframe thead th {\n",
       "        text-align: right;\n",
       "    }\n",
       "</style>\n",
       "<table border=\"1\" class=\"dataframe\">\n",
       "  <thead>\n",
       "    <tr style=\"text-align: right;\">\n",
       "      <th></th>\n",
       "      <th>message_id</th>\n",
       "      <th>text</th>\n",
       "      <th>geometry</th>\n",
       "      <th>date_time</th>\n",
       "      <th>block</th>\n",
       "    </tr>\n",
       "  </thead>\n",
       "  <tbody>\n",
       "    <tr>\n",
       "      <th>0</th>\n",
       "      <td>69</td>\n",
       "      <td>Здравствуйте! В Санкт-Петербурге нет Генеральн...</td>\n",
       "      <td>POINT (30.30768 59.93180)</td>\n",
       "      <td>2023.01.26 16:32</td>\n",
       "      <td>Другое</td>\n",
       "    </tr>\n",
       "    <tr>\n",
       "      <th>1</th>\n",
       "      <td>69</td>\n",
       "      <td>Здравствуйте! В Санкт-Петербурге нет Генеральн...</td>\n",
       "      <td>POINT (30.30768 59.93180)</td>\n",
       "      <td>2023.01.26 16:32</td>\n",
       "      <td>Другое</td>\n",
       "    </tr>\n",
       "    <tr>\n",
       "      <th>2</th>\n",
       "      <td>73</td>\n",
       "      <td>[club143265175|Центральный район Санкт-Петербу...</td>\n",
       "      <td>POINT (30.34628 59.93237)</td>\n",
       "      <td>2023.01.26 11:55</td>\n",
       "      <td>Другое</td>\n",
       "    </tr>\n",
       "    <tr>\n",
       "      <th>3</th>\n",
       "      <td>78</td>\n",
       "      <td>1) Фурштатская, 19 Отслоение штукатурного слоя...</td>\n",
       "      <td>POINT (30.35808 59.94512)</td>\n",
       "      <td>2023.01.28 12:39</td>\n",
       "      <td>Благоустройство</td>\n",
       "    </tr>\n",
       "    <tr>\n",
       "      <th>4</th>\n",
       "      <td>79</td>\n",
       "      <td>2) Фурштатская, 17 Здесь прямо-таки умоляю обр...</td>\n",
       "      <td>POINT (30.35808 59.94512)</td>\n",
       "      <td>2023.01.28 12:42</td>\n",
       "      <td>ЖКХ</td>\n",
       "    </tr>\n",
       "    <tr>\n",
       "      <th>...</th>\n",
       "      <td>...</td>\n",
       "      <td>...</td>\n",
       "      <td>...</td>\n",
       "      <td>...</td>\n",
       "      <td>...</td>\n",
       "    </tr>\n",
       "    <tr>\n",
       "      <th>2599</th>\n",
       "      <td>184</td>\n",
       "      <td>Рейды производите совместно с 28 отделом полиц...</td>\n",
       "      <td>POINT (30.35507 59.93397)</td>\n",
       "      <td>2023.01.11 20:09</td>\n",
       "      <td>Дороги</td>\n",
       "    </tr>\n",
       "    <tr>\n",
       "      <th>2600</th>\n",
       "      <td>1980</td>\n",
       "      <td>Граждане с удовольствием сообщают о незаконной...</td>\n",
       "      <td>POINT (30.35507 59.93397)</td>\n",
       "      <td>2022.10.14 18:02</td>\n",
       "      <td>Другое</td>\n",
       "    </tr>\n",
       "    <tr>\n",
       "      <th>2601</th>\n",
       "      <td>16630</td>\n",
       "      <td>То что с памятником сделали -это конечно не дело.</td>\n",
       "      <td>POINT (30.35507 59.93397)</td>\n",
       "      <td>2019.09.19 21:02</td>\n",
       "      <td>Безопасность</td>\n",
       "    </tr>\n",
       "    <tr>\n",
       "      <th>2602</th>\n",
       "      <td>1238</td>\n",
       "      <td>Где дворники ?! Как обычно в грязи утопает куз...</td>\n",
       "      <td>POINT (30.35507 59.93397)</td>\n",
       "      <td>2022.12.07 10:01</td>\n",
       "      <td>Здравоохранение</td>\n",
       "    </tr>\n",
       "    <tr>\n",
       "      <th>2603</th>\n",
       "      <td>9685</td>\n",
       "      <td>[id1339825|Елена], и парковке там не место! И ...</td>\n",
       "      <td>POINT (30.35507 59.93397)</td>\n",
       "      <td>2021.10.13 23:05</td>\n",
       "      <td>Безопасность</td>\n",
       "    </tr>\n",
       "  </tbody>\n",
       "</table>\n",
       "<p>2604 rows × 5 columns</p>\n",
       "</div>"
      ],
      "text/plain": [
       "      message_id                                               text   \n",
       "0             69  Здравствуйте! В Санкт-Петербурге нет Генеральн...  \\\n",
       "1             69  Здравствуйте! В Санкт-Петербурге нет Генеральн...   \n",
       "2             73  [club143265175|Центральный район Санкт-Петербу...   \n",
       "3             78  1) Фурштатская, 19 Отслоение штукатурного слоя...   \n",
       "4             79  2) Фурштатская, 17 Здесь прямо-таки умоляю обр...   \n",
       "...          ...                                                ...   \n",
       "2599         184  Рейды производите совместно с 28 отделом полиц...   \n",
       "2600        1980  Граждане с удовольствием сообщают о незаконной...   \n",
       "2601       16630  То что с памятником сделали -это конечно не дело.   \n",
       "2602        1238  Где дворники ?! Как обычно в грязи утопает куз...   \n",
       "2603        9685  [id1339825|Елена], и парковке там не место! И ...   \n",
       "\n",
       "                       geometry         date_time            block  \n",
       "0     POINT (30.30768 59.93180)  2023.01.26 16:32           Другое  \n",
       "1     POINT (30.30768 59.93180)  2023.01.26 16:32           Другое  \n",
       "2     POINT (30.34628 59.93237)  2023.01.26 11:55           Другое  \n",
       "3     POINT (30.35808 59.94512)  2023.01.28 12:39  Благоустройство  \n",
       "4     POINT (30.35808 59.94512)  2023.01.28 12:42              ЖКХ  \n",
       "...                         ...               ...              ...  \n",
       "2599  POINT (30.35507 59.93397)  2023.01.11 20:09           Дороги  \n",
       "2600  POINT (30.35507 59.93397)  2022.10.14 18:02           Другое  \n",
       "2601  POINT (30.35507 59.93397)  2019.09.19 21:02     Безопасность  \n",
       "2602  POINT (30.35507 59.93397)  2022.12.07 10:01  Здравоохранение  \n",
       "2603  POINT (30.35507 59.93397)  2021.10.13 23:05     Безопасность  \n",
       "\n",
       "[2604 rows x 5 columns]"
      ]
     },
     "execution_count": 5,
     "metadata": {},
     "output_type": "execute_result"
    }
   ],
   "source": [
    "messages"
   ]
  }
 ],
 "metadata": {
  "kernelspec": {
   "display_name": ".venv",
   "language": "python",
   "name": "python3"
  },
  "language_info": {
   "codemirror_mode": {
    "name": "ipython",
    "version": 3
   },
   "file_extension": ".py",
   "mimetype": "text/x-python",
   "name": "python",
   "nbconvert_exporter": "python",
   "pygments_lexer": "ipython3",
   "version": "3.9.4"
  },
  "orig_nbformat": 4
 },
 "nbformat": 4,
 "nbformat_minor": 2
}
