{
 "cells": [
  {
   "cell_type": "code",
   "execution_count": 176,
   "metadata": {},
   "outputs": [],
   "source": [
    "import spacy\n",
    "nlp = spacy.load(\"ru_core_news_lg\")"
   ]
  },
  {
   "cell_type": "code",
   "execution_count": 177,
   "metadata": {},
   "outputs": [
    {
     "data": {
      "text/html": [
       "<div>\n",
       "<style scoped>\n",
       "    .dataframe tbody tr th:only-of-type {\n",
       "        vertical-align: middle;\n",
       "    }\n",
       "\n",
       "    .dataframe tbody tr th {\n",
       "        vertical-align: top;\n",
       "    }\n",
       "\n",
       "    .dataframe thead th {\n",
       "        text-align: right;\n",
       "    }\n",
       "</style>\n",
       "<table border=\"1\" class=\"dataframe\">\n",
       "  <thead>\n",
       "    <tr style=\"text-align: right;\">\n",
       "      <th></th>\n",
       "      <th>Дата создания</th>\n",
       "      <th>Текст</th>\n",
       "      <th>Блок</th>\n",
       "      <th>Объект</th>\n",
       "      <th>Тема сообщения</th>\n",
       "      <th>Параметр сообщения</th>\n",
       "      <th>Аспект сообщения</th>\n",
       "      <th>Локация (район)</th>\n",
       "      <th>Населенный пункт (город или поселок, не СПб, например, Пушкин, Колпино, Парголово)</th>\n",
       "      <th>Название улицы (проспекта, переулка)</th>\n",
       "      <th>Тип улицы</th>\n",
       "      <th>Номер дома (без пробелов, вид: 12 или 1к4 или 8стр1 или 11/2 или 23литБ)</th>\n",
       "      <th>Адрес объекта - Не править!</th>\n",
       "      <th>Объект в сообщении</th>\n",
       "      <th>ИОГВ</th>\n",
       "      <th>Улицы объекта - Не править!</th>\n",
       "    </tr>\n",
       "  </thead>\n",
       "  <tbody>\n",
       "    <tr>\n",
       "      <th>0</th>\n",
       "      <td>23/2/22</td>\n",
       "      <td>Судя по состоянию дворов Центрального района в...</td>\n",
       "      <td>Дороги</td>\n",
       "      <td>Уборка/Содержание</td>\n",
       "      <td>Двор: отсутствует уборка</td>\n",
       "      <td>Дворы</td>\n",
       "      <td>Отсутствие уборки</td>\n",
       "      <td>Центральный район</td>\n",
       "      <td>NaN</td>\n",
       "      <td>NaN</td>\n",
       "      <td>NaN</td>\n",
       "      <td>NaN</td>\n",
       "      <td>NaN</td>\n",
       "      <td>NaN</td>\n",
       "      <td>NaN</td>\n",
       "      <td>NaN</td>\n",
       "    </tr>\n",
       "    <tr>\n",
       "      <th>1</th>\n",
       "      <td>23/2/22</td>\n",
       "      <td>А вот во дворе нашего дома не убирали снег ни ...</td>\n",
       "      <td>Дороги</td>\n",
       "      <td>Уборка/Содержание</td>\n",
       "      <td>Двор: отсутствует уборка</td>\n",
       "      <td>Дворы</td>\n",
       "      <td>Отсутствие уборки</td>\n",
       "      <td>Выборгский район</td>\n",
       "      <td>NaN</td>\n",
       "      <td>Энгельса</td>\n",
       "      <td>пр-т</td>\n",
       "      <td>126к3</td>\n",
       "      <td>Энгельса пр-т 126к3</td>\n",
       "      <td>NaN</td>\n",
       "      <td>NaN</td>\n",
       "      <td>Энгельса пр-т</td>\n",
       "    </tr>\n",
       "  </tbody>\n",
       "</table>\n",
       "</div>"
      ],
      "text/plain": [
       "  Дата создания                                              Текст    Блок  \\\n",
       "0       23/2/22  Судя по состоянию дворов Центрального района в...  Дороги   \n",
       "1       23/2/22  А вот во дворе нашего дома не убирали снег ни ...  Дороги   \n",
       "\n",
       "              Объект            Тема сообщения Параметр сообщения  \\\n",
       "0  Уборка/Содержание  Двор: отсутствует уборка              Дворы   \n",
       "1  Уборка/Содержание  Двор: отсутствует уборка              Дворы   \n",
       "\n",
       "    Аспект сообщения    Локация (район)  \\\n",
       "0  Отсутствие уборки  Центральный район   \n",
       "1  Отсутствие уборки   Выборгский район   \n",
       "\n",
       "  Населенный пункт (город или поселок, не СПб, например, Пушкин, Колпино, Парголово)  \\\n",
       "0                                                NaN                                   \n",
       "1                                                NaN                                   \n",
       "\n",
       "  Название улицы (проспекта, переулка) Тип улицы  \\\n",
       "0                                  NaN       NaN   \n",
       "1                             Энгельса      пр-т   \n",
       "\n",
       "  Номер дома (без пробелов, вид: 12 или 1к4 или 8стр1 или 11/2 или 23литБ)  \\\n",
       "0                                                NaN                         \n",
       "1                                              126к3                         \n",
       "\n",
       "  Адрес объекта - Не править! Объект в сообщении ИОГВ  \\\n",
       "0                         NaN                NaN  NaN   \n",
       "1         Энгельса пр-т 126к3                NaN  NaN   \n",
       "\n",
       "  Улицы объекта - Не править!  \n",
       "0                         NaN  \n",
       "1               Энгельса пр-т  "
      ]
     },
     "execution_count": 177,
     "metadata": {},
     "output_type": "execute_result"
    }
   ],
   "source": [
    "import pandas as pd\n",
    "\n",
    "df = pd.read_csv('Reports.csv')\n",
    "df.head(2)"
   ]
  },
  {
   "cell_type": "code",
   "execution_count": 178,
   "metadata": {},
   "outputs": [
    {
     "data": {
      "text/html": [
       "<div>\n",
       "<style scoped>\n",
       "    .dataframe tbody tr th:only-of-type {\n",
       "        vertical-align: middle;\n",
       "    }\n",
       "\n",
       "    .dataframe tbody tr th {\n",
       "        vertical-align: top;\n",
       "    }\n",
       "\n",
       "    .dataframe thead th {\n",
       "        text-align: right;\n",
       "    }\n",
       "</style>\n",
       "<table border=\"1\" class=\"dataframe\">\n",
       "  <thead>\n",
       "    <tr style=\"text-align: right;\">\n",
       "      <th></th>\n",
       "      <th>Текст</th>\n",
       "      <th>Населенный пункт (город или поселок, не СПб, например, Пушкин, Колпино, Парголово)</th>\n",
       "      <th>Название улицы (проспекта, переулка)</th>\n",
       "      <th>Тип улицы</th>\n",
       "      <th>Номер дома (без пробелов, вид: 12 или 1к4 или 8стр1 или 11/2 или 23литБ)</th>\n",
       "      <th>Адрес объекта - Не править!</th>\n",
       "    </tr>\n",
       "  </thead>\n",
       "  <tbody>\n",
       "    <tr>\n",
       "      <th>0</th>\n",
       "      <td>Судя по состоянию дворов Центрального района в...</td>\n",
       "      <td>NaN</td>\n",
       "      <td>NaN</td>\n",
       "      <td>NaN</td>\n",
       "      <td>NaN</td>\n",
       "      <td>NaN</td>\n",
       "    </tr>\n",
       "    <tr>\n",
       "      <th>1</th>\n",
       "      <td>А вот во дворе нашего дома не убирали снег ни ...</td>\n",
       "      <td>NaN</td>\n",
       "      <td>Энгельса</td>\n",
       "      <td>пр-т</td>\n",
       "      <td>126к3</td>\n",
       "      <td>Энгельса пр-т 126к3</td>\n",
       "    </tr>\n",
       "    <tr>\n",
       "      <th>2</th>\n",
       "      <td>Неужели не будет порядка? Воду откачали. Она с...</td>\n",
       "      <td>NaN</td>\n",
       "      <td>Замшина</td>\n",
       "      <td>ул</td>\n",
       "      <td>9</td>\n",
       "      <td>Замшина ул 9</td>\n",
       "    </tr>\n",
       "    <tr>\n",
       "      <th>3</th>\n",
       "      <td>Елизарова 31 3, 35, 37 Вообще ничего не убирае...</td>\n",
       "      <td>NaN</td>\n",
       "      <td>Елизарова</td>\n",
       "      <td>ул</td>\n",
       "      <td>35</td>\n",
       "      <td>Елизарова ул 35</td>\n",
       "    </tr>\n",
       "    <tr>\n",
       "      <th>4</th>\n",
       "      <td>Добрый день! Во дворе дома по улице Евдокима О...</td>\n",
       "      <td>NaN</td>\n",
       "      <td>Евдокима Огнева</td>\n",
       "      <td>ул</td>\n",
       "      <td>22</td>\n",
       "      <td>Евдокима Огнева ул 22</td>\n",
       "    </tr>\n",
       "  </tbody>\n",
       "</table>\n",
       "</div>"
      ],
      "text/plain": [
       "                                               Текст  \\\n",
       "0  Судя по состоянию дворов Центрального района в...   \n",
       "1  А вот во дворе нашего дома не убирали снег ни ...   \n",
       "2  Неужели не будет порядка? Воду откачали. Она с...   \n",
       "3  Елизарова 31 3, 35, 37 Вообще ничего не убирае...   \n",
       "4  Добрый день! Во дворе дома по улице Евдокима О...   \n",
       "\n",
       "  Населенный пункт (город или поселок, не СПб, например, Пушкин, Колпино, Парголово)  \\\n",
       "0                                                NaN                                   \n",
       "1                                                NaN                                   \n",
       "2                                                NaN                                   \n",
       "3                                                NaN                                   \n",
       "4                                                NaN                                   \n",
       "\n",
       "  Название улицы (проспекта, переулка) Тип улицы  \\\n",
       "0                                  NaN       NaN   \n",
       "1                             Энгельса      пр-т   \n",
       "2                              Замшина        ул   \n",
       "3                            Елизарова        ул   \n",
       "4                      Евдокима Огнева        ул   \n",
       "\n",
       "  Номер дома (без пробелов, вид: 12 или 1к4 или 8стр1 или 11/2 или 23литБ)  \\\n",
       "0                                                NaN                         \n",
       "1                                              126к3                         \n",
       "2                                                  9                         \n",
       "3                                                 35                         \n",
       "4                                                 22                         \n",
       "\n",
       "  Адрес объекта - Не править!  \n",
       "0                         NaN  \n",
       "1         Энгельса пр-т 126к3  \n",
       "2                Замшина ул 9  \n",
       "3             Елизарова ул 35  \n",
       "4       Евдокима Огнева ул 22  "
      ]
     },
     "execution_count": 178,
     "metadata": {},
     "output_type": "execute_result"
    }
   ],
   "source": [
    "df = df.iloc[:, [1, 8, 9, 10, 11, 12]]\n",
    "df.head()"
   ]
  },
  {
   "cell_type": "code",
   "execution_count": 179,
   "metadata": {},
   "outputs": [
    {
     "data": {
      "text/html": [
       "<div>\n",
       "<style scoped>\n",
       "    .dataframe tbody tr th:only-of-type {\n",
       "        vertical-align: middle;\n",
       "    }\n",
       "\n",
       "    .dataframe tbody tr th {\n",
       "        vertical-align: top;\n",
       "    }\n",
       "\n",
       "    .dataframe thead th {\n",
       "        text-align: right;\n",
       "    }\n",
       "</style>\n",
       "<table border=\"1\" class=\"dataframe\">\n",
       "  <thead>\n",
       "    <tr style=\"text-align: right;\">\n",
       "      <th></th>\n",
       "      <th>text</th>\n",
       "      <th>city</th>\n",
       "      <th>street</th>\n",
       "      <th>street_type</th>\n",
       "      <th>house</th>\n",
       "      <th>full_address</th>\n",
       "    </tr>\n",
       "  </thead>\n",
       "  <tbody>\n",
       "    <tr>\n",
       "      <th>0</th>\n",
       "      <td>Судя по состоянию дворов Центрального района в...</td>\n",
       "      <td>NaN</td>\n",
       "      <td>NaN</td>\n",
       "      <td>NaN</td>\n",
       "      <td>NaN</td>\n",
       "      <td>NaN</td>\n",
       "    </tr>\n",
       "    <tr>\n",
       "      <th>1</th>\n",
       "      <td>А вот во дворе нашего дома не убирали снег ни ...</td>\n",
       "      <td>NaN</td>\n",
       "      <td>Энгельса</td>\n",
       "      <td>пр-т</td>\n",
       "      <td>126к3</td>\n",
       "      <td>Энгельса пр-т 126к3</td>\n",
       "    </tr>\n",
       "    <tr>\n",
       "      <th>2</th>\n",
       "      <td>Неужели не будет порядка? Воду откачали. Она с...</td>\n",
       "      <td>NaN</td>\n",
       "      <td>Замшина</td>\n",
       "      <td>ул</td>\n",
       "      <td>9</td>\n",
       "      <td>Замшина ул 9</td>\n",
       "    </tr>\n",
       "    <tr>\n",
       "      <th>3</th>\n",
       "      <td>Елизарова 31 3, 35, 37 Вообще ничего не убирае...</td>\n",
       "      <td>NaN</td>\n",
       "      <td>Елизарова</td>\n",
       "      <td>ул</td>\n",
       "      <td>35</td>\n",
       "      <td>Елизарова ул 35</td>\n",
       "    </tr>\n",
       "    <tr>\n",
       "      <th>4</th>\n",
       "      <td>Добрый день! Во дворе дома по улице Евдокима О...</td>\n",
       "      <td>NaN</td>\n",
       "      <td>Евдокима Огнева</td>\n",
       "      <td>ул</td>\n",
       "      <td>22</td>\n",
       "      <td>Евдокима Огнева ул 22</td>\n",
       "    </tr>\n",
       "  </tbody>\n",
       "</table>\n",
       "</div>"
      ],
      "text/plain": [
       "                                                text city           street  \\\n",
       "0  Судя по состоянию дворов Центрального района в...  NaN              NaN   \n",
       "1  А вот во дворе нашего дома не убирали снег ни ...  NaN         Энгельса   \n",
       "2  Неужели не будет порядка? Воду откачали. Она с...  NaN          Замшина   \n",
       "3  Елизарова 31 3, 35, 37 Вообще ничего не убирае...  NaN        Елизарова   \n",
       "4  Добрый день! Во дворе дома по улице Евдокима О...  NaN  Евдокима Огнева   \n",
       "\n",
       "  street_type  house           full_address  \n",
       "0         NaN    NaN                    NaN  \n",
       "1        пр-т  126к3    Энгельса пр-т 126к3  \n",
       "2          ул      9           Замшина ул 9  \n",
       "3          ул     35        Елизарова ул 35  \n",
       "4          ул     22  Евдокима Огнева ул 22  "
      ]
     },
     "execution_count": 179,
     "metadata": {},
     "output_type": "execute_result"
    }
   ],
   "source": [
    "mapping = {df.columns[0]: 'text', \n",
    "           df.columns[1]: 'city', \n",
    "           df.columns[2]: 'street', \n",
    "           df.columns[3]: 'street_type',\n",
    "           df.columns[4]: 'house', \n",
    "           df.columns[5]: 'full_address'}\n",
    "df = df.rename(columns=mapping)\n",
    "df.head()"
   ]
  },
  {
   "cell_type": "code",
   "execution_count": 191,
   "metadata": {},
   "outputs": [
    {
     "data": {
      "text/html": [
       "<div>\n",
       "<style scoped>\n",
       "    .dataframe tbody tr th:only-of-type {\n",
       "        vertical-align: middle;\n",
       "    }\n",
       "\n",
       "    .dataframe tbody tr th {\n",
       "        vertical-align: top;\n",
       "    }\n",
       "\n",
       "    .dataframe thead th {\n",
       "        text-align: right;\n",
       "    }\n",
       "</style>\n",
       "<table border=\"1\" class=\"dataframe\">\n",
       "  <thead>\n",
       "    <tr style=\"text-align: right;\">\n",
       "      <th></th>\n",
       "      <th>text</th>\n",
       "      <th>city</th>\n",
       "      <th>street</th>\n",
       "      <th>street_type</th>\n",
       "      <th>house</th>\n",
       "      <th>full_address</th>\n",
       "    </tr>\n",
       "  </thead>\n",
       "  <tbody>\n",
       "    <tr>\n",
       "      <th>1</th>\n",
       "      <td>А вот во дворе нашего дома не убирали снег ни ...</td>\n",
       "      <td>spb</td>\n",
       "      <td>Энгельса</td>\n",
       "      <td>пр-т</td>\n",
       "      <td>126к3</td>\n",
       "      <td>Энгельса пр-т 126к3</td>\n",
       "    </tr>\n",
       "    <tr>\n",
       "      <th>2</th>\n",
       "      <td>Неужели не будет порядка? Воду откачали. Она с...</td>\n",
       "      <td>spb</td>\n",
       "      <td>Замшина</td>\n",
       "      <td>ул</td>\n",
       "      <td>9</td>\n",
       "      <td>Замшина ул 9</td>\n",
       "    </tr>\n",
       "    <tr>\n",
       "      <th>3</th>\n",
       "      <td>Елизарова 31 3, 35, 37 Вообще ничего не убирае...</td>\n",
       "      <td>spb</td>\n",
       "      <td>Елизарова</td>\n",
       "      <td>ул</td>\n",
       "      <td>35</td>\n",
       "      <td>Елизарова ул 35</td>\n",
       "    </tr>\n",
       "    <tr>\n",
       "      <th>4</th>\n",
       "      <td>Добрый день! Во дворе дома по улице Евдокима О...</td>\n",
       "      <td>spb</td>\n",
       "      <td>Евдокима Огнева</td>\n",
       "      <td>ул</td>\n",
       "      <td>22</td>\n",
       "      <td>Евдокима Огнева ул 22</td>\n",
       "    </tr>\n",
       "    <tr>\n",
       "      <th>5</th>\n",
       "      <td>Здравствуйте. Извините за беспокойство. Звонил...</td>\n",
       "      <td>spb</td>\n",
       "      <td>Кржижановского</td>\n",
       "      <td>ул</td>\n",
       "      <td>4-May</td>\n",
       "      <td>Кржижановского ул 5/4</td>\n",
       "    </tr>\n",
       "    <tr>\n",
       "      <th>...</th>\n",
       "      <td>...</td>\n",
       "      <td>...</td>\n",
       "      <td>...</td>\n",
       "      <td>...</td>\n",
       "      <td>...</td>\n",
       "      <td>...</td>\n",
       "    </tr>\n",
       "    <tr>\n",
       "      <th>69400</th>\n",
       "      <td>Объявления на знаках</td>\n",
       "      <td>spb</td>\n",
       "      <td>Искровский</td>\n",
       "      <td>пр-т</td>\n",
       "      <td>NaN</td>\n",
       "      <td>Искровский пр-т</td>\n",
       "    </tr>\n",
       "    <tr>\n",
       "      <th>69401</th>\n",
       "      <td>Объявления на знаках</td>\n",
       "      <td>spb</td>\n",
       "      <td>Дыбенко</td>\n",
       "      <td>ул</td>\n",
       "      <td>NaN</td>\n",
       "      <td>Дыбенко ул</td>\n",
       "    </tr>\n",
       "    <tr>\n",
       "      <th>69402</th>\n",
       "      <td>Рисунки на асфальте</td>\n",
       "      <td>spb</td>\n",
       "      <td>Дыбенко</td>\n",
       "      <td>ул</td>\n",
       "      <td>NaN</td>\n",
       "      <td>Дыбенко ул</td>\n",
       "    </tr>\n",
       "    <tr>\n",
       "      <th>69403</th>\n",
       "      <td>Объявления на опоре освещения</td>\n",
       "      <td>spb</td>\n",
       "      <td>Дыбенко</td>\n",
       "      <td>ул</td>\n",
       "      <td>NaN</td>\n",
       "      <td>Дыбенко ул</td>\n",
       "    </tr>\n",
       "    <tr>\n",
       "      <th>69404</th>\n",
       "      <td>Объявления на светофоре</td>\n",
       "      <td>spb</td>\n",
       "      <td>Дыбенко</td>\n",
       "      <td>ул</td>\n",
       "      <td>NaN</td>\n",
       "      <td>Дыбенко ул</td>\n",
       "    </tr>\n",
       "  </tbody>\n",
       "</table>\n",
       "<p>27037 rows × 6 columns</p>\n",
       "</div>"
      ],
      "text/plain": [
       "                                                    text city  \\\n",
       "1      А вот во дворе нашего дома не убирали снег ни ...  spb   \n",
       "2      Неужели не будет порядка? Воду откачали. Она с...  spb   \n",
       "3      Елизарова 31 3, 35, 37 Вообще ничего не убирае...  spb   \n",
       "4      Добрый день! Во дворе дома по улице Евдокима О...  spb   \n",
       "5      Здравствуйте. Извините за беспокойство. Звонил...  spb   \n",
       "...                                                  ...  ...   \n",
       "69400                               Объявления на знаках  spb   \n",
       "69401                               Объявления на знаках  spb   \n",
       "69402                                Рисунки на асфальте  spb   \n",
       "69403                      Объявления на опоре освещения  spb   \n",
       "69404                            Объявления на светофоре  spb   \n",
       "\n",
       "                street street_type  house           full_address  \n",
       "1             Энгельса        пр-т  126к3    Энгельса пр-т 126к3  \n",
       "2              Замшина          ул      9           Замшина ул 9  \n",
       "3            Елизарова          ул     35        Елизарова ул 35  \n",
       "4      Евдокима Огнева          ул     22  Евдокима Огнева ул 22  \n",
       "5       Кржижановского          ул  4-May  Кржижановского ул 5/4  \n",
       "...                ...         ...    ...                    ...  \n",
       "69400       Искровский        пр-т    NaN        Искровский пр-т  \n",
       "69401          Дыбенко          ул    NaN             Дыбенко ул  \n",
       "69402          Дыбенко          ул    NaN             Дыбенко ул  \n",
       "69403          Дыбенко          ул    NaN             Дыбенко ул  \n",
       "69404          Дыбенко          ул    NaN             Дыбенко ул  \n",
       "\n",
       "[27037 rows x 6 columns]"
      ]
     },
     "execution_count": 191,
     "metadata": {},
     "output_type": "execute_result"
    }
   ],
   "source": [
    "df.dropna(subset='text')"
   ]
  },
  {
   "cell_type": "code",
   "execution_count": 180,
   "metadata": {},
   "outputs": [],
   "source": [
    "df['city'] = df['city'].fillna('spb')"
   ]
  },
  {
   "cell_type": "code",
   "execution_count": 181,
   "metadata": {},
   "outputs": [],
   "source": [
    "df.dropna(subset=['full_address'], inplace=True)"
   ]
  },
  {
   "cell_type": "code",
   "execution_count": 201,
   "metadata": {},
   "outputs": [],
   "source": [
    "import re\n",
    "def remove_emojis(data):\n",
    "    try:\n",
    "        emoj = re.compile(\"[\"\n",
    "            u\"\\U0001F600-\\U0001F64F\"  # emoticons\n",
    "            u\"\\U0001F300-\\U0001F5FF\"  # symbols & pictographs\n",
    "            u\"\\U0001F680-\\U0001F6FF\"  # transport & map symbols\n",
    "            u\"\\U0001F1E0-\\U0001F1FF\"  # flags (iOS)\n",
    "            u\"\\U00002500-\\U00002BEF\"  # chinese char\n",
    "            u\"\\U00002702-\\U000027B0\"\n",
    "            u\"\\U00002702-\\U000027B0\"\n",
    "            u\"\\U000024C2-\\U0001F251\"\n",
    "            u\"\\U0001f926-\\U0001f937\"\n",
    "            u\"\\U00010000-\\U0010ffff\"\n",
    "            u\"\\u2640-\\u2642\" \n",
    "            u\"\\u2600-\\u2B55\"\n",
    "            u\"\\u200d\"\n",
    "            u\"\\u23cf\"\n",
    "            u\"\\u23e9\"\n",
    "            u\"\\u231a\"\n",
    "            u\"\\ufe0f\"  # dingbats\n",
    "            u\"\\u3030\"\n",
    "                        \"]+\", re.UNICODE)\n",
    "        return re.sub(emoj, '', data)\n",
    "    \n",
    "    except Exception:\n",
    "        pass"
   ]
  },
  {
   "cell_type": "code",
   "execution_count": 202,
   "metadata": {},
   "outputs": [
    {
     "name": "stderr",
     "output_type": "stream",
     "text": [
      "100%|██████████| 27065/27065 [00:00<00:00, 43589.29it/s]\n"
     ]
    }
   ],
   "source": [
    "import re\n",
    "\n",
    "replacer = ''\n",
    "df['text'] = df['text'].progress_apply(lambda x: remove_emojis(x))"
   ]
  },
  {
   "cell_type": "code",
   "execution_count": 205,
   "metadata": {},
   "outputs": [
    {
     "name": "stderr",
     "output_type": "stream",
     "text": [
      "100%|██████████| 27065/27065 [1:58:38<00:00,  3.80it/s]  \n"
     ]
    }
   ],
   "source": [
    "from spacy.tokenizer import Tokenizer\n",
    "tokenizer = Tokenizer(nlp.vocab)\n",
    "\n",
    "\n",
    "\n",
    "def pre_process(text):\n",
    "\n",
    "    try:\n",
    "        tokens = tokenizer(text)\n",
    "\n",
    "        x = ' '\n",
    "        for token in tokens:\n",
    "            for word in nlp(str(token)):\n",
    "                x += word.lemma_\n",
    "                x += ' '\n",
    "        return x\n",
    "    \n",
    "    except Exception:\n",
    "        return 0\n",
    "\n",
    "\n",
    "df['text_clear'] = df['text'].progress_apply(lambda x: pre_process(x))\n",
    "\n",
    "df.to_pickle('clear_text_df.pkl')"
   ]
  },
  {
   "cell_type": "code",
   "execution_count": null,
   "metadata": {},
   "outputs": [],
   "source": []
  },
  {
   "cell_type": "code",
   "execution_count": 31,
   "metadata": {},
   "outputs": [
    {
     "name": "stderr",
     "output_type": "stream",
     "text": [
      "100%|██████████| 27065/27065 [14:13<00:00, 31.69it/s]\n",
      "100%|██████████| 27065/27065 [04:55<00:00, 91.57it/s]\n",
      "100%|██████████| 27065/27065 [05:19<00:00, 84.62it/s]\n",
      "100%|██████████| 27065/27065 [04:40<00:00, 96.61it/s] \n"
     ]
    }
   ],
   "source": [
    "# from tqdm import tqdm\n",
    "# tqdm.pandas()\n",
    "\n",
    "# for col in df.columns:\n",
    "#     if col == 'city' or col == 'full_address' or col == 'house' or col == 'street_type_lemmatized': continue\n",
    "#     df[f'{col}_lemmatized'] = df[col].astype(str).progress_apply(lambda x: \" \".join([y.lemma_ for y in nlp(x)]))"
   ]
  },
  {
   "cell_type": "code",
   "execution_count": 38,
   "metadata": {},
   "outputs": [],
   "source": [
    "nlp_2 = spacy.blank(\"ru\")\n",
    "if \"ner\" not in nlp_2.pipe_names:\n",
    "        nlp_2.add_pipe(\"ner\", last=True)\n",
    "else:\n",
    "        ner = nlp_2.get_pipe(\"ner\")"
   ]
  },
  {
   "cell_type": "code",
   "execution_count": 39,
   "metadata": {},
   "outputs": [],
   "source": []
  },
  {
   "cell_type": "code",
   "execution_count": 42,
   "metadata": {},
   "outputs": [],
   "source": [
    "# df2 = pd.DataFrame()\n",
    "# df2[['text_lemmatized', 'street_lemmatized']] = df[['text_lemmatized', 'street_lemmatized']]"
   ]
  },
  {
   "cell_type": "code",
   "execution_count": 163,
   "metadata": {},
   "outputs": [],
   "source": [
    "# idx = 5\n",
    "\n",
    "# display(df.iloc[idx,0])\n",
    "# display(df.iloc[idx,6])\n",
    "# display(df.iloc[idx,2])\n",
    "# display(df.iloc[idx,7])"
   ]
  },
  {
   "cell_type": "code",
   "execution_count": 164,
   "metadata": {},
   "outputs": [
    {
     "name": "stderr",
     "output_type": "stream",
     "text": [
      "100%|██████████| 20/20 [00:00<00:00, 7520.04it/s]\n"
     ]
    }
   ],
   "source": [
    "from tqdm import tqdm\n",
    "tqdm.pandas()\n",
    "\n",
    "import time\n",
    "\n",
    "def get_loc(row):\n",
    "    text = row.text\n",
    "    word = row.street_lemmatized    \n",
    "    \n",
    "    try:\n",
    "        tmp_text = text.split(word, 1)\n",
    "        \n",
    "        \n",
    "    except TypeError as ex:\n",
    "        \n",
    "        return None\n",
    "    except AttributeError as ex:\n",
    "\n",
    "        \n",
    "        return None\n",
    "\n",
    "    try:\n",
    "        start = len(tmp_text[0])\n",
    "        stop = len(text) - len(tmp_text[1])\n",
    "\n",
    "    except IndexError as ex:\n",
    "        return None     \n",
    "\n",
    "    return (start, stop, 'street')\n",
    "\n",
    "df_tmp['entities'] = df_tmp.progress_apply(lambda row: get_loc(row), axis=1)\n",
    "# df_tmp = df_tmp[~df_tmp['entities'].notna()]\n",
    "# df2.drop(columns='street', inplace=True)"
   ]
  },
  {
   "cell_type": "code",
   "execution_count": 167,
   "metadata": {},
   "outputs": [],
   "source": [
    "df_tmp.reset_index(inplace=True)"
   ]
  },
  {
   "cell_type": "code",
   "execution_count": 168,
   "metadata": {},
   "outputs": [
    {
     "data": {
      "text/html": [
       "<div>\n",
       "<style scoped>\n",
       "    .dataframe tbody tr th:only-of-type {\n",
       "        vertical-align: middle;\n",
       "    }\n",
       "\n",
       "    .dataframe tbody tr th {\n",
       "        vertical-align: top;\n",
       "    }\n",
       "\n",
       "    .dataframe thead th {\n",
       "        text-align: right;\n",
       "    }\n",
       "</style>\n",
       "<table border=\"1\" class=\"dataframe\">\n",
       "  <thead>\n",
       "    <tr style=\"text-align: right;\">\n",
       "      <th></th>\n",
       "      <th>index</th>\n",
       "      <th>text</th>\n",
       "      <th>city</th>\n",
       "      <th>street</th>\n",
       "      <th>street_type</th>\n",
       "      <th>house</th>\n",
       "      <th>full_address</th>\n",
       "      <th>text_lemmatized</th>\n",
       "      <th>street_lemmatized</th>\n",
       "      <th>entities</th>\n",
       "    </tr>\n",
       "  </thead>\n",
       "  <tbody>\n",
       "    <tr>\n",
       "      <th>0</th>\n",
       "      <td>1</td>\n",
       "      <td>а вот во двор наш дома не убирать снег ни раз...</td>\n",
       "      <td>spb</td>\n",
       "      <td>Энгельса</td>\n",
       "      <td>пр-т</td>\n",
       "      <td>126к3</td>\n",
       "      <td>Энгельса пр-т 126к3</td>\n",
       "      <td>а вот во двор наш дом не убирать снег ни разу ...</td>\n",
       "      <td>энгельса</td>\n",
       "      <td>(50, 58, street)</td>\n",
       "    </tr>\n",
       "    <tr>\n",
       "      <th>1</th>\n",
       "      <td>2</td>\n",
       "      <td>неужели не будет порядок ? вода откачать . он...</td>\n",
       "      <td>spb</td>\n",
       "      <td>Замшина</td>\n",
       "      <td>ул</td>\n",
       "      <td>9</td>\n",
       "      <td>Замшина ул 9</td>\n",
       "      <td>неужели не будет порядок ? вода откачать . она...</td>\n",
       "      <td>замшина</td>\n",
       "      <td>None</td>\n",
       "    </tr>\n",
       "    <tr>\n",
       "      <th>2</th>\n",
       "      <td>3</td>\n",
       "      <td>елизаров 31 3 , 35 , 37 вообще ничто не убира...</td>\n",
       "      <td>spb</td>\n",
       "      <td>Елизарова</td>\n",
       "      <td>ул</td>\n",
       "      <td>35</td>\n",
       "      <td>Елизарова ул 35</td>\n",
       "      <td>елизаров 31 3 , 35 , 37 вообще ничто не убират...</td>\n",
       "      <td>елизаров</td>\n",
       "      <td>(1, 9, street)</td>\n",
       "    </tr>\n",
       "    <tr>\n",
       "      <th>3</th>\n",
       "      <td>4</td>\n",
       "      <td>добрый день ! во двор дома по улица евдокима ...</td>\n",
       "      <td>spb</td>\n",
       "      <td>Евдокима Огнева</td>\n",
       "      <td>ул</td>\n",
       "      <td>22</td>\n",
       "      <td>Евдокима Огнева ул 22</td>\n",
       "      <td>добрый день ! во двор дом по улица евдоким огн...</td>\n",
       "      <td>евдокима огнев</td>\n",
       "      <td>(37, 51, street)</td>\n",
       "    </tr>\n",
       "    <tr>\n",
       "      <th>4</th>\n",
       "      <td>5</td>\n",
       "      <td>здравствовать . извинить за беспокойство . зв...</td>\n",
       "      <td>spb</td>\n",
       "      <td>Кржижановского</td>\n",
       "      <td>ул</td>\n",
       "      <td>4-May</td>\n",
       "      <td>Кржижановского ул 5/4</td>\n",
       "      <td>здравствовать . извинить за беспокойство . зво...</td>\n",
       "      <td>кржижановского</td>\n",
       "      <td>(136, 150, street)</td>\n",
       "    </tr>\n",
       "    <tr>\n",
       "      <th>5</th>\n",
       "      <td>7</td>\n",
       "      <td>здравствуйте!когда начать убирать дворы?машин...</td>\n",
       "      <td>spb</td>\n",
       "      <td>Шотмана</td>\n",
       "      <td>ул</td>\n",
       "      <td>14</td>\n",
       "      <td>Шотмана ул 14</td>\n",
       "      <td>здравствуйте!когда начать убирать дворы?машина...</td>\n",
       "      <td>шотмана</td>\n",
       "      <td>(445, 452, street)</td>\n",
       "    </tr>\n",
       "    <tr>\n",
       "      <th>6</th>\n",
       "      <td>8</td>\n",
       "      <td>сегодня уже 23.02.2022 , уборка должный была ...</td>\n",
       "      <td>spb</td>\n",
       "      <td>Юнтоловский</td>\n",
       "      <td>пр-т</td>\n",
       "      <td>53к1</td>\n",
       "      <td>Юнтоловский пр-т 53к1</td>\n",
       "      <td>сегодня уже 23.02.2022 , уборка должный была п...</td>\n",
       "      <td>юнтоловский</td>\n",
       "      <td>(246, 257, street)</td>\n",
       "    </tr>\n",
       "    <tr>\n",
       "      <th>7</th>\n",
       "      <td>9</td>\n",
       "      <td>у д. 39 по ул. авангардный , твориться жесть ...</td>\n",
       "      <td>spb</td>\n",
       "      <td>Авангардная</td>\n",
       "      <td>ул</td>\n",
       "      <td>NaN</td>\n",
       "      <td>Авангардная ул</td>\n",
       "      <td>у д. 39 по ул. авангардный , твориться жесть ....</td>\n",
       "      <td>авангардный</td>\n",
       "      <td>(16, 27, street)</td>\n",
       "    </tr>\n",
       "    <tr>\n",
       "      <th>8</th>\n",
       "      <td>12</td>\n",
       "      <td>здравствовать уважаемый александр дмитрий ! &lt;...</td>\n",
       "      <td>spb</td>\n",
       "      <td>Авангардная</td>\n",
       "      <td>ул</td>\n",
       "      <td>NaN</td>\n",
       "      <td>Авангардная ул</td>\n",
       "      <td>здравствовать уважаемый александр дмитрий ! &lt; ...</td>\n",
       "      <td>авангардный</td>\n",
       "      <td>(170, 181, street)</td>\n",
       "    </tr>\n",
       "    <tr>\n",
       "      <th>9</th>\n",
       "      <td>13</td>\n",
       "      <td>так , а что с уборка снег по адрес : петергоф...</td>\n",
       "      <td>spb</td>\n",
       "      <td>Петергофское</td>\n",
       "      <td>ш</td>\n",
       "      <td>NaN</td>\n",
       "      <td>Петергофское ш</td>\n",
       "      <td>так , а что с уборка снег по адрес : петергофс...</td>\n",
       "      <td>петергофское</td>\n",
       "      <td>(38, 50, street)</td>\n",
       "    </tr>\n",
       "    <tr>\n",
       "      <th>10</th>\n",
       "      <td>15</td>\n",
       "      <td>рижский проспект 62 все газон завалить снег и...</td>\n",
       "      <td>spb</td>\n",
       "      <td>Рижский</td>\n",
       "      <td>пр-т</td>\n",
       "      <td>62</td>\n",
       "      <td>Рижский пр-т 62</td>\n",
       "      <td>рижский проспект 62 весь газон завалить снег и...</td>\n",
       "      <td>рижский</td>\n",
       "      <td>(1, 8, street)</td>\n",
       "    </tr>\n",
       "    <tr>\n",
       "      <th>11</th>\n",
       "      <td>17</td>\n",
       "      <td>[ id437734987|наталья ] , какой работа ведётс...</td>\n",
       "      <td>spb</td>\n",
       "      <td>Ленинский</td>\n",
       "      <td>пр-т</td>\n",
       "      <td>53</td>\n",
       "      <td>Ленинский пр-т 53</td>\n",
       "      <td>[ id437734987|наталья ] , какой работа ведётся...</td>\n",
       "      <td>ленинский</td>\n",
       "      <td>None</td>\n",
       "    </tr>\n",
       "    <tr>\n",
       "      <th>12</th>\n",
       "      <td>19</td>\n",
       "      <td>бульвар - новаторов дома 26/2 и 24/2 не убира...</td>\n",
       "      <td>spb</td>\n",
       "      <td>Новаторов</td>\n",
       "      <td>б-р</td>\n",
       "      <td>26к2</td>\n",
       "      <td>Новаторов б-р 26к2</td>\n",
       "      <td>бульвар - новаторов дом 26/2 и 24/2 не убирать...</td>\n",
       "      <td>новаторов</td>\n",
       "      <td>(11, 20, street)</td>\n",
       "    </tr>\n",
       "    <tr>\n",
       "      <th>13</th>\n",
       "      <td>20</td>\n",
       "      <td>страшный ездить во двор . ещё пара день и мож...</td>\n",
       "      <td>spb</td>\n",
       "      <td>Колпинское</td>\n",
       "      <td>ш</td>\n",
       "      <td>28к1</td>\n",
       "      <td>Колпинское ш 28к1</td>\n",
       "      <td>страшный ездить во двор . ещё пара день и можн...</td>\n",
       "      <td>колпинский</td>\n",
       "      <td>None</td>\n",
       "    </tr>\n",
       "    <tr>\n",
       "      <th>14</th>\n",
       "      <td>21</td>\n",
       "      <td>в это год ни разу не проводиться уборка терри...</td>\n",
       "      <td>spb</td>\n",
       "      <td>6-я Жерновская</td>\n",
       "      <td>ул</td>\n",
       "      <td>9к1</td>\n",
       "      <td>6-я Жерновская ул 9к1</td>\n",
       "      <td>в этот год ни разу не проводиться уборка терри...</td>\n",
       "      <td>6-я жерновская</td>\n",
       "      <td>None</td>\n",
       "    </tr>\n",
       "    <tr>\n",
       "      <th>15</th>\n",
       "      <td>22</td>\n",
       "      <td>не числиться проезд вдоль дома , нет посылка ...</td>\n",
       "      <td>Красное Село</td>\n",
       "      <td>NaN</td>\n",
       "      <td>NaN</td>\n",
       "      <td>NaN</td>\n",
       "      <td>Красное Село</td>\n",
       "      <td>не числиться проезд вдоль дом , нет посылка . ...</td>\n",
       "      <td>nan</td>\n",
       "      <td>None</td>\n",
       "    </tr>\n",
       "    <tr>\n",
       "      <th>16</th>\n",
       "      <td>23</td>\n",
       "      <td>здравствовать , дорога скользкий , невозможны...</td>\n",
       "      <td>spb</td>\n",
       "      <td>Ольминского</td>\n",
       "      <td>ул</td>\n",
       "      <td>NaN</td>\n",
       "      <td>Ольминского ул</td>\n",
       "      <td>здравствовать , дорога скользкий , невозможный...</td>\n",
       "      <td>ольминского</td>\n",
       "      <td>None</td>\n",
       "    </tr>\n",
       "    <tr>\n",
       "      <th>17</th>\n",
       "      <td>24</td>\n",
       "      <td>не убрать снег и лёд между два здание паркинг...</td>\n",
       "      <td>spb</td>\n",
       "      <td>Школьная</td>\n",
       "      <td>ул</td>\n",
       "      <td>NaN</td>\n",
       "      <td>Школьная ул</td>\n",
       "      <td>не убрать снег и лёд между два здание паркинг ...</td>\n",
       "      <td>школьный</td>\n",
       "      <td>(56, 64, street)</td>\n",
       "    </tr>\n",
       "    <tr>\n",
       "      <th>18</th>\n",
       "      <td>25</td>\n",
       "      <td>колея , что кроссовер брюхом задевать .</td>\n",
       "      <td>spb</td>\n",
       "      <td>Ветеранов</td>\n",
       "      <td>пр-т</td>\n",
       "      <td>114</td>\n",
       "      <td>Ветеранов пр-т 114</td>\n",
       "      <td>колея , что кроссовер брюхом задевать .</td>\n",
       "      <td>ветеранов</td>\n",
       "      <td>None</td>\n",
       "    </tr>\n",
       "    <tr>\n",
       "      <th>19</th>\n",
       "      <td>26</td>\n",
       "      <td>добрый день ! очень давно не убирать наледь и...</td>\n",
       "      <td>spb</td>\n",
       "      <td>Непокоренных</td>\n",
       "      <td>пр-т</td>\n",
       "      <td>74</td>\n",
       "      <td>Непокоренных пр-т 74</td>\n",
       "      <td>добрый день ! очень давно не убирать наледь и ...</td>\n",
       "      <td>непокоренный</td>\n",
       "      <td>(77, 89, street)</td>\n",
       "    </tr>\n",
       "  </tbody>\n",
       "</table>\n",
       "</div>"
      ],
      "text/plain": [
       "    index                                               text          city  \\\n",
       "0       1   а вот во двор наш дома не убирать снег ни раз...           spb   \n",
       "1       2   неужели не будет порядок ? вода откачать . он...           spb   \n",
       "2       3   елизаров 31 3 , 35 , 37 вообще ничто не убира...           spb   \n",
       "3       4   добрый день ! во двор дома по улица евдокима ...           spb   \n",
       "4       5   здравствовать . извинить за беспокойство . зв...           spb   \n",
       "5       7   здравствуйте!когда начать убирать дворы?машин...           spb   \n",
       "6       8   сегодня уже 23.02.2022 , уборка должный была ...           spb   \n",
       "7       9   у д. 39 по ул. авангардный , твориться жесть ...           spb   \n",
       "8      12   здравствовать уважаемый александр дмитрий ! <...           spb   \n",
       "9      13   так , а что с уборка снег по адрес : петергоф...           spb   \n",
       "10     15   рижский проспект 62 все газон завалить снег и...           spb   \n",
       "11     17   [ id437734987|наталья ] , какой работа ведётс...           spb   \n",
       "12     19   бульвар - новаторов дома 26/2 и 24/2 не убира...           spb   \n",
       "13     20   страшный ездить во двор . ещё пара день и мож...           spb   \n",
       "14     21   в это год ни разу не проводиться уборка терри...           spb   \n",
       "15     22   не числиться проезд вдоль дома , нет посылка ...  Красное Село   \n",
       "16     23   здравствовать , дорога скользкий , невозможны...           spb   \n",
       "17     24   не убрать снег и лёд между два здание паркинг...           spb   \n",
       "18     25           колея , что кроссовер брюхом задевать .            spb   \n",
       "19     26   добрый день ! очень давно не убирать наледь и...           spb   \n",
       "\n",
       "             street street_type  house           full_address  \\\n",
       "0          Энгельса        пр-т  126к3    Энгельса пр-т 126к3   \n",
       "1           Замшина          ул      9           Замшина ул 9   \n",
       "2         Елизарова          ул     35        Елизарова ул 35   \n",
       "3   Евдокима Огнева          ул     22  Евдокима Огнева ул 22   \n",
       "4    Кржижановского          ул  4-May  Кржижановского ул 5/4   \n",
       "5           Шотмана          ул     14          Шотмана ул 14   \n",
       "6       Юнтоловский        пр-т   53к1  Юнтоловский пр-т 53к1   \n",
       "7       Авангардная          ул    NaN         Авангардная ул   \n",
       "8       Авангардная          ул    NaN         Авангардная ул   \n",
       "9      Петергофское           ш    NaN         Петергофское ш   \n",
       "10          Рижский        пр-т     62        Рижский пр-т 62   \n",
       "11        Ленинский        пр-т     53      Ленинский пр-т 53   \n",
       "12        Новаторов         б-р   26к2     Новаторов б-р 26к2   \n",
       "13       Колпинское           ш   28к1      Колпинское ш 28к1   \n",
       "14   6-я Жерновская          ул    9к1  6-я Жерновская ул 9к1   \n",
       "15              NaN         NaN    NaN           Красное Село   \n",
       "16      Ольминского          ул    NaN         Ольминского ул   \n",
       "17         Школьная          ул    NaN            Школьная ул   \n",
       "18        Ветеранов        пр-т    114     Ветеранов пр-т 114   \n",
       "19     Непокоренных        пр-т     74   Непокоренных пр-т 74   \n",
       "\n",
       "                                      text_lemmatized street_lemmatized  \\\n",
       "0   а вот во двор наш дом не убирать снег ни разу ...          энгельса   \n",
       "1   неужели не будет порядок ? вода откачать . она...           замшина   \n",
       "2   елизаров 31 3 , 35 , 37 вообще ничто не убират...          елизаров   \n",
       "3   добрый день ! во двор дом по улица евдоким огн...    евдокима огнев   \n",
       "4   здравствовать . извинить за беспокойство . зво...    кржижановского   \n",
       "5   здравствуйте!когда начать убирать дворы?машина...           шотмана   \n",
       "6   сегодня уже 23.02.2022 , уборка должный была п...       юнтоловский   \n",
       "7   у д. 39 по ул. авангардный , твориться жесть ....       авангардный   \n",
       "8   здравствовать уважаемый александр дмитрий ! < ...       авангардный   \n",
       "9   так , а что с уборка снег по адрес : петергофс...      петергофское   \n",
       "10  рижский проспект 62 весь газон завалить снег и...           рижский   \n",
       "11  [ id437734987|наталья ] , какой работа ведётся...         ленинский   \n",
       "12  бульвар - новаторов дом 26/2 и 24/2 не убирать...         новаторов   \n",
       "13  страшный ездить во двор . ещё пара день и можн...        колпинский   \n",
       "14  в этот год ни разу не проводиться уборка терри...    6-я жерновская   \n",
       "15  не числиться проезд вдоль дом , нет посылка . ...               nan   \n",
       "16  здравствовать , дорога скользкий , невозможный...       ольминского   \n",
       "17  не убрать снег и лёд между два здание паркинг ...          школьный   \n",
       "18            колея , что кроссовер брюхом задевать .         ветеранов   \n",
       "19  добрый день ! очень давно не убирать наледь и ...      непокоренный   \n",
       "\n",
       "              entities  \n",
       "0     (50, 58, street)  \n",
       "1                 None  \n",
       "2       (1, 9, street)  \n",
       "3     (37, 51, street)  \n",
       "4   (136, 150, street)  \n",
       "5   (445, 452, street)  \n",
       "6   (246, 257, street)  \n",
       "7     (16, 27, street)  \n",
       "8   (170, 181, street)  \n",
       "9     (38, 50, street)  \n",
       "10      (1, 8, street)  \n",
       "11                None  \n",
       "12    (11, 20, street)  \n",
       "13                None  \n",
       "14                None  \n",
       "15                None  \n",
       "16                None  \n",
       "17    (56, 64, street)  \n",
       "18                None  \n",
       "19    (77, 89, street)  "
      ]
     },
     "execution_count": 168,
     "metadata": {},
     "output_type": "execute_result"
    }
   ],
   "source": [
    "df_tmp"
   ]
  },
  {
   "cell_type": "code",
   "execution_count": 175,
   "metadata": {},
   "outputs": [
    {
     "data": {
      "text/plain": [
       "' в это год ни разу не проводиться уборка территория вокруг дома . весь уборка ( фото прилагать ) производиться сила жилец , как и обработка ото лёд . просить 1 . разобраться какой организация не проводить вообще никакой работа и когда они начать регулярно проводиться 2 . я не получить на свой ответный обращение связать с необходимость обратиться в прокуратура с заявление на организация , которая прислать фото , по мой ранее оставить заявление на этот же тема , с отчёт об уборка совершенно от другого адрес и тем самым фальсифицировать результат свой деятельность и возможный получить за это деньга '"
      ]
     },
     "metadata": {},
     "output_type": "display_data"
    },
    {
     "data": {
      "text/plain": [
       "'6-я жерновская'"
      ]
     },
     "metadata": {},
     "output_type": "display_data"
    }
   ],
   "source": [
    "display(df_tmp.iloc[14,1])\n",
    "display(df_tmp.iloc[14,8])"
   ]
  },
  {
   "cell_type": "code",
   "execution_count": 45,
   "metadata": {},
   "outputs": [],
   "source": [
    "df2.reset_index(inplace=True)"
   ]
  },
  {
   "cell_type": "code",
   "execution_count": 46,
   "metadata": {},
   "outputs": [
    {
     "data": {
      "text/html": [
       "<div>\n",
       "<style scoped>\n",
       "    .dataframe tbody tr th:only-of-type {\n",
       "        vertical-align: middle;\n",
       "    }\n",
       "\n",
       "    .dataframe tbody tr th {\n",
       "        vertical-align: top;\n",
       "    }\n",
       "\n",
       "    .dataframe thead th {\n",
       "        text-align: right;\n",
       "    }\n",
       "</style>\n",
       "<table border=\"1\" class=\"dataframe\">\n",
       "  <thead>\n",
       "    <tr style=\"text-align: right;\">\n",
       "      <th></th>\n",
       "      <th>index</th>\n",
       "      <th>text_lemmatized</th>\n",
       "      <th>street_lemmatized</th>\n",
       "      <th>entities</th>\n",
       "    </tr>\n",
       "  </thead>\n",
       "  <tbody>\n",
       "    <tr>\n",
       "      <th>0</th>\n",
       "      <td>1</td>\n",
       "      <td>а вот во двор наш дом не убирать снег ни разу ...</td>\n",
       "      <td>энгельса</td>\n",
       "      <td>None</td>\n",
       "    </tr>\n",
       "    <tr>\n",
       "      <th>1</th>\n",
       "      <td>2</td>\n",
       "      <td>неужели не будет порядок ? вода откачать . она...</td>\n",
       "      <td>замшина</td>\n",
       "      <td>None</td>\n",
       "    </tr>\n",
       "    <tr>\n",
       "      <th>2</th>\n",
       "      <td>4</td>\n",
       "      <td>добрый день ! во двор дом по улица евдоким огн...</td>\n",
       "      <td>евдокима огнев</td>\n",
       "      <td>None</td>\n",
       "    </tr>\n",
       "    <tr>\n",
       "      <th>3</th>\n",
       "      <td>5</td>\n",
       "      <td>здравствовать . извинить за беспокойство . зво...</td>\n",
       "      <td>кржижановского</td>\n",
       "      <td>None</td>\n",
       "    </tr>\n",
       "    <tr>\n",
       "      <th>4</th>\n",
       "      <td>17</td>\n",
       "      <td>[ id437734987|наталья ] , какой работа ведётся...</td>\n",
       "      <td>ленинский</td>\n",
       "      <td>None</td>\n",
       "    </tr>\n",
       "    <tr>\n",
       "      <th>...</th>\n",
       "      <td>...</td>\n",
       "      <td>...</td>\n",
       "      <td>...</td>\n",
       "      <td>...</td>\n",
       "    </tr>\n",
       "    <tr>\n",
       "      <th>16600</th>\n",
       "      <td>69400</td>\n",
       "      <td>объявление на знак</td>\n",
       "      <td>искровский</td>\n",
       "      <td>None</td>\n",
       "    </tr>\n",
       "    <tr>\n",
       "      <th>16601</th>\n",
       "      <td>69401</td>\n",
       "      <td>объявление на знак</td>\n",
       "      <td>дыбенко</td>\n",
       "      <td>None</td>\n",
       "    </tr>\n",
       "    <tr>\n",
       "      <th>16602</th>\n",
       "      <td>69402</td>\n",
       "      <td>рисунок на асфальт</td>\n",
       "      <td>дыбенко</td>\n",
       "      <td>None</td>\n",
       "    </tr>\n",
       "    <tr>\n",
       "      <th>16603</th>\n",
       "      <td>69403</td>\n",
       "      <td>объявление на опора освещение</td>\n",
       "      <td>дыбенко</td>\n",
       "      <td>None</td>\n",
       "    </tr>\n",
       "    <tr>\n",
       "      <th>16604</th>\n",
       "      <td>69404</td>\n",
       "      <td>объявление на светофор</td>\n",
       "      <td>дыбенко</td>\n",
       "      <td>None</td>\n",
       "    </tr>\n",
       "  </tbody>\n",
       "</table>\n",
       "<p>16605 rows × 4 columns</p>\n",
       "</div>"
      ],
      "text/plain": [
       "       index                                    text_lemmatized  \\\n",
       "0          1  а вот во двор наш дом не убирать снег ни разу ...   \n",
       "1          2  неужели не будет порядок ? вода откачать . она...   \n",
       "2          4  добрый день ! во двор дом по улица евдоким огн...   \n",
       "3          5  здравствовать . извинить за беспокойство . зво...   \n",
       "4         17  [ id437734987|наталья ] , какой работа ведётся...   \n",
       "...      ...                                                ...   \n",
       "16600  69400                                 объявление на знак   \n",
       "16601  69401                                 объявление на знак   \n",
       "16602  69402                                 рисунок на асфальт   \n",
       "16603  69403                      объявление на опора освещение   \n",
       "16604  69404                             объявление на светофор   \n",
       "\n",
       "      street_lemmatized entities  \n",
       "0              энгельса     None  \n",
       "1               замшина     None  \n",
       "2        евдокима огнев     None  \n",
       "3        кржижановского     None  \n",
       "4             ленинский     None  \n",
       "...                 ...      ...  \n",
       "16600        искровский     None  \n",
       "16601           дыбенко     None  \n",
       "16602           дыбенко     None  \n",
       "16603           дыбенко     None  \n",
       "16604           дыбенко     None  \n",
       "\n",
       "[16605 rows x 4 columns]"
      ]
     },
     "execution_count": 46,
     "metadata": {},
     "output_type": "execute_result"
    }
   ],
   "source": [
    "df2"
   ]
  },
  {
   "cell_type": "code",
   "execution_count": 354,
   "metadata": {},
   "outputs": [
    {
     "name": "stdout",
     "output_type": "stream",
     "text": [
      "Белы куна дом 20 к.1 ,пройдитесь пожалуйста вокруг дома ! Все в грязи,окурках,отходах от торговых точек ,отходы жизнедеятельности ! Также просьба зайти в подьезд номер 1, уже как третью неделю уборка не ведется ! Просьба обязать жкс №2 вымыть этажи с мылом и антисептическими средствами с 1 по 9 этажи , а также лифт! Заранее спасибо ! \n",
      "\n",
      "Белы Куна\n"
     ]
    }
   ],
   "source": [
    "idx = 1000\n",
    "\n",
    "print(df2['text'][idx], '\\n')\n",
    "print(df2['street'][idx])"
   ]
  },
  {
   "cell_type": "code",
   "execution_count": 287,
   "metadata": {},
   "outputs": [],
   "source": [
    "df2.reset_index(inplace=True)"
   ]
  },
  {
   "cell_type": "code",
   "execution_count": 288,
   "metadata": {},
   "outputs": [
    {
     "name": "stderr",
     "output_type": "stream",
     "text": [
      "100%|██████████| 9168/9168 [00:00<00:00, 47433.60it/s]\n"
     ]
    }
   ],
   "source": [
    "TRAIN_DATA = list()\n",
    "\n",
    "for i in tqdm(df2.index):\n",
    "    TRAIN_DATA.append((df2['text'][i], {'entities': [df2['entities'][i]]}))"
   ]
  },
  {
   "cell_type": "code",
   "execution_count": 290,
   "metadata": {},
   "outputs": [
    {
     "name": "stderr",
     "output_type": "stream",
     "text": [
      "100%|██████████| 9168/9168 [00:12<00:00, 709.44it/s]\n"
     ]
    }
   ],
   "source": [
    "\n",
    "import spacy\n",
    "from spacy.tokens import DocBin\n",
    "from tqdm import tqdm\n",
    "nlp = spacy.blank('ru') # load a new spacy model\n",
    "db = DocBin() # create a DocBin object\n",
    "for text, annot in tqdm(TRAIN_DATA): # data in previous format\n",
    "    # print(annot)\n",
    "    doc = nlp.make_doc(text) # create doc object from text\n",
    "    ents = []\n",
    "    for start, end, label in annot['entities']: # add character indexes\n",
    "        span = doc.char_span(start, end, label=label, alignment_mode='expand')\n",
    "        if span is None:\n",
    "            print('Skipping entity')\n",
    "        else:\n",
    "            ents.append(span)\n",
    "    try:\n",
    "        doc.ents = ents # label the text with the ents\n",
    "        db.add(doc)\n",
    "    except:\n",
    "        print(text, annot)\n",
    "db.to_disk('train.spacy') # save the docbin object\n"
   ]
  },
  {
   "cell_type": "code",
   "execution_count": 294,
   "metadata": {},
   "outputs": [],
   "source": [
    "import warnings\n",
    "warnings.filterwarnings('ignore')"
   ]
  },
  {
   "cell_type": "code",
   "execution_count": 296,
   "metadata": {},
   "outputs": [
    {
     "name": "stdout",
     "output_type": "stream",
     "text": [
      "Statring iteration 0\n"
     ]
    },
    {
     "name": "stderr",
     "output_type": "stream",
     "text": [
      "100%|██████████| 1000/1000 [00:56<00:00, 17.63it/s]\n"
     ]
    },
    {
     "name": "stdout",
     "output_type": "stream",
     "text": [
      "{'ner': 1986.9822648926922}\n",
      "Statring iteration 1\n"
     ]
    },
    {
     "name": "stderr",
     "output_type": "stream",
     "text": [
      "100%|██████████| 1000/1000 [00:57<00:00, 17.54it/s]\n"
     ]
    },
    {
     "name": "stdout",
     "output_type": "stream",
     "text": [
      "{'ner': 686.3292908932269}\n",
      "Statring iteration 2\n"
     ]
    },
    {
     "name": "stderr",
     "output_type": "stream",
     "text": [
      "100%|██████████| 1000/1000 [00:57<00:00, 17.41it/s]\n"
     ]
    },
    {
     "name": "stdout",
     "output_type": "stream",
     "text": [
      "{'ner': 547.8967954235497}\n",
      "Statring iteration 3\n"
     ]
    },
    {
     "name": "stderr",
     "output_type": "stream",
     "text": [
      "100%|██████████| 1000/1000 [00:57<00:00, 17.41it/s]\n"
     ]
    },
    {
     "name": "stdout",
     "output_type": "stream",
     "text": [
      "{'ner': 445.6690722514703}\n",
      "Statring iteration 4\n"
     ]
    },
    {
     "name": "stderr",
     "output_type": "stream",
     "text": [
      "100%|██████████| 1000/1000 [00:56<00:00, 17.72it/s]\n"
     ]
    },
    {
     "name": "stdout",
     "output_type": "stream",
     "text": [
      "{'ner': 347.6949081458799}\n",
      "Statring iteration 5\n"
     ]
    },
    {
     "name": "stderr",
     "output_type": "stream",
     "text": [
      "100%|██████████| 1000/1000 [00:56<00:00, 17.85it/s]\n"
     ]
    },
    {
     "name": "stdout",
     "output_type": "stream",
     "text": [
      "{'ner': 334.0859843588313}\n",
      "Statring iteration 6\n"
     ]
    },
    {
     "name": "stderr",
     "output_type": "stream",
     "text": [
      "100%|██████████| 1000/1000 [00:56<00:00, 17.60it/s]\n"
     ]
    },
    {
     "name": "stdout",
     "output_type": "stream",
     "text": [
      "{'ner': 254.53736477668207}\n",
      "Statring iteration 7\n"
     ]
    },
    {
     "name": "stderr",
     "output_type": "stream",
     "text": [
      "100%|██████████| 1000/1000 [00:55<00:00, 17.95it/s]\n"
     ]
    },
    {
     "name": "stdout",
     "output_type": "stream",
     "text": [
      "{'ner': 238.11945817886388}\n",
      "Statring iteration 8\n"
     ]
    },
    {
     "name": "stderr",
     "output_type": "stream",
     "text": [
      "100%|██████████| 1000/1000 [00:56<00:00, 17.75it/s]\n"
     ]
    },
    {
     "name": "stdout",
     "output_type": "stream",
     "text": [
      "{'ner': 234.57202622788506}\n",
      "Statring iteration 9\n"
     ]
    },
    {
     "name": "stderr",
     "output_type": "stream",
     "text": [
      "100%|██████████| 1000/1000 [01:00<00:00, 16.65it/s]\n"
     ]
    },
    {
     "name": "stdout",
     "output_type": "stream",
     "text": [
      "{'ner': 177.75658832869965}\n",
      "Statring iteration 10\n"
     ]
    },
    {
     "name": "stderr",
     "output_type": "stream",
     "text": [
      "100%|██████████| 1000/1000 [00:54<00:00, 18.21it/s]\n"
     ]
    },
    {
     "name": "stdout",
     "output_type": "stream",
     "text": [
      "{'ner': 177.8657582362923}\n",
      "Statring iteration 11\n"
     ]
    },
    {
     "name": "stderr",
     "output_type": "stream",
     "text": [
      "100%|██████████| 1000/1000 [00:55<00:00, 18.13it/s]\n"
     ]
    },
    {
     "name": "stdout",
     "output_type": "stream",
     "text": [
      "{'ner': 162.79259260707428}\n",
      "Statring iteration 12\n"
     ]
    },
    {
     "name": "stderr",
     "output_type": "stream",
     "text": [
      "100%|██████████| 1000/1000 [00:54<00:00, 18.30it/s]\n"
     ]
    },
    {
     "name": "stdout",
     "output_type": "stream",
     "text": [
      "{'ner': 144.9192427885717}\n",
      "Statring iteration 13\n"
     ]
    },
    {
     "name": "stderr",
     "output_type": "stream",
     "text": [
      "100%|██████████| 1000/1000 [00:54<00:00, 18.38it/s]\n"
     ]
    },
    {
     "name": "stdout",
     "output_type": "stream",
     "text": [
      "{'ner': 121.57769832148664}\n",
      "Statring iteration 14\n"
     ]
    },
    {
     "name": "stderr",
     "output_type": "stream",
     "text": [
      "100%|██████████| 1000/1000 [00:55<00:00, 18.13it/s]\n"
     ]
    },
    {
     "name": "stdout",
     "output_type": "stream",
     "text": [
      "{'ner': 337.2622678859168}\n",
      "Statring iteration 15\n"
     ]
    },
    {
     "name": "stderr",
     "output_type": "stream",
     "text": [
      "100%|██████████| 1000/1000 [00:55<00:00, 18.17it/s]\n"
     ]
    },
    {
     "name": "stdout",
     "output_type": "stream",
     "text": [
      "{'ner': 98.14342835052476}\n",
      "Statring iteration 16\n"
     ]
    },
    {
     "name": "stderr",
     "output_type": "stream",
     "text": [
      "100%|██████████| 1000/1000 [00:55<00:00, 17.92it/s]\n"
     ]
    },
    {
     "name": "stdout",
     "output_type": "stream",
     "text": [
      "{'ner': 138.45970897159287}\n",
      "Statring iteration 17\n"
     ]
    },
    {
     "name": "stderr",
     "output_type": "stream",
     "text": [
      "100%|██████████| 1000/1000 [00:55<00:00, 18.07it/s]\n"
     ]
    },
    {
     "name": "stdout",
     "output_type": "stream",
     "text": [
      "{'ner': 186.27045174990394}\n",
      "Statring iteration 18\n"
     ]
    },
    {
     "name": "stderr",
     "output_type": "stream",
     "text": [
      "100%|██████████| 1000/1000 [00:56<00:00, 17.75it/s]\n"
     ]
    },
    {
     "name": "stdout",
     "output_type": "stream",
     "text": [
      "{'ner': 101.49094306265388}\n",
      "Statring iteration 19\n"
     ]
    },
    {
     "name": "stderr",
     "output_type": "stream",
     "text": [
      "100%|██████████| 1000/1000 [00:55<00:00, 18.16it/s]"
     ]
    },
    {
     "name": "stdout",
     "output_type": "stream",
     "text": [
      "{'ner': 69.77667252003653}\n"
     ]
    },
    {
     "name": "stderr",
     "output_type": "stream",
     "text": [
      "\n"
     ]
    }
   ],
   "source": [
    "import random\n",
    "from spacy.training import Example\n",
    "from tqdm import trange\n",
    "\n",
    "def train_spacy(data,iterations):\n",
    "    \n",
    "    nlp = spacy.blank('ru')  # create blank Language class\n",
    "    # create the built-in pipeline components and add them to the pipeline\n",
    "    # nlp.create_pipe works for built-ins that are registered with spaCy\n",
    "    if 'ner' not in nlp.pipe_names:\n",
    "        nlp.add_pipe('ner', last=True)\n",
    "       \n",
    "\n",
    "    # add labels\n",
    "    for _, annotations in data:\n",
    "         for ent in annotations.get('entities'):\n",
    "            ner.add_label(ent[2])\n",
    "\n",
    "    # get names of other pipes to disable them during training\n",
    "    other_pipes = [pipe for pipe in nlp.pipe_names if pipe != 'ner']\n",
    "    with nlp.disable_pipes(*other_pipes):  # only train NER\n",
    "        optimizer = nlp.begin_training()\n",
    "        for itn in range(iterations):\n",
    "            print(\"Statring iteration \" + str(itn))\n",
    "            random.shuffle(data)\n",
    "            losses = {}\n",
    "            for text, annotations in tqdm(data):\n",
    "                example = Example.from_dict(nlp.make_doc(text), annotations)\n",
    "                nlp.update(\n",
    "                    [example],  # batch of texts\n",
    "                      # batch of annotations\n",
    "                    drop=0.2,  # dropout - make it harder to memorise data\n",
    "                    sgd=optimizer,  # callable to update weights\n",
    "                    losses=losses)\n",
    "            print(losses)\n",
    "    return nlp\n",
    "\n",
    "\n",
    "prdnlp = train_spacy(TRAIN_DATA[:1000], 20)"
   ]
  },
  {
   "cell_type": "code",
   "execution_count": 297,
   "metadata": {},
   "outputs": [],
   "source": [
    "prdnlp.to_disk('my_model_streets')"
   ]
  },
  {
   "cell_type": "code",
   "execution_count": 332,
   "metadata": {},
   "outputs": [
    {
     "name": "stdout",
     "output_type": "stream",
     "text": [
      "Большие и глубокие лужи на протяжении всей улицы Архивная.\n"
     ]
    },
    {
     "data": {
      "text/plain": [
       "(Архивная,)"
      ]
     },
     "execution_count": 332,
     "metadata": {},
     "output_type": "execute_result"
    }
   ],
   "source": [
    "from spacy import displacy\n",
    "\n",
    "text_test = df2.loc[2080, 'text']\n",
    "print(text_test)\n",
    "doc = prdnlp(text_test)\n",
    "doc.ents"
   ]
  },
  {
   "cell_type": "code",
   "execution_count": 358,
   "metadata": {},
   "outputs": [
    {
     "data": {
      "text/plain": [
       "(Школьная,)"
      ]
     },
     "execution_count": 358,
     "metadata": {},
     "output_type": "execute_result"
    }
   ],
   "source": [
    "text = 'по адресу Школьная улица 10 прорвало трубу'\n",
    "doc = prdnlp(text)\n",
    "doc.ents"
   ]
  },
  {
   "cell_type": "code",
   "execution_count": null,
   "metadata": {},
   "outputs": [],
   "source": [
    "\n",
    "# # Save our trained Model\n",
    "# modelfile = input(\"Enter your Model Name: \")\n",
    "# prdnlp.to_disk(modelfile)\n",
    "\n",
    "# #Test your text\n",
    "# test_text = input(\"Enter your testing text: \")\n",
    "# doc = prdnlp(test_text)\n",
    "# for ent in doc.ents:\n",
    "#     print(ent.text, ent.start_char, ent.end_char, ent.label_)"
   ]
  }
 ],
 "metadata": {
  "kernelspec": {
   "display_name": "Python 3.8.10 ('venv': venv)",
   "language": "python",
   "name": "python3"
  },
  "language_info": {
   "codemirror_mode": {
    "name": "ipython",
    "version": 3
   },
   "file_extension": ".py",
   "mimetype": "text/x-python",
   "name": "python",
   "nbconvert_exporter": "python",
   "pygments_lexer": "ipython3",
   "version": "3.8.10 (default, Nov 14 2022, 12:59:47) \n[GCC 9.4.0]"
  },
  "orig_nbformat": 4,
  "vscode": {
   "interpreter": {
    "hash": "dd4be1babfe307c339e307fd10a1252b8b64606c98c09938a223c806624fb709"
   }
  }
 },
 "nbformat": 4,
 "nbformat_minor": 2
}
